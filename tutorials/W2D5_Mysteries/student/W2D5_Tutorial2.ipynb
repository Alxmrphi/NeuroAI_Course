{
 "cells": [
  {
   "cell_type": "markdown",
   "id": "c03a8c3e-a693-4037-813e-b0c30dcbd931",
   "metadata": {
    "execution": {}
   },
   "source": [
    "<a href=\"https://colab.research.google.com/github/neuromatch/NeuroAI_Course/blob/main/tutorials/W2D5_Mysteries/student/W2D5_Tutorial2.ipynb\" target=\"_parent\"><img src=\"https://colab.research.google.com/assets/colab-badge.svg\" alt=\"Open In Colab\"/></a> &nbsp; <a href=\"https://kaggle.com/kernels/welcome?src=https://raw.githubusercontent.com/neuromatch/NeuroAI_Course/main/tutorials/W2D5_Mysteries/student/W2D5_Tutorial2.ipynb\"  target=\"_parent\"><img src=\"https://kaggle.com/static/images/open-in-kaggle.svg\" alt=\"Open in Kaggle\"/></a>"
   ]
  },
  {
   "cell_type": "markdown",
   "id": "82ed61a3-87d2-4e76-83f6-4b786c101af2",
   "metadata": {
    "execution": {}
   },
   "source": [
    "# Tutorial 2: Ethics\n",
    "\n",
    "**Week 2, Day 5: Mysteries**\n",
    "\n",
    "**By Neuromatch Academy**\n",
    "\n",
    "__Content creators:__ Megan Peters, Joshua Shepherd, Jana Schaich Borg\n",
    "\n",
    "__Content reviewers:__ Samuele Bolotta, Lily Chamakura, RyeongKyung Yoon, Yizhou Chen, Ruiyi Zhang\n",
    "\n",
    "__Production editors:__ Konstantine Tsafatinos, Ella Batty, Spiros Chavlis, Samuele Bolotta, Hlib Solodzhuk\n"
   ]
  },
  {
   "cell_type": "markdown",
   "id": "6366c740-80c7-4545-b688-d547ef79613e",
   "metadata": {
    "execution": {}
   },
   "source": [
    "___\n",
    "\n",
    "\n",
    "# Tutorial Objectives\n",
    "\n",
    "*Estimated timing of tutorial: [insert estimated duration of whole tutorial in minutes]*\n",
    "\n",
    "By the end of this tutorial, participants will be able to:\n",
    "\n",
    "1. Understand the relationship between consciousness, intelligence, and moral status.\n",
    "2. Discuss responsible, moral, ethical, and safe artificial intelligence.\n"
   ]
  },
  {
   "cell_type": "code",
   "execution_count": null,
   "id": "af4fa9f7-d9cc-4594-be41-b31f02af1bd4",
   "metadata": {
    "cellView": "form",
    "execution": {}
   },
   "outputs": [],
   "source": [
    "# @title Tutorial slides\n",
    "# @markdown These are the slides for the videos in all tutorials today\n",
    "\n",
    "from IPython.display import IFrame\n",
    "from ipywidgets import widgets\n",
    "out = widgets.Output()\n",
    "\n",
    "link_id = \"wm9dp\"\n",
    "\n",
    "with out:\n",
    "    print(f\"If you want to download the slides: https://osf.io/download/{link_id}/\")\n",
    "    display(IFrame(src=f\"https://mfr.ca-1.osf.io/render?url=https://osf.io/{link_id}/?direct%26mode=render%26action=download%26mode=render\", width=730, height=410))\n",
    "display(out)"
   ]
  },
  {
   "cell_type": "markdown",
   "id": "9480bb32",
   "metadata": {
    "execution": {}
   },
   "source": [
    "# Ethics intro and moral status\n"
   ]
  },
  {
   "cell_type": "markdown",
   "id": "02dbde1d-e1c2-4bc8-a395-f6e0da332524",
   "metadata": {
    "execution": {}
   },
   "source": [
    "## Video 1: W2D5_T2 - Ethics - Video 1 - Megan_Edited.mp4"
   ]
  },
  {
   "cell_type": "markdown",
   "id": "3ed12923",
   "metadata": {
    "execution": {}
   },
   "source": [
    "## Discussion activity: moral status"
   ]
  },
  {
   "cell_type": "markdown",
   "id": "163da14e-a534-4ef9-bbce-05da5428bdd2",
   "metadata": {
    "cellView": "form",
    "execution": {}
   },
   "source": [
    "There are many reasons to ascribe moral status to some system, depending upon one’s view of the grounds of moral status.\n",
    "What is your view (or your intuition) about what is important for moral status – consciousness, affective consciousness, cognitive sophistication, etc. – and what would this view imply about how we approach design of and interaction with different forms of AI?\n",
    "\n",
    "Both rooms are the same discussion topic."
   ]
  },
  {
   "cell_type": "markdown",
   "id": "8440d701",
   "metadata": {
    "execution": {}
   },
   "source": [
    "# Ethical AI"
   ]
  },
  {
   "cell_type": "markdown",
   "id": "45ad9188-5ca7-4313-a276-ea6a5a740105",
   "metadata": {
    "execution": {}
   },
   "source": [
    "## Can AI be safe?"
   ]
  },
  {
   "cell_type": "markdown",
   "id": "5efef865-c955-409a-95aa-09a64600c0be",
   "metadata": {
    "cellView": "form",
    "execution": {}
   },
   "source": [
    "### Video 2: W2D5_T2 - Ethics - Video 2 - Megan_Edited.mp4"
   ]
  },
  {
   "cell_type": "markdown",
   "id": "13543770",
   "metadata": {
    "execution": {}
   },
   "source": [
    "### Discussion activity: Can AI be safe? Can it respect privacy? Can AI (or its creators/users) be responsible?"
   ]
  },
  {
   "cell_type": "markdown",
   "id": "4026218b-41e9-4a51-8500-2fdbbd21d289",
   "metadata": {
    "execution": {}
   },
   "source": [
    "Room 1: How can we maximize AI safety?\n",
    "Room 2: How can we protect our privacy from AI threats?\n",
    "Room 3: How can we decide who is responsible for AI behavior?"
   ]
  },
  {
   "cell_type": "markdown",
   "id": "cea67fca-3de1-4cd9-955d-1cad73927488",
   "metadata": {
    "execution": {}
   },
   "source": [
    "## Can AI be fair?"
   ]
  },
  {
   "cell_type": "markdown",
   "id": "4127ebab-6e8d-4524-a111-8c2af275ab81",
   "metadata": {
    "cellView": "form",
    "execution": {}
   },
   "source": [
    "### Video 3: W2D5_T2 - Ethics - Video 3 - Megan_Edited.mp4"
   ]
  },
  {
   "cell_type": "markdown",
   "id": "0db27e0b",
   "metadata": {
    "execution": {}
   },
   "source": [
    "### Discussion activity: Can AI be fair? Can it exhibit human-like morality?"
   ]
  },
  {
   "cell_type": "markdown",
   "id": "2e7189a7-549d-47d0-8dcb-24fd69e22892",
   "metadata": {
    "cellView": "form",
    "execution": {}
   },
   "source": [
    "Room 1: What can we do to help AI be more fair?\n",
    "better training data? interpretable/explainable AI? alignment?\n",
    "\n",
    "Room 2: What else can we do to help AI be more moral?\n",
    "Is the top-down, bottom-up, or hybrid approach more promising? Why?"
   ]
  },
  {
   "cell_type": "markdown",
   "id": "e32dffe6-7f2a-4a6f-b870-cfab806d0f2a",
   "metadata": {
    "execution": {}
   },
   "source": [
    "# Ethics outro"
   ]
  },
  {
   "cell_type": "markdown",
   "id": "4d483b35-741f-44da-a00a-eababbff7224",
   "metadata": {
    "cellView": "form",
    "execution": {}
   },
   "source": [
    "## Video 4: W2D5_T2 - Ethics Outro_Edited.mp4"
   ]
  }
 ],
 "metadata": {
  "colab": {
   "collapsed_sections": [],
   "include_colab_link": true,
   "name": "W2D5_Tutorial2",
   "toc_visible": true
  },
  "kernel": {
   "display_name": "Python 3",
   "language": "python",
   "name": "python3"
  },
  "kernelspec": {
   "display_name": "Python 3 (ipykernel)",
   "language": "python",
   "name": "python3"
  },
  "language_info": {
   "codemirror_mode": {
    "name": "ipython",
    "version": 3
   },
   "file_extension": ".py",
   "mimetype": "text/x-python",
   "name": "python",
   "nbconvert_exporter": "python",
   "pygments_lexer": "ipython3",
   "version": "3.9.19"
  }
 },
 "nbformat": 4,
 "nbformat_minor": 5
}
