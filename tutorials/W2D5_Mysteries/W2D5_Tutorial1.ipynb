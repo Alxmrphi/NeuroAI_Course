{
 "cells": [
  {
   "cell_type": "markdown",
   "id": "82ed61a3-87d2-4e76-83f6-4b786c101af2",
   "metadata": {},
   "source": [
    "# W2D5Tutorial1\n",
    "\n",
    "**Week 2, Day 5: Mysteries**\n",
    "\n",
    "**By Neuromatch Academy**\n",
    "\n",
    "__Content creators:__ Names & Surnames\n",
    "\n",
    "__Content reviewers:__ Names & Surnames\n",
    "\n",
    "__Production editors:__ Names & Surnames\n",
    "\n",
    "<br>\n",
    "\n",
    "Acknowledgments: [ACKNOWLEDGMENT_INFORMATION]\n"
   ]
  },
  {
   "cell_type": "markdown",
   "id": "6366c740-80c7-4545-b688-d547ef79613e",
   "metadata": {},
   "source": [
    "___\n",
    "\n",
    "\n",
    "# Tutorial Objectives\n",
    "\n",
    "*Estimated timing of tutorial: [insert estimated duration of whole tutorial in minutes]*\n",
    "\n",
    "In this tutorial, you will observe how performance degrades as testing data distribution strays from training distribution.\n"
   ]
  },
  {
   "cell_type": "code",
   "execution_count": null,
   "id": "af4fa9f7-d9cc-4594-be41-b31f02af1bd4",
   "metadata": {},
   "outputs": [],
   "source": [
    "# @title Tutorial slides\n",
    "\n",
    "# @markdown These are the slides for the videos in all tutorials today\n",
    "\n",
    "\n",
    "## Uncomment the code below to test your function\n",
    "\n",
    "#from IPython.display import IFrame\n",
    "#link_id = \"<YOUR_LINK_ID_HERE>\"\n",
    "\n",
    "print(\"If you want to download the slides: 'Link to the slides'\")\n",
    "      # Example: https://osf.io/download/{link_id}/\n",
    "\n",
    "#IFrame(src=f\"https://mfr.ca-1.osf.io/render?url=https://osf.io/download/{link_id}/?direct%26mode=render\", width=854, height=480)"
   ]
  },
  {
   "cell_type": "markdown",
   "id": "c60d1a7f-452c-436d-90a8-409571405e62",
   "metadata": {},
   "source": [
    "---\n",
    "# Setup\n",
    "\n"
   ]
  },
  {
   "cell_type": "code",
   "execution_count": null,
   "id": "4762c382-3622-4178-8e19-da783bac0a57",
   "metadata": {
    "cellView": "form"
   },
   "outputs": [],
   "source": [
    "# @title Install dependencies\n",
    "# @markdown\n",
    "\n",
    "# !pip install numpy matplotlib Pillow torch torchvision transformers ipywidgets gradio trdg scikit-learn networkx"
   ]
  },
  {
   "cell_type": "code",
   "execution_count": null,
   "id": "299b676d-d8de-41ad-80c6-3516e25f0fba",
   "metadata": {
    "cellView": "form"
   },
   "outputs": [],
   "source": [
    "# @title Import dependencies\n",
    "# @markdown\n",
    "\n",
    "# Standard libraries for basic operations and file handling\n",
    "import os\n",
    "import random\n",
    "import hashlib\n",
    "import requests\n",
    "\n",
    "# Core data science libraries for numerical computations and data manipulation\n",
    "import numpy as np\n",
    "from sklearn.datasets import make_classification\n",
    "from sklearn.model_selection import train_test_split\n",
    "from sklearn.preprocessing import StandardScaler\n",
    "\n",
    "# Image processing libraries for handling and manipulating image data\n",
    "from PIL import Image\n",
    "import matplotlib.pyplot as plt\n",
    "from torchvision import transforms\n",
    "import logging\n",
    "\n",
    "# Deep learning libraries for model building, training, and evaluation\n",
    "import torch\n",
    "import torch.nn as nn\n",
    "import torch.nn.functional as F\n",
    "import torch.optim as optim\n",
    "from torch.utils.data import DataLoader, TensorDataset\n",
    "from transformers import TrOCRProcessor, VisionEncoderDecoderModel\n",
    "\n",
    "# Utility libraries for creating interactive elements and interfaces\n",
    "import ipywidgets as widgets\n",
    "import gradio as gr\n",
    "from IPython.display import IFrame\n",
    "\n",
    "# Libraries for data generation and graph analysis\n",
    "from trdg.generators import GeneratorFromStrings\n",
    "import networkx as nx"
   ]
  },
  {
   "cell_type": "code",
   "execution_count": null,
   "id": "0960e64d-fe33-4276-8da0-e450e2649bcc",
   "metadata": {},
   "outputs": [],
   "source": [
    "# @title Figure settings\n",
    "# @markdown\n",
    "\n",
    "logging.getLogger('matplotlib.font_manager').disabled = True\n",
    "\n",
    "%matplotlib inline\n",
    "%config InlineBackend.figure_format = 'retina' # perfrom high definition rendering for images and plots\n",
    "plt.style.use(\"https://raw.githubusercontent.com/NeuromatchAcademy/course-content/main/nma.mplstyle\")"
   ]
  },
  {
   "cell_type": "markdown",
   "id": "4734a181-77f8-4e19-8674-10904df84761",
   "metadata": {},
   "source": [
    "# Section 1: Recurrent Independent Mechanisms"
   ]
  },
  {
   "cell_type": "markdown",
   "id": "d33b2098-9d42-4060-a470-fad0d748faac",
   "metadata": {},
   "source": [
    "The crucial idea behind this section is that machine learning aims to capture the modular structure of the physical world, where complexity emerges from simpler, independently evolving subsystems. This concept aligns with causal inference, suggesting that understanding and modeling the world involves identifying and integrating these autonomous mechanisms. These mechanisms, which interact sparsely, maintain their functionality even amidst changes in others, highlighting their robustness. Recurrent Independent Mechanisms (RIMs) embody this principle by operating mostly independently, occasionally interacting through an attention-based mechanism for efficient and dynamic information processing. This approach suggests a preference for models that can capture the independence and sparse interactions of mechanisms, potentially leading to more adaptable and generalizable AI systems."
   ]
  },
  {
   "cell_type": "markdown",
   "id": "aea12ecf-27e7-4694-8b05-bfce97cd2f5c",
   "metadata": {},
   "source": [
    "##### Missing: experiments on Sequential MNIST"
   ]
  },
  {
   "cell_type": "markdown",
   "id": "45788f3e-bcba-4a40-8836-833d1d06803d",
   "metadata": {},
   "source": [
    "---\n",
    "# Section 2: Global Workspace"
   ]
  },
  {
   "cell_type": "markdown",
   "id": "ea0ea49e-f052-42c0-8b1a-c37135584646",
   "metadata": {},
   "source": [
    "As we have seen, deep learning has shifted towards structured models with specialized modules that enhance scalability and generalization. But we can go one step further. Inspired by the 1980s AI focus on modular architectures and the Global Workspace Theory from cognitive neuroscience, the approach we are going to analyse in this section employs a shared global workspace for module coordination. It promotes flexibility and systematic generalization by allowing dynamic interactions among specialized modules. This model emphasizes the importance of having a number of sparsely communicating specialist modules interact via a shared working memory, aiming to achieve coherent and efficient behavior across the system. \n",
    "\n",
    "RIMs leverage a self-attention mechanism to enable information sharing among specialist modules, traditionally through pairwise interactions where each module attends to every other. This new approach, however, introduces a shared workspace with limited capacity to streamline this process. At each computational step, specialist modules compete for the opportunity to write to this shared workspace. Subsequently, the information stored in the workspace is broadcasted to all specialists simultaneously, enhancing coordination and information flow among the modules without the need for direct pairwise communication."
   ]
  },
  {
   "cell_type": "markdown",
   "id": "4d22f777-19ce-4858-a1dd-93d98bbf9035",
   "metadata": {},
   "source": [
    "## Coding Exercise: Creating a Shared Workspace"
   ]
  },
  {
   "cell_type": "markdown",
   "id": "caf09def-0d69-4c45-b418-0d956789de07",
   "metadata": {},
   "source": [
    "Specialists compete to write their information into the shared workspace. This process is guided by a key-query-value attention mechanism, where the competition is realized through attention scores determining which specialists' information is most critical to be updated in the workspace."
   ]
  },
  {
   "cell_type": "code",
   "execution_count": null,
   "id": "6a88c7ae-ff81-4ff5-8b60-a75e1e525182",
   "metadata": {},
   "outputs": [],
   "source": [
    "torch.manual_seed(42)  # Ensure reproducibility"
   ]
  },
  {
   "cell_type": "code",
   "execution_count": null,
   "id": "3d73b534-831e-4e4f-b268-02077f8599bc",
   "metadata": {},
   "outputs": [],
   "source": [
    "class SharedWorkspace(nn.Module):\n",
    "    \n",
    "    def __init__(self, num_specialists, hidden_dim, num_memory_slots, memory_slot_dim):\n",
    "        #################################################\n",
    "        ## TODO for students: fill in the missing variables ##\n",
    "        # Fill out function and remove\n",
    "        raise NotImplementedError(\"Student exercise: fill in the missing variables\")\n",
    "        #################################################\n",
    "        super().__init__()\n",
    "        self.num_specialists = num_specialists\n",
    "        self.hidden_dim = hidden_dim\n",
    "        self.num_memory_slots = num_memory_slots\n",
    "        self.memory_slot_dim = memory_slot_dim\n",
    "        self.workspace_memory = nn.Parameter(torch.randn(num_memory_slots, memory_slot_dim))\n",
    "        \n",
    "        # Attention mechanism components for writing to the workspace\n",
    "        self.key = ...\n",
    "        self.query = ...\n",
    "        self.value = nn.Linear(hidden_dim, memory_slot_dim)\n",
    "    \n",
    "    def write_to_workspace(self, specialists_states):\n",
    "        #################################################\n",
    "        ## TODO for students: fill in the missing variables ##\n",
    "        # Fill out function and remove\n",
    "        raise NotImplementedError(\"Student exercise: fill in the missing variables\")\n",
    "        #################################################\n",
    "        # Flatten specialists' states if they're not already\n",
    "        specialists_states = specialists_states.view(-1, self.hidden_dim)\n",
    "        \n",
    "        # Compute key, query, and value\n",
    "        keys = self.key(specialists_states)\n",
    "        query = self.query(self.workspace_memory)\n",
    "        values = self.value(specialists_states)\n",
    "        \n",
    "        # Compute attention scores and apply softmax\n",
    "        attention_scores = torch.matmul(query, keys.transpose(-2, -1)) / (self.memory_slot_dim ** 0.5)\n",
    "        attention_probs = ...\n",
    "        \n",
    "        # Update workspace memory with weighted sum of values\n",
    "        updated_memory = torch.matmul(attention_probs, values)\n",
    "        self.workspace_memory = nn.Parameter(updated_memory)\n",
    "        \n",
    "        return self.workspace_memory\n",
    "\n",
    "    def forward(self, specialists_states):\n",
    "        #################################################\n",
    "        ## TODO for students: fill in the missing variables ##\n",
    "        # Fill out function and remove\n",
    "        raise NotImplementedError(\"Student exercise: fill in the missing variables\")\n",
    "        #################################################\n",
    "        updated_memory = ...\n",
    "        return updated_memory\n",
    "\n",
    "# Example parameters\n",
    "num_specialists = 5\n",
    "hidden_dim = 10\n",
    "num_memory_slots = 4\n",
    "memory_slot_dim = 6\n",
    "\n",
    "# Generate deterministic specialists' states\n",
    "specialists_states = torch.randn(num_specialists, hidden_dim)\n",
    "\n",
    "# Uncomment the code below to test your function\n",
    "# workspace = SharedWorkspace(num_specialists, hidden_dim, num_memory_slots, memory_slot_dim)\n",
    "# expected_output = workspace.forward(specialists_states)\n",
    "# print(\"Expected Output:\", expected_output)"
   ]
  },
  {
   "cell_type": "code",
   "execution_count": null,
   "id": "bc4d1740-cc8b-4246-b566-e725e52e54b1",
   "metadata": {},
   "outputs": [],
   "source": [
    "# to remove solution\n",
    "\n",
    "class SharedWorkspace(nn.Module):\n",
    "    \n",
    "    def __init__(self, num_specialists, hidden_dim, num_memory_slots, memory_slot_dim):\n",
    "        super().__init__()\n",
    "        self.num_specialists = num_specialists\n",
    "        self.hidden_dim = hidden_dim\n",
    "        self.num_memory_slots = num_memory_slots\n",
    "        self.memory_slot_dim = memory_slot_dim\n",
    "        self.workspace_memory = nn.Parameter(torch.randn(num_memory_slots, memory_slot_dim))\n",
    "        \n",
    "        # Attention mechanism components for writing to the workspace\n",
    "        self.key = nn.Linear(hidden_dim, memory_slot_dim)\n",
    "        self.query = nn.Linear(memory_slot_dim, memory_slot_dim)\n",
    "        self.value = nn.Linear(hidden_dim, memory_slot_dim)\n",
    "    \n",
    "    def write_to_workspace(self, specialists_states):\n",
    "        # Flatten specialists' states if they're not already\n",
    "        specialists_states = specialists_states.view(-1, self.hidden_dim)\n",
    "        \n",
    "        # Compute key, query, and value\n",
    "        keys = self.key(specialists_states)\n",
    "        query = self.query(self.workspace_memory)\n",
    "        values = self.value(specialists_states)\n",
    "        \n",
    "        # Compute attention scores and apply softmax\n",
    "        attention_scores = torch.matmul(query, keys.transpose(-2, -1)) / (self.memory_slot_dim ** 0.5)\n",
    "        attention_probs = F.softmax(attention_scores, dim=-1)\n",
    "        \n",
    "        # Update workspace memory with weighted sum of values\n",
    "        updated_memory = torch.matmul(attention_probs, values)\n",
    "        self.workspace_memory = nn.Parameter(updated_memory)\n",
    "        \n",
    "        return self.workspace_memory\n",
    "\n",
    "    def forward(self, specialists_states):\n",
    "        updated_memory = self.write_to_workspace(specialists_states)\n",
    "        return updated_memory\n",
    "\n",
    "# Example parameters\n",
    "num_specialists = 5\n",
    "hidden_dim = 10\n",
    "num_memory_slots = 4\n",
    "memory_slot_dim = 6\n",
    "\n",
    "# Generate deterministic specialists' states\n",
    "specialists_states = torch.randn(num_specialists, hidden_dim)\n",
    "\n",
    "# Uncomment the code below to test your function\n",
    "# workspace = SharedWorkspace(num_specialists, hidden_dim, num_memory_slots, memory_slot_dim)\n",
    "# expected_output = workspace.forward(specialists_states)\n",
    "# print(\"Expected Output:\", expected_output)"
   ]
  },
  {
   "cell_type": "markdown",
   "id": "68ed9ace-b3de-4fdc-8996-664dd8e4b3a1",
   "metadata": {},
   "source": [
    "After updating the shared workspace with the most critical signals, this information is then broadcast back to all specialists. Each specialist updates its state using this broadcast information, which can involve an attention mechanism for consolidation and an update function (like an LSTM or GRU step) based on the new combined state. Let's add this method!"
   ]
  },
  {
   "cell_type": "code",
   "execution_count": null,
   "id": "03836253-ec99-490b-9921-db1395e5c3de",
   "metadata": {},
   "outputs": [],
   "source": [
    "def broadcast_from_workspace(self, specialists_states):\n",
    "    # Broadcast updated memory to specialists\n",
    "    broadcast_query = self.query(specialists_states).view(self.num_specialists, -1, self.memory_slot_dim)\n",
    "    broadcast_keys = self.key(self.workspace_memory).unsqueeze(0).repeat(self.num_specialists, 1, 1)\n",
    "    \n",
    "    # Compute attention scores for broadcasting\n",
    "    broadcast_attention_scores = torch.matmul(broadcast_query, broadcast_keys.transpose(-2, -1)) / (self.memory_slot_dim ** 0.5)\n",
    "    broadcast_attention_probs = F.softmax(broadcast_attention_scores, dim=-1)\n",
    "    \n",
    "    # Update specialists' states with attention-weighted memory information\n",
    "    broadcast_values = self.value(self.workspace_memory).unsqueeze(0).repeat(self.num_specialists, 1, 1)\n",
    "    updated_states = torch.matmul(broadcast_attention_probs, broadcast_values)\n",
    "    \n",
    "    return updated_states.view_as(specialists_states)\n",
    "\n",
    "# Assign the method to the class\n",
    "SharedWorkspace.broadcast_from_workspace = broadcast_from_workspace\n"
   ]
  },
  {
   "cell_type": "markdown",
   "id": "5bc221d3-530e-4835-b542-905ce3e281bf",
   "metadata": {},
   "source": [
    "This approach modularizes the shared workspace functionality, ensuring the specialists' states are first aggregated in a competitive manner into the workspace, followed by an efficient distribution of this consolidated information. This mechanism allows for dynamic filtering based on the current context and enhances the model's ability to generalize from past experiences by focusing on the most relevant signals at each computational step. To integrate this into a full system, you would need to instantiate this SharedWorkspace within your RIM architecture, ensuring that the initial representations of specialists are processed (Step 1), passed to the SharedWorkspace for competition and update (Step 2), and then the updated information is broadcast back to the specialists (Step3)."
   ]
  },
  {
   "cell_type": "markdown",
   "id": "7f71074b-70b5-4446-bf86-00e9f781ecd7",
   "metadata": {},
   "source": [
    "---\n",
    "# Section 3: a toy model for illustrating GNW "
   ]
  },
  {
   "cell_type": "code",
   "execution_count": null,
   "id": "3070b46f-51c0-4416-80ee-728a32f75cd3",
   "metadata": {},
   "outputs": [],
   "source": [
    "class SimpleGNWModel:\n",
    "    def __init__(self, num_nodes=5):\n",
    "        self.num_nodes = num_nodes\n",
    "        self.network = nx.erdos_renyi_graph(n=num_nodes, p=0.5)\n",
    "        self.activations = {node: False for node in self.network.nodes}\n",
    "\n",
    "    def activate_node(self):\n",
    "        selected_node = random.choice(list(self.network.nodes))\n",
    "        self.activations[selected_node] = True\n",
    "\n",
    "        # Simulate global broadcast\n",
    "        for neighbor in self.network.neighbors(selected_node):\n",
    "            self.activations[neighbor] = True\n",
    "\n",
    "    def reset_activations(self):\n",
    "        self.activations = {node: False for node in self.network.nodes}\n",
    "\n",
    "    def draw_network(self):\n",
    "        color_map = ['green' if self.activations[node] else 'red' for node in self.network.nodes]\n",
    "        nx.draw(self.network, node_color=color_map, with_labels=True, node_size=700)\n",
    "        plt.show()\n",
    "\n",
    "# Create a GNW model instance\n",
    "gnw_model = SimpleGNWModel()\n",
    "\n",
    "# Button to activate a node\n",
    "activate_button = widgets.Button(description='Activate Node')\n",
    "\n",
    "# Button to reset activations\n",
    "reset_button = widgets.Button(description='Reset')\n",
    "\n",
    "# Output area for the network graph\n",
    "output_area = widgets.Output()\n",
    "\n",
    "def on_activate_clicked(b):\n",
    "    with output_area:\n",
    "        output_area.clear_output(wait=True)\n",
    "        gnw_model.activate_node()\n",
    "        gnw_model.draw_network()\n",
    "\n",
    "def on_reset_clicked(b):\n",
    "    with output_area:\n",
    "        output_area.clear_output(wait=True)\n",
    "        gnw_model.reset_activations()\n",
    "        gnw_model.draw_network()\n",
    "\n",
    "activate_button.on_click(on_activate_clicked)\n",
    "reset_button.on_click(on_reset_clicked)\n",
    "\n",
    "display(widgets.VBox([activate_button, reset_button, output_area]))\n"
   ]
  },
  {
   "cell_type": "markdown",
   "id": "7cfa4601-c636-4999-9b2d-70f1d85057ab",
   "metadata": {},
   "source": [
    "---\n",
    "# Section 4: TBD"
   ]
  },
  {
   "cell_type": "code",
   "execution_count": null,
   "id": "343057cd-59dd-4410-86ba-b3b7fa1a719a",
   "metadata": {},
   "outputs": [],
   "source": []
  }
 ],
 "metadata": {
  "colab": {
   "collapsed_sections": [],
   "include_colab_link": true,
   "name": "W2D4_Tutorial1",
   "toc_visible": true
  },
  "kernel": {
   "display_name": "Python 3",
   "language": "python",
   "name": "python3"
  },
  "kernelspec": {
   "display_name": "Python 3 (ipykernel)",
   "language": "python",
   "name": "python3"
  },
  "language_info": {
   "codemirror_mode": {
    "name": "ipython",
    "version": 3
   },
   "file_extension": ".py",
   "mimetype": "text/x-python",
   "name": "python",
   "nbconvert_exporter": "python",
   "pygments_lexer": "ipython3",
   "version": "3.9.18"
  }
 },
 "nbformat": 4,
 "nbformat_minor": 5
}
