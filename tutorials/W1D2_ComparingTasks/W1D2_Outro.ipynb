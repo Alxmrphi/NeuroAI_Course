{
 "cells": [
  {
   "cell_type": "markdown",
   "id": "7fd26cc5-d74e-425a-b58f-117b92575e62",
   "metadata": {
    "cellView": "form",
    "execution": {}
   },
   "source": [
    "# W1D2 Outro"
   ]
  },
  {
   "cell_type": "code",
   "execution_count": null,
   "id": "7e72104d-9fdb-4d21-bf64-676fff35023b",
   "metadata": {},
   "outputs": [],
   "source": []
  }
 ],
 "metadata": {
  "colab": {
   "collapsed_sections": [],
   "include_colab_link": true,
   "name": "W1D1_Outro",
   "toc_visible": true
  },
  "kernel": {
   "display_name": "Python 3",
   "language": "python",
   "name": "python3"
  },
  "kernelspec": {
   "display_name": "Python 3 (ipykernel)",
   "language": "python",
   "name": "python3"
  },
  "language_info": {
   "codemirror_mode": {
    "name": "ipython",
    "version": 3
   },
   "file_extension": ".py",
   "mimetype": "text/x-python",
   "name": "python",
   "nbconvert_exporter": "python",
   "pygments_lexer": "ipython3",
   "version": "3.9.19"
  }
 },
 "nbformat": 4,
 "nbformat_minor": 5
}
