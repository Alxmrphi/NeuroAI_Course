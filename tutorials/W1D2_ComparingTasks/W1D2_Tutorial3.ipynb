{
 "cells": [
  {
   "cell_type": "markdown",
   "metadata": {
    "execution": {}
   },
   "source": [
    "<a href=\"https://colab.research.google.com/github/neuromatch/NeuroAI_Course/blob/main/tutorials/W1D2_ComparingTasks/student/W1D2_Tutorial3.ipynb\" target=\"_parent\"><img src=\"https://colab.research.google.com/assets/colab-badge.svg\" alt=\"Open In Colab\"/></a> &nbsp; <a href=\"https://kaggle.com/kernels/welcome?src=https://raw.githubusercontent.com/neuromatch/NeuroAI_Course/main/tutorials/W1D2_ComparingTasks/student/W1D2_Tutorial3.ipynb\" target=\"_parent\"><img src=\"https://kaggle.com/static/images/open-in-kaggle.svg\" alt=\"Open in Kaggle\"/></a>"
   ]
  },
  {
   "cell_type": "markdown",
   "metadata": {
    "execution": {}
   },
   "source": [
    "# Tutorial 3: Reinforcement learning across temporal scales\n",
    "\n",
    "**Week 1, Day 2: Comparing Tasks**\n",
    "\n",
    "**By Neuromatch Academy**\n",
    "\n",
    "__Content creators:__ Leila Wehbe, Swapnil Kumar, Patrick Mineault\n",
    "\n",
    "__Content reviewers:__ Samuele Bolotta, Lily Chamakura, RyeongKyung Yoon, Yizhou Chen, Ruiyi Zhang, Patrick Mineault\n",
    "\n",
    "__Production editors:__ Konstantine Tsafatinos, Ella Batty, Spiros Chavlis, Samuele Bolotta, Hlib Solodzhuk, Patrick Mineault\n"
   ]
  },
  {
   "cell_type": "markdown",
   "metadata": {
    "execution": {}
   },
   "source": [
    "___\n",
    "\n",
    "\n",
    "# Tutorial Objectives\n",
    "\n",
    "*Estimated timing of tutorial: 30 minutes*\n",
    "\n",
    "By the end of this tutorial, participants will be able to:\n",
    "\n",
    "- Review how a reinforcement learning algorithm can be evaluated.\n",
    "- Formulate a simple meta-reinforcement learning framework where an algorithm learns how to learn in different episodes.\n",
    "- Investigate learning at different temporal scales."
   ]
  },
  {
   "cell_type": "code",
   "execution_count": null,
   "metadata": {
    "cellView": "form",
    "execution": {},
    "executionInfo": {
     "elapsed": 156,
     "status": "ok",
     "timestamp": 1717168540208,
     "user": {
      "displayName": "Leila Wehbe",
      "userId": "11453012797362280188"
     },
     "user_tz": 240
    },
    "tags": [
     "remove-input"
    ]
   },
   "outputs": [],
   "source": [
    "# @title Tutorial slides\n",
    "# @markdown These are the slides for the videos in all tutorials today\n",
    "\n",
    "from IPython.display import IFrame\n",
    "from ipywidgets import widgets\n",
    "out = widgets.Output()\n",
    "\n",
    "link_id = \"x4y79\"\n",
    "\n",
    "with out:\n",
    "    print(f\"If you want to download the slides: https://osf.io/download/{link_id}/\")\n",
    "    display(IFrame(src=f\"https://mfr.ca-1.osf.io/render?url=https://osf.io/{link_id}/?direct%26mode=render%26action=download%26mode=render\", width=730, height=410))\n",
    "display(out)"
   ]
  },
  {
   "cell_type": "markdown",
   "metadata": {
    "execution": {}
   },
   "source": [
    "---\n",
    "# Setup\n",
    "\n"
   ]
  },
  {
   "cell_type": "markdown",
   "metadata": {
    "execution": {}
   },
   "source": [
    "##  Install and import feedback gadget\n"
   ]
  },
  {
   "cell_type": "code",
   "execution_count": 1,
   "metadata": {
    "cellView": "form",
    "execution": {
     "iopub.execute_input": "2024-07-01T08:21:07.948142Z",
     "iopub.status.busy": "2024-07-01T08:21:07.910848Z",
     "iopub.status.idle": "2024-07-01T08:21:16.690736Z",
     "shell.execute_reply": "2024-07-01T08:21:16.687000Z",
     "shell.execute_reply.started": "2024-07-01T08:21:07.944091Z"
    },
    "tags": [
     "hide-input"
    ]
   },
   "outputs": [
    {
     "name": "stdout",
     "output_type": "stream",
     "text": [
      "\n",
      "\u001b[1m[\u001b[0m\u001b[34;49mnotice\u001b[0m\u001b[1;39;49m]\u001b[0m\u001b[39;49m A new release of pip is available: \u001b[0m\u001b[31;49m24.0\u001b[0m\u001b[39;49m -> \u001b[0m\u001b[32;49m24.1\u001b[0m\n",
      "\u001b[1m[\u001b[0m\u001b[34;49mnotice\u001b[0m\u001b[1;39;49m]\u001b[0m\u001b[39;49m To update, run: \u001b[0m\u001b[32;49mpip install --upgrade pip\u001b[0m\n"
     ]
    }
   ],
   "source": [
    "# @title Install and import feedback gadget\n",
    "\n",
    "!pip install vibecheck requests matplotlib ipython numpy scipy --quiet\n",
    "\n",
    "from vibecheck import DatatopsContentReviewContainer\n",
    "def content_review(notebook_section: str):\n",
    "    return DatatopsContentReviewContainer(\n",
    "        \"\",  # No text prompt\n",
    "        notebook_section,\n",
    "        {\n",
    "            \"url\": \"https://pmyvdlilci.execute-api.us-east-1.amazonaws.com/klab\",\n",
    "            \"name\": \"neuromatch_neuroai\",\n",
    "            \"user_key\": \"wb2cxze8\",\n",
    "        },\n",
    "    ).render()\n",
    "\n",
    "\n",
    "feedback_prefix = \"W1D2_T3\""
   ]
  },
  {
   "cell_type": "code",
   "execution_count": 2,
   "metadata": {
    "cellView": "form",
    "execution": {
     "iopub.execute_input": "2024-07-01T08:21:16.702429Z",
     "iopub.status.busy": "2024-07-01T08:21:16.701930Z",
     "iopub.status.idle": "2024-07-01T08:21:19.517602Z",
     "shell.execute_reply": "2024-07-01T08:21:19.516737Z",
     "shell.execute_reply.started": "2024-07-01T08:21:16.702377Z"
    },
    "tags": [
     "remove-input"
    ]
   },
   "outputs": [],
   "source": [
    "# @title Import dependencies\n",
    "\n",
    "# Standard library imports\n",
    "import logging\n",
    "import hashlib\n",
    "import os\n",
    "\n",
    "# Third-party imports\n",
    "import requests\n",
    "import matplotlib.pyplot as plt\n",
    "import matplotlib.colors as mcolors\n",
    "import matplotlib.cm as cm\n",
    "from IPython.display import IFrame, display, Image\n",
    "import numpy as np\n",
    "\n",
    "import numpy as np\n",
    "import matplotlib.pyplot as plt\n",
    "import scipy\n",
    "\n",
    "import numpy as np\n",
    "import matplotlib.pyplot as plt\n",
    "from ipywidgets import interact, FloatSlider, Button, Output\n",
    "\n",
    "# Set up logging\n",
    "logging.basicConfig(level=logging.INFO)"
   ]
  },
  {
   "cell_type": "code",
   "execution_count": 4,
   "metadata": {
    "execution": {
     "iopub.execute_input": "2024-07-01T08:21:45.197186Z",
     "iopub.status.busy": "2024-07-01T08:21:45.196720Z",
     "iopub.status.idle": "2024-07-01T08:21:47.663917Z",
     "shell.execute_reply": "2024-07-01T08:21:47.662098Z",
     "shell.execute_reply.started": "2024-07-01T08:21:45.197151Z"
    }
   },
   "outputs": [],
   "source": [
    "# @title Data retrieval\n",
    "\n",
    "import os\n",
    "import requests\n",
    "import hashlib\n",
    "\n",
    "# Variables for file and download URL\n",
    "fname = \"trials.py\" # The name of the file to be downloaded\n",
    "url = \"https://osf.io/swrmj/download\" # URL from where the file will be downloaded\n",
    "expected_md5 = \"99bd315fd9a84663afbaa98f552cce79\" # MD5 hash for verifying file integrity\n",
    "\n",
    "if not os.path.isfile(fname):\n",
    "    try:\n",
    "        # Attempt to download the file\n",
    "        r = requests.get(url) # Make a GET request to the specified URL\n",
    "    except requests.ConnectionError:\n",
    "        # Handle connection errors during the download\n",
    "        print(\"!!! Failed to download data !!!\")\n",
    "    else:\n",
    "        # No connection errors, proceed to check the response\n",
    "        if r.status_code != requests.codes.ok:\n",
    "            # Check if the HTTP response status code indicates a successful download\n",
    "            print(\"!!! Failed to download data !!!\")\n",
    "        elif hashlib.md5(r.content).hexdigest() != expected_md5:\n",
    "            # Verify the integrity of the downloaded file using MD5 checksum\n",
    "            print(\"!!! Data download appears corrupted !!!\")\n",
    "        else:\n",
    "            # If download is successful and data is not corrupted, save the file\n",
    "            with open(fname, \"wb\") as fid:\n",
    "                fid.write(r.content) # Write the downloaded content to a file\n",
    "\n",
    "# Execute the downloaded Python file\n",
    "%run trials.py"
   ]
  },
  {
   "cell_type": "code",
   "execution_count": 5,
   "metadata": {
    "cellView": "form",
    "execution": {
     "iopub.execute_input": "2024-07-01T08:21:52.272861Z",
     "iopub.status.busy": "2024-07-01T08:21:52.272386Z",
     "iopub.status.idle": "2024-07-01T08:21:52.689154Z",
     "shell.execute_reply": "2024-07-01T08:21:52.688246Z",
     "shell.execute_reply.started": "2024-07-01T08:21:52.272819Z"
    },
    "tags": [
     "hide-input"
    ]
   },
   "outputs": [],
   "source": [
    "# @title Figure settings\n",
    "\n",
    "logging.getLogger('matplotlib.font_manager').disabled = True\n",
    "\n",
    "%matplotlib inline\n",
    "%config InlineBackend.figure_format = 'retina' # perform high definition rendering for images and plots\n",
    "plt.style.use(\"https://raw.githubusercontent.com/NeuromatchAcademy/course-content/main/nma.mplstyle\")"
   ]
  },
  {
   "cell_type": "code",
   "execution_count": 6,
   "metadata": {
    "cellView": "form",
    "execution": {
     "iopub.execute_input": "2024-07-01T08:22:15.407466Z",
     "iopub.status.busy": "2024-07-01T08:22:15.406846Z",
     "iopub.status.idle": "2024-07-01T08:22:15.430799Z",
     "shell.execute_reply": "2024-07-01T08:22:15.429527Z",
     "shell.execute_reply.started": "2024-07-01T08:22:15.407424Z"
    }
   },
   "outputs": [],
   "source": [
    "# @title Plotting functions\n",
    "# @markdown\n",
    "\n",
    "def plot_ucb(beliefs, lb, ub, selected_arms, cumulative_reward, cum_regret, expected_rewards):\n",
    "    \"\"\"\n",
    "    Plot the results of the multi-armed bandit task.\n",
    "    \"\"\"\n",
    "    with plt.xkcd():\n",
    "        num_trials = len(beliefs)\n",
    "        fig, (ax1, ax2, ax3, ax4) = plt.subplots(4, 1, figsize=(8, 12))\n",
    "    \n",
    "        ax1.plot(beliefs[:, 0], label='Left Arm')\n",
    "        ax1.plot(beliefs[:, 1], label='Right Arm')\n",
    "        ax1.fill_between(np.arange(num_trials), lb[:, 0], ub[:, 0], color='C0', alpha=0.1)\n",
    "        ax1.fill_between(np.arange(num_trials), lb[:, 1], ub[:, 1], color='C1', alpha=0.1)\n",
    "    \n",
    "        ax1.plot(expected_rewards[:, 0], linestyle='--', color='C0', alpha=0.5)\n",
    "        ax1.plot(expected_rewards[:, 1], linestyle='--', color='C1', alpha=0.5)\n",
    "        ax1.set_xlabel('Time')\n",
    "        ax1.set_ylabel('Belief')\n",
    "        ax1.legend()\n",
    "        ax1.set_title(\"Agent's Belief about Reward Probabilities\")\n",
    "        ax1.set_ylim(0, 1)\n",
    "    \n",
    "        ax2.plot(cumulative_reward)\n",
    "        ax2.set_xlabel('Time')\n",
    "        ax2.set_ylabel('Cumulative Reward')\n",
    "        ax2.set_title('Accumulated Reward')\n",
    "    \n",
    "        ax3.plot(cum_regret)\n",
    "        ax3.set_xlabel('Time')\n",
    "        ax3.set_ylabel('Cumulative Regret')\n",
    "        ax3.set_title('Cumulative Regret')\n",
    "    \n",
    "        ax4.plot(selected_arms)\n",
    "        ax4.set_yticks([0, 1])\n",
    "        ax4.set_xlabel('Time')\n",
    "        ax4.set_title(\"Agent's Selection\")\n",
    "        ax4.set_yticklabels(['Left', 'Right'])\n",
    "        plt.tight_layout()\n",
    "        plt.show()"
   ]
  },
  {
   "cell_type": "markdown",
   "metadata": {
    "execution": {}
   },
   "source": [
    "---\n",
    "# Section 1: Reinforcement learning across temporal scales\n",
    "\n",
    "In this section we will review the basics of reinforcement learning as well as we will introduce meta-reinforcement learning (meta-RL). For that, we will study how \"learning to learn\" is implemented in the context of a binary bandit task and how learning is affected by changing temporal scales."
   ]
  },
  {
   "cell_type": "code",
   "execution_count": 7,
   "metadata": {
    "cellView": "form",
    "execution": {
     "iopub.execute_input": "2024-07-01T08:23:57.971648Z",
     "iopub.status.busy": "2024-07-01T08:23:57.968450Z",
     "iopub.status.idle": "2024-07-01T08:23:58.184596Z",
     "shell.execute_reply": "2024-07-01T08:23:58.182431Z",
     "shell.execute_reply.started": "2024-07-01T08:23:57.971507Z"
    },
    "executionInfo": {
     "elapsed": 628,
     "status": "ok",
     "timestamp": 1717210414472,
     "user": {
      "displayName": "Leila Wehbe",
      "userId": "11453012797362280188"
     },
     "user_tz": 240
    },
    "tags": [
     "remove-input"
    ]
   },
   "outputs": [
    {
     "data": {
      "application/vnd.jupyter.widget-view+json": {
       "model_id": "736fc14207e84a54a9788fa3b48db3b8",
       "version_major": 2,
       "version_minor": 0
      },
      "text/plain": [
       "Tab(children=(Output(), Output()), selected_index=0, titles=('Youtube', 'Bilibili'))"
      ]
     },
     "metadata": {},
     "output_type": "display_data"
    }
   ],
   "source": [
    "# @title Video 1: Two-armed bandit\n",
    "\n",
    "from ipywidgets import widgets\n",
    "from IPython.display import YouTubeVideo\n",
    "from IPython.display import IFrame\n",
    "from IPython.display import display\n",
    "\n",
    "\n",
    "class PlayVideo(IFrame):\n",
    "  def __init__(self, id, source, page=1, width=400, height=300, **kwargs):\n",
    "    self.id = id\n",
    "    if source == 'Bilibili':\n",
    "      src = f'https://player.bilibili.com/player.html?bvid={id}&page={page}'\n",
    "    elif source == 'Osf':\n",
    "      src = f'https://mfr.ca-1.osf.io/render?url=https://osf.io/download/{id}/?direct%26mode=render'\n",
    "    super(PlayVideo, self).__init__(src, width, height, **kwargs)\n",
    "\n",
    "\n",
    "def display_videos(video_ids, W=400, H=300, fs=1):\n",
    "  tab_contents = []\n",
    "  for i, video_id in enumerate(video_ids):\n",
    "    out = widgets.Output()\n",
    "    with out:\n",
    "      if video_ids[i][0] == 'Youtube':\n",
    "        video = YouTubeVideo(id=video_ids[i][1], width=W,\n",
    "                             height=H, fs=fs, rel=0)\n",
    "        print(f'Video available at https://youtube.com/watch?v={video.id}')\n",
    "      else:\n",
    "        video = PlayVideo(id=video_ids[i][1], source=video_ids[i][0], width=W,\n",
    "                          height=H, fs=fs, autoplay=False)\n",
    "        if video_ids[i][0] == 'Bilibili':\n",
    "          print(f'Video available at https://www.bilibili.com/video/{video.id}')\n",
    "        elif video_ids[i][0] == 'Osf':\n",
    "          print(f'Video available at https://osf.io/{video.id}')\n",
    "      display(video)\n",
    "    tab_contents.append(out)\n",
    "  return tab_contents\n",
    "\n",
    "\n",
    "video_ids = [('Youtube', '4fBU0ALeFKk'), ('Bilibili', 'BV1KM4m1m7B3')]\n",
    "tab_contents = display_videos(video_ids, W=854, H=480)\n",
    "tabs = widgets.Tab()\n",
    "tabs.children = tab_contents\n",
    "for i in range(len(tab_contents)):\n",
    "  tabs.set_title(i, video_ids[i][0])\n",
    "display(tabs)"
   ]
  },
  {
   "cell_type": "code",
   "execution_count": null,
   "metadata": {},
   "outputs": [],
   "source": [
    "# @title Submit your feedback\n",
    "content_review(f\"{feedback_prefix}_two_armed_bandit\")"
   ]
  },
  {
   "cell_type": "markdown",
   "metadata": {
    "execution": {}
   },
   "source": [
    "## Reinforcement learning review\n",
    "\n",
    "Reinforcement learning is a learning paradigm where an agent interacts with an environment and learns a policy to maximize its cumulative rewards. We focus here on a simple environment: a binary \"two-armed bandit\" (Figure A), a name for a gambling machine found in casinos (because it steals your money). In this task, at each opportunity, the agent chooses arm $i$ (either Left $L$ or Right $R$) and gets a reward with probability $p_i$ that is unknown to the agent. On each trial, only one of the arms will return a reward, so $p_L + p_R = 1$ (which the agent does know).\n",
    "\n",
    "<img src=\"https://github.com/neuromatch/NeuroAI_Course/blob/main/tutorials/W1D2_ComparingTasks/static/two_armed_bandit.png?raw=true\" width=600 />\n",
    "\n",
    "*Figure A. Example of binary bandit. The left arm has a probability $p_L$ of giving a reward, and the right arm a probability $p_R = 1-p_L$ of giving a reward. At a given trial, the agent pulls one of the arms and receives a reward with the corresponding probability.*\n",
    "\n",
    "The aim of the agent is to maximize its cumulative reward over a series of trials (e.g., 100 trials). This would correspond to correctly identifying the arm that returns more reward (has a higher probability) and choosing it for subsequent trials once it's sure about its choice. Thus, while solving this problem, the agent will need to balance exploration and exploitation. At a high level, more exploration is useful when the agent is not certain of which arm has more reward, and once the agent is more certain, it is more advantageous to exploit the arm that has a higher probability of reward.\n",
    "\n",
    "Different methods are used to solve this problem. An optimal method to solve some instances of bandit problems is [Gittin indices](https://www.statslab.cam.ac.uk/~rrw1/oc/ocgittins.pdf). This method incorporates the estimated rewards and their uncertainty, and involves solving an expensive dynamical programming problem. The simplest method is [epsilon greedy](https://medium.com/@ym1942/exploring-multi-armed-bandit-problem-epsilon-greedy-epsilon-decreasing-ucb-and-thompson-02ad0ec272ee), where exploration and exploitation are balanced by choosing a random action with probability $\\epsilon$ and the best known action with probability $1-\\epsilon$. In the [Upper Confidence Bound (UCB)](https://medium.com/@ym1942/exploring-multi-armed-bandit-problem-epsilon-greedy-epsilon-decreasing-ucb-and-thompson-02ad0ec272ee), the choice of action also incorporates both the estimated rewards and the estimated uncertainty of the rewards. In [Thompson sampling](https://medium.com/@ym1942/exploring-multi-armed-bandit-problem-epsilon-greedy-epsilon-decreasing-ucb-and-thompson-02ad0ec272ee), the choice is made according to a Bayesian model that estimates the posterior probabilities of the reward."
   ]
  },
  {
   "cell_type": "markdown",
   "metadata": {
    "execution": {}
   },
   "source": [
    "### Discussion point 1\n",
    "Imagine training an RL algorithm on the binary bandit problem above, with a method that depends on uncertainty about the reward probabilities (like UCB). Assume that $p_L=0.05$ and $p_R=0.95$. How rapidly will the agent become certain of its estimates of the expected reward of each arm? Do you expect the exploration phase to take a long or a short time?\n",
    "\n",
    "What about the case when $p_L=0.51$ and $p_R=0.49$? How rapidly will the agent become certain of its estimates, and how will that affect the exploration phase?"
   ]
  },
  {
   "cell_type": "code",
   "execution_count": null,
   "metadata": {
    "execution": {}
   },
   "outputs": [],
   "source": [
    "# to_remove explanation\n",
    "\"\"\"\n",
    "When one of the arms has a high reward, it is easier to identify it. The uncertainty of\n",
    "the agent thus reduces quickly, and they spend less time in exploration. When the\n",
    "probabilities of rewards are more equal (close to 0.5), many trials are needed to\n",
    "reduce the uncertainty, and the exploration phase lasts a long time.\n",
    "\"\"\""
   ]
  },
  {
   "cell_type": "code",
   "execution_count": null,
   "metadata": {
    "cellView": "form",
    "execution": {}
   },
   "outputs": [],
   "source": [
    "# @title Submit your feedback\n",
    "content_review(f\"{feedback_prefix}_Discussion_Point_1\")"
   ]
  },
  {
   "cell_type": "markdown",
   "metadata": {
    "execution": {}
   },
   "source": [
    "### Evaluating decision-making strategies\n",
    "\n",
    "One key metric for evaluating an agent's strategies is cumulative regret. Regret at a specific time step refers to the difference in reward between the chosen strategy and the reward that could have been obtained by selecting the best possible action. The cumulative regret refers to the sum of the regret from the start of the episode until the current time step $T$. For our example of binary bandit, it corresponds to:\n",
    "\n",
    "$$R(T) = \\sum_{t = 1}^T (p^* - \\mathbb{E}(p_{a_t})),$$\n",
    "\n",
    "where $p^*$ is the probability of the reward for the best arm, i.e., max($p_L$, $p_r$). $\\mathbb{E}(p_{a_t})$ corresponds to the expected probability of reward for the action that was chosen at the previous time $t$."
   ]
  },
  {
   "cell_type": "markdown",
   "metadata": {
    "execution": {}
   },
   "source": [
    "### Discussion point 2\n",
    "\n",
    "Consider the setting where $p_L=0.25$ and $p_R=0.75$. Let's derive best and worst-case cumulative regret over 100 trials of one episode.\n",
    "\n",
    "- Plot the lower bound of the cumulative regret, i.e. the cumulative regret in the best-case scenario where the agent chooses the optimal arm at every trial, plotted against the number of trials.\n",
    "- In the same figure, plot the upper bound of the cumulative regret, i.e. the cumulative regret in the worst-case scenario where the agent chooses the non-optimal arm at every trial, plotted against the number of trials."
   ]
  },
  {
   "cell_type": "code",
   "execution_count": null,
   "metadata": {
    "execution": {}
   },
   "outputs": [],
   "source": [
    "raise NotImplementedError(\"Student exercise: Calculate regret in worst-case scenario\")\n",
    "\n",
    "t = np.arange(1,101) # Array representing trials from 1 to 100\n",
    "p_L = 0.25\n",
    "p_R = 0.75\n",
    "\n",
    "# In the best case scenario, the agent chooses the best arm every trial,\n",
    "# leading to a cumulative regret of 0.\n",
    "cr_best = np.zeros(100)\n",
    "\n",
    "# In the worst-case scenario, the agent chooses the worst arm every trial,\n",
    "# leading to per trial regret of the best arm's reward - the worst arm's reward\n",
    "per_trial_regret = ...\n",
    "regret_worst = per_trial_regret * np.ones(100)\n",
    "cr_worst = np.cumsum(regret_worst)\n",
    "\n",
    "with plt.xkcd():\n",
    "    plt.plot(t, cr_best, label = 'best case')\n",
    "    plt.plot(t, cr_worst, label = 'worst case')\n",
    "\n",
    "    plt.xlabel('trial')\n",
    "    plt.ylabel('cumulative regret')\n",
    "    plt.legend()"
   ]
  },
  {
   "cell_type": "code",
   "execution_count": 8,
   "metadata": {
    "execution": {
     "iopub.execute_input": "2024-07-01T08:28:35.203851Z",
     "iopub.status.busy": "2024-07-01T08:28:35.176523Z",
     "iopub.status.idle": "2024-07-01T08:28:36.172942Z",
     "shell.execute_reply": "2024-07-01T08:28:36.171275Z",
     "shell.execute_reply.started": "2024-07-01T08:28:35.203670Z"
    },
    "executionInfo": {
     "elapsed": 559,
     "status": "ok",
     "timestamp": 1717168547712,
     "user": {
      "displayName": "Leila Wehbe",
      "userId": "11453012797362280188"
     },
     "user_tz": 240
    }
   },
   "outputs": [
    {
     "data": {
      "image/png": "[encoded data removed]",
      "text/plain": [
       "<Figure size 800x600 with 1 Axes>"
      ]
     },
     "metadata": {
      "image/png": {
       "height": 575,
       "width": 775
      }
     },
     "output_type": "display_data"
    }
   ],
   "source": [
    "# to_remove solution\n",
    "t = np.arange(1,101) # Array representing trials from 1 to 100\n",
    "p_L = 0.25\n",
    "p_R = 0.75\n",
    "\n",
    "# In the best case scenario, the agent chooses the best arm every trial,\n",
    "# leading to a cumulative regret of 0.\n",
    "cr_best = np.zeros(100)\n",
    "\n",
    "# In the worst-case scenario, the agent chooses the worst arm every trial,\n",
    "# leading to per trial regret of the best arm's reward - the worst arm's reward\n",
    "per_trial_regret = p_R - p_L\n",
    "regret_worst = per_trial_regret * np.ones(100)\n",
    "cr_worst = np.cumsum(regret_worst)\n",
    "\n",
    "with plt.xkcd():\n",
    "    plt.plot(t, cr_best, label = 'best case')\n",
    "    plt.plot(t, cr_worst, label = 'worst case')\n",
    "\n",
    "    plt.xlabel('trial')\n",
    "    plt.ylabel('cumulative regret')\n",
    "    plt.legend()"
   ]
  },
  {
   "cell_type": "code",
   "execution_count": null,
   "metadata": {
    "cellView": "form",
    "execution": {}
   },
   "outputs": [],
   "source": [
    "# @title Submit your feedback\n",
    "content_review(f\"{feedback_prefix}_Discussion_Point_2\")"
   ]
  },
  {
   "cell_type": "markdown",
   "metadata": {
    "execution": {}
   },
   "source": [
    "## Demo 1: Binary bandit\n",
    "\n",
    "In this demo, we will simulate the binary bandit task to verify our intuitions. We'll \n",
    "use the Bayesian UCB (upper confidence bound) algorithm to solve the task. It keeps track of the posterior distribution of the reward of each arm and chooses the arm with the highest upper confidence bound. Thus, it will naturally balance exploration and exploitation: it will explore if the uncertainty is high and exploit if the uncertainty is low.\n",
    "\n",
    "The Bayesian UCB algorithm works as follows:\n",
    "\n",
    "1. Model the reward distribution of each arm as a Beta distribution. We start with a uniform prior for each arm, a Beta distribution with parameters $\\alpha=1$ and $\\beta=1$.\n",
    "2. Pick the arm with the highest upper confidence bound, for example, the arm with the highest 95% confidence interval. \n",
    "3. Observe the reward.\n",
    "4. Update the posterior distribution of the reward of the chosen arm.\n",
    "5. Repeat steps 2-4 for a number of trials.\n",
    "\n",
    "The posterior of the reward at time $t$ for arm $i$ is given by:\n",
    "\n",
    "$$\\text{Beta}(\\alpha = 1 + \\#\\text{non rewarded trials}, \\: \\beta = 1 + \\#\\text{rewarded trials})$$"
   ]
  },
  {
   "cell_type": "code",
   "execution_count": 9,
   "metadata": {
    "execution": {
     "iopub.execute_input": "2024-07-01T08:30:41.780486Z",
     "iopub.status.busy": "2024-07-01T08:30:41.776499Z",
     "iopub.status.idle": "2024-07-01T08:30:41.950380Z",
     "shell.execute_reply": "2024-07-01T08:30:41.948999Z",
     "shell.execute_reply.started": "2024-07-01T08:30:41.780393Z"
    }
   },
   "outputs": [
    {
     "data": {
      "application/vnd.jupyter.widget-view+json": {
       "model_id": "2fad71dc14a9434387113222c62b727d",
       "version_major": 2,
       "version_minor": 0
      },
      "text/plain": [
       "FloatSlider(value=0.4, description='Left Arm Reward Probability', max=1.0, step=0.01)"
      ]
     },
     "metadata": {},
     "output_type": "display_data"
    },
    {
     "data": {
      "application/vnd.jupyter.widget-view+json": {
       "model_id": "7d4b8e882e9b4881ad6c81d49a1e7361",
       "version_major": 2,
       "version_minor": 0
      },
      "text/plain": [
       "FloatSlider(value=0.6, description='Right Arm Reward Probability', max=1.0, step=0.01)"
      ]
     },
     "metadata": {},
     "output_type": "display_data"
    },
    {
     "data": {
      "application/vnd.jupyter.widget-view+json": {
       "model_id": "0f2e511b2f1749c9b1410a7efea12279",
       "version_major": 2,
       "version_minor": 0
      },
      "text/plain": [
       "Button(description='Simulate!', style=ButtonStyle())"
      ]
     },
     "metadata": {},
     "output_type": "display_data"
    },
    {
     "data": {
      "application/vnd.jupyter.widget-view+json": {
       "model_id": "a174b98c8e8643e99af0e8ad143855d3",
       "version_major": 2,
       "version_minor": 0
      },
      "text/plain": [
       "Output()"
      ]
     },
     "metadata": {},
     "output_type": "display_data"
    }
   ],
   "source": [
    "class BinaryBandit:\n",
    "    \"\"\"\n",
    "    A class to represent a binary bandit.\n",
    "    \"\"\"\n",
    "    def __init__(self, p):\n",
    "        self.p = p\n",
    "        self.t = 0\n",
    "\n",
    "    def pull(self):\n",
    "        reward = 1 if np.random.random() < self.p else 0\n",
    "        return reward\n",
    "\n",
    "    def step(self):\n",
    "        self.t += 1\n",
    "        pass\n",
    "\n",
    "    def expected_reward(self):\n",
    "        return self.p\n",
    "\n",
    "\n",
    "def bayesian_ucb(bandits, num_trials, c=0.95):\n",
    "    \"\"\"\n",
    "    Perform Bayesian UCB on a set of binary bandits\n",
    "\n",
    "    Parameters:\n",
    "    bandits (list): A list of binary bandits\n",
    "    num_trials (int): The number of trials to run\n",
    "    c (float): The confidence level for the UCB\n",
    "    \"\"\"\n",
    "    num_bandits = len(bandits)\n",
    "    rewards = np.zeros(num_trials)\n",
    "    beliefs = np.ones((num_trials, num_bandits))\n",
    "    ucb = np.ones((num_trials, num_bandits))\n",
    "    lcb = np.ones((num_trials, num_bandits))\n",
    "    selected_arms = np.zeros(num_trials)\n",
    "    regrets = np.zeros(num_trials)\n",
    "    expected_rewards = np.zeros((num_trials, num_bandits))\n",
    "\n",
    "    per_arm_rewards = np.zeros(num_bandits)\n",
    "    num_pulls = np.zeros(num_bandits)\n",
    "\n",
    "    for t in range(num_trials):\n",
    "        for bandit in bandits:\n",
    "            bandit.step()\n",
    "        successes = per_arm_rewards + 1\n",
    "        failures = num_pulls - per_arm_rewards + 1\n",
    "\n",
    "        ucb_values = scipy.stats.beta.ppf(c, successes, failures)\n",
    "        lcb_values = scipy.stats.beta.ppf(1 - c, successes, failures)\n",
    "\n",
    "        selected_arm = np.argmax(ucb_values)\n",
    "        reward = bandits[selected_arm].pull()\n",
    "        rewards[t] = reward\n",
    "        per_arm_rewards[selected_arm] += reward\n",
    "        num_pulls[selected_arm] += 1\n",
    "        regret = np.max([bandit.expected_reward() for bandit in bandits]) - bandits[selected_arm].expected_reward()\n",
    "\n",
    "        beliefs[t] = successes / (successes + failures)\n",
    "        ucb[t] = ucb_values\n",
    "        lcb[t] = lcb_values\n",
    "        regrets[t] = regret\n",
    "\n",
    "        selected_arms[t] = selected_arm\n",
    "        expected_rewards[t] = np.array([bandit.expected_reward() for bandit in bandits])\n",
    "\n",
    "    return rewards, expected_rewards, selected_arms, beliefs, lcb, ucb, np.cumsum(regrets)\n",
    "\n",
    "def simulate(p_L, p_R, num_trials=100):\n",
    "    bandits = [BinaryBandit(p_L), BinaryBandit(p_R)]\n",
    "    rewards, expected_rewards, selected_arms, beliefs, lb, ub, cum_regret = bayesian_ucb(bandits, num_trials)\n",
    "    cumulative_reward = np.cumsum(rewards)\n",
    "\n",
    "    plot_ucb(beliefs, lb, ub, selected_arms, cumulative_reward, cum_regret, expected_rewards)\n",
    "\n",
    "p_L_slider = FloatSlider(min=0, max=1, step=0.01, value=0.4, description='Left Arm Reward Probability')\n",
    "p_R_slider = FloatSlider(min=0, max=1, step=0.01, value=0.6, description='Right Arm Reward Probability')\n",
    "simulate_button = Button(description='Simulate!')\n",
    "output = Output()\n",
    "\n",
    "def on_button_clicked(b):\n",
    "    with output:\n",
    "        output.clear_output()\n",
    "        simulate(p_L_slider.value, p_R_slider.value)\n",
    "\n",
    "simulate_button.on_click(on_button_clicked)\n",
    "\n",
    "display(p_L_slider, p_R_slider, simulate_button, output)"
   ]
  },
  {
   "cell_type": "markdown",
   "metadata": {
    "execution": {}
   },
   "source": [
    "Try the demo with two very different probabilities ($p_L=0.05$ and $p_R=0.95$) and two similar probabilities ($p_L=0.51$ and $p_R=0.49$). Does this confirm the intuition you had in the previous discussion point?"
   ]
  },
  {
   "cell_type": "code",
   "execution_count": null,
   "metadata": {
    "cellView": "form",
    "execution": {}
   },
   "outputs": [],
   "source": [
    "# @title Submit your feedback\n",
    "content_review(f\"{feedback_prefix}_Demo\")"
   ]
  },
  {
   "cell_type": "markdown",
   "metadata": {
    "execution": {}
   },
   "source": [
    "## A fixed agent in a changing world\n",
    "\n",
    "In the previous demo, we saw that the Bayesian UCB algorithm can solve the binary bandit task, exhibiting relatively low regret. However, the agent is fixed. In a more complex environment, the agent may need to adapt to changes. For example, the probabilities of the rewards of the arms might change over time. \n",
    "\n",
    "Let's see what happens with the Bayesian UCB algorithm when the probabilities of the rewards of the arms change over time. We will simulate a scenario where the probabilities of the rewards of the arms change after 50 trials. Whereas for the first 50 trials, the right arm will be most rewarded, we'll switch that from trial 51-100 onwards, then back again on trial 101-150, and so on."
   ]
  },
  {
   "cell_type": "code",
   "execution_count": 10,
   "metadata": {
    "execution": {
     "iopub.execute_input": "2024-07-01T08:35:00.574756Z",
     "iopub.status.busy": "2024-07-01T08:35:00.567338Z",
     "iopub.status.idle": "2024-07-01T08:35:00.694144Z",
     "shell.execute_reply": "2024-07-01T08:35:00.691447Z",
     "shell.execute_reply.started": "2024-07-01T08:35:00.574585Z"
    }
   },
   "outputs": [
    {
     "data": {
      "application/vnd.jupyter.widget-view+json": {
       "model_id": "3574e210a12149c49593d9fc2896e428",
       "version_major": 2,
       "version_minor": 0
      },
      "text/plain": [
       "FloatSlider(value=0.2, description='Left Arm Reward Probability', max=1.0, step=0.01)"
      ]
     },
     "metadata": {},
     "output_type": "display_data"
    },
    {
     "data": {
      "application/vnd.jupyter.widget-view+json": {
       "model_id": "ab84e3c530b949ba96882b0d757d0a3a",
       "version_major": 2,
       "version_minor": 0
      },
      "text/plain": [
       "FloatSlider(value=0.8, description='Right Arm Reward Probability', max=1.0, step=0.01)"
      ]
     },
     "metadata": {},
     "output_type": "display_data"
    },
    {
     "data": {
      "application/vnd.jupyter.widget-view+json": {
       "model_id": "01405dede73547bf8f5b3faab7de726c",
       "version_major": 2,
       "version_minor": 0
      },
      "text/plain": [
       "Button(description='Simulate!', style=ButtonStyle())"
      ]
     },
     "metadata": {},
     "output_type": "display_data"
    },
    {
     "data": {
      "application/vnd.jupyter.widget-view+json": {
       "model_id": "db8f60d93441442ead4aeddaee3d258b",
       "version_major": 2,
       "version_minor": 0
      },
      "text/plain": [
       "Output()"
      ]
     },
     "metadata": {},
     "output_type": "display_data"
    }
   ],
   "source": [
    "class SwitchedBinaryBandit:\n",
    "    \"\"\"\n",
    "    A class to represent a binary bandit that switches probabilities every dt timesteps.\n",
    "    \"\"\"\n",
    "    def __init__(self, p, dt=50):\n",
    "        self.p = p\n",
    "        self.t = 0\n",
    "        self.dt = dt\n",
    "\n",
    "    def pull(self):\n",
    "        reward = 1 if np.random.random() < self.p else 0\n",
    "        return reward\n",
    "\n",
    "    def step(self):\n",
    "        self.t += 1\n",
    "        if self.t % self.dt == 0:\n",
    "            self.p = 1 - self.p\n",
    "        pass\n",
    "\n",
    "    def expected_reward(self):\n",
    "        return self.p\n",
    "\n",
    "def simulate(p_L, p_R, num_trials=100):\n",
    "\n",
    "    bandits = [SwitchedBinaryBandit(p_L), SwitchedBinaryBandit(p_R)]\n",
    "    rewards, expected_rewards, selected_arms, beliefs, lb, ub, cum_regret = bayesian_ucb(bandits, num_trials)\n",
    "    cumulative_reward = np.cumsum(rewards)\n",
    "\n",
    "    plot_ucb(beliefs, lb, ub, selected_arms, cumulative_reward, cum_regret, expected_rewards)\n",
    "\n",
    "p_L_slider = FloatSlider(min=0, max=1, step=0.01, value=0.2, description='Left Arm Reward Probability')\n",
    "p_R_slider = FloatSlider(min=0, max=1, step=0.01, value=0.8, description='Right Arm Reward Probability')\n",
    "simulate_button = Button(description='Simulate!')\n",
    "output = Output()\n",
    "\n",
    "def on_button_clicked(b):\n",
    "    with output:\n",
    "        output.clear_output()\n",
    "        simulate(p_L_slider.value, p_R_slider.value, 250)\n",
    "\n",
    "simulate_button.on_click(on_button_clicked)\n",
    "\n",
    "display(p_L_slider, p_R_slider, simulate_button, output)"
   ]
  },
  {
   "cell_type": "markdown",
   "metadata": {
    "execution": {}
   },
   "source": [
    "## Discussion point 3\n",
    "\n",
    "Our agent seemed to be doing well in the fixed scenario. However, in the second scenario, where the reward probabilities switch every 50 trials, the agent seems to be struggling, and the regret grows high. Why do you think this is the case?"
   ]
  },
  {
   "cell_type": "code",
   "execution_count": null,
   "metadata": {
    "execution": {}
   },
   "outputs": [],
   "source": [
    "# to_remove explanation\n",
    "\"\"\"\n",
    "The agent models the reward probabilities of the two arms using fixed distributions.\n",
    "There is no mechanism by which the agent can detect that there's a change in the\n",
    "environment and rapidly update its beliefs. Its underlying model is not flexible,\n",
    "and it cannot adapt to changes in the environment, leading to suboptimal performance.\n",
    "\"\"\""
   ]
  },
  {
   "cell_type": "code",
   "execution_count": null,
   "metadata": {
    "cellView": "form",
    "execution": {}
   },
   "outputs": [],
   "source": [
    "# @title Submit your feedback\n",
    "content_review(f\"{feedback_prefix}_Discussion_Point_3\")"
   ]
  },
  {
   "cell_type": "markdown",
   "metadata": {
    "execution": {}
   },
   "source": [
    "---\n",
    "# Section 2: Meta-learning and meta-reinforcement learning"
   ]
  },
  {
   "cell_type": "code",
   "execution_count": 11,
   "metadata": {
    "cellView": "form",
    "execution": {
     "iopub.execute_input": "2024-07-01T08:35:22.422768Z",
     "iopub.status.busy": "2024-07-01T08:35:22.422258Z",
     "iopub.status.idle": "2024-07-01T08:35:23.564301Z",
     "shell.execute_reply": "2024-07-01T08:35:23.562887Z",
     "shell.execute_reply.started": "2024-07-01T08:35:22.422737Z"
    }
   },
   "outputs": [
    {
     "data": {
      "application/vnd.jupyter.widget-view+json": {
       "model_id": "45e2ddbb5a4e45c79113b2b548919a76",
       "version_major": 2,
       "version_minor": 0
      },
      "text/plain": [
       "Tab(children=(Output(), Output()), selected_index=0, titles=('Youtube', 'Bilibili'))"
      ]
     },
     "metadata": {},
     "output_type": "display_data"
    }
   ],
   "source": [
    "# @title Video 2: Meta-RL\n",
    "\n",
    "from ipywidgets import widgets\n",
    "from IPython.display import YouTubeVideo\n",
    "from IPython.display import IFrame\n",
    "from IPython.display import display\n",
    "\n",
    "\n",
    "class PlayVideo(IFrame):\n",
    "  def __init__(self, id, source, page=1, width=400, height=300, **kwargs):\n",
    "    self.id = id\n",
    "    if source == 'Bilibili':\n",
    "      src = f'https://player.bilibili.com/player.html?bvid={id}&page={page}'\n",
    "    elif source == 'Osf':\n",
    "      src = f'https://mfr.ca-1.osf.io/render?url=https://osf.io/download/{id}/?direct%26mode=render'\n",
    "    super(PlayVideo, self).__init__(src, width, height, **kwargs)\n",
    "\n",
    "\n",
    "def display_videos(video_ids, W=400, H=300, fs=1):\n",
    "  tab_contents = []\n",
    "  for i, video_id in enumerate(video_ids):\n",
    "    out = widgets.Output()\n",
    "    with out:\n",
    "      if video_ids[i][0] == 'Youtube':\n",
    "        video = YouTubeVideo(id=video_ids[i][1], width=W,\n",
    "                             height=H, fs=fs, rel=0)\n",
    "        print(f'Video available at https://youtube.com/watch?v={video.id}')\n",
    "      else:\n",
    "        video = PlayVideo(id=video_ids[i][1], source=video_ids[i][0], width=W,\n",
    "                          height=H, fs=fs, autoplay=False)\n",
    "        if video_ids[i][0] == 'Bilibili':\n",
    "          print(f'Video available at https://www.bilibili.com/video/{video.id}')\n",
    "        elif video_ids[i][0] == 'Osf':\n",
    "          print(f'Video available at https://osf.io/{video.id}')\n",
    "      display(video)\n",
    "    tab_contents.append(out)\n",
    "  return tab_contents\n",
    "\n",
    "\n",
    "video_ids = [('Youtube', 'chc457oVgbo'), ('Bilibili', 'BV1o1421r7A6')]\n",
    "tab_contents = display_videos(video_ids, W=854, H=480)\n",
    "tabs = widgets.Tab()\n",
    "tabs.children = tab_contents\n",
    "for i in range(len(tab_contents)):\n",
    "  tabs.set_title(i, video_ids[i][0])\n",
    "display(tabs)"
   ]
  },
  {
   "cell_type": "code",
   "execution_count": null,
   "metadata": {},
   "outputs": [],
   "source": [
    "# @title Submit your feedback\n",
    "content_review(f\"{feedback_prefix}_meta_RL\")"
   ]
  },
  {
   "cell_type": "markdown",
   "metadata": {
    "execution": {}
   },
   "source": [
    "We introduced in the previous section the bandit task, the concept of regret, and an agent with a fixed policy that performs well in a fixed environment. We also saw the agent struggle when the environment changes. Humans and machines alike must display adaptive behaviour even as the environment changes. This is the essence of meta-learning.\n",
    "\n",
    "Meta-learning is a sub-field of machine learning that corresponds to a process in which an algorithm \"learns to learn\". The idea is that the algorithm will learn during training how to adapt itself to different tasks. When faced with a new task, or changes in the environment, the trained algorithm will quickly adapt to this new task without requiring additional training (the weights of the algorithm are not changed).\n",
    "\n",
    "In meta-reinforcement learning (meta-RL), this concept is applied to a reinforcement learning agent. During training, the agent is exposed to different episodes with different environments and gains meta-learning strategies. At deployment, the agent is faced with a new environment and uses the trials from that episode (the combination of actions, states and rewards) to learn a policy on the fly. Meta-RL algorithms are typically implemented using a deep learning architecture such as an LSTM. Once they are trained, the weights of the LSTM are fixed. When faced with a new episode, the activations in the LSTM implement nested learning in which the algorithm identifies the best arm for this specific episode."
   ]
  },
  {
   "cell_type": "markdown",
   "metadata": {
    "execution": {}
   },
   "source": [
    "## Prefrontal cortex as a meta-reinforcement learning system\n",
    "\n",
    "Our discussion will follow this classic NeuroAI paper:\n",
    "\n",
    "[1] Wang, Jane X., Zeb Kurth-Nelson, Dharshan Kumaran, Dhruva Tirumala, Hubert Soyer, Joel Z. Leibo, Demis Hassabis, and Matthew Botvinick. **\"Prefrontal cortex as a meta-reinforcement learning system.\"** Nature neuroscience 21, no. 6 (2018): 860-868.\n",
    "\n",
    "Available at [this link](https://www.nature.com/articles/s41593-018-0147-8).\n",
    "\n",
    "This paper aims to reconcile two seemingly disparate ideas about learning in the prefrontal cortex (PFC). The activations in the PFC are correlated to actions, values and rewards, indicating that the PFC is engaged in RL. Another set of findings, including the fact that PFC activity is correlated with the recent history of rewards and actions, also suggests that the PFC is acting as a meta-RL agent. The paper proposes a meta-RL model, the weights of which are optimized during training to allow it to learn a second RL algorithm dynamically, as the properties of the environment change. They demonstrate a close match between findings in the neuroscience literature on the PFC and their trained RNN.\n",
    "\n",
    "### Learning at different time scales\n",
    "\n",
    "We will explore here the demo in Figure 1 of the paper. Figure C below shows the architecture of the meta-RL model, which is implemented as an LSTM. We will explore how, after training, the weights of the LSTM implement an RL procedure (e.g., we will see if this procedure deals with the exploration-exploitation tradeoff).\n",
    "\n",
    "We will also explore how learning can occur at different time scales (see figure B below):\n",
    "\n",
    "**Latent world state (fast)**: In this demo, at the start of each episode, a new set of probabilities $p_L$ and $p_R = 1-p_L$ are sampled. This corresponds to latent world state parameters that change on a slower time scale than the observations level (i.e., trials), but still at a relatively fast scale (each episode here has 100 trials).\n",
    "\n",
    "**Context (slow)**: We think of the context level as a slower time scale at which the world is changing and affecting how the parameters of the latent world state are sampled. In this paper, the authors train their meta-RL model in two contexts. In the first (independent bandit context), the parameters of the successive latent world state (i.e., $p_L$ and $p_R$ from two successive episodes) are not correlated. There is no specific knowledge about the parameters that can be generalized from one episode to the next. In the second (correlated bandit context), the parameters are anti-correlated, similar to the scenario we explored in the last section with the UCB algorithm. Long-time scale integration can be leveraged for faster learning in the next episode. We will explore how training in these two different contexts affects performance."
   ]
  },
  {
   "cell_type": "markdown",
   "metadata": {
    "execution": {},
    "executionInfo": {
     "elapsed": 403,
     "status": "ok",
     "timestamp": 1717168548113,
     "user": {
      "displayName": "Leila Wehbe",
      "userId": "11453012797362280188"
     },
     "user_tz": 240
    },
    "tags": [
     "hide-input"
    ]
   },
   "source": [
    "<img src=\"https://github.com/neuromatch/NeuroAI_Course/blob/main/tutorials/W1D2_ComparingTasks/static/learning_temporal_scales.png?raw=true\" width=600 />"
   ]
  },
  {
   "cell_type": "markdown",
   "metadata": {
    "execution": {}
   },
   "source": [
    "*Figure B - Learning across temporal scales*\n",
    "\n",
    "### Architecture"
   ]
  },
  {
   "cell_type": "markdown",
   "metadata": {
    "cellView": "form",
    "execution": {},
    "executionInfo": {
     "elapsed": 8,
     "status": "ok",
     "timestamp": 1717168548113,
     "user": {
      "displayName": "Leila Wehbe",
      "userId": "11453012797362280188"
     },
     "user_tz": 240
    },
    "tags": [
     "hide-input"
    ]
   },
   "source": [
    "<img src=\"https://github.com/neuromatch/NeuroAI_Course/blob/main/tutorials/W1D2_ComparingTasks/static/model_architecture.png?raw=true\" width=600 />"
   ]
  },
  {
   "cell_type": "markdown",
   "metadata": {
    "execution": {},
    "jp-MarkdownHeadingCollapsed": true
   },
   "source": [
    "*Figure C - Model architecture. Adapted from Figure 1 of Wang et al. The PFC, along with the basal ganglia and directly connected thalamus, are modelled as a recurrent network. The synaptic weights are adjusted during training. a = action, r = reward, v = state value. Specifically, the algorithm is implemented as an LSTM (part b above shows the model in more detail, along with an inset of one LSTM model unit illustrating the maintenance mechanism).*\n"
   ]
  },
  {
   "cell_type": "markdown",
   "metadata": {
    "execution": {}
   },
   "source": [
    "### Uncorrelated vs. correlated settings, seen through cumulative regret\n",
    "\n",
    "In the paper, the average cumulative regret (defined above) of the meta-RL agent under the independent bandit and the correlated bandits contexts is computed over 300 episodes for the setting $p_L =0.25$ and $p_R = 0.75$ (see figure E). It is compared to the cumulative regret for three common algorithms (Gittin indices, Thompson sampling and UCB, also discussed above).\n"
   ]
  },
  {
   "cell_type": "markdown",
   "metadata": {
    "cellView": "form",
    "execution": {},
    "executionInfo": {
     "elapsed": 13,
     "status": "ok",
     "timestamp": 1717168550287,
     "user": {
      "displayName": "Leila Wehbe",
      "userId": "11453012797362280188"
     },
     "user_tz": 240
    },
    "tags": [
     "hide-input"
    ]
   },
   "source": [
    "<img src=\"https://github.com/neuromatch/NeuroAI_Course/blob/main/tutorials/W1D2_ComparingTasks/static/cummulative_regret.png?raw=true\" width=400 />"
   ]
  },
  {
   "cell_type": "markdown",
   "metadata": {
    "execution": {}
   },
   "source": [
    "*Figure E - Cumulative Regret tested on a probability setting of 0.25, 0.75. Adapted from Figure 1 of Wang et al.*\n",
    "\n",
    "Notice that the meta-RL agent trained in the correlated bandit context can capitalize on the information present in successive episodes and obtain a better performance than the one trained in the independent bandit context, matching the performance of the optimal algorithm (Gittins indices). The model also performs better than heuristics like Thompson sampling and UCB."
   ]
  },
  {
   "cell_type": "markdown",
   "metadata": {
    "execution": {}
   },
   "source": [
    "### The learned model dynamics implement an RL algorithm\n",
    "\n",
    "The authors go on to demonstrate that across many contexts, the meta-RL algorithm can recapitulate classic findings from the neuroscience literature on the prefrontal cortex (PFC). Modelling the brain with ANNs allows us to do things which would otherwise be arduous in neuroscience, like peering inside the internals of the model. \n",
    "\n",
    "Here, we explore more in-depth how the activations in the LSTM implement the RL algorithm, by visualizing the top principal components (PCs) projections of the internal states of the LSTM during the different trials of an episode. Specifically, we look at the meta-RL agent trained in the correlated bandit setting (Figure F)."
   ]
  },
  {
   "cell_type": "markdown",
   "metadata": {
    "cellView": "form",
    "execution": {},
    "executionInfo": {
     "elapsed": 12,
     "status": "ok",
     "timestamp": 1717168550288,
     "user": {
      "displayName": "Leila Wehbe",
      "userId": "11453012797362280188"
     },
     "user_tz": 240
    },
    "tags": [
     "hide-input"
    ]
   },
   "source": [
    "<img src=\"https://github.com/neuromatch/NeuroAI_Course/blob/main/tutorials/W1D2_ComparingTasks/static/evolution.png?raw=true\" width=600 />"
   ]
  },
  {
   "cell_type": "markdown",
   "metadata": {
    "execution": {}
   },
   "source": [
    "*Figure F - Evolution of model activations during different episodes. Adapted from Figure 1 of Wang et al. Each subfigure is a different episode, with the arm probabilities shown at the top. The activations at the 100 trials of an episode are projected to their top two PCs and plotted using an asterisk when the model chooses the left arm and a triangle when the model chooses the right arm. The color indicates the trial number.  Adapted from Figure 1 of Wang et al.*\n",
    "\n",
    "### Discussion point 4\n",
    "In Figure F, the PCs of the model activations are obtained and the 100 trials in four episodes with specific probabilities are shown, projected onto PC1 and PC2. Observe the different patterns:\n",
    "- Which two episodes show a fast convergence to an optimal action? How does this manifest?\n",
    "- In the other two episodes, describe the trajectory of the activations, does the model change its estimation of the optimal arm? What leads to this change?\n",
    "- What does the PC1 dimension appear to represent?\n"
   ]
  },
  {
   "cell_type": "code",
   "execution_count": null,
   "metadata": {
    "execution": {}
   },
   "outputs": [],
   "source": [
    "# to_remove explanation\n",
    "\"\"\"\n",
    "The adaptation to fast-changing latent variables, as described in the changes in activation patterns over trials,\n",
    "shows the algorithm's capability to adjust its internal representations based on feedback from the environment.\n",
    "\n",
    "- The first and last plots show very fast convergence towards the optimal arm when the reward probabilities are\n",
    "very different. The trajectory moves rapidly towards one or the other side of the PC space.\n",
    "\n",
    "- In the middle two plots, correspond to more difficult settings, the model takes longer to converge,\n",
    "The model starts by exploiting the left arm, but after sampling a right action, ends up converging on the right.\n",
    "\n",
    "- The first PC appears to correspond to the certainty of the algorithm about the optimal arm\n",
    "(low PC value = left arm, high PC value = right arm).\n",
    "\"\"\""
   ]
  },
  {
   "cell_type": "code",
   "execution_count": null,
   "metadata": {
    "cellView": "form",
    "execution": {}
   },
   "outputs": [],
   "source": [
    "# @title Submit your feedback\n",
    "content_review(f\"{feedback_prefix}_Discussion_Point_4\")"
   ]
  },
  {
   "cell_type": "markdown",
   "metadata": {
    "execution": {}
   },
   "source": [
    "---\n",
    "# Summary"
   ]
  },
  {
   "cell_type": "markdown",
   "metadata": {
    "execution": {}
   },
   "source": [
    "In this tutorial, we examined how reinforcement learning can be adapted and scaled across different temporal dimensions, particularly focusing on meta-reinforcement learning (meta-RL) frameworks. We explored the concept of \"learning to learn,\" where an algorithm adjusts its strategy based on accumulated knowledge from varied episodes, rather than from static training. This approach is important when dealing with dynamic environments or when the agent is introduced to novel scenarios not covered during initial training.\n",
    "\n",
    "We focused on the binary bandit setup, where an agent decides between two options, balancing exploration (gathering information) and exploitation (leveraging known information for rewards). We showed the mechanics of one classic bandit strategy, the Upper Confidence Bound (UCB) algorithm. We showed it could solve a static bandit task, but struggled when the environment changed.\n",
    "\n",
    "This motivated our discussion of meta-RL, where the agent is trained across episodes with varying conditions, thereby learning a flexible policy that can quickly adapt to new environments. The tutorial wrapped up by linking these learning processes to neural mechanisms, offering a bridge between artificial intelligence and neuroscientific understandings of learning."
   ]
  }
 ],
 "metadata": {
  "colab": {
   "collapsed_sections": [],
   "include_colab_link": true,
   "name": "W1D2_Tutorial3",
   "provenance": [],
   "toc_visible": true
  },
  "kernel": {
   "display_name": "Python 3",
   "language": "python",
   "name": "python3"
  },
  "kernelspec": {
   "display_name": "Python 3 (ipykernel)",
   "language": "python",
   "name": "python3"
  },
  "language_info": {
   "codemirror_mode": {
    "name": "ipython",
    "version": 3
   },
   "file_extension": ".py",
   "mimetype": "text/x-python",
   "name": "python",
   "nbconvert_exporter": "python",
   "pygments_lexer": "ipython3",
   "version": "3.11.5"
  }
 },
 "nbformat": 4,
 "nbformat_minor": 4
}
