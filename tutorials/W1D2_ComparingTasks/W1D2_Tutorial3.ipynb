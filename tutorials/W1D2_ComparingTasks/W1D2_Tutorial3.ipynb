{
 "cells": [
  {
   "cell_type": "markdown",
   "metadata": {
    "execution": {},
    "id": "WXpYjTAsh-5Q",
    "jp-MarkdownHeadingCollapsed": true
   },
   "source": [
    "# Tutorial 3: Reinforcement learning across temporal scales\n",
    "\n",
    "**Week 1, Day 2: Comparing Tasks**\n",
    "\n",
    "**By Neuromatch Academy**\n",
    "\n",
    "__Content creators:__ Leila Wehbe & Swapnil Kumar\n",
    "\n",
    "__Content reviewers:__ Samuele Bolotta, Lily Chamakura, RyeongKyung Yoon, Yizhou Chen, Ruiyi Zhang\n",
    "\n",
    "__Production editors:__ Konstantine Tsafatinos, Ella Batty, Spiros Chavlis, Samuele Bolotta, Hlib Solodzhuk\n",
    "\n",
    "<br>\n"
   ]
  },
  {
   "cell_type": "markdown",
   "metadata": {
    "execution": {},
    "id": "gHlg1pbNh-5T"
   },
   "source": [
    "___\n",
    "\n",
    "\n",
    "# Tutorial Objectives\n",
    "\n",
    "*Estimated timing of tutorial: 20-30min*\n",
    "\n",
    "By the end of this tutorial, participants will be able to:\n"
   ]
  },
  {
   "cell_type": "markdown",
   "metadata": {
    "id": "sc7qXbxph-5U"
   },
   "source": [
    "- Review how a reinforcement learning algorithm can be evaluated.\n",
    "- Formulate a simple meta-reinforcement learning framework where an algorithm learns how to learn in different episodes.\n",
    "- Investigate learning at different temporal scales.\n"
   ]
  },
  {
   "cell_type": "code",
   "execution_count": null,
   "metadata": {
    "cellView": "form",
    "colab": {
     "base_uri": "https://localhost:8080/",
     "height": 449,
     "referenced_widgets": [
      "bf67094392ca499bbedc014f75f842e9",
      "b167b365d00a4ce68ec97566610119ac"
     ]
    },
    "executionInfo": {
     "elapsed": 156,
     "status": "ok",
     "timestamp": 1717168540208,
     "user": {
      "displayName": "Leila Wehbe",
      "userId": "11453012797362280188"
     },
     "user_tz": 240
    },
    "id": "F4UAgLMNh-5U",
    "outputId": "5b920f8a-46a5-4350-d650-40449a88ade5",
    "tags": [
     "remove-input"
    ]
   },
   "outputs": [],
   "source": [
    "# @title Tutorial slides\n",
    "# @markdown These are the slides for the videos in all tutorials today\n",
    "\n",
    "from IPython.display import IFrame\n",
    "from ipywidgets import widgets\n",
    "out = widgets.Output()\n",
    "\n",
    "link_id = \"x4pa5\"\n",
    "\n",
    "with out:\n",
    "    print(f\"If you want to download the slides: https://osf.io/download/{link_id}/\")\n",
    "    display(IFrame(src=f\"https://mfr.ca-1.osf.io/render?url=https://osf.io/{link_id}/?direct%26mode=render%26action=download%26mode=render\", width=730, height=410))\n",
    "display(out)"
   ]
  },
  {
   "cell_type": "markdown",
   "metadata": {
    "execution": {},
    "id": "eewc0dCCh-5W"
   },
   "source": [
    "---\n",
    "# Setup\n",
    "\n"
   ]
  },
  {
   "cell_type": "markdown",
   "metadata": {
    "id": "_jgseJwRh-5W"
   },
   "source": [
    "##  Install and import feedback gadget\n"
   ]
  },
  {
   "cell_type": "code",
   "execution_count": null,
   "metadata": {
    "cellView": "form",
    "id": "TQEQF2zgh-5W",
    "tags": [
     "hide-input"
    ]
   },
   "outputs": [],
   "source": [
    "# @title Install and import feedback gadget\n",
    "\n",
    "!pip install vibecheck requests matplotlib ipython numpy --quiet\n",
    "\n",
    "from vibecheck import DatatopsContentReviewContainer\n",
    "def content_review(notebook_section: str):\n",
    "    return DatatopsContentReviewContainer(\n",
    "        \"\",  # No text prompt\n",
    "        notebook_section,\n",
    "        {\n",
    "            \"url\": \"https://pmyvdlilci.execute-api.us-east-1.amazonaws.com/klab\",\n",
    "            \"name\": \"neuromatch_neuroai\",\n",
    "            \"user_key\": \"wb2cxze8\",\n",
    "        },\n",
    "    ).render()\n",
    "\n",
    "\n",
    "feedback_prefix = \"W1D2_T3\""
   ]
  },
  {
   "cell_type": "code",
   "execution_count": null,
   "metadata": {
    "cellView": "form",
    "id": "fbzLaFW6h-5Y",
    "tags": [
     "remove-input"
    ]
   },
   "outputs": [],
   "source": [
    "# @title Import dependencies\n",
    "# @markdown\n",
    "\n",
    "# Standard library imports\n",
    "import logging\n",
    "import hashlib\n",
    "import os\n",
    "\n",
    "# Third-party imports\n",
    "import requests\n",
    "import matplotlib.pyplot as plt\n",
    "import matplotlib.colors as mcolors\n",
    "import matplotlib.cm as cm\n",
    "from IPython.display import IFrame, display, Image\n",
    "import numpy as np\n",
    "\n",
    "# Set up logging\n",
    "logging.basicConfig(level=logging.INFO)"
   ]
  },
  {
   "cell_type": "markdown",
   "metadata": {
    "id": "YRJK30kLh-5Z"
   },
   "source": [
    "##  Figure settings\n"
   ]
  },
  {
   "cell_type": "markdown",
   "metadata": {
    "id": "0rLSfyxWh-5Z"
   },
   "source": [
    "\n"
   ]
  },
  {
   "cell_type": "code",
   "execution_count": null,
   "metadata": {
    "cellView": "form",
    "id": "JhD1MdRZh-5Z",
    "tags": [
     "hide-input"
    ]
   },
   "outputs": [],
   "source": [
    "# @title Figure settings\n",
    "# @markdown\n",
    "\n",
    "logging.getLogger('matplotlib.font_manager').disabled = True\n",
    "\n",
    "%matplotlib inline\n",
    "%config InlineBackend.figure_format = 'retina' # perform high definition rendering for images and plots\n",
    "plt.style.use(\"https://raw.githubusercontent.com/NeuromatchAcademy/course-content/main/nma.mplstyle\")"
   ]
  },
  {
   "cell_type": "markdown",
   "metadata": {
    "execution": {},
    "id": "NfmchWclh-5a"
   },
   "source": [
    "# Section 1: Reinforcement learning across temporal scales\n",
    "\n",
    "## Outline:\n",
    "\n",
    "This tutorial:\n",
    "- Reviews the basics of reinforcement learning\n",
    "- Introduces meta-reinforcement learning (meta-RL)\n",
    "- Studies how \"learning to learn\" is implemented in the context of a binary bandit task\n",
    "- Studies how learning is affected by changing temporal scales"
   ]
  },
  {
   "cell_type": "markdown",
   "metadata": {
    "id": "8RiQXcL_h-5b"
   },
   "source": [
    "##  Video 1: meta-RL\n"
   ]
  },
  {
   "cell_type": "code",
   "execution_count": null,
   "metadata": {
    "colab": {
     "base_uri": "https://localhost:8080/",
     "height": 510,
     "referenced_widgets": [
      "c768d2cf2abc45a49c5d6ee2ccaa4f9a",
      "a23b0d97fb7043e9800692965e793544",
      "ab9ac993a43a400aa0fdf7de57857364",
      "af663948b46c47c4b23fe3290ce25a01"
     ]
    },
    "executionInfo": {
     "elapsed": 628,
     "status": "ok",
     "timestamp": 1717210414472,
     "user": {
      "displayName": "Leila Wehbe",
      "userId": "11453012797362280188"
     },
     "user_tz": 240
    },
    "id": "xt3ILqyZh-5b",
    "outputId": "1d3ff848-267b-492f-9d2c-30c4cdca7e27",
    "tags": [
     "remove-input"
    ]
   },
   "outputs": [],
   "source": [
    "# @title Video 1: meta-RL\n",
    "\n",
    "from ipywidgets import widgets\n",
    "from IPython.display import YouTubeVideo\n",
    "from IPython.display import IFrame\n",
    "from IPython.display import display\n",
    "\n",
    "class PlayVideo(IFrame):\n",
    "  def __init__(self, id, source, page=1, width=400, height=300, **kwargs):\n",
    "    self.id = id\n",
    "    if source == 'Bilibili':\n",
    "      src = f'https://player.bilibili.com/player.html?bvid={id}&page={page}'\n",
    "    elif source == 'Osf':\n",
    "      src = f'https://mfr.ca-1.osf.io/render?url=https://osf.io/download/{id}/?direct%26mode=render'\n",
    "    super(PlayVideo, self).__init__(src, width, height, **kwargs)\n",
    "\n",
    "def display_videos(video_ids, W=400, H=300, fs=1):\n",
    "  tab_contents = []\n",
    "  for i, video_id in enumerate(video_ids):\n",
    "    out = widgets.Output()\n",
    "    with out:\n",
    "      if video_ids[i][0] == 'Youtube':\n",
    "        video = YouTubeVideo(id=video_ids[i][1], width=W,\n",
    "                             height=H, fs=fs, rel=0)\n",
    "        print(f'Video available at https://youtube.com/watch?v={video.id}')\n",
    "      else:\n",
    "        video = PlayVideo(id=video_ids[i][1], source=video_ids[i][0], width=W,\n",
    "                          height=H, fs=fs, autoplay=False)\n",
    "        if video_ids[i][0] == 'Bilibili':\n",
    "          print(f'Video available at https://www.bilibili.com/video/{video.id}')\n",
    "        elif video_ids[i][0] == 'Osf':\n",
    "          print(f'Video available at https://osf.io/{video.id}')\n",
    "      display(video)\n",
    "    tab_contents.append(out)\n",
    "  return tab_contents\n",
    "\n",
    "video_ids = [('Youtube', 'BOGX0KvpnEU')]\n",
    "tab_contents = display_videos(video_ids, W=730, H=410)\n",
    "tabs = widgets.Tab()\n",
    "tabs.children = tab_contents\n",
    "for i in range(len(tab_contents)):\n",
    "  tabs.set_title(i, video_ids[i][0])\n",
    "display(tabs)"
   ]
  },
  {
   "cell_type": "markdown",
   "metadata": {
    "id": "kdXuVjHfnQre"
   },
   "source": [
    "## Reinforcement learning review\n",
    "\n",
    "Reinforcement learning is a learning paradigm where an agent interacts with an environment and learns a policy to maximize its cumulative rewards. We focus here on a simple environment: a binary \"two-armed bandit\" (Figure A), a name for a gambling machine found in casinos (because it steals your money). In this task, at each opportunity the agent chooses arm $i$ (either Left $L$ or Right $R$) and gets a reward with probability $p_i$ that is unknown to the agent. On each trial, only one of the arms will return a reward, so $p_L + p_R = 1$ (which the agent does know).\n",
    "\n",
    "<img src=\"https://github.com/neuromatch/NeuroAI_Course/blob/main/tutorials/W1D1_Generalization/static/two_armed_bandit.png?raw=true\" width=600 />\n",
    "\n",
    "*Figure A. Example of binary bandit. The left arm has a probability $p_L$ of giving a reward, and the right arm a probability $p_R = 1-p_L$ of giving a reward. At a given trial, the agent pulls one of the arms and receives a reward with the corresponding probability.*\n",
    "\n",
    "The aim of the agent is to maximize its cumulative reward over a series of trials (e.g., 100 trials). This would correspond to correctly identifying the arm that returns more reward (has a higher probability) and choosing it for subsequent trials once it's sure about its choice. Thus, while solving this problem, the agent will need to balance exploration and exploitation. At a high level, more exploration is useful while the agent is not certain of which arm has more reward, and once the agent is more certain, it is more advantageous to exploit the arm that has a higher probability of reward.\n",
    "\n",
    "There are different methods that are usually used to solve this problem. An optimal method to solve some instances of bandit problems is [Gittin indices](https://www.statslab.cam.ac.uk/~rrw1/oc/ocgittins.pdf). This method incorporates the estimated rewards and their uncertainty, and involves solving an expensive dynamical programing problem. The simplest method is [epsilon greedy](https://medium.com/@ym1942/exploring-multi-armed-bandit-problem-epsilon-greedy-epsilon-decreasing-ucb-and-thompson-02ad0ec272ee), where exploration and exploitation are balanced by choosing a random action with probability $\\epsilon$ and the best known action with probability $1-\\epsilon$. In the [Upper Confidence Bound (UCB)](https://medium.com/@ym1942/exploring-multi-armed-bandit-problem-epsilon-greedy-epsilon-decreasing-ucb-and-thompson-02ad0ec272ee), the choice of action also incorporates both the estimated rewards and the estimated uncertainty of the rewards. In [Thompson sampling](https://medium.com/@ym1942/exploring-multi-armed-bandit-problem-epsilon-greedy-epsilon-decreasing-ucb-and-thompson-02ad0ec272ee), the choice is made according to a Bayesian model that estimates the posterior probabilities of the reward."
   ]
  },
  {
   "cell_type": "markdown",
   "metadata": {
    "id": "y-abJIfxphvk"
   },
   "source": [
    "### Discussion point 1\n",
    "Imagine training an RL algorithm on the binary bandit problem above, with a method that depends on uncertainty about the reward probabilities (like UCB). Assume that $p_L=0.05$ and $p_R=0.95$. How rapidly will the agent become certain of its estimates of the expected reward of each arm? Do you expect the exploration phase to take a long time or a short time?\n",
    "\n",
    "What about the case when $p_L=0.51$ and $p_R=0.49$? How rapidly will the agent become certain of its estimates, and how will that affect the exploration phase?\n",
    "\n",
    "#### Answer\n",
    "When one of the arms has a high reward, it is easier to identify it. The uncertainty of the agent thus reduces quickly, and they spend less time in exploration. When the probabilities of rewards are more equal (close to 0.5), a lot of trials are needed to reduce the uncertainty, and the exploration phase lasts a long time."
   ]
  },
  {
   "cell_type": "markdown",
   "metadata": {
    "id": "qy1a0FTJrh7p"
   },
   "source": [
    "### Evaluating decision-making strategies\n",
    "\n",
    "One key metric for evaluating an agent's strategies is to compute the cumulative regret metric. Regret at a specific time step refers to the difference in reward between the chosen strategy and the reward that could have been obtained by selecting the best possible action. The cumulative regret refers to the sum of the regret from the start of the episode until the current time step $T$. For our example of binary bandit, it corresponds to:\n",
    "\n",
    "$$R(T) = \\sum_{t = 1}^T (p^* - \\mathbb{E}(p_{a_t})),$$\n",
    "\n",
    "where $p^*$ is the probability of the reward for the best arm, i.e., max($p_L$, $p_r$). $\\mathbb{E}(p_{a_t})$ corresponds to the expected probability of reward for the action that was chosen at previous time $t$."
   ]
  },
  {
   "cell_type": "markdown",
   "metadata": {
    "id": "yRXKUc8pZ1gk"
   },
   "source": [
    "### Discussion point 2\n",
    "\n",
    "Consider the setting where $p_L=0.25$ and $p_R=0.75$. Let's derive a lower bound and an upper bound for cumulative regret over 100 trials of one episode.\n",
    "\n",
    "- Plot the lower bound of the cumulative regret, i.e. the cumulative regret in the best case scenario where the agent choses the optimal arm at every trial, plotted against the number of trials.\n",
    "- In the same figure, plot the upper bound of the cummulative regret, i.e. the cumulative regret in the worst case scenario where the agent choses the non-optimal arm at every trial, plotted against the number of trials.\n",
    "\n",
    "#### Answer"
   ]
  },
  {
   "cell_type": "code",
   "execution_count": null,
   "metadata": {
    "colab": {
     "base_uri": "https://localhost:8080/",
     "height": 609
    },
    "executionInfo": {
     "elapsed": 559,
     "status": "ok",
     "timestamp": 1717168547712,
     "user": {
      "displayName": "Leila Wehbe",
      "userId": "11453012797362280188"
     },
     "user_tz": 240
    },
    "id": "B2cKts1nZ0is",
    "outputId": "5fb4ffbd-127c-496e-9d8b-f2eedda26fdb"
   },
   "outputs": [],
   "source": [
    "t = np.arange(1,101) # Array representing trials from 1 to 100\n",
    "### In the best case scenario, regret is 0 at every trial, resulting in cumulative regret of zero\n",
    "cr_lb = np.zeros(100)\n",
    "### In the worst case scenario, regret is 0.5 at every trial\n",
    "regret_up = np.zeros(100) + 0.5\n",
    "cr_up = np.cumsum(regret_up)\n",
    "\n",
    "plt.plot(t,cr_lb, label = 'lower bound')\n",
    "plt.plot(t,cr_up, label = 'upper bound')\n",
    "\n",
    "plt.xlabel('trial')\n",
    "plt.ylabel('cumulative regret')\n",
    "plt.legend()"
   ]
  },
  {
   "cell_type": "markdown",
   "metadata": {
    "id": "5_KjLEw2u7Ju"
   },
   "source": [
    "# Section 2: Meta-learning and meta-reinforcement learning\n",
    "\n",
    "Meta-learning is a sub-field of machine learning that corresponds to a process in which an algorithm \"learns to learn\". The idea is that the algorithm will learn during training how to adapt itself to different tasks. When faced with a new task, the trained algorithm will quickly adapt to this new task without requiring additional training (the weights of the algorithm are not changed).\n",
    "\n",
    "In meta-reinforcement learning (meta-RL), this concept is applied to a reinforcement learning agent. During training, the agent is exposed to different episodes with different environment, and gains meta-learning strategies. At deployment, the agent is faced with a new environment and uses the trials from that episode (the combination of actions, states and rewards) to learn a policy on the fly. Meta-RL algorithms are typically implemented using a deep learning architecture such as an LSTM. Once they are trained, the weights of the LSTM are fixed. When faced with a new episode, the activations in the LSTM implement the nested learning in which the algorithm identifies the best arm for this specific episode."
   ]
  },
  {
   "cell_type": "markdown",
   "metadata": {
    "execution": {},
    "id": "fmiwGfWrh-5b"
   },
   "source": [
    "## Prefrontal cortex as a meta-reinforcement learning system\n",
    "\n",
    "In recent years, the field of neuroAI has opened new avenues for understanding and developing AI systems that emulate the complexity and efficiency of the human brain to better model the human brain or to gain new functionality in AI systems. An important work in this domain is the following paper:\n",
    "\n",
    "[1] Wang, Jane X., Zeb Kurth-Nelson, Dharshan Kumaran, Dhruva Tirumala, Hubert Soyer, Joel Z. Leibo, Demis Hassabis, and Matthew Botvinick. **\"Prefrontal cortex as a meta-reinforcement learning system.\"** Nature neuroscience 21, no. 6 (2018): 860-868.\n",
    "\n",
    "Available at: https://www.nature.com/articles/s41593-018-0147-8\n",
    "\n",
    "This paper aims to reconciliate two seemingly disparate ideas about learning in the prefrontal cortex (PFC). The activations in the PFC have been shown to be correlated to actions, values and rewards, indicating that the PFC is engaged in RL. Another set of findings, including the fact that PFC activity is correlated with the recent history of rewards and actions, also suggests that the PFC is acting as a meta-RL agent. The paper proposes a model of the PFC, the weights of which are optimized during training to allow it to learn a second RL algorithm dynamically, as the properties of the environment changes. The second RL algorithm is implemented by the activations of the PFC, and is independent of the original training task. This allows the PFC to adapt to new situations using prior learning experiences, essentially learning to learn.\n",
    "\n",
    "We will explore here the demo in Figure 1 of the paper. Figure C belows shows the architecture of the meta-RL model, which is implemented as an LSTM. We will explore how, after training, the weights of the LSTM implement an RL procedure (e.g., we will see if this procedure deals with the exploration-exploitation tradeoff).\n",
    "\n",
    "We will also explore how learning can occur at different time scales (see figure B below):\n",
    "\n",
    "**Latent world state (fast)**: In this demo, at the start of each episode, a new set of probabilities $p_L$ and $p_R = 1-p_L$ are sampled. This corresponds to latent world state parameters that change on a slower time scale than the observations level (i.e., trials), but still at a relatively fast scale (each episode here has 100 trials).\n",
    "\n",
    "**Context (slow)**: We think of the context level as a slower time scale at which the world is changing and affecting how the parameters of the latent world state are sampled. In this paper, the authors train their meta-RL model in two contexts. In the first (independent bandit context), the parameters of the successive latent world state (i.e., $p_L$ and $p_R$ from two successive episodes) are not correlated. There is no specific knowledge about the parameters that can be generalized from one episode to the next. In the second (correlated bandit context), the parameters are anti-correlated. Thus, there is information in the parameters of the current episode that the model can use for faster learning in the next episode. We will explore how training in these two different contexts affects performance."
   ]
  },
  {
   "cell_type": "markdown",
   "metadata": {
    "colab": {
     "base_uri": "https://localhost:8080/",
     "height": 349
    },
    "executionInfo": {
     "elapsed": 403,
     "status": "ok",
     "timestamp": 1717168548113,
     "user": {
      "displayName": "Leila Wehbe",
      "userId": "11453012797362280188"
     },
     "user_tz": 240
    },
    "id": "f4Ci2pT7h-5c",
    "outputId": "f4ef2e31-17ae-44b9-9296-6e1cf6fdd590",
    "tags": [
     "hide-input"
    ]
   },
   "source": [
    "<img src=\"https://github.com/neuromatch/NeuroAI_Course/blob/main/tutorials/W1D1_Generalization/static/learning_temporal_scales.png?raw=true\" width=600 />"
   ]
  },
  {
   "cell_type": "markdown",
   "metadata": {
    "execution": {},
    "id": "8LZFgP5sh-5c"
   },
   "source": [
    "*Figure B - Learning across temporal scales*\n",
    "\n",
    "### Architecture"
   ]
  },
  {
   "cell_type": "markdown",
   "metadata": {
    "cellView": "form",
    "colab": {
     "base_uri": "https://localhost:8080/",
     "height": 405
    },
    "executionInfo": {
     "elapsed": 8,
     "status": "ok",
     "timestamp": 1717168548113,
     "user": {
      "displayName": "Leila Wehbe",
      "userId": "11453012797362280188"
     },
     "user_tz": 240
    },
    "id": "yR5jdBioh-5c",
    "outputId": "410e11e7-f717-43a6-add9-21ba56e90831",
    "tags": [
     "hide-input"
    ]
   },
   "source": [
    "<img src=\"https://github.com/neuromatch/NeuroAI_Course/blob/main/tutorials/W1D1_Generalization/static/model_architecture.png?raw=true\" width=600 />"
   ]
  },
  {
   "cell_type": "markdown",
   "metadata": {
    "execution": {},
    "id": "hQT1Hg_rh-5c",
    "jp-MarkdownHeadingCollapsed": true
   },
   "source": [
    "*Figure C - Model architecture. Adapted from Figure 1 of Wang et al. The PFC, along with the basal ganglia and directly connected thalamus, are modeled as a recurrent network. The synaptic weights are adjusted during training. a = action, r = reward, v = state value. Specifically, the algorithm is implemented as an LSTM (part b above shows the model in more detail, along with an inset of one LSTM model unit illustrating the maintenance mechanism).*\n"
   ]
  },
  {
   "cell_type": "markdown",
   "metadata": {
    "execution": {},
    "id": "8VaJohj8h-5c"
   },
   "source": [
    "### Training an agent in an uncorrelated setting - exploration/exploitation tradeoff\n",
    "\n",
    "We first focus on showing how the meta-RL algorithm implements an RL procedure. To do so, we look at how this procedure balances exploration and exploitation under different episode parameters.\n",
    "\n",
    "In figure D, you can see the chosen actions of the LSTM agent across 101 different episodes. The episodes span the range of probabilities $p_L \\in \\{0,0.01,0.02,...,0.99,1\\}$. Each row corresponds to an episode, and the episodes are ordered in terms of the reward probability of the left arm. For each episode, the action taken by the agent in the 100 trials are shown. In the top half of the matrix, the optimal choice is the left arm (Arm 1), and in the bottom half, the optimal choice is the right arm (Arm 2). Here, the agent is trained in the independent bandit context."
   ]
  },
  {
   "cell_type": "markdown",
   "metadata": {
    "id": "ETrmoRmkh-5d"
   },
   "source": [
    "\n"
   ]
  },
  {
   "cell_type": "markdown",
   "metadata": {
    "colab": {
     "base_uri": "https://localhost:8080/",
     "height": 443
    },
    "executionInfo": {
     "elapsed": 6,
     "status": "ok",
     "timestamp": 1717168548113,
     "user": {
      "displayName": "Leila Wehbe",
      "userId": "11453012797362280188"
     },
     "user_tz": 240
    },
    "id": "SMIlbm5Th-5i",
    "outputId": "ea043d24-7945-4562-b334-232a6b90d2c9",
    "tags": [
     "hide-input"
    ]
   },
   "source": [
    "<img src=\"https://github.com/neuromatch/NeuroAI_Course/blob/main/tutorials/W1D1_Generalization/static/exploration_exploitation_tradeoff.png?raw=true\" width=600 />"
   ]
  },
  {
   "cell_type": "markdown",
   "metadata": {
    "execution": {},
    "id": "nEmm373dh-5i"
   },
   "source": [
    "*Figure D - Exploration exploitation tradeoff. From the https://github.com/nathanwispinski/meta-rl repo which adapts the Wang et al. model. The episodes are ranked on the y-axis according to the probability of the left arm. The x-axis corresponds to the 100 successive trials in one episode. The color indicates the choice of the agent. In the lower half of the square, the right arm (Arm 2) is optimal, and in the upper half, the left arm (Arm 1) is optimal.*\n",
    "\n"
   ]
  },
  {
   "cell_type": "markdown",
   "metadata": {
    "execution": {},
    "id": "dfFp3mJgh-5i"
   },
   "source": [
    "### Discussion point 3\n",
    "\n",
    "Observe the actions of the model for different episodes. How do they vary as the probabilities vary? What sets of probabilities are typically easy to learn? And which are harder to learn?\n",
    "\n",
    "In the cells below, you can find an array in which each row corresponds to a row of Figure D. Group the rows into groups of 25 rows and average them, so you get the average arm that is selected at each time point. How do these curves showcase a longer vs shorter exploration phase?"
   ]
  },
  {
   "cell_type": "markdown",
   "metadata": {
    "execution": {},
    "id": "zHb1eFvfh-5i"
   },
   "source": [
    "#### Answer\n",
    "The transition from exploration to exploitation occurs more slowly in more difficult problems, as indicated in the provided figure D. In episodes with reward parameters such as 0.6 and 0.4, where the difference in reward probability between actions is smaller, it's tougher for the agent to ascertain which action is better. Hence, more exploration is needed before a confident shift to exploitation can occur.\n",
    "\n",
    "In contrast, with a larger discrepancy in rewards (e.g., 0.75 vs. 0.25), the agent can more quickly determine the more rewarding action and thus switch to exploitation sooner.\n",
    "\n",
    "Interestingly, in these examples, there are still instances in which 100 trials are not enough for the algorithm to converge on the correct arm even when $p_L$ is relatively small, and some in which the algorithm converges quickly to the right arm even though $p_L$ is close to 0.5. For a more robust estimation of the average duration of exploration, it would be useful to look at the behavior of the network for many episodes while using the same parameters."
   ]
  },
  {
   "cell_type": "markdown",
   "metadata": {
    "id": "wmqCfgr7KTRp"
   },
   "source": [
    "### Loading image info"
   ]
  },
  {
   "cell_type": "code",
   "execution_count": null,
   "metadata": {
    "executionInfo": {
     "elapsed": 303,
     "status": "ok",
     "timestamp": 1717210270002,
     "user": {
      "displayName": "Leila Wehbe",
      "userId": "11453012797362280188"
     },
     "user_tz": 240
    },
    "id": "2UtkBio6INgy"
   },
   "outputs": [],
   "source": [
    "Trials = np.array([[ 0,1,0,0,0,0,0,0,0,0,0,0,0,0,0,0,0,0,0,0,0,0,0,0,0,0,0,0,0,0,0,0,0,0,0,0,0,0,0,0,0,0,0,0,0,0,0,0,0,0,0,0,0,0,0,0,0,0,0,0,0,0,0,0,0,0,0,0,0,0,0,0,0,0,0,0,0,0,0,0,0,0,0,0,0,0,0,0,0,0,0,0,0,0,0,0,0,0,0,0 ],\n",
    "[ 1,0,0,1,0,0,0,0,0,0,0,0,0,0,0,0,0,0,0,0,0,0,0,0,0,0,0,0,0,0,0,1,0,0,0,0,0,0,0,0,0,0,0,0,0,0,0,0,0,0,0,0,0,0,0,0,0,0,0,0,0,0,0,0,0,0,0,0,0,0,0,0,0,0,0,0,0,0,0,0,0,0,0,0,0,0,0,0,0,0,0,0,0,0,1,0,0,0,0,0 ],\n",
    "[ 1,1,1,0,0,1,0,1,1,0,0,0,1,1,1,0,0,1,1,1,1,1,1,1,1,1,1,0,0,0,0,1,0,1,0,0,1,0,0,1,0,0,1,0,0,0,0,0,0,0,0,0,0,0,0,0,1,0,1,0,0,0,0,1,1,0,0,0,0,0,0,0,0,0,0,0,0,1,0,0,0,0,0,0,0,0,0,0,0,0,0,0,0,0,0,0,0,0,0,0 ],\n",
    "[ 1,1,1,0,0,0,1,0,1,1,0,1,0,1,0,1,0,1,1,1,1,1,0,0,0,1,1,1,1,0,0,1,1,1,1,1,0,0,0,1,0,0,0,0,0,0,0,0,0,0,0,0,0,0,0,0,1,0,0,0,0,0,0,0,0,0,0,0,0,0,0,0,0,0,0,0,0,0,0,0,0,1,0,0,0,0,0,0,0,1,0,0,0,0,0,0,0,0,0,0 ],\n",
    "[ 0,1,1,0,0,1,0,0,1,1,1,0,1,0,1,1,0,1,1,1,1,0,0,1,1,0,1,0,1,1,1,0,0,1,0,1,0,0,0,0,0,0,0,0,0,1,0,1,0,0,0,0,0,0,0,0,0,0,0,0,0,0,1,1,0,0,0,0,1,0,0,0,0,1,0,0,0,0,0,0,0,0,0,0,0,0,0,0,0,0,0,0,0,0,1,0,0,1,0,0 ],\n",
    "[ 1,1,0,1,0,0,0,1,0,1,1,0,0,0,0,1,1,1,1,1,1,1,0,1,0,1,1,1,0,1,1,0,1,0,1,1,1,0,0,0,0,1,0,0,1,1,0,0,0,0,0,0,0,0,0,0,0,0,0,0,0,0,1,0,0,0,0,0,0,0,0,0,0,0,0,1,1,0,0,0,0,0,0,0,0,0,0,0,0,0,0,0,0,0,0,0,0,0,0,0 ],\n",
    "[ 0,0,1,0,0,0,0,0,0,0,0,0,0,0,0,0,0,0,0,0,0,0,0,0,0,0,0,0,0,0,0,0,0,0,0,0,0,0,0,0,0,0,0,0,0,0,0,0,0,0,0,0,0,0,0,0,0,0,0,0,0,0,0,0,0,0,0,0,0,0,0,0,0,0,0,0,0,0,0,0,0,0,0,0,0,0,0,0,0,0,0,0,0,0,0,0,0,0,0,0 ],\n",
    "[ 0,1,0,0,0,0,0,0,0,0,0,0,0,0,0,0,0,0,0,0,0,0,0,0,0,0,0,0,0,0,0,0,0,0,0,0,0,0,0,0,0,0,0,0,0,0,0,0,0,0,0,0,0,0,0,0,0,0,0,0,0,0,0,0,0,0,0,0,0,0,0,0,0,0,0,0,0,0,0,0,0,0,0,0,0,0,0,0,0,0,0,0,0,0,0,0,0,0,0,0 ],\n",
    "[ 0,0,0,1,1,0,0,1,0,1,0,1,0,1,1,1,0,1,1,1,1,1,0,0,1,0,0,1,0,0,0,0,1,1,0,0,0,0,0,1,1,0,0,0,0,0,0,0,0,0,0,0,0,0,0,0,0,1,0,0,0,0,0,0,0,0,0,0,0,0,0,0,0,0,0,0,0,0,0,0,0,0,0,0,0,0,0,0,0,0,0,0,0,0,1,0,0,0,0,0 ],\n",
    "[ 0,0,1,1,1,0,0,0,0,0,0,0,0,0,0,0,0,0,0,0,0,0,0,0,0,0,0,0,0,0,0,0,0,0,0,0,0,0,0,0,0,0,0,0,0,0,0,0,0,0,0,0,0,0,0,0,0,0,0,0,0,0,0,0,0,0,0,0,0,0,0,0,0,0,0,0,0,0,0,0,0,0,0,0,0,0,0,0,0,0,0,0,0,0,0,0,0,0,0,0 ],\n",
    "[ 0,0,1,0,0,0,1,1,0,0,0,0,0,0,0,0,0,0,0,0,0,0,0,0,0,0,0,0,0,0,0,0,0,0,0,0,0,0,0,0,0,0,0,0,0,0,0,0,0,0,0,0,0,0,0,0,0,0,0,0,0,0,0,0,0,0,0,0,0,0,0,0,0,0,0,0,0,0,0,0,0,0,0,0,0,0,0,0,0,0,0,0,0,0,0,0,0,0,0,0 ],\n",
    "[ 0,1,0,0,1,0,0,0,0,0,0,0,1,0,0,0,0,0,0,0,0,0,0,0,0,0,0,0,0,0,0,0,0,0,0,0,0,0,0,0,0,0,0,0,0,0,0,0,0,1,0,0,0,0,0,0,0,0,0,0,0,0,0,0,0,0,0,0,0,0,0,0,0,0,0,0,0,0,0,0,0,0,0,0,0,0,0,0,0,0,0,0,0,0,0,0,0,1,0,0 ],\n",
    "[ 0,0,1,0,1,0,0,0,0,0,0,0,0,0,0,0,0,0,0,0,0,0,0,0,0,0,0,0,0,0,0,0,0,0,0,0,0,0,0,0,0,0,0,0,0,0,0,0,0,0,0,0,0,0,0,0,0,0,0,0,0,0,0,0,0,0,0,0,0,0,0,0,0,0,0,0,0,0,0,0,0,0,0,0,0,0,0,0,0,0,0,0,0,0,0,0,0,0,0,0 ],\n",
    "[ 0,0,0,0,0,0,0,0,0,0,0,1,0,0,0,0,0,0,0,0,0,0,0,0,0,0,0,0,0,0,0,0,0,0,0,0,0,0,0,0,0,0,0,0,0,0,0,0,0,0,0,0,0,0,0,0,0,0,0,0,0,0,0,0,0,0,0,0,0,0,0,0,0,0,0,0,0,0,0,0,0,0,0,0,0,0,0,0,0,0,0,0,0,0,0,0,0,0,0,0 ],\n",
    "[ 1,0,1,0,0,1,0,1,0,0,0,0,1,0,0,0,0,0,0,0,0,0,0,0,0,0,0,0,0,0,0,0,0,0,0,0,0,0,0,0,0,0,0,0,0,0,0,0,0,0,0,0,0,0,0,0,0,0,0,0,0,0,0,0,0,0,0,0,0,0,0,0,0,0,0,0,0,0,0,0,0,0,0,0,0,0,0,0,0,0,0,0,0,0,0,0,0,0,0,0 ],\n",
    "[ 1,1,0,0,0,1,0,0,1,1,1,0,0,0,0,0,1,1,1,0,0,1,1,1,1,1,0,1,1,1,1,1,0,0,1,0,1,1,0,0,0,0,1,0,0,0,0,0,0,0,0,1,0,0,0,0,1,0,0,0,1,0,0,0,0,0,0,0,0,0,0,0,0,0,1,0,0,0,0,1,0,0,0,1,0,0,0,0,0,0,0,0,0,0,1,0,0,0,0,0 ],\n",
    "[ 1,0,1,1,1,0,0,1,1,0,0,1,1,1,1,1,0,1,1,1,1,1,1,1,1,0,0,0,0,0,0,1,0,1,0,0,0,0,0,0,0,0,0,0,0,0,0,0,0,0,0,0,0,0,1,0,0,1,0,0,0,0,1,1,0,0,0,0,1,1,0,0,0,0,0,0,1,0,0,0,0,0,0,0,0,0,0,0,0,0,0,0,0,0,0,0,0,0,0,0 ],\n",
    "[ 1,0,1,0,1,0,1,0,1,0,0,1,1,1,1,1,1,1,0,1,1,0,1,0,1,1,0,0,1,0,0,1,0,0,0,0,0,0,0,0,0,0,1,0,0,0,0,0,0,0,0,0,0,0,0,0,0,0,0,0,0,0,0,0,1,0,0,0,0,0,0,0,0,0,0,1,0,1,0,0,0,0,0,0,0,0,0,0,0,0,0,0,0,0,0,0,0,0,0,0 ],\n",
    "[ 0,1,1,0,1,1,0,1,1,1,1,1,0,1,0,1,0,0,1,1,1,1,0,0,0,1,0,0,0,0,0,0,0,0,0,0,0,0,0,0,0,0,0,0,0,0,0,0,0,0,0,0,0,0,0,0,0,0,0,0,0,0,0,0,0,0,0,0,0,0,0,1,0,0,0,0,0,0,1,0,0,0,0,0,0,0,0,0,0,0,0,0,0,0,0,0,0,0,0,0 ],\n",
    "[ 1,1,0,1,1,0,1,1,1,1,1,1,1,1,1,1,0,0,1,0,1,0,0,0,0,0,0,0,0,0,1,0,0,0,0,1,0,1,0,1,0,0,0,0,0,0,0,0,0,0,0,0,0,0,1,0,0,0,0,0,0,1,0,1,0,0,0,0,0,0,0,0,0,1,0,0,0,0,1,0,0,0,0,0,0,0,0,0,0,0,0,0,0,0,0,1,1,0,0,0 ],\n",
    "[ 1,0,0,0,0,0,1,0,0,0,0,0,0,0,0,0,0,0,0,0,0,0,0,0,0,0,0,0,0,0,0,0,0,0,0,0,0,0,0,0,0,0,0,0,0,0,0,0,0,0,0,0,0,0,0,0,0,0,0,0,0,0,0,0,0,0,0,0,0,0,0,0,0,1,0,0,0,0,0,0,0,0,0,0,0,0,0,0,0,0,0,0,0,0,0,0,0,0,0,0 ],\n",
    "[ 0,0,0,0,0,0,1,0,0,0,0,0,0,0,0,0,0,0,0,0,0,0,0,0,0,0,0,0,0,0,0,0,0,0,0,0,0,0,0,0,0,0,0,0,0,0,0,0,0,0,0,0,0,0,0,0,0,0,0,0,0,0,0,0,0,0,0,0,0,0,0,0,0,0,0,0,0,0,0,0,0,0,0,0,0,0,0,0,0,0,0,0,0,0,0,0,0,0,0,0 ],\n",
    "[ 0,1,0,0,0,1,0,0,0,0,0,0,0,0,0,0,0,0,0,0,0,0,0,0,0,0,0,0,0,0,0,0,0,0,0,0,0,0,0,0,0,0,0,0,0,0,0,0,0,0,0,0,0,0,0,0,0,0,0,0,0,0,0,0,0,0,0,0,0,0,0,0,0,0,0,0,0,0,0,0,0,0,0,0,0,0,0,0,0,0,0,0,0,0,0,0,0,0,0,0 ],\n",
    "[ 1,1,1,1,0,1,0,0,1,1,1,1,1,0,1,1,0,1,1,1,1,1,1,1,0,0,1,1,0,1,1,0,0,0,1,1,0,0,0,0,0,0,0,0,0,0,1,0,0,0,0,0,1,0,0,1,0,1,0,0,1,0,0,0,0,0,0,0,0,0,0,0,0,0,0,0,0,0,0,0,0,0,0,1,1,0,0,0,0,0,0,0,0,0,0,0,0,0,0,0 ],\n",
    "[ 0,0,0,0,1,0,0,0,0,0,0,0,0,0,0,0,0,0,0,0,0,0,0,0,0,0,0,0,0,0,0,0,0,0,0,0,0,0,0,0,0,0,0,0,0,0,0,0,1,0,0,0,0,0,0,0,0,0,0,0,0,0,0,0,0,0,0,0,0,0,0,0,0,0,0,0,0,0,0,0,0,0,0,0,0,0,0,0,0,0,0,0,0,0,0,0,0,0,0,0 ],\n",
    "[ 0,1,1,0,0,0,0,0,1,1,0,1,0,1,0,1,1,1,1,1,0,1,1,1,1,1,1,1,1,1,1,1,0,1,1,1,0,0,0,0,1,0,0,0,0,0,0,0,0,0,0,0,0,0,0,0,0,0,0,0,0,0,0,0,0,0,0,0,0,0,0,0,0,0,0,0,0,1,1,1,0,1,0,0,0,1,1,0,0,0,0,0,0,1,0,0,0,0,0,0 ],\n",
    "[ 0,1,0,1,1,0,0,0,0,0,0,0,0,0,0,0,0,0,0,0,0,0,0,0,0,0,0,0,0,0,0,0,0,0,0,0,0,0,0,0,0,0,0,0,0,0,0,0,1,0,0,0,0,0,0,0,0,0,0,0,0,0,1,0,0,0,0,0,0,0,0,0,0,0,0,0,0,0,0,0,0,0,0,0,0,0,0,0,0,0,1,0,0,0,0,0,0,0,0,0 ],\n",
    "[ 0,1,0,0,0,0,0,0,0,0,0,0,0,0,0,0,0,0,0,0,0,0,0,0,0,0,0,0,0,0,0,0,0,0,0,0,0,0,0,0,0,0,0,0,0,0,0,0,0,0,0,0,0,0,0,0,0,0,0,0,0,0,0,0,0,0,0,0,0,0,0,0,0,0,0,0,0,1,0,0,0,0,0,0,0,0,0,0,0,0,0,0,0,0,0,0,0,0,0,0 ],\n",
    "[ 0,0,1,0,1,0,0,0,1,0,0,0,0,1,0,0,0,0,0,0,0,0,0,0,0,0,0,0,0,0,0,0,0,0,0,0,0,0,0,0,0,0,0,0,0,0,0,0,0,1,0,0,0,0,0,0,0,0,0,0,0,0,0,0,0,0,0,0,0,0,0,0,0,0,0,0,0,0,0,0,0,0,0,0,0,0,0,0,0,0,0,0,0,0,0,0,0,0,0,0 ],\n",
    "[ 0,0,1,0,0,0,0,0,0,0,0,0,0,0,0,0,0,0,0,0,0,0,0,0,0,0,0,0,0,0,0,0,0,0,0,0,0,0,0,0,0,0,0,0,0,0,0,0,0,0,0,0,0,0,0,0,0,0,0,0,0,0,0,0,0,0,0,0,0,0,0,0,0,0,0,0,0,0,0,0,0,0,0,0,0,0,0,0,0,0,0,0,0,0,0,0,0,0,0,0 ],\n",
    "[ 0,0,1,0,1,1,0,1,1,1,1,1,1,0,1,1,1,1,1,1,1,1,1,1,0,0,0,0,0,1,1,0,0,1,0,0,0,0,0,0,0,0,0,0,0,0,0,1,0,0,0,0,0,0,0,0,0,0,0,0,0,1,0,1,0,0,0,0,0,0,0,0,0,0,0,0,0,0,0,0,0,0,1,0,1,0,0,0,0,0,0,0,0,0,0,0,0,1,1,0 ],\n",
    "[ 0,1,1,1,0,1,0,1,1,1,0,1,0,0,1,1,1,1,1,0,0,1,1,1,0,1,1,0,0,1,0,0,0,0,1,0,0,0,1,1,0,0,0,1,0,0,0,0,0,0,0,0,0,0,0,1,0,0,1,0,0,0,0,0,0,0,0,0,0,0,0,0,0,0,0,0,1,0,0,0,0,0,0,0,0,0,0,0,0,0,0,0,0,1,0,1,0,1,0,0 ],\n",
    "[ 0,0,0,1,0,0,0,0,0,1,0,0,0,0,0,0,0,0,0,0,0,0,0,0,0,0,0,0,0,0,0,0,0,0,0,0,0,0,0,0,0,0,0,0,0,0,0,0,0,0,1,0,0,0,0,0,0,0,0,0,0,0,0,0,0,0,0,0,0,0,0,0,0,0,0,0,0,0,0,0,0,0,0,0,0,0,0,0,0,0,0,0,0,0,0,0,0,0,0,0 ],\n",
    "[ 1,1,0,0,0,0,0,0,1,1,0,0,0,1,1,1,0,1,1,0,1,1,1,1,0,0,0,1,0,1,0,1,0,0,1,0,0,0,0,0,0,0,0,0,0,0,0,0,1,0,0,0,0,0,0,0,0,0,0,0,0,0,0,0,0,0,0,0,0,0,0,0,0,0,0,0,0,0,0,0,0,0,0,0,0,1,0,0,0,0,0,0,0,0,0,0,0,0,0,0 ],\n",
    "[ 0,1,0,0,0,1,0,0,1,0,0,0,0,0,0,0,0,0,0,0,0,0,0,1,0,0,0,0,0,0,0,0,0,0,0,0,0,0,0,0,0,0,0,0,0,0,1,0,0,0,0,0,0,1,0,0,0,0,0,0,0,0,0,0,0,0,0,0,0,0,0,0,0,0,0,0,0,0,0,0,0,0,0,1,0,1,0,1,1,1,1,1,1,1,0,1,0,1,1,1 ],\n",
    "[ 1,0,1,1,0,0,0,1,0,0,0,0,0,1,1,0,1,1,0,1,1,1,1,1,1,1,1,1,1,1,1,1,1,1,0,1,1,1,1,1,1,0,0,0,0,1,1,0,0,0,0,0,0,1,0,0,0,0,0,0,1,0,0,1,0,0,0,0,0,0,0,1,0,0,0,0,1,1,0,0,0,0,0,0,0,0,0,0,0,1,0,0,0,0,0,0,0,1,0,0 ],\n",
    "[ 1,0,1,1,1,0,1,1,1,1,0,1,0,1,1,1,1,1,1,1,1,1,1,1,1,1,1,1,1,1,1,0,0,1,1,1,1,1,0,1,0,0,0,0,1,0,0,1,0,1,0,0,1,0,1,0,0,1,0,0,1,0,0,0,0,1,0,0,0,0,0,1,0,0,0,0,0,0,0,0,0,0,0,0,0,0,0,0,0,0,0,0,1,0,0,0,0,0,0,0 ],\n",
    "[ 1,0,0,0,0,1,0,0,0,1,0,1,1,1,1,1,1,0,1,1,1,1,1,1,1,1,1,1,0,0,1,1,1,0,1,1,1,0,1,0,0,0,1,0,0,0,0,0,0,1,1,0,0,0,0,0,1,0,0,0,0,1,0,0,0,0,0,0,0,0,0,0,0,1,0,0,0,0,0,1,0,0,0,0,0,0,0,0,0,1,0,0,0,1,0,0,0,0,0,0 ],\n",
    "[ 1,0,0,0,0,0,0,1,0,0,1,0,0,0,0,0,1,1,0,0,1,0,1,0,1,0,1,0,1,1,1,0,1,1,0,1,1,1,1,1,0,1,1,1,1,1,1,1,1,0,0,0,1,0,0,0,0,0,0,0,0,1,0,1,0,0,0,0,0,0,0,0,0,0,1,1,0,0,0,1,0,0,0,0,0,0,0,0,0,0,1,0,0,0,0,0,0,0,1,0 ],\n",
    "[ 1,1,1,1,0,1,0,1,1,1,1,0,1,1,1,1,1,1,1,1,1,1,1,0,1,1,1,1,0,0,1,0,1,1,0,1,0,1,1,0,1,0,0,0,0,0,0,0,1,0,0,0,0,0,1,0,0,0,0,0,0,0,0,0,0,0,0,0,0,0,0,0,0,0,0,0,0,0,0,0,0,0,0,0,0,0,0,0,0,0,1,0,0,1,1,0,0,0,0,0 ],\n",
    "[ 1,1,1,0,0,0,0,1,1,1,1,1,1,1,1,1,1,1,1,1,1,1,1,1,1,1,1,1,1,1,1,0,1,1,1,1,1,1,1,1,1,1,1,1,1,1,1,1,1,1,0,1,1,1,1,1,1,1,1,1,1,0,0,0,1,0,0,1,0,1,0,0,0,1,1,1,0,0,0,1,1,0,0,1,0,0,0,1,0,0,0,0,0,0,0,0,0,1,0,0 ],\n",
    "[ 1,0,1,0,1,0,0,0,1,0,1,0,1,0,0,0,1,0,0,0,0,1,1,1,1,0,1,1,1,1,0,1,1,1,1,1,1,1,1,1,0,0,1,1,1,1,1,1,1,1,0,0,1,0,1,0,0,1,1,0,0,0,0,0,0,0,1,0,0,0,0,0,0,0,0,0,0,0,0,0,0,0,1,0,1,0,0,0,0,0,1,0,0,0,0,0,0,1,0,0 ],\n",
    "[ 0,1,1,1,1,0,1,1,0,1,1,0,1,0,1,1,1,1,1,1,1,1,1,1,1,1,1,1,1,1,1,1,1,1,1,1,1,1,1,1,1,0,1,1,1,1,0,0,0,1,0,0,1,0,0,0,1,0,0,0,0,0,0,1,0,0,0,0,1,0,0,1,0,1,0,0,0,0,0,0,0,0,0,0,0,0,0,0,0,0,0,0,0,0,0,0,0,0,0,1 ],\n",
    "[ 1,0,1,0,1,1,0,1,1,1,1,1,0,1,1,0,1,1,1,0,1,1,1,1,1,1,1,1,1,1,1,1,1,1,1,1,1,1,1,0,0,0,0,0,0,0,0,0,0,1,0,0,0,1,0,0,0,1,0,0,0,0,1,0,0,0,1,0,0,0,0,0,0,1,0,0,0,0,0,0,1,1,0,1,0,0,0,0,0,0,0,1,0,0,0,0,0,0,1,0 ],\n",
    "[ 1,1,0,0,1,1,1,1,0,0,0,0,1,0,1,1,1,1,1,1,1,1,0,0,1,0,1,0,1,1,0,0,0,1,1,1,0,0,0,0,0,0,1,0,0,0,0,0,0,0,0,0,0,1,0,0,0,0,0,1,0,0,1,0,0,0,0,1,0,0,0,0,0,0,1,0,0,1,0,1,0,0,0,1,0,1,1,0,0,0,0,0,0,0,0,1,0,0,0,0 ],\n",
    "[ 0,0,0,0,0,0,0,1,0,0,0,0,0,0,0,0,1,0,0,0,0,0,0,0,0,0,0,0,0,0,0,0,0,0,0,0,0,0,0,0,0,0,0,0,0,0,0,0,0,0,0,0,0,0,0,0,0,0,0,0,0,0,0,0,0,0,0,0,1,0,0,0,0,1,0,0,0,0,0,0,0,0,0,0,0,0,1,0,0,0,0,0,0,0,0,0,0,0,0,0 ],\n",
    "[ 0,1,1,1,1,0,0,0,0,0,1,0,1,1,1,1,1,1,0,1,0,1,0,1,0,0,0,0,0,0,0,0,0,0,1,0,1,0,0,0,0,0,0,1,0,1,0,0,0,0,0,0,0,0,0,0,0,0,1,1,0,0,0,1,0,0,0,0,1,0,1,0,0,0,0,0,0,0,0,0,0,0,0,1,0,1,0,0,0,1,0,0,0,0,0,0,0,0,0,0 ],\n",
    "[ 0,0,1,0,1,0,0,0,0,0,0,0,0,0,0,0,0,0,0,0,0,0,0,0,0,0,0,1,0,0,0,0,0,0,0,0,0,0,0,0,0,0,0,0,0,0,0,0,0,0,0,0,0,0,1,0,0,0,1,0,0,0,0,0,0,0,0,0,0,0,0,0,0,0,0,0,1,0,0,0,0,0,0,0,0,0,0,0,1,0,1,1,1,1,1,1,1,1,1,0 ],\n",
    "[ 0,0,1,0,0,0,0,0,1,1,1,1,1,1,1,1,0,1,1,0,1,1,1,1,1,1,1,1,0,1,1,1,1,1,1,1,1,0,1,1,1,1,0,0,1,1,0,1,0,0,0,0,1,0,0,0,0,0,0,0,0,1,1,1,0,1,0,0,0,1,0,0,1,0,1,0,1,0,0,0,0,0,0,0,0,0,0,0,0,0,0,1,1,0,1,0,0,0,0,0 ],\n",
    "[ 0,0,1,1,1,0,1,1,0,0,1,0,0,0,0,0,1,0,0,0,0,0,0,0,0,0,0,0,0,0,0,0,0,1,0,1,0,1,0,0,0,1,0,1,1,0,0,0,0,0,0,0,0,1,1,1,1,1,0,1,1,0,1,1,0,1,1,0,1,0,0,0,1,0,0,0,0,0,0,0,0,0,0,0,1,0,0,0,0,0,0,0,1,0,0,0,0,0,0,1 ],\n",
    "[ 0,1,0,1,1,0,1,1,1,0,0,0,1,0,1,0,0,0,0,0,0,0,0,0,0,0,0,0,0,0,0,0,0,0,0,0,0,0,0,0,0,0,0,0,0,0,0,0,0,0,0,0,0,0,0,0,0,1,0,0,0,0,0,0,0,0,0,0,1,0,0,0,0,0,0,0,0,0,0,0,0,0,0,0,1,0,1,1,0,0,0,0,0,0,0,0,0,0,0,1 ],\n",
    "[ 1,0,1,0,0,0,0,1,0,1,0,0,0,0,0,0,0,0,0,0,0,0,1,0,0,0,0,0,0,0,0,0,0,0,0,0,0,0,0,0,0,0,0,0,0,0,0,0,0,1,0,0,0,0,0,0,0,0,0,0,0,0,0,0,0,0,0,0,0,0,0,1,0,0,0,0,0,0,1,0,0,0,0,1,0,1,0,0,0,1,0,0,0,0,0,1,1,0,1,1 ],\n",
    "[ 1,1,1,1,1,0,1,1,1,1,1,0,1,1,1,1,1,1,1,1,1,1,1,1,1,1,1,1,1,1,1,1,1,0,0,0,1,0,1,0,0,0,0,0,0,0,0,1,1,1,0,0,0,0,0,0,0,0,0,0,1,0,0,1,0,0,0,0,1,0,0,0,0,0,0,0,0,0,0,0,0,0,0,0,0,0,0,0,0,0,0,1,0,0,0,0,1,0,1,1 ],\n",
    "[ 1,1,0,1,0,0,1,1,1,0,1,1,0,1,1,1,1,1,1,1,1,1,1,1,1,1,1,1,1,1,1,1,1,1,1,1,1,1,1,1,1,1,1,1,1,1,1,1,0,1,1,1,1,1,1,1,1,1,1,1,1,1,1,1,1,1,1,1,0,0,1,1,1,1,1,1,1,1,1,1,1,1,1,1,1,1,1,1,1,1,1,1,1,1,1,1,1,1,1,1 ],\n",
    "[ 1,0,1,0,0,0,1,1,0,0,1,1,1,1,1,1,1,1,1,1,1,1,1,1,1,1,1,1,1,1,1,1,1,1,1,1,1,1,1,1,1,1,1,1,1,1,1,1,1,1,1,1,1,1,1,1,1,1,1,1,1,1,1,1,1,1,1,1,1,1,1,1,1,1,1,1,1,1,1,1,1,1,1,1,1,1,0,1,1,1,1,0,1,0,1,0,0,0,1,0 ],\n",
    "[ 1,1,0,0,0,0,0,1,0,1,1,1,1,1,1,1,1,1,1,1,1,1,1,1,1,0,1,1,1,1,1,1,0,1,1,1,1,1,1,1,1,1,1,0,1,0,0,1,1,1,1,1,0,1,1,0,0,1,0,1,0,1,0,0,1,0,1,0,0,1,0,0,0,1,0,0,0,1,0,0,0,0,0,0,0,0,0,1,0,0,1,0,1,0,0,0,0,0,0,0 ],\n",
    "[ 0,0,0,1,1,0,1,1,1,0,1,0,1,1,1,1,1,0,1,0,1,1,1,1,1,0,1,1,1,1,1,1,1,1,1,0,1,1,1,1,1,0,1,1,1,1,1,1,1,1,1,1,1,0,1,1,1,1,0,1,1,1,1,1,1,0,1,1,1,1,0,0,1,0,1,1,1,1,0,0,0,1,0,1,0,1,1,0,0,0,1,1,0,0,0,1,0,0,0,1 ],\n",
    "[ 1,0,0,0,0,0,1,0,1,1,1,1,0,1,1,0,1,0,1,1,0,1,0,1,1,1,1,1,1,1,1,1,1,0,1,1,1,1,1,1,1,0,1,1,1,1,1,1,1,1,1,1,1,0,1,1,1,1,0,1,1,0,1,1,1,1,1,1,1,1,1,1,1,1,1,1,1,1,1,1,0,1,0,1,1,1,1,1,1,1,1,1,0,1,1,1,1,1,1,1 ],\n",
    "[ 1,1,0,0,0,0,1,0,1,1,1,1,0,1,1,1,1,1,1,1,1,1,1,1,1,1,1,1,1,1,1,1,1,1,1,1,1,1,1,1,1,1,1,1,1,1,1,1,1,1,1,1,1,1,1,1,1,1,1,1,1,1,1,1,1,1,1,1,1,1,1,1,1,1,1,1,1,1,1,1,0,1,1,1,1,1,1,1,1,1,1,1,1,1,1,1,1,1,1,1 ],\n",
    "[ 0,1,0,1,0,0,0,1,0,1,1,1,1,1,1,1,1,1,1,1,1,1,1,1,1,1,1,0,1,0,1,1,1,1,0,1,1,1,0,1,1,0,1,1,1,0,0,0,1,0,1,0,0,0,0,0,0,0,0,0,0,1,1,1,0,0,0,0,0,0,0,0,1,1,0,1,0,0,1,0,0,0,0,0,0,0,0,0,0,0,0,1,0,0,0,0,0,0,1,1 ],\n",
    "[ 0,1,0,0,0,0,0,0,0,0,0,0,1,0,0,0,0,0,1,0,0,0,0,1,0,1,1,0,1,1,1,1,1,1,1,1,1,1,1,1,0,0,1,0,1,0,0,0,0,0,0,1,0,1,0,0,1,0,0,0,0,0,0,0,0,0,0,0,0,0,0,0,0,0,0,0,0,0,0,0,0,0,1,0,0,0,1,0,0,1,0,0,0,0,0,0,0,0,0,0 ],\n",
    "[ 0,1,0,0,0,0,0,0,0,0,0,0,1,0,0,0,0,0,1,0,0,0,0,1,0,1,1,0,1,1,1,1,1,1,1,1,1,1,1,1,0,0,1,0,1,0,0,0,0,0,0,1,0,1,0,0,1,0,0,0,0,0,0,0,0,0,0,0,0,0,0,0,0,0,0,0,0,0,0,0,0,0,1,0,0,0,1,0,0,1,0,0,0,0,0,0,1,0,0,0 ],\n",
    "[ 1,1,1,1,1,1,0,1,1,1,1,1,1,1,1,1,1,1,1,1,1,1,1,1,1,1,1,1,1,1,1,1,1,1,1,1,1,1,1,1,1,1,1,0,1,1,1,1,1,1,1,1,1,1,1,1,1,1,1,1,1,1,1,1,1,1,1,1,1,1,1,1,1,1,1,1,1,1,1,1,1,1,1,1,1,1,1,1,1,1,1,1,1,1,1,1,1,1,1,1 ],\n",
    "[ 0,1,1,1,1,0,0,0,0,1,0,1,1,1,1,1,1,1,1,0,1,1,1,1,1,1,1,1,1,1,1,1,1,0,1,1,1,1,1,1,1,1,1,1,1,1,1,1,1,1,1,1,1,1,1,1,1,1,1,1,1,1,1,1,1,1,1,1,1,1,1,1,1,1,1,1,1,1,1,1,1,1,1,1,1,1,1,1,1,1,1,1,1,1,1,1,1,1,1,1 ],\n",
    "[ 0,1,0,0,1,0,1,0,0,0,0,0,1,0,0,1,0,0,0,0,0,0,0,0,1,0,0,0,0,0,0,0,0,0,0,0,0,1,0,0,0,1,0,1,0,0,0,0,1,0,0,0,1,0,0,0,0,0,0,1,1,1,0,0,1,1,1,1,0,1,1,1,0,0,1,1,0,0,0,0,1,0,0,0,0,0,0,0,0,1,1,0,1,0,0,0,0,0,0,0 ],\n",
    "[ 1,0,0,0,0,1,0,1,0,0,1,0,1,1,1,1,1,1,1,0,1,1,1,1,1,1,1,0,0,1,1,1,1,1,1,1,0,1,1,0,1,0,0,0,0,1,0,0,0,0,0,0,1,0,0,0,1,0,0,0,1,0,0,0,0,1,0,0,0,1,0,0,0,0,0,0,1,0,0,0,0,0,0,0,0,0,0,0,0,0,1,0,1,0,1,0,0,1,0,0 ],\n",
    "[ 0,1,1,0,0,1,0,1,0,1,1,1,1,1,1,1,1,1,1,0,1,1,1,1,1,1,1,0,0,1,1,1,0,1,1,1,0,1,1,0,1,0,0,1,0,0,0,0,1,1,1,0,0,1,1,0,1,0,0,1,1,0,0,0,1,1,0,0,1,1,1,1,0,1,1,0,1,0,0,0,0,1,1,1,0,1,1,0,0,0,0,0,0,0,1,1,0,1,1,1 ],\n",
    "[ 0,1,0,1,1,1,0,0,1,1,1,1,1,1,1,1,1,1,1,1,1,1,1,1,1,1,1,1,1,1,1,1,1,1,1,1,1,1,1,1,1,0,1,1,1,1,1,1,1,1,1,1,1,1,1,1,1,1,1,1,1,1,1,1,1,1,1,1,1,1,1,1,1,1,1,1,1,1,1,1,1,1,1,1,1,1,1,0,1,1,1,1,1,1,1,1,1,1,1,1 ],\n",
    "[ 0,1,0,1,0,0,0,0,0,0,0,0,1,0,0,0,0,0,1,0,0,1,1,1,1,1,1,1,1,1,1,1,1,1,1,1,1,1,1,1,1,1,1,1,1,1,1,1,0,1,1,1,1,1,1,1,1,1,1,1,1,1,1,1,1,1,1,1,1,1,1,1,1,1,1,1,1,1,1,1,1,1,1,1,1,1,1,1,1,1,1,1,1,1,1,1,1,1,1,1 ],\n",
    "[ 0,1,1,0,0,1,1,0,0,0,1,0,1,0,0,1,1,0,1,0,1,1,1,0,1,1,1,1,1,0,1,1,1,1,1,1,1,1,1,0,1,1,1,1,1,1,1,1,1,1,1,1,1,1,1,1,1,1,1,1,1,1,1,1,1,1,1,1,1,1,1,1,1,1,1,1,1,1,1,1,1,1,1,1,1,1,1,1,1,1,1,1,1,1,1,1,1,1,1,1 ],\n",
    "[ 1,0,0,0,0,0,0,0,1,0,0,1,0,1,1,0,1,0,1,1,1,1,1,1,0,1,1,0,1,1,0,0,1,1,1,1,1,1,1,1,1,1,1,1,1,1,1,1,1,1,1,1,1,1,1,1,1,1,1,1,1,1,1,1,1,1,1,1,1,1,1,1,1,1,1,1,1,1,1,1,1,1,1,1,1,1,1,1,1,1,1,1,1,1,1,1,1,1,1,1 ],\n",
    "[ 0,1,1,0,0,0,1,1,1,1,1,1,1,1,1,1,1,1,1,1,1,1,1,1,1,1,1,1,1,1,1,1,1,1,1,1,1,1,1,1,1,1,1,1,1,1,1,1,1,1,1,1,1,1,1,1,1,1,1,1,1,1,1,1,1,0,1,1,1,1,1,1,1,1,1,1,1,1,1,1,1,1,1,1,1,1,1,1,1,1,1,1,1,1,1,1,1,1,1,1 ],\n",
    "[ 0,1,0,0,0,0,1,1,1,1,0,1,1,1,1,1,1,1,1,1,1,1,1,1,1,1,1,1,1,1,1,1,1,1,1,1,1,1,1,1,1,1,1,1,1,1,1,1,1,0,1,1,1,1,1,1,1,1,1,1,1,1,1,1,1,0,1,1,1,1,1,1,1,1,1,1,1,1,1,1,1,0,1,1,1,1,1,1,1,1,1,0,1,1,1,1,1,1,1,1 ],\n",
    "[ 0,0,0,0,0,0,1,0,0,1,0,0,1,1,1,1,0,0,1,1,1,1,1,1,1,1,1,1,1,1,1,1,1,1,1,1,1,1,1,1,1,1,1,1,1,1,1,1,1,1,1,1,1,1,1,1,1,1,1,1,1,1,1,1,1,0,0,1,1,1,1,1,1,1,1,1,1,1,1,1,1,1,1,1,1,1,1,1,1,1,1,1,1,1,1,1,1,1,1,1 ],\n",
    "[ 0,0,0,0,0,1,1,0,0,0,0,0,1,1,1,1,0,0,1,1,1,1,1,1,1,1,1,1,1,1,1,1,1,1,1,1,1,1,1,1,1,1,1,1,1,1,1,1,1,1,1,1,1,1,1,1,1,1,1,1,1,1,1,1,1,0,0,1,1,1,1,1,1,1,1,1,1,1,1,1,1,1,1,1,1,1,1,1,1,1,1,1,1,1,1,1,1,1,1,1 ],\n",
    "[ 1,1,0,0,0,1,0,0,0,0,0,0,0,0,0,0,0,1,0,0,0,0,0,0,0,0,0,0,0,1,0,0,0,0,0,0,0,1,1,0,0,1,0,1,1,1,1,0,1,1,1,1,1,1,1,1,1,1,1,1,1,1,0,0,1,1,0,1,1,1,1,0,0,1,0,1,0,0,0,0,0,0,0,0,0,0,0,0,0,0,0,0,0,0,0,0,0,0,0,0 ],\n",
    "[ 1,1,0,1,1,0,1,0,0,1,1,1,1,1,1,1,1,1,1,1,1,1,1,1,1,1,1,1,1,1,1,1,1,1,1,1,1,1,1,1,1,1,1,1,1,1,1,1,1,1,0,1,1,1,1,1,1,1,1,1,1,1,1,1,1,1,1,1,1,1,1,1,1,1,1,1,1,1,1,1,1,1,1,1,1,1,1,1,1,1,1,1,1,1,1,1,0,1,1,1 ],\n",
    "[ 1,1,1,1,0,1,0,1,1,1,1,1,1,1,1,1,1,0,1,1,1,1,1,1,1,1,1,1,1,1,1,1,1,1,1,1,1,1,1,1,1,1,1,1,1,1,1,1,1,1,1,1,1,1,1,1,1,1,1,1,1,1,1,1,1,1,1,1,1,1,1,1,1,1,1,1,1,1,1,1,1,1,1,1,1,1,1,1,1,1,1,1,1,1,1,1,1,1,1,1 ],\n",
    "[ 0,0,1,1,0,0,0,0,0,1,0,0,0,0,0,0,0,0,0,1,0,0,0,0,0,1,0,0,0,1,1,1,0,1,1,1,1,1,1,1,1,1,1,1,1,1,1,1,1,1,1,1,1,1,1,1,1,1,1,1,1,1,1,1,1,1,1,1,0,1,1,1,1,1,1,1,1,1,1,1,1,1,1,1,1,1,1,1,1,1,1,1,1,1,1,1,1,1,1,1 ],\n",
    "[ 0,0,0,0,1,0,0,1,1,0,0,1,1,1,1,0,1,1,1,1,1,1,1,1,1,1,1,1,1,1,1,1,1,1,1,1,1,1,1,1,1,1,1,1,1,1,1,1,1,1,1,1,1,1,1,1,1,1,1,1,1,1,1,1,1,1,1,1,1,1,1,1,1,1,1,1,1,0,1,1,1,1,1,1,1,1,1,1,1,1,1,1,1,1,1,1,1,1,1,1 ],\n",
    "[ 0,1,1,1,0,1,1,0,1,1,1,1,1,1,1,1,1,1,1,1,1,1,1,1,1,1,1,1,1,1,1,1,1,1,1,1,1,1,1,1,1,1,1,1,1,1,0,1,1,1,1,1,1,1,1,1,1,1,1,1,1,1,1,1,1,1,1,1,1,1,1,1,1,1,1,0,1,1,1,1,1,1,1,1,1,1,1,1,1,1,1,1,1,1,1,1,1,1,1,1 ],\n",
    "[ 0,0,1,0,0,0,0,1,1,1,1,1,1,1,1,1,1,1,1,1,1,1,1,1,1,1,1,1,1,1,1,1,1,1,1,1,1,1,1,1,1,1,1,1,1,1,1,1,1,1,1,1,1,1,1,1,1,1,1,1,1,1,1,1,1,1,1,1,1,1,1,1,1,1,1,1,1,1,1,1,1,1,1,1,1,1,1,1,1,1,1,1,1,1,1,1,1,1,1,1 ],\n",
    "[ 0,1,0,1,1,0,0,1,0,0,0,0,1,1,1,1,1,1,1,1,1,1,1,1,1,1,1,1,1,1,1,1,1,1,1,1,1,1,1,1,1,1,1,1,1,1,1,1,1,1,1,1,1,1,1,1,1,1,1,1,1,1,1,1,1,1,1,1,1,1,1,1,1,1,1,1,1,0,1,1,1,1,1,1,1,1,1,1,1,1,1,1,1,1,1,1,1,1,1,1 ],\n",
    "[ 0,0,0,1,0,0,1,0,0,0,0,0,0,1,0,0,1,1,1,1,1,1,1,1,1,1,1,1,1,1,1,1,1,1,1,1,1,1,1,1,1,1,1,1,1,1,1,1,1,1,1,1,1,1,1,1,1,1,1,1,1,1,1,1,1,1,1,1,1,1,1,0,1,1,0,1,1,1,1,1,1,1,1,1,1,1,1,1,1,1,1,1,0,1,1,1,1,1,1,1 ],\n",
    "[ 0,0,1,0,0,0,0,0,1,1,0,0,0,1,1,0,0,0,0,1,1,1,1,0,0,1,0,0,1,0,0,1,0,0,0,0,0,0,0,1,0,0,0,0,0,1,0,0,0,1,0,1,0,0,0,0,1,0,0,0,0,1,0,0,0,0,0,0,0,0,0,0,0,1,0,0,0,0,0,0,0,0,0,0,0,0,0,0,0,0,0,0,0,1,0,0,1,1,0,0 ],\n",
    "[ 0,0,0,0,1,1,0,1,1,1,0,0,0,0,0,0,0,0,0,0,1,0,0,0,1,0,1,1,1,1,1,1,1,1,0,1,1,1,0,1,1,1,1,0,1,1,0,0,1,0,1,1,1,0,1,1,1,1,1,0,1,0,0,1,0,0,0,1,0,1,0,0,0,1,0,0,0,0,0,0,0,0,0,0,0,0,0,0,0,0,0,0,0,0,0,0,0,0,0,1 ],\n",
    "[ 0,0,0,0,0,0,0,0,0,0,1,0,1,1,1,1,1,1,1,1,0,1,1,1,1,1,1,1,1,1,1,1,1,1,0,1,1,1,1,1,1,1,1,1,1,1,1,1,1,1,1,1,1,1,1,1,1,1,1,1,1,1,1,1,1,1,1,1,1,1,1,1,1,1,1,1,1,1,1,1,1,1,1,1,1,1,1,1,1,1,1,1,1,1,1,1,1,1,1,1 ],\n",
    "[ 1,1,0,0,1,0,0,1,1,0,1,0,0,0,1,0,1,1,1,1,1,1,1,1,1,1,1,1,1,1,1,1,1,1,1,1,1,1,1,1,1,1,1,1,1,1,1,1,1,1,1,1,1,1,1,1,1,1,1,1,1,1,1,1,1,1,1,1,1,1,1,1,1,1,1,1,1,1,1,1,1,1,1,1,1,1,1,1,1,1,1,1,1,1,1,1,1,1,1,1 ],\n",
    "[ 1,0,1,1,0,1,0,1,0,0,0,0,0,0,0,0,0,0,0,0,0,0,0,0,1,0,0,1,0,1,0,1,1,1,0,1,1,1,1,1,1,1,1,1,1,1,1,1,0,1,1,1,1,0,1,1,1,0,1,1,1,0,0,1,0,0,0,1,0,0,1,0,0,0,0,1,0,0,0,0,0,0,0,0,0,0,0,0,0,0,0,1,1,0,1,0,0,0,0,1 ],\n",
    "[ 1,1,1,1,0,0,1,0,1,1,1,1,1,1,1,1,1,1,1,1,1,1,1,1,1,1,1,1,1,1,1,1,1,1,1,1,1,1,1,1,1,1,1,1,1,1,1,1,1,1,1,1,1,1,1,1,1,1,1,1,1,1,1,1,1,1,1,1,1,1,1,1,1,1,1,1,1,1,1,1,1,1,1,1,1,1,1,1,1,1,1,1,1,0,1,1,1,1,1,1 ],\n",
    "[ 0,1,0,0,0,0,1,0,1,1,0,1,1,1,1,1,1,1,1,1,1,1,1,1,1,1,1,1,1,1,1,1,1,1,1,1,1,1,1,1,1,1,1,1,1,0,1,1,1,1,1,1,1,1,1,1,1,1,1,1,1,1,1,1,1,1,1,1,1,1,1,1,1,1,1,1,1,1,1,1,1,1,1,1,1,1,1,1,1,1,1,1,1,1,1,1,1,1,1,1 ],\n",
    "[ 0,0,1,1,0,0,1,1,0,0,1,1,1,1,1,1,1,1,1,1,1,1,1,1,1,1,1,1,1,1,1,1,1,1,1,1,1,1,1,1,1,1,1,1,1,1,1,1,1,1,1,1,1,1,1,1,1,1,1,1,1,1,1,1,1,1,1,1,1,1,1,1,1,1,0,1,1,1,1,1,1,1,1,1,1,1,1,1,1,1,1,1,1,1,1,1,1,1,1,1 ],\n",
    "[ 0,0,0,0,0,0,0,1,0,0,0,0,0,1,0,1,1,1,1,1,1,1,1,0,1,1,1,1,0,0,1,1,1,0,0,1,0,1,0,0,0,0,0,0,0,1,0,0,0,0,1,0,0,0,1,0,0,0,0,0,0,0,0,0,0,0,0,0,0,0,0,1,0,1,1,0,0,0,1,1,0,0,0,0,1,0,0,0,0,0,0,0,0,0,0,0,0,0,0,0 ],\n",
    "[ 0,0,0,1,1,0,0,1,0,1,0,1,1,1,1,1,1,1,1,1,1,1,1,1,1,1,1,1,1,1,1,1,1,1,1,1,1,1,1,1,1,1,1,1,1,1,1,1,1,1,1,1,1,1,1,1,1,1,1,1,1,1,1,1,1,1,1,1,1,1,1,1,1,1,1,1,1,1,1,1,1,1,1,1,1,1,1,1,1,1,1,1,1,1,1,1,1,1,1,1 ],\n",
    "[ 1,1,1,1,1,0,1,0,1,0,1,1,1,1,1,1,1,1,1,0,0,1,1,1,1,1,1,1,1,1,1,1,1,1,1,1,1,1,1,0,1,1,1,1,1,1,1,1,1,1,1,1,1,1,1,1,1,1,1,1,1,1,1,1,1,1,1,1,1,1,1,1,1,1,1,1,1,1,1,1,1,1,1,1,1,0,1,1,1,1,1,1,1,1,1,1,1,1,1,1 ],\n",
    "[ 1,0,0,1,0,0,0,0,1,0,0,0,0,0,0,0,1,0,1,0,1,1,1,1,1,1,0,1,1,1,1,1,1,1,1,1,1,1,1,1,1,1,1,1,1,1,1,1,1,1,1,1,1,1,1,1,1,1,1,1,1,1,1,1,1,1,1,1,1,1,1,1,1,1,1,1,1,1,1,1,1,1,1,1,1,1,1,1,1,1,1,1,1,1,1,1,1,1,1,1 ],\n",
    "[ 0,1,0,1,1,0,0,0,0,1,0,1,1,1,1,1,1,1,1,1,1,1,1,1,1,1,1,1,1,1,1,1,1,1,1,1,1,1,1,1,1,1,1,1,1,1,1,1,1,1,1,1,1,1,1,1,1,1,1,0,1,1,1,1,1,1,1,1,1,1,1,1,1,1,1,1,1,1,1,1,1,1,1,1,1,1,1,1,1,1,1,1,1,1,1,1,1,1,1,1 ],\n",
    "[ 1,0,1,0,1,1,1,1,1,1,1,1,1,1,1,1,1,1,1,1,1,1,1,1,0,1,1,1,1,1,1,1,1,1,1,1,1,1,1,1,1,1,1,1,1,1,1,1,1,1,1,1,1,1,1,1,1,1,1,1,1,1,1,1,1,1,1,1,1,1,1,1,1,1,1,1,1,1,1,1,1,1,1,1,1,1,1,1,1,1,1,1,1,1,1,0,1,1,1,1 ],\n",
    "[ 1,0,1,0,1,0,1,0,0,1,0,1,1,1,1,1,1,1,1,1,1,1,1,1,1,1,1,1,1,1,1,1,1,1,1,1,1,1,1,1,1,1,1,1,1,1,1,1,1,1,1,1,1,1,1,1,1,1,1,1,1,1,1,1,1,1,1,1,1,1,1,1,1,1,1,1,1,1,1,1,1,1,1,1,1,1,1,1,1,1,1,1,1,1,1,1,1,1,1,1 ],\n",
    "[ 0,1,1,0,0,1,1,0,0,0,1,1,1,1,1,0,1,1,1,1,1,1,1,1,1,1,1,1,1,1,1,1,1,1,1,1,1,1,1,1,1,1,0,1,1,1,1,1,1,1,1,1,1,1,1,1,1,1,1,1,1,1,1,1,1,1,1,1,1,1,1,1,1,1,1,1,1,1,1,1,1,1,1,1,1,1,1,1,1,1,1,1,1,1,1,1,1,1,1,1 ] ])"
   ]
  },
  {
   "cell_type": "code",
   "execution_count": null,
   "metadata": {
    "colab": {
     "base_uri": "https://localhost:8080/",
     "height": 468
    },
    "executionInfo": {
     "elapsed": 784,
     "status": "ok",
     "timestamp": 1717210367452,
     "user": {
      "displayName": "Leila Wehbe",
      "userId": "11453012797362280188"
     },
     "user_tz": 240
    },
    "id": "Tx7X88KVJE14",
    "outputId": "60000c86-23d6-4ca9-a6a6-4573a06a2774"
   },
   "outputs": [],
   "source": [
    "normalize = mcolors.Normalize(vmin=0, vmax=11)\n",
    "colormap = cm.jet\n",
    "\n",
    "print(Trials.shape)\n",
    "\n",
    "for i in np.arange(0,100,25):\n",
    "    plt.plot(Trials[i:i+25].mean(0), color = colormap(normalize(i/10)),\n",
    "             label = 'p_L = {:.2f} - {:.2f}'.format(i*0.01,(i+25)*0.01))\n",
    "plt.legend()"
   ]
  },
  {
   "cell_type": "markdown",
   "metadata": {
    "execution": {},
    "id": "EDqJ_3gvh-5i"
   },
   "source": [
    "### Uncorrelated vs. correlated settings, seen through cumulative regret\n",
    "In the paper, the average cumulative regret (defined above) of the meta-RL agent under the independent bandit and the correlated bandits contexts is computed over 300 episodes for the setting $p_L =0.25$ and $p_R = 0.75$ (see figure E). It is compared to the cumulative regret for three common algorithms (Gittin indices, Thompson sampling and UCB, also discussed above).\n"
   ]
  },
  {
   "cell_type": "markdown",
   "metadata": {
    "cellView": "form",
    "colab": {
     "base_uri": "https://localhost:8080/",
     "height": 541
    },
    "executionInfo": {
     "elapsed": 13,
     "status": "ok",
     "timestamp": 1717168550287,
     "user": {
      "displayName": "Leila Wehbe",
      "userId": "11453012797362280188"
     },
     "user_tz": 240
    },
    "id": "0qQ5GIY_h-5j",
    "outputId": "42912607-bb76-4935-8d33-31265d0c3c26",
    "tags": [
     "hide-input"
    ]
   },
   "source": [
    "<img src=\"https://github.com/neuromatch/NeuroAI_Course/blob/main/tutorials/W1D1_Generalization/static/cummulative_regret.png?raw=true\" width=600 />"
   ]
  },
  {
   "cell_type": "markdown",
   "metadata": {
    "execution": {},
    "id": "4ZqiYgVGh-5j"
   },
   "source": [
    "*Figure E - Cumulative Regret tested on a probability setting of 0.25, 0.75. Adapted from Figure 1 of Wang et al.*\n",
    "\n",
    "Notice that the meta-RL agent trained in the correlated bandit context is able to capitalize on the information present in successive episodes and obtain a better performance than the one trained in the independent bandit context, matching the optimal performance of the Gittins indices algorithm. Both meta-RL algorithms perform better than the Thompson sampling and UCB algorithms."
   ]
  },
  {
   "cell_type": "markdown",
   "metadata": {
    "execution": {},
    "id": "Tjtcay-1h-5j"
   },
   "source": [
    "### The learned model dynamics implement an RL algorithm\n",
    "\n",
    "We explore here in more depth how the activations in the LSTM implement the RL algorithm, by visualizing the top principal components (PCs) projections of the internal states of the LSTM during the different trials of an episode. Specifically, we look at the meta-RL agent trained in the correlated bandit setting (Figure F)."
   ]
  },
  {
   "cell_type": "markdown",
   "metadata": {
    "cellView": "form",
    "colab": {
     "base_uri": "https://localhost:8080/",
     "height": 249
    },
    "executionInfo": {
     "elapsed": 12,
     "status": "ok",
     "timestamp": 1717168550288,
     "user": {
      "displayName": "Leila Wehbe",
      "userId": "11453012797362280188"
     },
     "user_tz": 240
    },
    "id": "IGm8DYz6h-5k",
    "outputId": "d6a3a841-b690-4ec3-b8aa-5d0456465a37",
    "tags": [
     "hide-input"
    ]
   },
   "source": [
    "<img src=\"https://github.com/neuromatch/NeuroAI_Course/blob/main/tutorials/W1D1_Generalization/static/evolution.png?raw=true\" width=600 />"
   ]
  },
  {
   "cell_type": "markdown",
   "metadata": {
    "execution": {},
    "id": "SrvYq0PBh-5k"
   },
   "source": [
    "*Figure F - Evolution of model activations during different episodes. Adapted from Figure 1 of Wang et al. Each subfigure is a different episode, with the arm probabilities shown at the top. The activations at the 100 trials of an episode are projected to their top two PCs and scatterplotted using an asterix when the action decided by the model is left and a triangle when the action is right. The color indicates the number of a trial.  Adapted from Figure 1 of Wang et al.*\n",
    "\n",
    "### Discussion point 4\n",
    "In Figure F, the PCs of the model activations are obtained and the 100 trials in four episodes with specific probabilities are shown, projected onto PC1 and PC2. Observe the different patterns:\n",
    "- Which two episodes show a fast convergence to an optimal action? How does this manifest?\n",
    "- In the other two episodes, describe the trajectory of the activations, does the model change its estimation of the optimal arm? What leads to this change?\n",
    "- What does the PC1 dimension appear to represent?\n"
   ]
  },
  {
   "cell_type": "markdown",
   "metadata": {
    "execution": {},
    "id": "jFL9qTumh-5k"
   },
   "source": [
    "### A hint\n",
    "\n",
    "The adaptation to fast-changing latent variables, as described in the changes in activation patterns over trials, shows the algorithm's capability to adjust its internal representations based on the feedback from the environment.\n",
    "\n",
    "- The first and last episode show a very fast convergence towards the optimal arm. The trajectory is very fast towards one or the other side of the PC space.\n",
    "\n",
    "- In the middle two episodes, it takes longer to converge (they also correspond to more difficult settings). The model actually first decide on left, but then after sampling a right action, end up converging on right.\n",
    "\n",
    "- The first PC appears to correspond to the certainty of the algorithm about the optimal arm (low PC value = left arm, high PC value = right arm).\n"
   ]
  }
 ],
 "metadata": {
  "colab": {
   "provenance": []
  },
  "kernel": {
   "display_name": "Python 3",
   "language": "python",
   "name": "python3"
  },
  "kernelspec": {
   "display_name": "Python 3 (ipykernel)",
   "language": "python",
   "name": "python3"
  },
  "language_info": {
   "codemirror_mode": {
    "name": "ipython",
    "version": 3
   },
   "file_extension": ".py",
   "mimetype": "text/x-python",
   "name": "python",
   "nbconvert_exporter": "python",
   "pygments_lexer": "ipython3",
   "version": "3.9.19"
  },
  "widgets": {
   "application/vnd.jupyter.widget-state+json": {
    "a23b0d97fb7043e9800692965e793544": {
     "model_module": "@jupyter-widgets/output",
     "model_module_version": "1.0.0",
     "model_name": "OutputModel",
     "state": {
      "_dom_classes": [],
      "_model_module": "@jupyter-widgets/output",
      "_model_module_version": "1.0.0",
      "_model_name": "OutputModel",
      "_view_count": null,
      "_view_module": "@jupyter-widgets/output",
      "_view_module_version": "1.0.0",
      "_view_name": "OutputView",
      "layout": "IPY_MODEL_af663948b46c47c4b23fe3290ce25a01",
      "msg_id": "",
      "outputs": [
       {
        "name": "stdout",
        "output_type": "stream",
        "text": [
         "Video available at https://youtube.com/watch?v=BOGX0KvpnEU\n"
        ]
       },
       {
        "data": {
         "image/jpeg": "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\n",
         "text/html": "\n        <iframe\n            width=\"730\"\n            height=\"410\"\n            src=\"https://www.youtube.com/embed/BOGX0KvpnEU?fs=1&rel=0\"\n            frameborder=\"0\"\n            allowfullscreen\n            \n        ></iframe>\n        ",
         "text/plain": "<IPython.lib.display.YouTubeVideo at 0x7dd65831fc40>"
        },
        "metadata": {},
        "output_type": "display_data"
       }
      ]
     }
    },
    "ab9ac993a43a400aa0fdf7de57857364": {
     "model_module": "@jupyter-widgets/base",
     "model_module_version": "1.2.0",
     "model_name": "LayoutModel",
     "state": {
      "_model_module": "@jupyter-widgets/base",
      "_model_module_version": "1.2.0",
      "_model_name": "LayoutModel",
      "_view_count": null,
      "_view_module": "@jupyter-widgets/base",
      "_view_module_version": "1.2.0",
      "_view_name": "LayoutView",
      "align_content": null,
      "align_items": null,
      "align_self": null,
      "border": null,
      "bottom": null,
      "display": null,
      "flex": null,
      "flex_flow": null,
      "grid_area": null,
      "grid_auto_columns": null,
      "grid_auto_flow": null,
      "grid_auto_rows": null,
      "grid_column": null,
      "grid_gap": null,
      "grid_row": null,
      "grid_template_areas": null,
      "grid_template_columns": null,
      "grid_template_rows": null,
      "height": null,
      "justify_content": null,
      "justify_items": null,
      "left": null,
      "margin": null,
      "max_height": null,
      "max_width": null,
      "min_height": null,
      "min_width": null,
      "object_fit": null,
      "object_position": null,
      "order": null,
      "overflow": null,
      "overflow_x": null,
      "overflow_y": null,
      "padding": null,
      "right": null,
      "top": null,
      "visibility": null,
      "width": null
     }
    },
    "af663948b46c47c4b23fe3290ce25a01": {
     "model_module": "@jupyter-widgets/base",
     "model_module_version": "1.2.0",
     "model_name": "LayoutModel",
     "state": {
      "_model_module": "@jupyter-widgets/base",
      "_model_module_version": "1.2.0",
      "_model_name": "LayoutModel",
      "_view_count": null,
      "_view_module": "@jupyter-widgets/base",
      "_view_module_version": "1.2.0",
      "_view_name": "LayoutView",
      "align_content": null,
      "align_items": null,
      "align_self": null,
      "border": null,
      "bottom": null,
      "display": null,
      "flex": null,
      "flex_flow": null,
      "grid_area": null,
      "grid_auto_columns": null,
      "grid_auto_flow": null,
      "grid_auto_rows": null,
      "grid_column": null,
      "grid_gap": null,
      "grid_row": null,
      "grid_template_areas": null,
      "grid_template_columns": null,
      "grid_template_rows": null,
      "height": null,
      "justify_content": null,
      "justify_items": null,
      "left": null,
      "margin": null,
      "max_height": null,
      "max_width": null,
      "min_height": null,
      "min_width": null,
      "object_fit": null,
      "object_position": null,
      "order": null,
      "overflow": null,
      "overflow_x": null,
      "overflow_y": null,
      "padding": null,
      "right": null,
      "top": null,
      "visibility": null,
      "width": null
     }
    },
    "b167b365d00a4ce68ec97566610119ac": {
     "model_module": "@jupyter-widgets/base",
     "model_module_version": "1.2.0",
     "model_name": "LayoutModel",
     "state": {
      "_model_module": "@jupyter-widgets/base",
      "_model_module_version": "1.2.0",
      "_model_name": "LayoutModel",
      "_view_count": null,
      "_view_module": "@jupyter-widgets/base",
      "_view_module_version": "1.2.0",
      "_view_name": "LayoutView",
      "align_content": null,
      "align_items": null,
      "align_self": null,
      "border": null,
      "bottom": null,
      "display": null,
      "flex": null,
      "flex_flow": null,
      "grid_area": null,
      "grid_auto_columns": null,
      "grid_auto_flow": null,
      "grid_auto_rows": null,
      "grid_column": null,
      "grid_gap": null,
      "grid_row": null,
      "grid_template_areas": null,
      "grid_template_columns": null,
      "grid_template_rows": null,
      "height": null,
      "justify_content": null,
      "justify_items": null,
      "left": null,
      "margin": null,
      "max_height": null,
      "max_width": null,
      "min_height": null,
      "min_width": null,
      "object_fit": null,
      "object_position": null,
      "order": null,
      "overflow": null,
      "overflow_x": null,
      "overflow_y": null,
      "padding": null,
      "right": null,
      "top": null,
      "visibility": null,
      "width": null
     }
    },
    "bf67094392ca499bbedc014f75f842e9": {
     "model_module": "@jupyter-widgets/output",
     "model_module_version": "1.0.0",
     "model_name": "OutputModel",
     "state": {
      "_dom_classes": [],
      "_model_module": "@jupyter-widgets/output",
      "_model_module_version": "1.0.0",
      "_model_name": "OutputModel",
      "_view_count": null,
      "_view_module": "@jupyter-widgets/output",
      "_view_module_version": "1.0.0",
      "_view_name": "OutputView",
      "layout": "IPY_MODEL_b167b365d00a4ce68ec97566610119ac",
      "msg_id": "",
      "outputs": [
       {
        "name": "stdout",
        "output_type": "stream",
        "text": [
         "If you want to download the slides: https://osf.io/download//\n"
        ]
       },
       {
        "data": {
         "text/html": "\n        <iframe\n            width=\"730\"\n            height=\"410\"\n            src=\"https://mfr.ca-1.osf.io/render?url=https://osf.io//?direct%26mode=render%26action=download%26mode=render\"\n            frameborder=\"0\"\n            allowfullscreen\n            \n        ></iframe>\n        ",
         "text/plain": "<IPython.lib.display.IFrame at 0x7e279a439a80>"
        },
        "metadata": {},
        "output_type": "display_data"
       }
      ]
     }
    },
    "c768d2cf2abc45a49c5d6ee2ccaa4f9a": {
     "model_module": "@jupyter-widgets/controls",
     "model_module_version": "1.5.0",
     "model_name": "TabModel",
     "state": {
      "_dom_classes": [],
      "_model_module": "@jupyter-widgets/controls",
      "_model_module_version": "1.5.0",
      "_model_name": "TabModel",
      "_titles": {
       "0": "Youtube"
      },
      "_view_count": null,
      "_view_module": "@jupyter-widgets/controls",
      "_view_module_version": "1.5.0",
      "_view_name": "TabView",
      "box_style": "",
      "children": [
       "IPY_MODEL_a23b0d97fb7043e9800692965e793544"
      ],
      "layout": "IPY_MODEL_ab9ac993a43a400aa0fdf7de57857364",
      "selected_index": 0
     }
    }
   }
  }
 },
 "nbformat": 4,
 "nbformat_minor": 4
}
