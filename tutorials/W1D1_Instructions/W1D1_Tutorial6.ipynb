{
 "cells": [
  {
   "cell_type": "markdown",
   "id": "5e4db6b4",
   "metadata": {},
   "source": [
    "<a href=\"https://colab.research.google.com/github/neuromatch/course-content-template/blob/main/tutorials/W1D1_Template/W1D1_Tutorial6.ipynb\" target=\"_parent\"><img src=\"https://colab.research.google.com/assets/colab-badge.svg\" alt=\"Open In Colab\"/></a> &nbsp; <a href=\"https://kaggle.com/kernels/welcome?src=https://raw.githubusercontent.com/neuromatch/course-content-template/main/tutorials/W1D1_Template/W1D1_Tutorial6.ipynb\" target=\"_parent\"><img src=\"https://kaggle.com/static/images/open-in-kaggle.svg\" alt=\"Open in Kaggle\"/></a>"
   ]
  },
  {
   "cell_type": "markdown",
   "id": "7b2d8f4e",
   "metadata": {},
   "source": [
    "# Tutorial 6: Professional Developments\n",
    "\n",
    "**Week 1, Day 1: Instructions**\n",
    "\n",
    "**By Neuromatch**\n",
    "\n",
    "__Content creators:__ Viviana Greco\n",
    "\n",
    "__Content reviewers:__ Konstantine Tsafatinos\n",
    "\n",
    "__Production editors:__ Konstantine Tsafatinos\n",
    "\n",
    "<br>\n",
    "\n",
    "Acknowledgments: [Climatematch]"
   ]
  },
  {
   "cell_type": "markdown",
   "id": "59bcefaf",
   "metadata": {},
   "source": [
    "___\n",
    "\n",
    "## Tutorial Objectives\n",
    "\n",
    "*Estimated timing of tutorial: [15 mins]*\n",
    "\n",
    "In this tutorial, you will learn how to build the professional development section and updating the repository with your new content.\n",
    "\n",
    "\n",
    "You will: \n",
    "\n",
    "- learn where the professional development folder live\n",
    "- learn how to update the *prof_dev_materials.yml* to reflect the newly created notebook.\n",
    "\n",
    "It is recommended that you read through all of tutorials 1 through 4 as this tutorial builds upon that knowledge."
   ]
  },
  {
   "cell_type": "markdown",
   "id": "160dd339",
   "metadata": {},
   "source": [
    "---\n",
    "\n",
    "## Section 1: Folder Structure\n",
    "\n",
    "In the projects directory, you will find a subdirectory named professional_development (located at projects/professional_development). This subdirectory contains the following six files:\n",
    "\n",
    "- README.md\n",
    "- career_features.md\n",
    "- career_panels.md\n",
    "- mentors.md\n",
    "- prof_dev_material.yml\n",
    "- impact_talks.ipynb\n",
    "\n",
    "We have included examples from our Computational Tools for Climate Science course. Please feel free to use them as a template and edit them to your needs."
   ]
  },
  {
   "cell_type": "markdown",
   "id": "eef90582",
   "metadata": {},
   "source": [
    "---\n",
    "\n",
    "## Section 2: Add Content to the prof_dev_material.yml File\n",
    "\n",
    "The prof_dev_material.yml File is used in our scripts to help populate the book section \"Professional Development\" and create a table of contents. \n",
    "\n",
    "Ensure that the names of the six files listed above exactly match those specified in the prof_dev_material.yml file. This precise naming is necessary for the scripts to correctly identify and incorporate these files into the book.\n",
    "\n",
    "For guidance on the required file structure and naming, refer to the prof_dev_material.yml file within this template notebook. This file demonstrates the necessary layout and order for the content, which is essential for successfully build the \"Professional Development\" section of the book."
   ]
  },
  {
   "cell_type": "markdown",
   "id": "e7ec2499",
   "metadata": {},
   "source": [
    "---\n",
    "# Summary\n",
    "\n",
    "Congrats! You now know:\n",
    "\n",
    "1. where the professional development folder live\n",
    "2. how to update the *prof_dev_materials.yml* \n",
    "\n",
    "Happy content creating!"
   ]
  }
 ],
 "metadata": {
  "kernelspec": {
   "display_name": "Python 3 (ipykernel)",
   "language": "python",
   "name": "python3"
  },
  "language_info": {
   "codemirror_mode": {
    "name": "ipython",
    "version": 3
   },
   "file_extension": ".py",
   "mimetype": "text/x-python",
   "name": "python",
   "nbconvert_exporter": "python",
   "pygments_lexer": "ipython3",
   "version": "3.10.9"
  }
 },
 "nbformat": 4,
 "nbformat_minor": 5
}
