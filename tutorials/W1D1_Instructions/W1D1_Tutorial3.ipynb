{
 "cells": [
  {
   "cell_type": "markdown",
   "id": "2a21efb9",
   "metadata": {},
   "source": [
    "<a href=\"https://colab.research.google.com/github/neuromatch/course-content-template/blob/main/tutorials/W1D1_Template/W1D1_Tutorial3.ipynb\" target=\"_parent\"><img src=\"https://colab.research.google.com/assets/colab-badge.svg\" alt=\"Open In Colab\"/></a> &nbsp; <a href=\"https://kaggle.com/kernels/welcome?src=https://raw.githubusercontent.com/neuromatch/course-content-template/main/tutorials/W1D1_Template/W1D1_Tutorial3.ipynb\" target=\"_parent\"><img src=\"https://kaggle.com/static/images/open-in-kaggle.svg\" alt=\"Open in Kaggle\"/></a>"
   ]
  },
  {
   "cell_type": "markdown",
   "id": "e79e6195",
   "metadata": {},
   "source": [
    "# Tutorial 3: Content Enhancements\n",
    "\n",
    "**Week 1, Day 1: Instructions**\n",
    "\n",
    "**By Neuromatch**\n",
    "\n",
    "__Content creators:__ Konstantine Tsafatinos\n",
    "\n",
    "__Content reviewers:__ Konstantine Tsafatinos\n",
    "\n",
    "__Production editors:__ Konstantine Tsafatinos\n",
    "\n",
    "<br>\n",
    "\n",
    "Acknowledgments: [Ella Batty, Spiros Chavlis and neuromatch]"
   ]
  },
  {
   "cell_type": "markdown",
   "id": "2e1685a5",
   "metadata": {},
   "source": [
    "___\n",
    "\n",
    "# Tutorial Objectives\n",
    "\n",
    "*Estimated timing of tutorial: [15 mins]*\n",
    "\n",
    "In this tutorial, we'll dive into enhancing your content by integrating various media and interactive elements.\n",
    "\n",
    "By the end of this tutorial, you will:\n",
    "\n",
    "- learn how to add Airtable links\n",
    "- learn how to embed videos \n",
    "- learn how to integrate Kaggle/Collab Buttons"
   ]
  },
  {
   "cell_type": "markdown",
   "id": "6e6328a8",
   "metadata": {},
   "source": [
    "---\n",
    "\n",
    "# Section 1: How to add Airtable links\n",
    " "
   ]
  },
  {
   "cell_type": "markdown",
   "id": "29492952",
   "metadata": {},
   "source": [
    "Airtable links should be added at the end of the OUTRO page of each tutorial."
   ]
  },
  {
   "cell_type": "markdown",
   "id": "599e8aa1",
   "metadata": {},
   "source": [
    "Steps:"
   ]
  },
  {
   "cell_type": "markdown",
   "id": "d99d752c",
   "metadata": {},
   "source": [
    "1. Request the Airtable Link\n",
    "2. Add Image button\n",
    "3. Embed and test the button"
   ]
  },
  {
   "cell_type": "markdown",
   "id": "60cc05b6",
   "metadata": {},
   "source": [
    "**Request the Airtable Link**\n",
    "\n",
    "\n",
    "Reach Out to Neuromatch Staff: Request the specific Airtable link for the day. You will receive a link that resembles:\n",
    "https://portal.neuromatchacademy.org/api/redirect/to/48f385bc-3cd4-4516-96bb-46bdbdccbe9a"
   ]
  },
  {
   "cell_type": "markdown",
   "id": "a1e320ad",
   "metadata": {},
   "source": [
    "**Add the Image Button**\n",
    "\n",
    "The button image is stored in the \"static\" folder within \"tutorials\" and is named \"AirtableSubmissionButton.png\". You can access it on GitHub using this URL:\n",
    "\n",
    "https://github.com/NeuromatchAcademy/course-content/blob/main/tutorials/static/button.png?raw=1\n",
    "\n",
    "**Note:** Please refrain from altering this image."
   ]
  },
  {
   "cell_type": "markdown",
   "id": "e3643ebf",
   "metadata": {},
   "source": [
    "**Embed the image button into your markdown cells**\n",
    "\n",
    "Insert the following HTML code to add the image button:\n",
    "\n",
    "```\n",
    "<a href=\"YOUR_AIRTABLE_LINK_HERE\">\n",
    "    <img src=\"https://github.com/your_org_name/your_repo_name/blob/main/tutorials/static/button.png?raw=1\" alt=\"button link to survey\" style=\"width:410px\">\n",
    "</a>\n",
    "```\n",
    "\n",
    "Replace YOUR_AIRTABLE_LINK_HERE with the link provided by Neuromatch staff.\n",
    "\n",
    "Ex:\n",
    "\n",
    "```\n",
    "<a href=\"https://portal.neuromatchacademy.org/api/redirect/to/48f385bc-3cd4-4516-96bb-46bdbdccbe9a\">\n",
    "    <img src=\"https://github.com/your_org_name/your_repo_name/blob/main/tutorials/static/button.png?raw=1\" alt=\"button link to survey\" style=\"width:410px\">\n",
    "</a>\n",
    "```\n",
    "\n",
    "After embedding the button click on it to ensure it redirects correctly to the Airtable survey."
   ]
  },
  {
   "cell_type": "markdown",
   "id": "7c033e9a",
   "metadata": {},
   "source": [
    "---\n",
    "\n",
    "# Section 2: How to embed videos\n",
    " "
   ]
  },
  {
   "cell_type": "markdown",
   "id": "c2b8ab03",
   "metadata": {},
   "source": [
    "When adding videos to your content, please follow the guidelines outlined below:"
   ]
  },
  {
   "cell_type": "markdown",
   "id": "4e21b25d",
   "metadata": {},
   "source": [
    "1. Utilize the Provided Code: Use the code template provided below. A few important notes about the code:\n",
    "\n",
    "- **PlayVideo Class & display_videos Function:** Avoid making modifications to the PlayVideo class or the display_videos function. \n",
    "<br><br>        \n",
    "2. Update the **video_ids** List: Your main focus should be on modifying the video_ids list. Here, you specify the video platform and the corresponding video ID:\n",
    "\n",
    "- **Youtube** Videos: Adopt the format ('Youtube', '\\<video_id>'). The \\<video_id> can be found in the video's Youtube URL. For example, in the URL https://www.youtube.com/watch?v=KUdKlJxtjQw, the video ID is KUdKlJxtjQw. <br><br>\n",
    "\n",
    "\n",
    "- **Bilibili** Videos: Use the format ('Bilibili', '\\<bvid>'). The \\<bvid> represents Bilibili's unique ID for that video. <br><br>\n",
    "\n",
    "- **OSF** Videos: The format is ('Osf', '\\<osf_video_id>').<br><br>\n",
    "\n",
    "3. Run the Code: After updating the video_ids list, execute the entire code block to display the videos within your notebook. <br><br>\n",
    "\n",
    "\n",
    "4. Instructions on how to upload video to these platform can be found [here](https://neuromatch.slite.com/app/channels/g2mc8TY_Sk-ush)"
   ]
  },
  {
   "cell_type": "code",
   "execution_count": null,
   "id": "5467f4b0",
   "metadata": {},
   "outputs": [],
   "source": [
    "# @markdown\n",
    "\n",
    "from ipywidgets import widgets\n",
    "from IPython.display import YouTubeVideo\n",
    "from IPython.display import IFrame\n",
    "from IPython.display import display\n",
    "\n",
    "\n",
    "class PlayVideo(IFrame):\n",
    "  def __init__(self, id, source, page=1, width=400, height=300, **kwargs):\n",
    "    self.id = id\n",
    "    if source == 'Bilibili':\n",
    "      src = f'https://player.bilibili.com/player.html?bvid={id}&page={page}'\n",
    "    elif source == 'Osf':\n",
    "      src = f'https://mfr.ca-1.osf.io/render?url=https://osf.io/download/{id}/?direct%26mode=render'\n",
    "    super(PlayVideo, self).__init__(src, width, height, **kwargs)\n",
    "\n",
    "\n",
    "def display_videos(video_ids, W=400, H=300, fs=1):\n",
    "  tab_contents = []\n",
    "  for i, video_id in enumerate(video_ids):\n",
    "    out = widgets.Output()\n",
    "    with out:\n",
    "      if video_ids[i][0] == 'Youtube':\n",
    "        video = YouTubeVideo(id=video_ids[i][1], width=W,\n",
    "                             height=H, fs=fs, rel=0)\n",
    "        print(f'Video available at https://youtube.com/watch?v={video.id}')\n",
    "      else:\n",
    "        video = PlayVideo(id=video_ids[i][1], source=video_ids[i][0], width=W,\n",
    "                          height=H, fs=fs, autoplay=False)\n",
    "        if video_ids[i][0] == 'Bilibili':\n",
    "          print(f'Video available at https://www.bilibili.com/video/{video.id}')\n",
    "        elif video_ids[i][0] == 'Osf':\n",
    "          print(f'Video available at https://osf.io/{video.id}')\n",
    "      display(video)\n",
    "    tab_contents.append(out)\n",
    "  return tab_contents\n",
    "\n",
    "\n",
    "video_ids = [('Youtube', '<video_id_1>'), ('Bilibili', '<video_id_2>'), ('Osf', '<video_id_3>')]\n",
    "tab_contents = display_videos(video_ids, W=854, H=480)\n",
    "tabs = widgets.Tab()\n",
    "tabs.children = tab_contents\n",
    "for i in range(len(tab_contents)):\n",
    "  tabs.set_title(i, video_ids[i][0])\n",
    "display(tabs)"
   ]
  },
  {
   "cell_type": "markdown",
   "id": "fb863895",
   "metadata": {},
   "source": [
    "## Section 2.1: Tag at the top of the video code cell \n",
    "\n",
    "In the W#D#_Intro.ipynb and W#D#_Outro.ipynb, use **# @markdown** at the top of the video code cell. \n",
    "\n",
    "In the W#D#_Tutorial# use **# @title Video \\<number of the video in the current tutorial>: Title of the video**"
   ]
  },
  {
   "cell_type": "markdown",
   "id": "5f427f95",
   "metadata": {},
   "source": [
    "## Section 2.2: Add video links in the material.yml file\n",
    "\n",
    "When you add or modify videos in the Jupyter Notebook, it's also essential to keep the materials.yml file up-to-date. Here's how to do it: Remember that the main structure for this File has been already explaineed in W1D1_Tutorial2, Section 4. \n",
    "\n",
    "```\n",
    "- day: W1D1\n",
    "  category: Course Content Template Instructions \n",
    "  \n",
    "  # Replace with the Youtube video link from W#D#_Intro.ipynb. Example:\n",
    "  intro: https://www.youtube.com/watch?v=KxldhMR5PxA \n",
    "  \n",
    "  # Replace with the Bilibili video link from W#D#_Intro.ipynb. Example:\n",
    "  intro_bilibili: https://www.bilibili.com/video/BV1HT4y1E7U4/\n",
    "  \n",
    "  name: Instructions           \n",
    "  \n",
    "  # Replace with the Youtube video link from W#D#_Outro.ipynb. Example:\n",
    "  outro:  https://www.youtube.com/watch?v=KZQXfQL1SH4\n",
    "  \n",
    "  # Replace with the Bilibili video link from W#D#_Outro.ipynb. Example:\n",
    "  outro_bilibili: https://www.bilibili.com/video/BV1vv411i7SG/\n",
    "  \n",
    "  # Replace with the Youtube playlist link. Example:\n",
    "  playlist: https://www.youtube.com/playlist?list=PLkBQOLLbi18ObAiSOZ42YBwOQIKNvspeI\n",
    "```  "
   ]
  },
  {
   "cell_type": "markdown",
   "id": "65ad3198",
   "metadata": {},
   "source": [
    "---\n",
    "\n",
    "# Section 3: Add and test buttons for Kaggle/Colab"
   ]
  },
  {
   "cell_type": "markdown",
   "id": "485fa49c",
   "metadata": {},
   "source": [
    "**COLAB** \n",
    "\n",
    "\n",
    "STEP 1: The URL structure for Google Colab links that point to GitHub repositories is:\n",
    "https://colab.research.google.com/github/[USERNAME]/[REPOSITORY]/blob/[BRANCH]/[PATH_TO_NOTEBOOK].ipynb\n",
    "\n",
    "Replace:\n",
    "- [USERNAME] with the GitHub organization name ⟶ ask Konstantine if in the future this will be Neuromatch or Neuromatch Academy.\n",
    "- [REPOSITORY] with the name of the GitHub repository.\n",
    "- [BRANCH] with the name of the branch.\n",
    "- [PATH_TO_NOTEBOOK].ipynb with the relative path to the notebook in the repository.\n",
    "\n",
    "\n",
    "STEP 2: Embed the Button in Jupyter Book\n",
    "Use the following HTML to add the Google Colab button:\n",
    "```\n",
    "<a href=\"YOUR_GENERATED_LINK_HERE\" target=\"_parent\">     <img src=\"https://colab.research.google.com/assets/colab-badge.svg\" alt=\"Open In Colab\"/></a>\n",
    "```\n",
    "\n",
    "Replace YOUR_GENERATED_LINK_HERE with the link you generated in step 1.\n",
    "\n",
    "\n",
    "**KAGGLE**\n",
    "\n",
    "\n",
    "STEP 1:  The URL structure to open notebooks in Kaggle from a GitHub repository is:\n",
    "https://kaggle.com/kernels/welcome?src=https://raw.githubusercontent.com/[USERNAME]/[REPOSITORY]/[BRANCH]/[PATH_TO_NOTEBOOK].ipynb\n",
    "\n",
    "Replace:\n",
    "- [USERNAME] with the GitHub organization name.\n",
    "- [REPOSITORY] with the name of the GitHub repository.\n",
    "- [BRANCH] with the name of the branch.\n",
    "- [PATH_TO_NOTEBOOK].ipynb with the relative path to the notebook in your repository.\n",
    "\n",
    "\n",
    "STEP 2: Embed the Button in Jupyter Book\n",
    "\n",
    "Use the following HTML to add the Kaggle  button:\n",
    "```\n",
    "<a href=\"YOUR_GENERATED_LINK_HERE\" target=\"_parent\">     <img src=\"https://kaggle.com/static/images/open-in-kaggle.svg\" alt=\"Open in Kaggle\"/></a>\n",
    "```\n",
    "\n",
    "Replace YOUR_GENERATED_LINK_HERE with the link you generated in step 1."
   ]
  },
  {
   "cell_type": "markdown",
   "id": "3d9cdb65",
   "metadata": {},
   "source": [
    "Test the Button for both Colab and Kaggle:\n",
    "\n",
    "- After embedding the button in your Jupyter book and publishing the changes:\n",
    "- Click on the \"Open In Colab\" button or \"Open In Kaggle\" button.\n",
    "\n",
    "This should open a new tab, and the notebook should be loaded into Google Colab / Kaggle directly from the GitHub repository."
   ]
  }
 ],
 "metadata": {
  "kernelspec": {
   "display_name": "Python 3 (ipykernel)",
   "language": "python",
   "name": "python3"
  },
  "language_info": {
   "codemirror_mode": {
    "name": "ipython",
    "version": 3
   },
   "file_extension": ".py",
   "mimetype": "text/x-python",
   "name": "python",
   "nbconvert_exporter": "python",
   "pygments_lexer": "ipython3",
   "version": "3.10.9"
  }
 },
 "nbformat": 4,
 "nbformat_minor": 5
}
