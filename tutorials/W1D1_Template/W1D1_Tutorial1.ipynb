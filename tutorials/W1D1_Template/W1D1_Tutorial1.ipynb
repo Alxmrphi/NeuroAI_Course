{
 "cells": [
  {
   "cell_type": "markdown",
   "metadata": {
    "colab_type": "text",
    "execution": {},
    "id": "view-in-github"
   },
   "source": [
    "<a href=\"https://colab.research.google.com/github/NeuromatchAcademy/course-content/blob/main/tutorials/W1D1_ModelTypes/W1D1_Tutorial1.ipynb\" target=\"_parent\"><img src=\"https://colab.research.google.com/assets/colab-badge.svg\" alt=\"Open In Colab\"/></a> &nbsp; <a href=\"https://kaggle.com/kernels/welcome?src=https://raw.githubusercontent.com/NeuromatchAcademy/course-content/main/tutorials/W1D1_ModelTypes/W1D1_Tutorial1.ipynb\" target=\"_parent\"><img src=\"https://kaggle.com/static/images/open-in-kaggle.svg\" alt=\"Open in Kaggle\"/></a>"
   ]
  },
  {
   "cell_type": "markdown",
   "metadata": {
    "execution": {}
   },
   "source": [
    "# Tutorial [NUMBER]: [TOPIC_NAME]\n",
    "\n",
    "**Week [WEEK_NUMBER], Day [DAY_NUMBER]: [DAY_TOPIC]**\n",
    "\n",
    "**By Neuromatch Academy**\n",
    "\n",
    "__Content creators:__ [LIST CREATORS_NAMES]\n",
    "\n",
    "__Content reviewers:__ [LIST REVIEWERS_NAMES]\n",
    "\n",
    "__Production editors:__ [LIST EDITORS_NAMES]\n",
    "\n",
    "<br>\n",
    "\n",
    "Acknowledgments: [ACKNOWLEDGMENT_INFORMATION]\n"
   ]
  },
  {
   "cell_type": "markdown",
   "metadata": {
    "execution": {}
   },
   "source": [
    "___\n",
    "# Tutorial Objectives\n",
    "\n",
    "*Estimated timing of tutorial: [insert estimated duration in minutes]*\n",
    "\n",
    "**Provide a general description of the tutorial content and learning objectives. Example:**\n",
    "\n",
    "This is tutorial [TUTORIAL_NUMBER e.g., \"1\"] of a [TOTAL_NUMBER_OF_TUTORIALS e.g., \"3\"]-part series on [BRIEF_TOPIC_DESCRIPTION e.g., \"neural modeling techniques\"]. In this tutorial, we will: [Give a brief description about the main topic]\n",
    "\n",
    "- **Specific Objectives:** These can be more detailed goals or tasks.\n",
    "  - \"[SPECIFIC_TASK_OR_GOAL_1 e.g., \"Load and understand a specific dataset\"]\"\n",
    "  - \"[SPECIFIC_TASK_OR_GOAL_2 e.g., \"Visualize characteristics of a particular metric\"]\"\n",
    "  - \"[SPECIFIC_TASK_OR_GOAL_3 e.g., \"Compute a specific measure\"]\"\n",
    "  - \"...\"\n",
    "\n",
    "Remember, each tutorial should have a clear objective or set of objectives. \n"
   ]
  },
  {
   "cell_type": "code",
   "execution_count": null,
   "metadata": {
    "cellView": "form",
    "execution": {}
   },
   "outputs": [],
   "source": [
    "# @title Tutorial slides\n",
    "# @markdown These are the slides for the videos in all tutorials today\n",
    "from IPython.display import IFrame\n",
    "link_id = \"[YOUR_LINK_ID_HERE]\"\n",
    "      # Example: \"6dxwe\"\n",
    "print(f\"If you want to download the slides: 'Link to the slides'\")\n",
    "      # Example: https://osf.io/download/{link_id}/\n",
    "    \n",
    "IFrame(src=\"[YOUR_URL_HERE]\", width=854, height=480)"
   ]
  },
  {
   "cell_type": "markdown",
   "metadata": {
    "execution": {}
   },
   "source": [
    "---\n",
    "# Setup\n",
    "\n"
   ]
  },
  {
   "cell_type": "code",
   "execution_count": null,
   "metadata": {
    "cellView": "form",
    "execution": {}
   },
   "outputs": [],
   "source": [
    "# @title Install and import feedback gadget\n",
    "\n",
    "#1. Install necessary packages \n",
    "!pip3 install vibecheck datatops --quiet\n",
    "\n",
    "#2. define content_review() function:\n",
    "\n",
    "from vibecheck import DatatopsContentReviewContainer\n",
    "def content_review(notebook_section: str):\n",
    "    return DatatopsContentReviewContainer(\n",
    "        \"\",  # No text prompt\n",
    "        notebook_section,\n",
    "        {\n",
    "            \"url\": \"https://pmyvdlilci.execute-api.us-east-1.amazonaws.com/klab\",\n",
    "            \"name\": \"neuromatch_cn\",\n",
    "            \"user_key\": \"y1x3mpx5\",\n",
    "        },\n",
    "    ).render()\n",
    "\n",
    "#3. Feedback prefix: Replace 'weeknumber' and 'daynumber' with appropriate values, underscore followed by T(stands for tutorial) and the number of the tutorial \n",
    "#e.g., W1D1_T1\n",
    "feedback_prefix = \"W*weeknumber*D*daynumber*_T*tutorialNumber*\""
   ]
  },
  {
   "cell_type": "markdown",
   "metadata": {},
   "source": [
    "1. specify the necessary libraries for running the tutorial\n",
    "2. set up figure aesthetics"
   ]
  },
  {
   "cell_type": "code",
   "execution_count": null,
   "metadata": {},
   "outputs": [],
   "source": [
    "import numpy as np\n",
    "import matplotlib.pyplot as plt"
   ]
  },
  {
   "cell_type": "code",
   "execution_count": null,
   "metadata": {},
   "outputs": [],
   "source": [
    "# @title Figure Settings\n",
    "import logging\n",
    "logging.getLogger('matplotlib.font_manager').disabled = True"
   ]
  },
  {
   "cell_type": "code",
   "execution_count": null,
   "metadata": {},
   "outputs": [],
   "source": [
    "import ipywidgets as widgets  # interactive display\n",
    "%matplotlib inline\n",
    "%config InlineBackend.figure_format = 'retina'\n",
    "plt.style.use(\"https://raw.githubusercontent.com/NeuromatchAcademy/course-content/main/nma.mplstyle\")"
   ]
  },
  {
   "cell_type": "markdown",
   "metadata": {
    "execution": {}
   },
   "source": [
    "## ---\n",
    "# Topic title\n",
    "\n",
    "Can include videos as shown below"
   ]
  },
  {
   "cell_type": "code",
   "execution_count": null,
   "metadata": {
    "cellView": "form",
    "execution": {}
   },
   "outputs": [],
   "source": [
    "# @title Video 1: \"What\" Models\n",
    "from ipywidgets import widgets\n",
    "from IPython.display import YouTubeVideo\n",
    "from IPython.display import IFrame\n",
    "from IPython.display import display\n",
    "\n",
    "\n",
    "class PlayVideo(IFrame):\n",
    "  def __init__(self, id, source, page=1, width=400, height=300, **kwargs):\n",
    "    self.id = id\n",
    "    if source == 'Bilibili':\n",
    "      src = f'https://player.bilibili.com/player.html?bvid={id}&page={page}'\n",
    "    elif source == 'Osf':\n",
    "      src = f'https://mfr.ca-1.osf.io/render?url=https://osf.io/download/{id}/?direct%26mode=render'\n",
    "    super(PlayVideo, self).__init__(src, width, height, **kwargs)\n",
    "\n",
    "\n",
    "def display_videos(video_ids, W=400, H=300, fs=1):\n",
    "  tab_contents = []\n",
    "  for i, video_id in enumerate(video_ids):\n",
    "    out = widgets.Output()\n",
    "    with out:\n",
    "      if video_ids[i][0] == 'Youtube':\n",
    "        video = YouTubeVideo(id=video_ids[i][1], width=W,\n",
    "                             height=H, fs=fs, rel=0)\n",
    "        print(f'Video available at https://youtube.com/watch?v={video.id}')\n",
    "      else:\n",
    "        video = PlayVideo(id=video_ids[i][1], source=video_ids[i][0], width=W,\n",
    "                          height=H, fs=fs, autoplay=False)\n",
    "        if video_ids[i][0] == 'Bilibili':\n",
    "          print(f'Video available at https://www.bilibili.com/video/{video.id}')\n",
    "        elif video_ids[i][0] == 'Osf':\n",
    "          print(f'Video available at https://osf.io/{video.id}')\n",
    "      display(video)\n",
    "    tab_contents.append(out)\n",
    "  return tab_contents\n",
    "\n",
    "\n",
    "video_ids = [('Youtube', 'KgqR_jbjMQg'), ('Bilibili', 'BV1mz4y1X7ot')]\n",
    "tab_contents = display_videos(video_ids, W=854, H=480)\n",
    "tabs = widgets.Tab()\n",
    "tabs.children = tab_contents\n",
    "for i in range(len(tab_contents)):\n",
    "  tabs.set_title(i, video_ids[i][0])\n",
    "display(tabs)"
   ]
  },
  {
   "cell_type": "code",
   "execution_count": null,
   "metadata": {
    "cellView": "form",
    "execution": {}
   },
   "outputs": [],
   "source": [
    "# @title Submit your feedback\n",
    "content_review(f\"{feedback_prefix}_What_models_Video\")"
   ]
  },
  {
   "cell_type": "markdown",
   "metadata": {
    "execution": {}
   },
   "source": [
    "---\n",
    "\n",
    "# Section [section number]: [title section]\n",
    "\n",
    "Walk the students throught each section. \n",
    "\n",
    "Sections can contain coding exercise / bonus excercise / interactive demo. A coding exercise example is reported below.\n",
    "\n",
    "Each section can contain subsections as shown below."
   ]
  },
  {
   "cell_type": "markdown",
   "metadata": {
    "execution": {}
   },
   "source": [
    "## Section 1.1: [subsection title]\n",
    "\n",
    "\n",
    "Coding exercise:"
   ]
  },
  {
   "cell_type": "code",
   "execution_count": null,
   "metadata": {
    "execution": {},
    "pycharm": {
     "name": "#%%\n"
    }
   },
   "outputs": [],
   "source": [
    "#################################################################################\n",
    "## TODO for students:\n",
    "# Fill out function and remove\n",
    "raise NotImplementedError(\"Student exercise: complete histogram plotting with median\")\n",
    "#################################################################################\n",
    "\n",
    "# Generate some sample data for demonstration\n",
    "# Assume we have measurement data for 1000 items\n",
    "np.random.seed(42)  # to ensure reproducibility\n",
    "measurements = np.random.normal(loc=50, scale=15, size=1000)  # Normally distributed measurements around 50 with a standard deviation of 15\n",
    "\n",
    "# Compute mean for demonstration\n",
    "mean_measurement = np.mean(measurements)\n",
    "\n",
    "# Compute median measurement\n",
    "median_measurement = ...  # Hint: Try the function np.median\n",
    "\n",
    "# Visualize median, mean, and histogram\n",
    "plt.hist(..., bins=50, histtype=\"stepfilled\")\n",
    "plt.axvline(..., color=\"limegreen\", label=\"Median value\")\n",
    "plt.axvline(mean_measurement, color=\"orange\", label=\"Mean value\")\n",
    "plt.xlabel(\"Value of measurements per item\")\n",
    "plt.ylabel(\"Number of items\")\n",
    "plt.legend()\n",
    "plt.title(\"Distribution of Measurements\")\n",
    "plt.show()"
   ]
  },
  {
   "cell_type": "code",
   "execution_count": null,
   "metadata": {
    "execution": {},
    "pycharm": {
     "name": "#%%\n"
    }
   },
   "outputs": [],
   "source": [
    "# to_remove solution\n",
    "\n",
    "# Compute median of the measurements\n",
    "median_measurement = np.median(measurements)\n",
    "\n",
    "# Visualize median, mean, and histogram using xkcd style\n",
    "with plt.xkcd():\n",
    "    plt.hist(measurements, bins=50, histtype=\"stepfilled\", alpha=0.7, color=\"lightblue\")\n",
    "    plt.axvline(median_measurement, color=\"limegreen\", label=\"Median value\")\n",
    "    plt.axvline(mean_measurement, color=\"orange\", label=\"Mean value\")\n",
    "    plt.xlabel(\"Value of measurements per item\")\n",
    "    plt.ylabel(\"Number of items\")\n",
    "    plt.legend()\n",
    "    plt.title(\"Distribution of Measurements\")\n",
    "    plt.show()"
   ]
  },
  {
   "cell_type": "markdown",
   "metadata": {
    "execution": {}
   },
   "source": [
    "\n",
    "*Bonus:* [provide bonus exercises]"
   ]
  },
  {
   "cell_type": "code",
   "execution_count": null,
   "metadata": {
    "cellView": "form",
    "execution": {}
   },
   "outputs": [],
   "source": [
    "# @title Submit your feedback\n",
    "content_review(f\"{feedback_prefix}_Mean_and_median_Exercise\")"
   ]
  },
  {
   "cell_type": "markdown",
   "metadata": {
    "execution": {}
   },
   "source": [
    "---\n",
    "\n",
    "# Section [section number]: [title]\n",
    "\n",
    "When starting a new section provide the estimated time:\n",
    "\n",
    "*Estimated timing to here from start of tutorial: [time in minutes]*"
   ]
  },
  {
   "cell_type": "markdown",
   "metadata": {
    "execution": {}
   },
   "source": [
    "---\n",
    "**Last section should include discussion with the group:**\n",
    "\n",
    "# Section[number]: title\n",
    "\n",
    "## Think! [section number]: Reflecting\n",
    "\n",
    "Please discuss the following questions for around 10 minutes with your group:\n",
    "- \"....\"\n",
    "- \"....\""
   ]
  },
  {
   "cell_type": "code",
   "execution_count": null,
   "metadata": {
    "cellView": "form",
    "execution": {}
   },
   "outputs": [],
   "source": [
    "# @title Submit your feedback\n",
    "content_review(f\"{feedback_prefix}_Reflecting_on_what_models_Discussion\")"
   ]
  },
  {
   "cell_type": "markdown",
   "metadata": {
    "execution": {}
   },
   "source": [
    "---\n",
    "# Summary\n",
    "\n",
    "*Estimated timing of tutorial: [minutes]* [provide the estimated time for the completing of the entire tutorail]\n",
    "\n",
    "[provide a summary of the tutorial]"
   ]
  }
 ],
 "metadata": {
  "colab": {
   "collapsed_sections": [],
   "include_colab_link": true,
   "name": "W1D1_Tutorial1",
   "provenance": [],
   "toc_visible": true
  },
  "kernel": {
   "display_name": "Python 3",
   "language": "python",
   "name": "python3"
  },
  "kernelspec": {
   "display_name": "Python 3 (ipykernel)",
   "language": "python",
   "name": "python3"
  },
  "language_info": {
   "codemirror_mode": {
    "name": "ipython",
    "version": 3
   },
   "file_extension": ".py",
   "mimetype": "text/x-python",
   "name": "python",
   "nbconvert_exporter": "python",
   "pygments_lexer": "ipython3",
   "version": "3.10.9"
  }
 },
 "nbformat": 4,
 "nbformat_minor": 1
}
