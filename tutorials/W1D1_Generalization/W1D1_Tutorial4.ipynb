{
 "cells": [
  {
   "cell_type": "code",
   "execution_count": 19,
   "id": "b65e10e2-51fd-465b-bafd-1f1087df8487",
   "metadata": {},
   "outputs": [
    {
     "name": "stdout",
     "output_type": "stream",
     "text": [
      "fatal: destination path 'unilm' already exists and is not an empty directory.\n",
      "Defaulting to user installation because normal site-packages is not writeable\n",
      "Requirement already satisfied: wand in /home/samuele/.local/lib/python3.10/site-packages (0.6.13)\n",
      "Requirement already satisfied: scikit-image in /home/samuele/.local/lib/python3.10/site-packages (0.22.0)\n",
      "Requirement already satisfied: fairseq in /home/samuele/.local/lib/python3.10/site-packages (0.12.2)\n",
      "Requirement already satisfied: natsort in /home/samuele/.local/lib/python3.10/site-packages (8.4.0)\n",
      "Requirement already satisfied: torchvision in /home/samuele/.local/lib/python3.10/site-packages (0.14.0)\n",
      "Requirement already satisfied: opencv-python in /home/samuele/.local/lib/python3.10/site-packages (4.9.0.80)\n",
      "Requirement already satisfied: timm in /home/samuele/.local/lib/python3.10/site-packages (0.9.12)\n",
      "Requirement already satisfied: nltk in /home/samuele/.local/lib/python3.10/site-packages (3.8.1)\n",
      "Requirement already satisfied: pybind11 in /home/samuele/.local/lib/python3.10/site-packages (2.11.1)\n",
      "Requirement already satisfied: Levenshtein in /home/samuele/.local/lib/python3.10/site-packages (0.23.0)\n",
      "Requirement already satisfied: opencv-contrib-python in /home/samuele/.local/lib/python3.10/site-packages (4.9.0.80)\n",
      "Requirement already satisfied: fastwer in /home/samuele/.local/lib/python3.10/site-packages (0.1.3)\n",
      "Requirement already satisfied: numpy>=1.22 in /home/samuele/.local/lib/python3.10/site-packages (from scikit-image) (1.23.4)\n",
      "Requirement already satisfied: scipy>=1.8 in /home/samuele/.local/lib/python3.10/site-packages (from scikit-image) (1.9.3)\n",
      "Requirement already satisfied: networkx>=2.8 in /home/samuele/.local/lib/python3.10/site-packages (from scikit-image) (3.2.1)\n",
      "Requirement already satisfied: pillow>=9.0.1 in /usr/lib/python3/dist-packages (from scikit-image) (9.0.1)\n",
      "Requirement already satisfied: imageio>=2.27 in /home/samuele/.local/lib/python3.10/site-packages (from scikit-image) (2.33.1)\n",
      "Requirement already satisfied: tifffile>=2022.8.12 in /home/samuele/.local/lib/python3.10/site-packages (from scikit-image) (2023.12.9)\n",
      "Requirement already satisfied: packaging>=21 in /home/samuele/.local/lib/python3.10/site-packages (from scikit-image) (21.3)\n",
      "Requirement already satisfied: lazy_loader>=0.3 in /home/samuele/.local/lib/python3.10/site-packages (from scikit-image) (0.3)\n",
      "Requirement already satisfied: cffi in /home/samuele/.local/lib/python3.10/site-packages (from fairseq) (1.16.0)\n",
      "Requirement already satisfied: cython in /home/samuele/.local/lib/python3.10/site-packages (from fairseq) (3.0.7)\n",
      "Requirement already satisfied: hydra-core<1.1,>=1.0.7 in /home/samuele/.local/lib/python3.10/site-packages (from fairseq) (1.0.7)\n",
      "Requirement already satisfied: omegaconf<2.1 in /home/samuele/.local/lib/python3.10/site-packages (from fairseq) (2.0.6)\n",
      "Requirement already satisfied: regex in /home/samuele/.local/lib/python3.10/site-packages (from fairseq) (2023.10.3)\n",
      "Requirement already satisfied: sacrebleu>=1.4.12 in /home/samuele/.local/lib/python3.10/site-packages (from fairseq) (2.4.0)\n",
      "Requirement already satisfied: torch in /home/samuele/.local/lib/python3.10/site-packages (from fairseq) (1.13.0)\n",
      "Requirement already satisfied: tqdm in /home/samuele/.local/lib/python3.10/site-packages (from fairseq) (4.66.1)\n",
      "Requirement already satisfied: bitarray in /home/samuele/.local/lib/python3.10/site-packages (from fairseq) (2.9.2)\n",
      "Requirement already satisfied: torchaudio>=0.8.0 in /home/samuele/.local/lib/python3.10/site-packages (from fairseq) (0.13.0)\n",
      "Requirement already satisfied: typing-extensions in /home/samuele/.local/lib/python3.10/site-packages (from torchvision) (4.9.0)\n",
      "Requirement already satisfied: requests in /home/samuele/.local/lib/python3.10/site-packages (from torchvision) (2.31.0)\n",
      "Requirement already satisfied: nvidia-cuda-runtime-cu11==11.7.99 in /home/samuele/.local/lib/python3.10/site-packages (from torch->fairseq) (11.7.99)\n",
      "Requirement already satisfied: nvidia-cudnn-cu11==8.5.0.96 in /home/samuele/.local/lib/python3.10/site-packages (from torch->fairseq) (8.5.0.96)\n",
      "Requirement already satisfied: nvidia-cublas-cu11==11.10.3.66 in /home/samuele/.local/lib/python3.10/site-packages (from torch->fairseq) (11.10.3.66)\n",
      "Requirement already satisfied: nvidia-cuda-nvrtc-cu11==11.7.99 in /home/samuele/.local/lib/python3.10/site-packages (from torch->fairseq) (11.7.99)\n",
      "Requirement already satisfied: setuptools in /usr/lib/python3/dist-packages (from nvidia-cublas-cu11==11.10.3.66->torch->fairseq) (59.6.0)\n",
      "Requirement already satisfied: wheel in /usr/lib/python3/dist-packages (from nvidia-cublas-cu11==11.10.3.66->torch->fairseq) (0.37.1)\n",
      "Requirement already satisfied: pyyaml in /usr/lib/python3/dist-packages (from timm) (5.4.1)\n",
      "Requirement already satisfied: huggingface-hub in /home/samuele/.local/lib/python3.10/site-packages (from timm) (0.20.1)\n",
      "Requirement already satisfied: safetensors in /home/samuele/.local/lib/python3.10/site-packages (from timm) (0.4.1)\n",
      "Requirement already satisfied: click in /usr/lib/python3/dist-packages (from nltk) (8.0.3)\n",
      "Requirement already satisfied: joblib in /home/samuele/.local/lib/python3.10/site-packages (from nltk) (1.3.1)\n",
      "Requirement already satisfied: rapidfuzz<4.0.0,>=3.1.0 in /home/samuele/.local/lib/python3.10/site-packages (from Levenshtein) (3.6.1)\n",
      "Requirement already satisfied: antlr4-python3-runtime==4.8 in /home/samuele/.local/lib/python3.10/site-packages (from hydra-core<1.1,>=1.0.7->fairseq) (4.8)\n",
      "Requirement already satisfied: pyparsing!=3.0.5,>=2.0.2 in /usr/lib/python3/dist-packages (from packaging>=21->scikit-image) (2.4.7)\n",
      "Requirement already satisfied: portalocker in /home/samuele/.local/lib/python3.10/site-packages (from sacrebleu>=1.4.12->fairseq) (2.8.2)\n",
      "Requirement already satisfied: tabulate>=0.8.9 in /usr/lib/python3/dist-packages (from sacrebleu>=1.4.12->fairseq) (0.8.9)\n",
      "Requirement already satisfied: colorama in /usr/lib/python3/dist-packages (from sacrebleu>=1.4.12->fairseq) (0.4.4)\n",
      "Requirement already satisfied: lxml in /usr/lib/python3/dist-packages (from sacrebleu>=1.4.12->fairseq) (4.8.0)\n",
      "Requirement already satisfied: pycparser in /home/samuele/.local/lib/python3.10/site-packages (from cffi->fairseq) (2.21)\n",
      "Requirement already satisfied: filelock in /usr/local/lib/python3.10/dist-packages (from huggingface-hub->timm) (3.8.0)\n",
      "Requirement already satisfied: fsspec>=2023.5.0 in /home/samuele/.local/lib/python3.10/site-packages (from huggingface-hub->timm) (2023.12.2)\n",
      "Requirement already satisfied: charset-normalizer<4,>=2 in /home/samuele/.local/lib/python3.10/site-packages (from requests->torchvision) (3.3.2)\n",
      "Requirement already satisfied: idna<4,>=2.5 in /usr/lib/python3/dist-packages (from requests->torchvision) (3.3)\n",
      "Requirement already satisfied: urllib3<3,>=1.21.1 in /home/samuele/.local/lib/python3.10/site-packages (from requests->torchvision) (1.26.14)\n",
      "Requirement already satisfied: certifi>=2017.4.17 in /usr/lib/python3/dist-packages (from requests->torchvision) (2020.6.20)\n",
      "\u001b[33mDEPRECATION: omegaconf 2.0.6 has a non-standard dependency specifier PyYAML>=5.1.*. pip 24.0 will enforce this behaviour change. A possible replacement is to upgrade to a newer version of omegaconf or contact the author to suggest that they release a version with a conforming dependency specifiers. Discussion can be found at https://github.com/pypa/pip/issues/12063\u001b[0m\u001b[33m\n",
      "\u001b[0m"
     ]
    }
   ],
   "source": [
    "# Clone the unilm repository and install dependencies\n",
    "!git clone https://github.com/microsoft/unilm.git\n",
    "!pip install wand scikit-image fairseq natsort torchvision opencv-python wand timm nltk pybind11 Levenshtein opencv-contrib-python fastwer "
   ]
  },
  {
   "cell_type": "code",
   "execution_count": 20,
   "id": "ccd05d66-ae6a-493c-b682-f1f897585bda",
   "metadata": {},
   "outputs": [],
   "source": [
    "# Add the cloned repository to the system path\n",
    "import sys\n",
    "sys.path.append('unilm')"
   ]
  },
  {
   "cell_type": "code",
   "execution_count": 24,
   "id": "0134350e-0bb3-479a-a81e-6cb92f5fc120",
   "metadata": {},
   "outputs": [
    {
     "ename": "ModuleNotFoundError",
     "evalue": "No module named 'data'",
     "output_type": "error",
     "traceback": [
      "\u001b[0;31m---------------------------------------------------------------------------\u001b[0m",
      "\u001b[0;31mOSError\u001b[0m                                   Traceback (most recent call last)",
      "File \u001b[0;32m~/.local/lib/python3.10/site-packages/wand/api.py:159\u001b[0m\n\u001b[1;32m    158\u001b[0m \u001b[38;5;28;01mtry\u001b[39;00m:\n\u001b[0;32m--> 159\u001b[0m     libraries \u001b[38;5;241m=\u001b[39m \u001b[43mload_library\u001b[49m\u001b[43m(\u001b[49m\u001b[43m)\u001b[49m\n\u001b[1;32m    160\u001b[0m \u001b[38;5;28;01mexcept\u001b[39;00m (\u001b[38;5;167;01mOSError\u001b[39;00m, \u001b[38;5;167;01mIOError\u001b[39;00m):\n",
      "File \u001b[0;32m~/.local/lib/python3.10/site-packages/wand/api.py:148\u001b[0m, in \u001b[0;36mload_library\u001b[0;34m()\u001b[0m\n\u001b[1;32m    147\u001b[0m     \u001b[38;5;28;01mreturn\u001b[39;00m libwand, libmagick\n\u001b[0;32m--> 148\u001b[0m \u001b[38;5;28;01mraise\u001b[39;00m \u001b[38;5;167;01mIOError\u001b[39;00m(\u001b[38;5;124m'\u001b[39m\u001b[38;5;124mcannot find library; tried paths: \u001b[39m\u001b[38;5;124m'\u001b[39m \u001b[38;5;241m+\u001b[39m \u001b[38;5;28mrepr\u001b[39m(tried_paths))\n",
      "\u001b[0;31mOSError\u001b[0m: cannot find library; tried paths: []",
      "\nDuring handling of the above exception, another exception occurred:\n",
      "\u001b[0;31mImportError\u001b[0m                               Traceback (most recent call last)",
      "File \u001b[0;32m~/Documenti/GitHub/NeuroAI_Course/tutorials/W1D1_Generalization/unilm/trocr/task.py:11\u001b[0m\n\u001b[1;32m     10\u001b[0m     \u001b[38;5;28;01mfrom\u001b[39;00m \u001b[38;5;21;01m.\u001b[39;00m\u001b[38;5;21;01mdata\u001b[39;00m \u001b[38;5;28;01mimport\u001b[39;00m SROIETextRecognitionDataset, Receipt53KDataset, SyntheticTextRecognitionDataset\n\u001b[0;32m---> 11\u001b[0m     \u001b[38;5;28;01mfrom\u001b[39;00m \u001b[38;5;21;01m.\u001b[39;00m\u001b[38;5;21;01mdata_aug\u001b[39;00m \u001b[38;5;28;01mimport\u001b[39;00m build_data_aug, OptForDataAugment, DataAugment\n\u001b[1;32m     12\u001b[0m \u001b[38;5;28;01mexcept\u001b[39;00m \u001b[38;5;167;01mImportError\u001b[39;00m:\n",
      "File \u001b[0;32m~/Documenti/GitHub/NeuroAI_Course/tutorials/W1D1_Generalization/unilm/trocr/data_aug.py:13\u001b[0m\n\u001b[1;32m     12\u001b[0m \u001b[38;5;28;01mfrom\u001b[39;00m \u001b[38;5;21;01m.\u001b[39;00m\u001b[38;5;21;01maugmentation\u001b[39;00m\u001b[38;5;21;01m.\u001b[39;00m\u001b[38;5;21;01mnoise\u001b[39;00m \u001b[38;5;28;01mimport\u001b[39;00m GaussianNoise, ShotNoise, ImpulseNoise, SpeckleNoise\n\u001b[0;32m---> 13\u001b[0m \u001b[38;5;28;01mfrom\u001b[39;00m \u001b[38;5;21;01m.\u001b[39;00m\u001b[38;5;21;01maugmentation\u001b[39;00m\u001b[38;5;21;01m.\u001b[39;00m\u001b[38;5;21;01mblur\u001b[39;00m \u001b[38;5;28;01mimport\u001b[39;00m GaussianBlur, DefocusBlur, MotionBlur, GlassBlur, ZoomBlur\n\u001b[1;32m     14\u001b[0m \u001b[38;5;28;01mfrom\u001b[39;00m \u001b[38;5;21;01m.\u001b[39;00m\u001b[38;5;21;01maugmentation\u001b[39;00m\u001b[38;5;21;01m.\u001b[39;00m\u001b[38;5;21;01mcamera\u001b[39;00m \u001b[38;5;28;01mimport\u001b[39;00m Contrast, Brightness, JpegCompression, Pixelate\n",
      "File \u001b[0;32m~/Documenti/GitHub/NeuroAI_Course/tutorials/W1D1_Generalization/unilm/trocr/augmentation/blur.py:6\u001b[0m\n\u001b[1;32m      5\u001b[0m \u001b[38;5;28;01mimport\u001b[39;00m \u001b[38;5;21;01mtorchvision\u001b[39;00m\u001b[38;5;21;01m.\u001b[39;00m\u001b[38;5;21;01mtransforms\u001b[39;00m \u001b[38;5;28;01mas\u001b[39;00m \u001b[38;5;21;01mtransforms\u001b[39;00m\n\u001b[0;32m----> 6\u001b[0m \u001b[38;5;28;01mfrom\u001b[39;00m \u001b[38;5;21;01mwand\u001b[39;00m\u001b[38;5;21;01m.\u001b[39;00m\u001b[38;5;21;01mimage\u001b[39;00m \u001b[38;5;28;01mimport\u001b[39;00m Image \u001b[38;5;28;01mas\u001b[39;00m WandImage\n\u001b[1;32m      7\u001b[0m \u001b[38;5;28;01mfrom\u001b[39;00m \u001b[38;5;21;01mscipy\u001b[39;00m\u001b[38;5;21;01m.\u001b[39;00m\u001b[38;5;21;01mndimage\u001b[39;00m \u001b[38;5;28;01mimport\u001b[39;00m zoom \u001b[38;5;28;01mas\u001b[39;00m scizoom\n",
      "File \u001b[0;32m~/.local/lib/python3.10/site-packages/wand/image.py:18\u001b[0m\n\u001b[1;32m     16\u001b[0m \u001b[38;5;28;01mimport\u001b[39;00m \u001b[38;5;21;01mweakref\u001b[39;00m\n\u001b[0;32m---> 18\u001b[0m \u001b[38;5;28;01mfrom\u001b[39;00m \u001b[38;5;21;01m.\u001b[39;00m \u001b[38;5;28;01mimport\u001b[39;00m assertions\n\u001b[1;32m     19\u001b[0m \u001b[38;5;28;01mfrom\u001b[39;00m \u001b[38;5;21;01m.\u001b[39;00m\u001b[38;5;21;01mapi\u001b[39;00m \u001b[38;5;28;01mimport\u001b[39;00m libc, libmagick, library\n",
      "File \u001b[0;32m~/.local/lib/python3.10/site-packages/wand/assertions.py:156\u001b[0m\n\u001b[1;32m    155\u001b[0m \u001b[38;5;66;03m# Lazy load recursive import\u001b[39;00m\n\u001b[0;32m--> 156\u001b[0m \u001b[38;5;28;01mfrom\u001b[39;00m \u001b[38;5;21;01m.\u001b[39;00m\u001b[38;5;21;01mcolor\u001b[39;00m \u001b[38;5;28;01mimport\u001b[39;00m Color  \u001b[38;5;66;03m# noqa: E402\u001b[39;00m\n",
      "File \u001b[0;32m~/.local/lib/python3.10/site-packages/wand/color.py:10\u001b[0m\n\u001b[1;32m      8\u001b[0m \u001b[38;5;28;01mimport\u001b[39;00m \u001b[38;5;21;01mnumbers\u001b[39;00m\n\u001b[0;32m---> 10\u001b[0m \u001b[38;5;28;01mfrom\u001b[39;00m \u001b[38;5;21;01m.\u001b[39;00m\u001b[38;5;21;01mapi\u001b[39;00m \u001b[38;5;28;01mimport\u001b[39;00m library\n\u001b[1;32m     11\u001b[0m \u001b[38;5;28;01mfrom\u001b[39;00m \u001b[38;5;21;01m.\u001b[39;00m\u001b[38;5;21;01mcdefs\u001b[39;00m\u001b[38;5;21;01m.\u001b[39;00m\u001b[38;5;21;01mstructures\u001b[39;00m \u001b[38;5;28;01mimport\u001b[39;00m MagickPixelPacket, PixelInfo\n",
      "File \u001b[0;32m~/.local/lib/python3.10/site-packages/wand/api.py:183\u001b[0m\n\u001b[1;32m    182\u001b[0m             msg \u001b[38;5;241m=\u001b[39m \u001b[38;5;124m'\u001b[39m\u001b[38;5;124myum install ImageMagick-devel\u001b[39m\u001b[38;5;124m'\u001b[39m\n\u001b[0;32m--> 183\u001b[0m     \u001b[38;5;28;01mraise\u001b[39;00m \u001b[38;5;167;01mImportError\u001b[39;00m(\u001b[38;5;124m'\u001b[39m\u001b[38;5;124mMagickWand shared library not found.\u001b[39m\u001b[38;5;130;01m\\n\u001b[39;00m\u001b[38;5;124m'\u001b[39m\n\u001b[1;32m    184\u001b[0m                       \u001b[38;5;124m'\u001b[39m\u001b[38;5;124mYou probably had not installed ImageMagick library.\u001b[39m\u001b[38;5;130;01m\\n\u001b[39;00m\u001b[38;5;124m'\u001b[39m\n\u001b[1;32m    185\u001b[0m                       \u001b[38;5;124m'\u001b[39m\u001b[38;5;124mTry to install:\u001b[39m\u001b[38;5;130;01m\\n\u001b[39;00m\u001b[38;5;124m  \u001b[39m\u001b[38;5;124m'\u001b[39m \u001b[38;5;241m+\u001b[39m msg)\n\u001b[1;32m    187\u001b[0m \u001b[38;5;66;03m#: (:class:`ctypes.CDLL`) The MagickWand library.\u001b[39;00m\n",
      "\u001b[0;31mImportError\u001b[0m: MagickWand shared library not found.\nYou probably had not installed ImageMagick library.\nTry to install:\n  https://docs.wand-py.org/en/latest/guide/install.html",
      "\nDuring handling of the above exception, another exception occurred:\n",
      "\u001b[0;31mModuleNotFoundError\u001b[0m                       Traceback (most recent call last)",
      "Cell \u001b[0;32mIn[24], line 6\u001b[0m\n\u001b[1;32m      4\u001b[0m \u001b[38;5;28;01mimport\u001b[39;00m \u001b[38;5;21;01mnumpy\u001b[39;00m \u001b[38;5;28;01mas\u001b[39;00m \u001b[38;5;21;01mnp\u001b[39;00m\n\u001b[1;32m      5\u001b[0m \u001b[38;5;28;01mimport\u001b[39;00m \u001b[38;5;21;01mPIL\u001b[39;00m\n\u001b[0;32m----> 6\u001b[0m \u001b[38;5;28;01mfrom\u001b[39;00m \u001b[38;5;21;01mtrocr\u001b[39;00m \u001b[38;5;28;01mimport\u001b[39;00m OptForDataAugment, DataAugment\n",
      "File \u001b[0;32m~/Documenti/GitHub/NeuroAI_Course/tutorials/W1D1_Generalization/unilm/trocr/__init__.py:1\u001b[0m\n\u001b[0;32m----> 1\u001b[0m \u001b[38;5;28;01mfrom\u001b[39;00m \u001b[38;5;21;01m.\u001b[39;00m\u001b[38;5;21;01mtask\u001b[39;00m \u001b[38;5;28;01mimport\u001b[39;00m TextRecognitionTask\n\u001b[1;32m      2\u001b[0m \u001b[38;5;28;01mfrom\u001b[39;00m \u001b[38;5;21;01m.\u001b[39;00m\u001b[38;5;21;01mvit_models\u001b[39;00m \u001b[38;5;28;01mimport\u001b[39;00m ViTTRModel, ViT_TR_base\n\u001b[1;32m      3\u001b[0m \u001b[38;5;28;01mfrom\u001b[39;00m \u001b[38;5;21;01m.\u001b[39;00m\u001b[38;5;21;01mscoring\u001b[39;00m \u001b[38;5;28;01mimport\u001b[39;00m AccEDScorer\n",
      "File \u001b[0;32m~/Documenti/GitHub/NeuroAI_Course/tutorials/W1D1_Generalization/unilm/trocr/task.py:13\u001b[0m\n\u001b[1;32m     11\u001b[0m     \u001b[38;5;28;01mfrom\u001b[39;00m \u001b[38;5;21;01m.\u001b[39;00m\u001b[38;5;21;01mdata_aug\u001b[39;00m \u001b[38;5;28;01mimport\u001b[39;00m build_data_aug, OptForDataAugment, DataAugment\n\u001b[1;32m     12\u001b[0m \u001b[38;5;28;01mexcept\u001b[39;00m \u001b[38;5;167;01mImportError\u001b[39;00m:\n\u001b[0;32m---> 13\u001b[0m     \u001b[38;5;28;01mfrom\u001b[39;00m \u001b[38;5;21;01mdata\u001b[39;00m \u001b[38;5;28;01mimport\u001b[39;00m SROIETextRecognitionDataset, Receipt53KDataset, SyntheticTextRecognitionDataset\n\u001b[1;32m     14\u001b[0m     \u001b[38;5;28;01mfrom\u001b[39;00m \u001b[38;5;21;01mdata_aug\u001b[39;00m \u001b[38;5;28;01mimport\u001b[39;00m build_data_aug, OptForDataAugment, DataAugment\n\u001b[1;32m     16\u001b[0m \u001b[38;5;28;01mimport\u001b[39;00m \u001b[38;5;21;01mlogging\u001b[39;00m\n",
      "\u001b[0;31mModuleNotFoundError\u001b[0m: No module named 'data'"
     ]
    }
   ],
   "source": [
    "# Import necessary modules for data augmentation\n",
    "import matplotlib.pyplot as plt\n",
    "import unilm\n",
    "import numpy as np\n",
    "import PIL\n",
    "from trocr import OptForDataAugment, DataAugment"
   ]
  },
  {
   "cell_type": "code",
   "execution_count": null,
   "id": "4c54f6a6-2da5-4ce9-b474-89d3f9797d58",
   "metadata": {},
   "outputs": [],
   "source": [
    "# Load the image using PIL\n",
    "output_image = PIL.Image.open(\"IMG_1235.jpg\")  # Make sure the image path is correct"
   ]
  },
  {
   "cell_type": "code",
   "execution_count": null,
   "id": "1189e7f4-3bb7-4b30-9868-f6871f5effea",
   "metadata": {},
   "outputs": [],
   "source": [
    "# Set up options for data augmentation\n",
    "opt = OptForDataAugment(eval=False, \n",
    "                        isrand_aug=True, \n",
    "                        imgW=384, \n",
    "                        imgH=384, \n",
    "                        intact_prob=0.0, \n",
    "                        augs_num=25,  # Changed to generate 25 variants\n",
    "                        augs_mag=None)\n",
    "tfm = DataAugment(opt)\n"
   ]
  },
  {
   "cell_type": "code",
   "execution_count": null,
   "id": "53b9c31c-4834-42cc-bcac-f7ca86e329a4",
   "metadata": {},
   "outputs": [],
   "source": [
    "# Generate and display 25 augmented image variants\n",
    "augmented_images = []\n",
    "for i in range(25):\n",
    "    augmented_image = tfm(output_image).permute((1, 2, 0))\n",
    "    augmented_images.append(augmented_image)\n",
    "    plt.figure(figsize=(10, 4))\n",
    "    plt.imshow((augmented_image + 1) / 2.0)  # Assuming image tensor normalization\n",
    "    plt.axis('off')\n",
    "    plt.show()"
   ]
  }
 ],
 "metadata": {
  "kernelspec": {
   "display_name": "Python 3 (ipykernel)",
   "language": "python",
   "name": "python3"
  },
  "language_info": {
   "codemirror_mode": {
    "name": "ipython",
    "version": 3
   },
   "file_extension": ".py",
   "mimetype": "text/x-python",
   "name": "python",
   "nbconvert_exporter": "python",
   "pygments_lexer": "ipython3",
   "version": "3.10.12"
  }
 },
 "nbformat": 4,
 "nbformat_minor": 5
}
