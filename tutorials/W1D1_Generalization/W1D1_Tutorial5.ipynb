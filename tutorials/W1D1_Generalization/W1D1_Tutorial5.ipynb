{
 "cells": [
  {
   "cell_type": "code",
   "execution_count": 1,
   "id": "5a4d3a2d-bc4d-4b92-9304-5bbaa9441844",
   "metadata": {},
   "outputs": [],
   "source": [
    "# Imports\n",
    "import torch\n",
    "import torch.nn as nn\n",
    "import torch.optim as optim\n",
    "from torch.utils.data import DataLoader, TensorDataset"
   ]
  },
  {
   "cell_type": "code",
   "execution_count": 2,
   "id": "2572b7f4-0f34-4b9a-bd11-2d3d45274082",
   "metadata": {},
   "outputs": [
    {
     "data": {
      "text/plain": [
       "<torch._C.Generator at 0x7fb99410e470>"
      ]
     },
     "execution_count": 2,
     "metadata": {},
     "output_type": "execute_result"
    }
   ],
   "source": [
    "# Seed for reproducibility\n",
    "torch.manual_seed(0)"
   ]
  },
  {
   "cell_type": "code",
   "execution_count": 4,
   "id": "b2aa83f3-1fb7-46a5-893d-0429d9da4ed6",
   "metadata": {},
   "outputs": [],
   "source": [
    "# Synthetic Data Generation\n",
    "def generate_synthetic_data(samples=1000, features=10, sequence_length=50):\n",
    "    \"\"\"\n",
    "    Generate synthetic EMG data and corresponding arm movement sequences.\n",
    "    :param samples: Number of data samples\n",
    "    :param features: Number of features in EMG data\n",
    "    :param sequence_length: Length of the output sequence\n",
    "    :return: emg_data, arm_movements\n",
    "    \"\"\"\n",
    "    emg_data = torch.randn(samples, sequence_length, features)\n",
    "    arm_movements = torch.randn(samples, sequence_length, features)\n",
    "    return emg_data, arm_movements\n",
    "\n",
    "# Generate synthetic data\n",
    "emg_data, arm_movements = generate_synthetic_data()"
   ]
  },
  {
   "cell_type": "code",
   "execution_count": 5,
   "id": "521a1fb9-3a09-4383-b064-28affb5f8065",
   "metadata": {},
   "outputs": [],
   "source": [
    "# Create DataLoader\n",
    "batch_size = 32\n",
    "dataset = TensorDataset(emg_data, arm_movements)\n",
    "dataloader = DataLoader(dataset, batch_size=batch_size, shuffle=True)"
   ]
  },
  {
   "cell_type": "code",
   "execution_count": 6,
   "id": "8a452f91-5669-41ae-bb87-d82051ac38ab",
   "metadata": {},
   "outputs": [],
   "source": [
    "# Simple RNN Model\n",
    "class SimpleRNN(nn.Module):\n",
    "    def __init__(self, input_size, hidden_size, output_size):\n",
    "        super(SimpleRNN, self).__init__()\n",
    "        self.rnn = nn.RNN(input_size, hidden_size, batch_first=True)\n",
    "        self.fc = nn.Linear(hidden_size, output_size)\n",
    "\n",
    "    def forward(self, x):\n",
    "        x, _ = self.rnn(x)\n",
    "        x = self.fc(x)\n",
    "        return x\n"
   ]
  },
  {
   "cell_type": "code",
   "execution_count": 7,
   "id": "912f840b-72c7-4a06-91b6-111d974b1ba8",
   "metadata": {},
   "outputs": [],
   "source": [
    "# Complicated RNN Model (e.g., multi-layer)\n",
    "class ComplicatedRNN(nn.Module):\n",
    "    def __init__(self, input_size, hidden_size, output_size, num_layers=2):\n",
    "        super(ComplicatedRNN, self).__init__()\n",
    "        self.rnn = nn.RNN(input_size, hidden_size, num_layers, batch_first=True)\n",
    "        self.fc = nn.Linear(hidden_size, output_size)\n",
    "\n",
    "    def forward(self, x):\n",
    "        x, _ = self.rnn(x)\n",
    "        x = self.fc(x)\n",
    "        return x"
   ]
  },
  {
   "cell_type": "code",
   "execution_count": 8,
   "id": "695175c7-8f4b-4177-81ca-12c6b267db73",
   "metadata": {},
   "outputs": [],
   "source": [
    "# Initialize models\n",
    "input_size = emg_data.shape[2]\n",
    "hidden_size = 64  # Example size\n",
    "output_size = arm_movements.shape[2]\n",
    "simple_model = SimpleRNN(input_size, hidden_size, output_size)\n",
    "complicated_model = ComplicatedRNN(input_size, hidden_size, output_size)"
   ]
  },
  {
   "cell_type": "code",
   "execution_count": 9,
   "id": "ec2fceb6-6e8c-4072-93f6-cfa72fa61d30",
   "metadata": {},
   "outputs": [],
   "source": [
    "# Training parameters\n",
    "epochs = 5\n",
    "learning_rate = 0.001\n",
    "\n",
    "# Loss and optimizer\n",
    "criterion = nn.MSELoss()\n",
    "optimizer_simple = optim.Adam(simple_model.parameters(), lr=learning_rate)\n",
    "optimizer_complicated = optim.Adam(complicated_model.parameters(), lr=learning_rate)"
   ]
  },
  {
   "cell_type": "code",
   "execution_count": 10,
   "id": "514d7fac-652d-4ce2-b768-afbdcc830f3e",
   "metadata": {},
   "outputs": [],
   "source": [
    "# Training function\n",
    "def train_model(model, optimizer):\n",
    "    model.train()\n",
    "    for epoch in range(epochs):\n",
    "        for i, (inputs, targets) in enumerate(dataloader):\n",
    "            optimizer.zero_grad()\n",
    "            outputs = model(inputs)\n",
    "            loss = criterion(outputs, targets)\n",
    "            loss.backward()\n",
    "            optimizer.step()\n",
    "            if i % 100 == 0:\n",
    "                print(f'Epoch [{epoch+1}/{epochs}], Step [{i+1}/{len(dataloader)}], Loss: {loss.item():.4f}')"
   ]
  },
  {
   "cell_type": "code",
   "execution_count": 11,
   "id": "1c8c0b33-7a9e-4d22-9848-54604d26f8d5",
   "metadata": {},
   "outputs": [
    {
     "name": "stdout",
     "output_type": "stream",
     "text": [
      "Epoch [1/5], Step [1/32], Loss: 1.0220\n",
      "Epoch [2/5], Step [1/32], Loss: 0.9940\n",
      "Epoch [3/5], Step [1/32], Loss: 0.9779\n",
      "Epoch [4/5], Step [1/32], Loss: 1.0011\n",
      "Epoch [5/5], Step [1/32], Loss: 1.0057\n",
      "Epoch [1/5], Step [1/32], Loss: 1.0264\n",
      "Epoch [2/5], Step [1/32], Loss: 0.9894\n",
      "Epoch [3/5], Step [1/32], Loss: 0.9824\n",
      "Epoch [4/5], Step [1/32], Loss: 0.9897\n",
      "Epoch [5/5], Step [1/32], Loss: 1.0132\n"
     ]
    }
   ],
   "source": [
    "# Train models\n",
    "train_model(simple_model, optimizer_simple)\n",
    "train_model(complicated_model, optimizer_complicated)"
   ]
  },
  {
   "cell_type": "code",
   "execution_count": 12,
   "id": "d7c18a62-4b9f-446e-ae8c-4cabe834dbe7",
   "metadata": {},
   "outputs": [],
   "source": [
    "# Save checkpoints\n",
    "torch.save(simple_model.state_dict(), 'simple_model_checkpoint.pth')\n",
    "torch.save(complicated_model.state_dict(), 'complicated_model_checkpoint.pth')"
   ]
  },
  {
   "cell_type": "code",
   "execution_count": null,
   "id": "d9720628-2eec-45d7-9edc-d6fb312c571e",
   "metadata": {},
   "outputs": [],
   "source": []
  }
 ],
 "metadata": {
  "kernelspec": {
   "display_name": "Python 3 (ipykernel)",
   "language": "python",
   "name": "python3"
  },
  "language_info": {
   "codemirror_mode": {
    "name": "ipython",
    "version": 3
   },
   "file_extension": ".py",
   "mimetype": "text/x-python",
   "name": "python",
   "nbconvert_exporter": "python",
   "pygments_lexer": "ipython3",
   "version": "3.10.12"
  }
 },
 "nbformat": 4,
 "nbformat_minor": 5
}
