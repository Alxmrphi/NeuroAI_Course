{
 "cells": [
  {
   "cell_type": "code",
   "execution_count": 1,
   "id": "f0c82b9a-95d8-496c-b553-976f225222c5",
   "metadata": {},
   "outputs": [],
   "source": [
    "import scipy.io\n",
    "import torch\n",
    "from torch.utils.data import TensorDataset, DataLoader"
   ]
  },
  {
   "cell_type": "code",
   "execution_count": 2,
   "id": "a8cbdd38-9fee-4bd3-bae1-9029c1941e03",
   "metadata": {},
   "outputs": [],
   "source": [
    "# Load MATLAB data\n",
    "mat_data = scipy.io.loadmat('data/condsForSimJ2moMuscles.mat')# Load MATLAB data"
   ]
  },
  {
   "cell_type": "code",
   "execution_count": 3,
   "id": "99afd992-25db-4983-8f89-c8bf3a82ae50",
   "metadata": {},
   "outputs": [],
   "source": [
    "# Access the 'condsForSim' array\n",
    "condsForSim = mat_data['condsForSim']"
   ]
  },
  {
   "cell_type": "code",
   "execution_count": 4,
   "id": "44500009-a662-4227-ab30-757da7a73bc0",
   "metadata": {},
   "outputs": [
    {
     "name": "stdout",
     "output_type": "stream",
     "text": [
      "torch.Size([216, 296, 1])\n"
     ]
    }
   ],
   "source": [
    "import torch\n",
    "\n",
    "# Initialize a list to hold the tensors\n",
    "goEnvelopes = []\n",
    "\n",
    "# Loop through each condition\n",
    "for i in range(condsForSim.shape[0]):  # 27 rows\n",
    "    for j in range(condsForSim.shape[1]):  # 8 columns\n",
    "        condition = condsForSim[i, j]\n",
    "\n",
    "        # Extract goEnvelope and convert to tensor\n",
    "        goEnvelope = condition['goEnvelope']\n",
    "        goEnvelope_tensor = torch.tensor(goEnvelope, dtype=torch.float32).view(-1, 1)  # Reshape to [296, 1]\n",
    "        goEnvelopes.append(goEnvelope_tensor)\n",
    "\n",
    "# Concatenate all sequences along a new dimension\n",
    "goEnvelope_all = torch.stack(goEnvelopes)  # Shape: [216, 296, 1]\n",
    "\n",
    "print(goEnvelope_all.shape)\n"
   ]
  },
  {
   "cell_type": "code",
   "execution_count": 5,
   "id": "81e59e32-197a-46a4-96f7-30d8a2f8060a",
   "metadata": {},
   "outputs": [
    {
     "name": "stdout",
     "output_type": "stream",
     "text": [
      "torch.Size([216, 296, 15])\n"
     ]
    }
   ],
   "source": [
    "import torch\n",
    "\n",
    "# Initialize a list to hold the tensors\n",
    "plans = []\n",
    "\n",
    "# Loop through each condition\n",
    "for i in range(condsForSim.shape[0]):  # 27 rows\n",
    "    for j in range(condsForSim.shape[1]):  # 8 columns\n",
    "        condition = condsForSim[i, j]\n",
    "\n",
    "        # Extract plan data\n",
    "        plan = condition['plan']  # Accessing the data; ensure to use [0, 0] if it's nested like goEnvelope\n",
    "        plan_tensor = torch.tensor(plan, dtype=torch.float32)  # Keep its original shape [296, 15]\n",
    "        plans.append(plan_tensor)\n",
    "\n",
    "# Stack all plan sequences\n",
    "plan_all = torch.stack(plans)  # Shape: [216, 296, 15]\n",
    "\n",
    "print(plan_all.shape)\n"
   ]
  },
  {
   "cell_type": "code",
   "execution_count": 6,
   "id": "6a0e517c-6739-4cfb-b7d7-940726381759",
   "metadata": {},
   "outputs": [
    {
     "name": "stdout",
     "output_type": "stream",
     "text": [
      "torch.Size([216, 296, 8])\n"
     ]
    }
   ],
   "source": [
    "import torch\n",
    "\n",
    "# Initialize a list to hold the tensors\n",
    "muscles = []\n",
    "\n",
    "# Loop through each condition\n",
    "for i in range(condsForSim.shape[0]):  # 27 rows\n",
    "    for j in range(condsForSim.shape[1]):  # 8 columns\n",
    "        condition = condsForSim[i, j]\n",
    "\n",
    "        # Extract plan data\n",
    "        muscle = condition['muscle']  # Accessing the data; ensure to use [0, 0] if it's nested like goEnvelope\n",
    "        muscle_tensor = torch.tensor(muscle, dtype=torch.float32)  # Keep its original shape [296, 15]\n",
    "        muscles.append(muscle_tensor)\n",
    "\n",
    "# Stack all plan sequences\n",
    "muscle_all = torch.stack(muscles)  # Shape: [216, 296, 15]\n",
    "\n",
    "print(muscle_all.shape)\n"
   ]
  },
  {
   "cell_type": "code",
   "execution_count": 7,
   "id": "f6638ed6-9a96-4c04-aea4-80146670db35",
   "metadata": {},
   "outputs": [],
   "source": [
    "from torch.utils.data import TensorDataset, DataLoader\n",
    "\n",
    "# Assuming plan_tensor and goEnvelope_tensor are inputs and muscle_tensor is the output\n",
    "dataset = TensorDataset(plan_tensor, goEnvelope_tensor, muscle_tensor)\n",
    "dataloader = DataLoader(dataset, batch_size=32, shuffle=True)\n"
   ]
  },
  {
   "cell_type": "code",
   "execution_count": 11,
   "id": "7a766b75-403d-43a3-9476-c2c1d7882ad3",
   "metadata": {},
   "outputs": [],
   "source": [
    "import torch\n",
    "import torch.nn as nn\n",
    "\n",
    "class RNNModel(nn.Module):\n",
    "    def __init__(self, input_size, hidden_size, num_layers, output_size):\n",
    "        super(RNNModel, self).__init__()\n",
    "        self.rnn = nn.LSTM(input_size=input_size, hidden_size=hidden_size, num_layers=num_layers, batch_first=True)\n",
    "        self.fc = nn.Linear(hidden_size, output_size)\n",
    "\n",
    "    def forward(self, x):\n",
    "        # Forward pass through RNN layers\n",
    "        x, _ = self.rnn(x)\n",
    "        x = self.fc(x)\n",
    "        return x\n",
    "\n",
    "# Define the dimensions for your model based on the input and output data sizes\n",
    "input_size = 15  # The feature dimension of the input data\n",
    "hidden_size = 64  # You can choose an appropriate hidden size\n",
    "num_layers = 2    # You can choose the number of RNN layers\n",
    "output_size = 8   # The feature dimension of the output data"
   ]
  },
  {
   "cell_type": "code",
   "execution_count": 12,
   "id": "c6d5d81a-df5a-4363-9678-020173a170c7",
   "metadata": {},
   "outputs": [],
   "source": [
    "# Instantiate the model with the defined dimensions\n",
    "model = RNNModel(input_size, hidden_size, num_layers, output_size)\n",
    "criterion = nn.MSELoss()\n",
    "optimizer = torch.optim.Adam(model.parameters(), lr=0.001)\n"
   ]
  },
  {
   "cell_type": "code",
   "execution_count": 13,
   "id": "cd3ed791-ea64-4b34-82ec-77a0a5cfddae",
   "metadata": {},
   "outputs": [
    {
     "ename": "NameError",
     "evalue": "name 'data_loader' is not defined",
     "output_type": "error",
     "traceback": [
      "\u001b[0;31m---------------------------------------------------------------------------\u001b[0m",
      "\u001b[0;31mNameError\u001b[0m                                 Traceback (most recent call last)",
      "Cell \u001b[0;32mIn[13], line 5\u001b[0m\n\u001b[1;32m      1\u001b[0m num_epochs \u001b[38;5;241m=\u001b[39m \u001b[38;5;241m10\u001b[39m  \u001b[38;5;66;03m# Set the number of epochs\u001b[39;00m\n\u001b[1;32m      3\u001b[0m \u001b[38;5;28;01mfor\u001b[39;00m epoch \u001b[38;5;129;01min\u001b[39;00m \u001b[38;5;28mrange\u001b[39m(num_epochs):\n\u001b[1;32m      4\u001b[0m     \u001b[38;5;66;03m# Loop over the data_loader\u001b[39;00m\n\u001b[0;32m----> 5\u001b[0m     \u001b[38;5;28;01mfor\u001b[39;00m inputs, targets \u001b[38;5;129;01min\u001b[39;00m \u001b[43mdata_loader\u001b[49m:\n\u001b[1;32m      6\u001b[0m         optimizer\u001b[38;5;241m.\u001b[39mzero_grad()  \u001b[38;5;66;03m# Reset the gradients to zero in the optimizer\u001b[39;00m\n\u001b[1;32m      7\u001b[0m         outputs \u001b[38;5;241m=\u001b[39m model(inputs)  \u001b[38;5;66;03m# Pass the batch of inputs through the model\u001b[39;00m\n",
      "\u001b[0;31mNameError\u001b[0m: name 'data_loader' is not defined"
     ]
    }
   ],
   "source": [
    "num_epochs = 10  # Set the number of epochs\n",
    "\n",
    "for epoch in range(num_epochs):\n",
    "    # Loop over the data_loader\n",
    "    for inputs, targets in data_loader:\n",
    "        optimizer.zero_grad()  # Reset the gradients to zero in the optimizer\n",
    "        outputs = model(inputs)  # Pass the batch of inputs through the model\n",
    "        loss = criterion(outputs, targets)  # Compute the loss\n",
    "        loss.backward()  # Backpropagate the loss\n",
    "        optimizer.step()  # Update the model's parameters\n",
    "\n",
    "    # Validation step\n",
    "    model.eval()  # Set the model to evaluation mode\n",
    "    total_val_loss = 0\n",
    "    total_val_accuracy = 0  # If accuracy is a relevant metric\n",
    "\n",
    "    with torch.no_grad():  # Disable gradient computation\n",
    "        for val_inputs, val_targets in val_loader:\n",
    "            val_outputs = model(val_inputs)\n",
    "            val_loss = criterion(val_outputs, val_targets)\n",
    "            total_val_loss += val_loss.item()\n",
    "\n",
    "            # Calculate accuracy if relevant\n",
    "            _, predicted = torch.max(val_outputs.data, 1)\n",
    "            correct = (predicted == val_targets).sum().item()\n",
    "            total_val_accuracy += correct / val_targets.size(0)\n",
    "\n",
    "    # Calculate average validation loss and accuracy\n",
    "    avg_val_loss = total_val_loss / len(val_loader)\n",
    "    avg_val_accuracy = total_val_accuracy / len(val_loader)\n",
    "    print(f'Epoch [{epoch+1}/{num_epochs}], Validation Loss: {avg_val_loss:.4f}, Validation Accuracy: {avg_val_accuracy:.4f}')\n",
    "\n",
    "    # Set the model back to training mode\n",
    "    model.train()\n"
   ]
  },
  {
   "cell_type": "code",
   "execution_count": null,
   "id": "2f6c622a-a0ae-4458-867a-6856b6c02028",
   "metadata": {},
   "outputs": [],
   "source": []
  }
 ],
 "metadata": {
  "kernelspec": {
   "display_name": "Python 3 (ipykernel)",
   "language": "python",
   "name": "python3"
  },
  "language_info": {
   "codemirror_mode": {
    "name": "ipython",
    "version": 3
   },
   "file_extension": ".py",
   "mimetype": "text/x-python",
   "name": "python",
   "nbconvert_exporter": "python",
   "pygments_lexer": "ipython3",
   "version": "3.10.12"
  }
 },
 "nbformat": 4,
 "nbformat_minor": 5
}
