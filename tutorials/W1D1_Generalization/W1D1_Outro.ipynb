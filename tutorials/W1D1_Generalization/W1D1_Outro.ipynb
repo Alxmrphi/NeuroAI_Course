{
 "cells": [
  {
   "cell_type": "code",
   "execution_count": null,
   "id": "381fc5cb-72fd-4411-b560-5ada35ec2a19",
   "metadata": {},
   "outputs": [],
   "source": [
    "print(\"Hello\")"
   ]
  }
 ],
 "metadata": {
  "kernelspec": {
   "display_name": "Python 3 (ipykernel)",
   "language": "python",
   "name": "python3"
  },
  "language_info": {
   "codemirror_mode": {
    "name": "ipython",
    "version": 3
   },
   "file_extension": ".py",
   "mimetype": "text/x-python",
   "name": "python",
   "nbconvert_exporter": "python",
   "pygments_lexer": "ipython3",
   "version": "3.10.12"
  }
 },
 "nbformat": 4,
 "nbformat_minor": 5
}
