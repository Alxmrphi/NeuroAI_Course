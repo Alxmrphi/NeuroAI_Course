{
 "cells": [
  {
   "cell_type": "code",
   "execution_count": 1,
   "id": "70794931-bf98-4dd0-ad50-70ffd28fada5",
   "metadata": {},
   "outputs": [
    {
     "name": "stdout",
     "output_type": "stream",
     "text": [
      "Requirement already satisfied: gradio in /home/samuele/Documenti/GitHub/neuroaienv/lib/python3.10/site-packages (4.11.0)\n",
      "Requirement already satisfied: typer[all]<1.0,>=0.9 in /home/samuele/Documenti/GitHub/neuroaienv/lib/python3.10/site-packages (from gradio) (0.9.0)\n",
      "Requirement already satisfied: pyyaml<7.0,>=5.0 in /home/samuele/Documenti/GitHub/neuroaienv/lib/python3.10/site-packages (from gradio) (6.0.1)\n",
      "Requirement already satisfied: fastapi in /home/samuele/Documenti/GitHub/neuroaienv/lib/python3.10/site-packages (from gradio) (0.105.0)\n",
      "Requirement already satisfied: tomlkit==0.12.0 in /home/samuele/Documenti/GitHub/neuroaienv/lib/python3.10/site-packages (from gradio) (0.12.0)\n",
      "Requirement already satisfied: gradio-client==0.7.3 in /home/samuele/Documenti/GitHub/neuroaienv/lib/python3.10/site-packages (from gradio) (0.7.3)\n",
      "Requirement already satisfied: pillow<11.0,>=8.0 in /home/samuele/Documenti/GitHub/neuroaienv/lib/python3.10/site-packages (from gradio) (10.1.0)\n",
      "Requirement already satisfied: numpy~=1.0 in /home/samuele/Documenti/GitHub/neuroaienv/lib/python3.10/site-packages (from gradio) (1.26.2)\n",
      "Requirement already satisfied: matplotlib~=3.0 in /home/samuele/Documenti/GitHub/neuroaienv/lib/python3.10/site-packages (from gradio) (3.8.2)\n",
      "Requirement already satisfied: semantic-version~=2.0 in /home/samuele/Documenti/GitHub/neuroaienv/lib/python3.10/site-packages (from gradio) (2.10.0)\n",
      "Requirement already satisfied: altair<6.0,>=4.2.0 in /home/samuele/Documenti/GitHub/neuroaienv/lib/python3.10/site-packages (from gradio) (5.2.0)\n",
      "Requirement already satisfied: typing-extensions~=4.0 in /home/samuele/Documenti/GitHub/neuroaienv/lib/python3.10/site-packages (from gradio) (4.9.0)\n",
      "Requirement already satisfied: pydantic>=2.0 in /home/samuele/Documenti/GitHub/neuroaienv/lib/python3.10/site-packages (from gradio) (2.5.3)\n",
      "Requirement already satisfied: uvicorn>=0.14.0 in /home/samuele/Documenti/GitHub/neuroaienv/lib/python3.10/site-packages (from gradio) (0.25.0)\n",
      "Requirement already satisfied: jinja2<4.0 in /home/samuele/Documenti/GitHub/neuroaienv/lib/python3.10/site-packages (from gradio) (3.1.2)\n",
      "Requirement already satisfied: markupsafe~=2.0 in /home/samuele/Documenti/GitHub/neuroaienv/lib/python3.10/site-packages (from gradio) (2.1.3)\n",
      "Requirement already satisfied: aiofiles<24.0,>=22.0 in /home/samuele/Documenti/GitHub/neuroaienv/lib/python3.10/site-packages (from gradio) (23.2.1)\n",
      "Requirement already satisfied: orjson~=3.0 in /home/samuele/Documenti/GitHub/neuroaienv/lib/python3.10/site-packages (from gradio) (3.9.10)\n",
      "Requirement already satisfied: python-multipart in /home/samuele/Documenti/GitHub/neuroaienv/lib/python3.10/site-packages (from gradio) (0.0.6)\n",
      "Requirement already satisfied: pydub in /home/samuele/Documenti/GitHub/neuroaienv/lib/python3.10/site-packages (from gradio) (0.25.1)\n",
      "Requirement already satisfied: ffmpy in /home/samuele/Documenti/GitHub/neuroaienv/lib/python3.10/site-packages (from gradio) (0.3.1)\n",
      "Requirement already satisfied: httpx in /home/samuele/Documenti/GitHub/neuroaienv/lib/python3.10/site-packages (from gradio) (0.26.0)\n",
      "Requirement already satisfied: pandas<3.0,>=1.0 in /home/samuele/Documenti/GitHub/neuroaienv/lib/python3.10/site-packages (from gradio) (2.1.4)\n",
      "Requirement already satisfied: huggingface-hub>=0.19.3 in /home/samuele/Documenti/GitHub/neuroaienv/lib/python3.10/site-packages (from gradio) (0.20.1)\n",
      "Requirement already satisfied: importlib-resources<7.0,>=1.3 in /home/samuele/Documenti/GitHub/neuroaienv/lib/python3.10/site-packages (from gradio) (6.1.1)\n",
      "Requirement already satisfied: packaging in /home/samuele/Documenti/GitHub/neuroaienv/lib/python3.10/site-packages (from gradio) (23.2)\n",
      "Requirement already satisfied: fsspec in /home/samuele/Documenti/GitHub/neuroaienv/lib/python3.10/site-packages (from gradio-client==0.7.3->gradio) (2023.12.2)\n",
      "Requirement already satisfied: websockets<12.0,>=10.0 in /home/samuele/Documenti/GitHub/neuroaienv/lib/python3.10/site-packages (from gradio-client==0.7.3->gradio) (11.0.3)\n",
      "Requirement already satisfied: jsonschema>=3.0 in /home/samuele/Documenti/GitHub/neuroaienv/lib/python3.10/site-packages (from altair<6.0,>=4.2.0->gradio) (4.20.0)\n",
      "Requirement already satisfied: toolz in /home/samuele/Documenti/GitHub/neuroaienv/lib/python3.10/site-packages (from altair<6.0,>=4.2.0->gradio) (0.12.0)\n",
      "Requirement already satisfied: requests in /home/samuele/Documenti/GitHub/neuroaienv/lib/python3.10/site-packages (from huggingface-hub>=0.19.3->gradio) (2.31.0)\n",
      "Requirement already satisfied: tqdm>=4.42.1 in /home/samuele/Documenti/GitHub/neuroaienv/lib/python3.10/site-packages (from huggingface-hub>=0.19.3->gradio) (4.66.1)\n",
      "Requirement already satisfied: filelock in /home/samuele/Documenti/GitHub/neuroaienv/lib/python3.10/site-packages (from huggingface-hub>=0.19.3->gradio) (3.13.1)\n",
      "Requirement already satisfied: fonttools>=4.22.0 in /home/samuele/Documenti/GitHub/neuroaienv/lib/python3.10/site-packages (from matplotlib~=3.0->gradio) (4.47.0)\n",
      "Requirement already satisfied: pyparsing>=2.3.1 in /home/samuele/Documenti/GitHub/neuroaienv/lib/python3.10/site-packages (from matplotlib~=3.0->gradio) (3.1.1)\n",
      "Requirement already satisfied: contourpy>=1.0.1 in /home/samuele/Documenti/GitHub/neuroaienv/lib/python3.10/site-packages (from matplotlib~=3.0->gradio) (1.2.0)\n",
      "Requirement already satisfied: kiwisolver>=1.3.1 in /home/samuele/Documenti/GitHub/neuroaienv/lib/python3.10/site-packages (from matplotlib~=3.0->gradio) (1.4.5)\n",
      "Requirement already satisfied: python-dateutil>=2.7 in /home/samuele/Documenti/GitHub/neuroaienv/lib/python3.10/site-packages (from matplotlib~=3.0->gradio) (2.8.2)\n",
      "Requirement already satisfied: cycler>=0.10 in /home/samuele/Documenti/GitHub/neuroaienv/lib/python3.10/site-packages (from matplotlib~=3.0->gradio) (0.12.1)\n",
      "Requirement already satisfied: tzdata>=2022.1 in /home/samuele/Documenti/GitHub/neuroaienv/lib/python3.10/site-packages (from pandas<3.0,>=1.0->gradio) (2023.3)\n",
      "Requirement already satisfied: pytz>=2020.1 in /home/samuele/Documenti/GitHub/neuroaienv/lib/python3.10/site-packages (from pandas<3.0,>=1.0->gradio) (2023.3.post1)\n",
      "Requirement already satisfied: annotated-types>=0.4.0 in /home/samuele/Documenti/GitHub/neuroaienv/lib/python3.10/site-packages (from pydantic>=2.0->gradio) (0.6.0)\n",
      "Requirement already satisfied: pydantic-core==2.14.6 in /home/samuele/Documenti/GitHub/neuroaienv/lib/python3.10/site-packages (from pydantic>=2.0->gradio) (2.14.6)\n",
      "Requirement already satisfied: click<9.0.0,>=7.1.1 in /home/samuele/Documenti/GitHub/neuroaienv/lib/python3.10/site-packages (from typer[all]<1.0,>=0.9->gradio) (8.1.7)\n",
      "Requirement already satisfied: rich<14.0.0,>=10.11.0 in /home/samuele/Documenti/GitHub/neuroaienv/lib/python3.10/site-packages (from typer[all]<1.0,>=0.9->gradio) (13.7.0)\n",
      "Requirement already satisfied: shellingham<2.0.0,>=1.3.0 in /home/samuele/Documenti/GitHub/neuroaienv/lib/python3.10/site-packages (from typer[all]<1.0,>=0.9->gradio) (1.5.4)\n",
      "Requirement already satisfied: colorama<0.5.0,>=0.4.3 in /home/samuele/Documenti/GitHub/neuroaienv/lib/python3.10/site-packages (from typer[all]<1.0,>=0.9->gradio) (0.4.6)\n",
      "Requirement already satisfied: h11>=0.8 in /home/samuele/Documenti/GitHub/neuroaienv/lib/python3.10/site-packages (from uvicorn>=0.14.0->gradio) (0.14.0)\n",
      "Requirement already satisfied: starlette<0.28.0,>=0.27.0 in /home/samuele/Documenti/GitHub/neuroaienv/lib/python3.10/site-packages (from fastapi->gradio) (0.27.0)\n",
      "Requirement already satisfied: anyio<4.0.0,>=3.7.1 in /home/samuele/Documenti/GitHub/neuroaienv/lib/python3.10/site-packages (from fastapi->gradio) (3.7.1)\n",
      "Requirement already satisfied: certifi in /home/samuele/Documenti/GitHub/neuroaienv/lib/python3.10/site-packages (from httpx->gradio) (2023.11.17)\n",
      "Requirement already satisfied: sniffio in /home/samuele/Documenti/GitHub/neuroaienv/lib/python3.10/site-packages (from httpx->gradio) (1.3.0)\n",
      "Requirement already satisfied: httpcore==1.* in /home/samuele/Documenti/GitHub/neuroaienv/lib/python3.10/site-packages (from httpx->gradio) (1.0.2)\n",
      "Requirement already satisfied: idna in /home/samuele/Documenti/GitHub/neuroaienv/lib/python3.10/site-packages (from httpx->gradio) (3.6)\n",
      "Requirement already satisfied: exceptiongroup in /home/samuele/Documenti/GitHub/neuroaienv/lib/python3.10/site-packages (from anyio<4.0.0,>=3.7.1->fastapi->gradio) (1.2.0)\n",
      "Requirement already satisfied: attrs>=22.2.0 in /home/samuele/Documenti/GitHub/neuroaienv/lib/python3.10/site-packages (from jsonschema>=3.0->altair<6.0,>=4.2.0->gradio) (23.1.0)\n",
      "Requirement already satisfied: referencing>=0.28.4 in /home/samuele/Documenti/GitHub/neuroaienv/lib/python3.10/site-packages (from jsonschema>=3.0->altair<6.0,>=4.2.0->gradio) (0.32.0)\n",
      "Requirement already satisfied: rpds-py>=0.7.1 in /home/samuele/Documenti/GitHub/neuroaienv/lib/python3.10/site-packages (from jsonschema>=3.0->altair<6.0,>=4.2.0->gradio) (0.15.2)\n",
      "Requirement already satisfied: jsonschema-specifications>=2023.03.6 in /home/samuele/Documenti/GitHub/neuroaienv/lib/python3.10/site-packages (from jsonschema>=3.0->altair<6.0,>=4.2.0->gradio) (2023.11.2)\n",
      "Requirement already satisfied: six>=1.5 in /home/samuele/Documenti/GitHub/neuroaienv/lib/python3.10/site-packages (from python-dateutil>=2.7->matplotlib~=3.0->gradio) (1.16.0)\n",
      "Requirement already satisfied: pygments<3.0.0,>=2.13.0 in /home/samuele/Documenti/GitHub/neuroaienv/lib/python3.10/site-packages (from rich<14.0.0,>=10.11.0->typer[all]<1.0,>=0.9->gradio) (2.17.2)\n",
      "Requirement already satisfied: markdown-it-py>=2.2.0 in /home/samuele/Documenti/GitHub/neuroaienv/lib/python3.10/site-packages (from rich<14.0.0,>=10.11.0->typer[all]<1.0,>=0.9->gradio) (3.0.0)\n",
      "Requirement already satisfied: charset-normalizer<4,>=2 in /home/samuele/Documenti/GitHub/neuroaienv/lib/python3.10/site-packages (from requests->huggingface-hub>=0.19.3->gradio) (3.3.2)\n",
      "Requirement already satisfied: urllib3<3,>=1.21.1 in /home/samuele/Documenti/GitHub/neuroaienv/lib/python3.10/site-packages (from requests->huggingface-hub>=0.19.3->gradio) (2.1.0)\n",
      "Requirement already satisfied: mdurl~=0.1 in /home/samuele/Documenti/GitHub/neuroaienv/lib/python3.10/site-packages (from markdown-it-py>=2.2.0->rich<14.0.0,>=10.11.0->typer[all]<1.0,>=0.9->gradio) (0.1.2)\n"
     ]
    }
   ],
   "source": [
    "# Install Gradio library\n",
    "!pip install gradio\n"
   ]
  },
  {
   "cell_type": "code",
   "execution_count": 51,
   "id": "f120cadb-1531-4045-a68b-55a9ea443a25",
   "metadata": {},
   "outputs": [
    {
     "name": "stderr",
     "output_type": "stream",
     "text": [
      "Could not find image processor class in the image processor config or the model config. Loading based on pattern matching with the model's feature extractor configuration.\n",
      "Some weights of VisionEncoderDecoderModel were not initialized from the model checkpoint at microsoft/trocr-base-handwritten and are newly initialized: ['encoder.pooler.dense.bias', 'encoder.pooler.dense.weight']\n",
      "You should probably TRAIN this model on a down-stream task to be able to use it for predictions and inference.\n"
     ]
    }
   ],
   "source": [
    "# Import necessary libraries\n",
    "import gradio as gr\n",
    "import numpy as np\n",
    "\n",
    "from transformers import TrOCRProcessor, VisionEncoderDecoderModel\n",
    "import requests\n",
    "from PIL import Image, ImageDraw  # Import ImageDraw module\n",
    "# Load TrOCR processor and model from Hugging Face model hub\n",
    "processor = TrOCRProcessor.from_pretrained(\"microsoft/trocr-base-handwritten\")\n",
    "model = VisionEncoderDecoderModel.from_pretrained(\"microsoft/trocr-base-handwritten\")\n"
   ]
  },
  {
   "cell_type": "code",
   "execution_count": 52,
   "id": "b8b8978a-3098-4586-8501-ed96e5f8f9dd",
   "metadata": {},
   "outputs": [],
   "source": [
    "def process_image(image):\n",
    "    # Process the input image using the TrOCR processor\n",
    "    pixel_values = processor(image, return_tensors=\"pt\").pixel_values\n",
    "    \n",
    "    # Generate text using the TrOCR model\n",
    "    generated_ids = model.generate(pixel_values)\n",
    "    \n",
    "    # Decode the generated IDs to obtain the final text\n",
    "    generated_text = processor.batch_decode(generated_ids, skip_special_tokens=True)[0]\n",
    "    \n",
    "    # Return the generated text\n",
    "    return generated_text\n"
   ]
  },
  {
   "cell_type": "code",
   "execution_count": 53,
   "id": "ee50c73b-28d0-4076-a9e1-d519b6f24584",
   "metadata": {},
   "outputs": [],
   "source": [
    "iface = gr.Interface(\n",
    "    fn=process_image,\n",
    "    inputs=gr.Image(type=\"pil\"),\n",
    "    outputs=gr.Textbox(),\n",
    "    title=\"Interactive demo: TrOCR\",\n",
    "    description=\"Demo for Microsoft’s TrOCR, an encoder-decoder model for OCR on single-text line images.\",\n",
    ")\n"
   ]
  },
  {
   "cell_type": "code",
   "execution_count": 54,
   "id": "db1d1670-f077-4cc1-93bc-e7f3c0589117",
   "metadata": {},
   "outputs": [
    {
     "name": "stdout",
     "output_type": "stream",
     "text": [
      "Running on local URL:  http://127.0.0.1:7880\n",
      "\n",
      "To create a public link, set `share=True` in `launch()`.\n"
     ]
    },
    {
     "data": {
      "text/html": [
       "<div><iframe src=\"http://127.0.0.1:7880/\" width=\"100%\" height=\"500\" allow=\"autoplay; camera; microphone; clipboard-read; clipboard-write;\" frameborder=\"0\" allowfullscreen></iframe></div>"
      ],
      "text/plain": [
       "<IPython.core.display.HTML object>"
      ]
     },
     "metadata": {},
     "output_type": "display_data"
    },
    {
     "data": {
      "text/plain": []
     },
     "execution_count": 54,
     "metadata": {},
     "output_type": "execute_result"
    }
   ],
   "source": [
    "iface.launch()\n"
   ]
  }
 ],
 "metadata": {
  "kernelspec": {
   "display_name": "Python 3 (ipykernel)",
   "language": "python",
   "name": "python3"
  },
  "language_info": {
   "codemirror_mode": {
    "name": "ipython",
    "version": 3
   },
   "file_extension": ".py",
   "mimetype": "text/x-python",
   "name": "python",
   "nbconvert_exporter": "python",
   "pygments_lexer": "ipython3",
   "version": "3.10.12"
  }
 },
 "nbformat": 4,
 "nbformat_minor": 5
}
