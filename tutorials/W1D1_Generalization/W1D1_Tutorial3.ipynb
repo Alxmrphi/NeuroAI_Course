{
 "cells": [
  {
   "cell_type": "code",
   "execution_count": null,
   "id": "a37a233f-3395-47ef-ad81-35d27e20c8a3",
   "metadata": {},
   "outputs": [],
   "source": [
    "# Imports\n",
    "import ipywidgets as widgets  \n",
    "from IPython.display import display \n",
    "import torchvision \n",
    "from torchvision import transforms \n",
    "import matplotlib.pyplot as plt \n",
    "\n",
    "# Define the transformations that will be applied to each image in the dataset\n",
    "transform = transforms.Compose([\n",
    "    transforms.ToTensor()  # Convert images to PyTorch tensors\n",
    "])\n",
    "\n",
    "# Load the Omniglot dataset using torchvision's dataset utility\n",
    "omniglot_dataset = torchvision.datasets.Omniglot(\n",
    "    root='./data',  \n",
    "    background=True,  \n",
    "    transform=transform,  \n",
    "    download=True  # If the dataset isn't present at the root, download it.\n",
    ")\n",
    "\n",
    "# Function to plot and display a single image from the Omniglot dataset\n",
    "def plot_omniglot_image(index):\n",
    "    # Retrieve the image and its label from the dataset using the provided index\n",
    "    img, label = omniglot_dataset[index]\n",
    "    # Display the image \n",
    "    plt.imshow(img.squeeze(), cmap='gray')  # Remove any extra dimensions from the tensor and plot it\n",
    "    plt.title(f'Index: {index}, Label: {label}')  \n",
    "    plt.axis('off') \n",
    "    plt.show()  \n",
    "\n",
    "# Create an integer slider widget using ipywidgets\n",
    "slider = widgets.IntSlider(\n",
    "    value=0, \n",
    "    min=0,  \n",
    "    max=len(omniglot_dataset)-1,  \n",
    "    step=1, \n",
    "    description='Index'  # Description label for the slider\n",
    ")\n",
    "\n",
    "# Create an interactive widget that will call the 'plot_omniglot_image' function\n",
    "# whenever the slider's value is changed.\n",
    "widgets.interact(plot_omniglot_image, index=slider)\n"
   ]
  },
  {
   "cell_type": "code",
   "execution_count": null,
   "id": "a8af1e0b-35be-4331-83f1-dd66395157d0",
   "metadata": {},
   "outputs": [],
   "source": []
  }
 ],
 "metadata": {
  "kernelspec": {
   "display_name": "Python 3 (ipykernel)",
   "language": "python",
   "name": "python3"
  },
  "language_info": {
   "codemirror_mode": {
    "name": "ipython",
    "version": 3
   },
   "file_extension": ".py",
   "mimetype": "text/x-python",
   "name": "python",
   "nbconvert_exporter": "python",
   "pygments_lexer": "ipython3",
   "version": "3.10.12"
  }
 },
 "nbformat": 4,
 "nbformat_minor": 5
}
