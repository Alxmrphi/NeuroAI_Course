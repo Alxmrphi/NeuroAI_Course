{
 "cells": [
  {
   "cell_type": "code",
   "execution_count": 1,
   "id": "08528e00-ad9f-46b7-899a-862a1237d4d5",
   "metadata": {},
   "outputs": [
    {
     "name": "stdout",
     "output_type": "stream",
     "text": [
      "Requirement already satisfied: numpy in /home/samuele/neuroAI/lib/python3.10/site-packages (1.26.2)\n"
     ]
    }
   ],
   "source": [
    "# Install necessary libraries\n",
    "#!pip install numpy "
   ]
  },
  {
   "cell_type": "code",
   "execution_count": 2,
   "id": "674be7a1-d379-4f80-acfb-392dd5b31650",
   "metadata": {},
   "outputs": [],
   "source": [
    "# Imports\n",
    "import numpy as np"
   ]
  },
  {
   "cell_type": "code",
   "execution_count": 3,
   "id": "2b0cb64c-b124-45ff-8796-71dbfe51df6c",
   "metadata": {},
   "outputs": [],
   "source": [
    "def calculate_writing_time(total_words, words_per_day, days_per_week, weeks_per_year, average_human_lifespan):\n",
    "    \"\"\"\n",
    "    Calculate the time required to write a given number of words in lifetimes.\n",
    "\n",
    "    Parameters:\n",
    "    - total_words: total number of words to be written.\n",
    "    - words_per_day: number of words written per day.\n",
    "    - days_per_week: number of days dedicated to writing per week.\n",
    "    - weeks_per_year: number of weeks dedicated to writing per year.\n",
    "    - average_human_lifespan: average lifespan of a human in years.\n",
    "\n",
    "    Returns:\n",
    "    - time_to_write_lifetimes: time to write the given words in lifetimes.\n",
    "    \"\"\"\n",
    "\n",
    "    #################################################\n",
    "    ## TODO for students: fill in the missing variables ##\n",
    "    # Fill out function and remove\n",
    "    raise NotImplementedError(\"Student exercise: fill in the missing variables\")\n",
    "    #################################################\n",
    "    \n",
    "    words_per_year = words_per_day * days_per_week * weeks_per_year\n",
    "\n",
    "    # Calculate the time to write in years\n",
    "    time_to_write_years = total_words / ... \n",
    "\n",
    "    # Calculate the time to write in lifetimes\n",
    "    time_to_write_lifetimes = time_to_write_years / average_human_lifespan\n",
    "\n",
    "    return time_to_write_lifetimes\n",
    "\n",
    "# Example values\n",
    "total_words = 5e9\n",
    "words_per_day = 1500\n",
    "days_per_week = 6\n",
    "weeks_per_year = 50\n",
    "average_human_lifespan = 80\n",
    "\n",
    "# Uncomment the code below to test your function\n",
    "\n",
    "# Test the function\n",
    "#time_to_write_lifetimes_roberta = calculate_writing_time(\n",
    "    #total_words, \n",
    "    #words_per_day, \n",
    "    #days_per_week, \n",
    "    #weeks_per_year, \n",
    "    #average_human_lifespan\n",
    "#)\n",
    "\n",
    "# Print the result\n",
    "#print(f\"Time to write {total_words} words in lifetimes: {time_to_write_lifetimes_roberta} lifetimes\")\n"
   ]
  },
  {
   "cell_type": "code",
   "execution_count": 4,
   "id": "48f02975-a2cb-4b4a-8fc0-479a406c74f1",
   "metadata": {},
   "outputs": [],
   "source": [
    "# to_remove solution\n",
    "def calculate_writing_time(total_words, words_per_day, days_per_week, weeks_per_year, average_human_lifespan):\n",
    "    \"\"\"\n",
    "    Calculate the time required to write a given number of words in lifetimes.\n",
    "\n",
    "    Parameters:\n",
    "    - total_words: total number of words to be written.\n",
    "    - words_per_day: number of words written per day.\n",
    "    - days_per_week: number of days dedicated to writing per week.\n",
    "    - weeks_per_year: number of weeks dedicated to writing per year.\n",
    "    - average_human_lifespan: average lifespan of a human in years.\n",
    "\n",
    "    Returns:\n",
    "    - time_to_write_lifetimes: time to write the given words in lifetimes.\n",
    "    \"\"\"\n",
    "    \n",
    "    words_per_year = words_per_day * days_per_week * weeks_per_year\n",
    "\n",
    "    # Calculate the time to write in years\n",
    "    time_to_write_years = total_words / words_per_year \n",
    "\n",
    "    # Calculate the time to write in lifetimes\n",
    "    time_to_write_lifetimes = time_to_write_years / average_human_lifespan\n",
    "\n",
    "    return time_to_write_lifetimes\n",
    "\n",
    "# Example values\n",
    "total_words = 5e9\n",
    "words_per_day = 1500\n",
    "days_per_week = 6\n",
    "weeks_per_year = 50\n",
    "average_human_lifespan = 80\n",
    "\n",
    "# Uncomment the code below to test your function\n",
    "\n",
    "# Test the function\n",
    "#time_to_write_lifetimes_roberta = calculate_writing_time(\n",
    "    #total_words, \n",
    "    #words_per_day, \n",
    "    #days_per_week, \n",
    "    #weeks_per_year, \n",
    "    #average_human_lifespan\n",
    "#)\n",
    "\n",
    "# Print the result\n",
    "#print(f\"Time to write {total_words} words in lifetimes: {time_to_write_lifetimes_roberta} lifetimes\")\n"
   ]
  },
  {
   "cell_type": "code",
   "execution_count": 5,
   "id": "f9065f36-3e2d-435e-802a-1736754759d9",
   "metadata": {},
   "outputs": [],
   "source": [
    "#Exploring Llama 2\n",
    "total_tokens_llama2 = 2e12\n",
    "total_words_llama2 = 2e12 / 1.5 #assuming 1.5 words per token"
   ]
  },
  {
   "cell_type": "code",
   "execution_count": 6,
   "id": "bb48ab5f-090b-46ee-84b4-5421e7720027",
   "metadata": {},
   "outputs": [],
   "source": [
    "# Time to generate text\n",
    "time_to_write_lifetimes_llama = calculate_writing_time(total_words_llama2, words_per_day, days_per_week, weeks_per_year, average_human_lifespan)"
   ]
  },
  {
   "cell_type": "code",
   "execution_count": null,
   "id": "8aadbb9a-5dd6-4438-b7ad-64926750451e",
   "metadata": {},
   "outputs": [],
   "source": []
  }
 ],
 "metadata": {
  "kernelspec": {
   "display_name": "Python 3 (ipykernel)",
   "language": "python",
   "name": "python3"
  },
  "language_info": {
   "codemirror_mode": {
    "name": "ipython",
    "version": 3
   },
   "file_extension": ".py",
   "mimetype": "text/x-python",
   "name": "python",
   "nbconvert_exporter": "python",
   "pygments_lexer": "ipython3",
   "version": "3.10.12"
  }
 },
 "nbformat": 4,
 "nbformat_minor": 5
}
