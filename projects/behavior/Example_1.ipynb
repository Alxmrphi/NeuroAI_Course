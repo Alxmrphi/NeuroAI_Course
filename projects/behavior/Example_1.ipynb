{
 "cells": [
  {
   "cell_type": "markdown",
   "metadata": {
    "colab_type": "text",
    "execution": {},
    "id": "view-in-github"
   },
   "source": [
    "<a href=\"https://colab.research.google.com/github/NeuromatchAcademy/course-content/blob/main/projects/behavior/laquitaine_human_errors.ipynb\" target=\"_parent\"><img src=\"https://colab.research.google.com/assets/colab-badge.svg\" alt=\"Open In Colab\"/></a> &nbsp; <a href=\"https://kaggle.com/kernels/welcome?src=https://raw.githubusercontent.com/NeuromatchAcademy/course-content/main/projects/behavior/laquitaine_human_errors.ipynb\" target=\"_parent\"><img src=\"https://kaggle.com/static/images/open-in-kaggle.svg\" alt=\"Open in Kaggle\"/></a>"
   ]
  },
  {
   "cell_type": "markdown",
   "metadata": {
    "execution": {}
   },
   "source": [
    "### Example of the initial structure \n",
    "\n",
    "## [Study name]\n",
    "\n",
    "author: \n",
    "\n",
    "Inspired from:"
   ]
  },
  {
   "cell_type": "code",
   "execution_count": null,
   "metadata": {
    "execution": {},
    "vscode": {
     "languageId": "python"
    }
   },
   "outputs": [],
   "source": [
    "# insert packages"
   ]
  },
  {
   "cell_type": "code",
   "execution_count": null,
   "metadata": {
    "cellView": "form",
    "execution": {},
    "vscode": {
     "languageId": "python"
    }
   },
   "outputs": [],
   "source": [
    "# @title Figure settings"
   ]
  },
  {
   "cell_type": "code",
   "execution_count": null,
   "metadata": {
    "cellView": "form",
    "execution": {},
    "vscode": {
     "languageId": "python"
    }
   },
   "outputs": [],
   "source": [
    "# @title Data retrieval\n",
    "# url = \"your_url_here\"\n",
    "\n",
    "# if not os.path.isfile(fname):\n",
    "#   try:\n",
    "#     RequestAPI = requests.get(url)\n",
    "#   except requests.ConnectionError:\n",
    "#     print(\"!!! Failed to download data !!!\")\n",
    "#   else:\n",
    "#     if RequestAPI.status_code != requests.codes.ok:\n",
    "#       print(\"!!! Failed to download data !!!\")\n",
    "#     else:\n",
    "#       with open(fname, \"wb\") as fid:\n",
    "#         fid.write(RequestAPI.content)"
   ]
  },
  {
   "cell_type": "code",
   "execution_count": null,
   "metadata": {
    "cellView": "form",
    "execution": {},
    "vscode": {
     "languageId": "python"
    }
   },
   "outputs": [],
   "source": [
    "# @title Data loading\n"
   ]
  }
 ],
 "metadata": {
  "colab": {
   "collapsed_sections": [
    "UDOOLad2XitQ"
   ],
   "include_colab_link": true,
   "name": "laquitaine_human_errors",
   "provenance": [],
   "toc_visible": true
  },
  "kernel": {
   "display_name": "Python 3",
   "language": "python",
   "name": "python3"
  },
  "kernelspec": {
   "display_name": "Python 3 (ipykernel)",
   "language": "python",
   "name": "python3"
  },
  "language_info": {
   "codemirror_mode": {
    "name": "ipython",
    "version": 3
   },
   "file_extension": ".py",
   "mimetype": "text/x-python",
   "name": "python",
   "nbconvert_exporter": "python",
   "pygments_lexer": "ipython3",
   "version": "3.10.9"
  }
 },
 "nbformat": 4,
 "nbformat_minor": 1
}
