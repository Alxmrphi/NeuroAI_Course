{
 "cells": [
  {
   "cell_type": "markdown",
   "metadata": {
    "execution": {}
   },
   "source": [
    "<a href=\"https://colab.research.google.com/github/neuromatch/NeuroAI_Course/blob/main/projects/project-notebooks/Macrocircuits.ipynb\" target=\"_parent\"><img src=\"https://colab.research.google.com/assets/colab-badge.svg\" alt=\"Open In Colab\"/></a> &nbsp; <a href=\"https://kaggle.com/kernels/welcome?src=https://raw.githubusercontent.com/neuromatch/NeuroAI_Course/main/projects/project-notebooks/Macrocircuits.ipynb\" target=\"_parent\"><img src=\"https://kaggle.com/static/images/open-in-kaggle.svg\" alt=\"Open in Kaggle\"/></a>"
   ]
  },
  {
   "cell_type": "markdown",
   "metadata": {
    "execution": {}
   },
   "source": [
    "# Macrocircuits\n",
    "\n",
    "***Macrocircuits: Leveraging neural architectural priors and modularity in embodied agents***\n",
    "\n",
    "**By Neuromatch Academy**\n",
    "\n",
    "**Content creators:** Divyansha Lachi, Kseniia Shilova  \n",
    "\n",
    "**Content reviewers:** Eva Dyer, Hannah Choi  \n",
    "\n",
    "__Production editors:__ Konstantine Tsafatinos, Ella Batty, Spiros Chavlis, Samuele Bolotta, Hlib Solodzhuk\n",
    "\n",
    "---"
   ]
  },
  {
   "cell_type": "markdown",
   "metadata": {
    "execution": {}
   },
   "source": [
    "## Background\n",
    "This project explores how we can build a biologically inspired artificial neural network (ANN) architecture, derived from the C. Elegans motor circuit, for the control of a simulated Swimmer agent. Traditional motor control ANNs often rely on generic, fully connected multilayer perceptrons (MLPs), which demand extensive training data, offer limited transferability, and possess complex internal dynamics that challenge interpretability. The project aims to understand how the biologically motivated ANN, which is shaped by evolution to be highly structured and sparse, could help to solve these problems and provide advantages in the domain of motor control. We will train MLPs using algorithms such as PPO, DDPG, and ES, and compare their performance in terms of rewards and sample efficiency with our bio-inspired ANN. The project also includes visualizing the C. Elegans connectome and building the network using this circuitry. We will conduct various ablation analyses by removing sign and weight-sharing constraints, and altering environmental parameters like the swimmer’s length or viscosity. These investigations aim to understand how architecture and modularity impact performance and learning across different environments. Finally, the project aims at building an agent that is robust to environmental variations, navigating towards specific targets, and enhancing our understanding of bio-inspired motor control.  \n",
    "\n",
    "\n",
    "**Relevant references:**  \n",
    "\n",
    "- [Neural circuit architectural priors for embodied control](https://arxiv.org/abs/2201.05242)  \n",
    "- [Hierarchical motor control in mammals and machines](https://www.nature.com/articles/s41467-019-13239-6)  \n",
    "- [Continuous control with deep reinforcement learning](https://arxiv.org/pdf/1509.02971.pdf)  \n",
    "\n",
    "*This notebook uses code from the following GitHub repository:* [ncap](https://github.com/nikhilxb/ncap) by Nikhil X. Bhattasali and Anthony M. Zador and Tatiana A. Engel.\n",
    "\n",
    "**Infrastructure note:** This notebook contains GPU install guide as well as CPU ones for different OS."
   ]
  },
  {
   "cell_type": "code",
   "execution_count": null,
   "metadata": {
    "cellView": "form"
   },
   "outputs": [],
   "source": [
    "# @title Project Background\n",
    "\n",
    "from ipywidgets import widgets\n",
    "from IPython.display import YouTubeVideo\n",
    "from IPython.display import IFrame\n",
    "from IPython.display import display\n",
    "\n",
    "\n",
    "class PlayVideo(IFrame):\n",
    "  def __init__(self, id, source, page=1, width=400, height=300, **kwargs):\n",
    "    self.id = id\n",
    "    if source == 'Bilibili':\n",
    "      src = f'https://player.bilibili.com/player.html?bvid={id}&page={page}'\n",
    "    elif source == 'Osf':\n",
    "      src = f'https://mfr.ca-1.osf.io/render?url=https://osf.io/download/{id}/?direct%26mode=render'\n",
    "    super(PlayVideo, self).__init__(src, width, height, **kwargs)\n",
    "\n",
    "\n",
    "def display_videos(video_ids, W=400, H=300, fs=1):\n",
    "  tab_contents = []\n",
    "  for i, video_id in enumerate(video_ids):\n",
    "    out = widgets.Output()\n",
    "    with out:\n",
    "      if video_ids[i][0] == 'Youtube':\n",
    "        video = YouTubeVideo(id=video_ids[i][1], width=W,\n",
    "                             height=H, fs=fs, rel=0)\n",
    "        print(f'Video available at https://youtube.com/watch?v={video.id}')\n",
    "      else:\n",
    "        video = PlayVideo(id=video_ids[i][1], source=video_ids[i][0], width=W,\n",
    "                          height=H, fs=fs, autoplay=False)\n",
    "        if video_ids[i][0] == 'Bilibili':\n",
    "          print(f'Video available at https://www.bilibili.com/video/{video.id}')\n",
    "        elif video_ids[i][0] == 'Osf':\n",
    "          print(f'Video available at https://osf.io/{video.id}')\n",
    "      display(video)\n",
    "    tab_contents.append(out)\n",
    "  return tab_contents\n",
    "\n",
    "\n",
    "video_ids = [('Youtube', 'CwOUn0Bt4JU')]\n",
    "tab_contents = display_videos(video_ids, W=854, H=480)\n",
    "tabs = widgets.Tab()\n",
    "tabs.children = tab_contents\n",
    "for i in range(len(tab_contents)):\n",
    "  tabs.set_title(i, video_ids[i][0])\n",
    "display(tabs)"
   ]
  },
  {
   "cell_type": "code",
   "execution_count": null,
   "metadata": {
    "cellView": "form"
   },
   "outputs": [],
   "source": [
    "# @title Project slides\n",
    "\n",
    "from IPython.display import IFrame\n",
    "print(\"If you want to download the slides: https://osf.io/download/cz93b/\")\n",
    "IFrame(src=\"https://mfr.ca-1.osf.io/render?url=https://osf.io/download/cz93b/?direct%26mode=render\", width=854, height=480)"
   ]
  },
  {
   "cell_type": "code",
   "execution_count": null,
   "metadata": {
    "cellView": "form"
   },
   "outputs": [],
   "source": [
    "#@title Project Template\n",
    "from IPython.display import Image, display\n",
    "import os\n",
    "from pathlib import Path\n",
    "\n",
    "url = \"https://github.com/neuromatch/NeuroAI_Course/blob/main/projects/project-notebooks/static/NCAPProjectTemplate.png?raw=true\"\n",
    "\n",
    "display(Image(url=url))"
   ]
  },
  {
   "cell_type": "markdown",
   "metadata": {
    "execution": {}
   },
   "source": [
    "# Initial Setup"
   ]
  },
  {
   "cell_type": "markdown",
   "metadata": {
    "execution": {}
   },
   "source": [
    "**IF USING COLAB (recommended):**\n",
    "\n",
    "Uncomment the cell below and run it. "
   ]
  },
  {
   "cell_type": "code",
   "execution_count": null,
   "metadata": {
    "cellView": "form"
   },
   "outputs": [],
   "source": [
    "#@title Installing Dependencies (Colab / Kaggle GPU case, uncomment if you want to use this one)\n",
    "\n",
    "# import distutils.util\n",
    "# import os\n",
    "# import subprocess\n",
    "# if subprocess.run('nvidia-smi').returncode:\n",
    "#   raise RuntimeError(\n",
    "#       'Cannot communicate with GPU. '\n",
    "#       'Make sure you are using a GPU Colab runtime. '\n",
    "#       'Go to the Runtime menu and select Choose runtime type.')\n",
    "\n",
    "# # Add an ICD config so that glvnd can pick up the Nvidia EGL driver.\n",
    "# # This is usually installed as part of an Nvidia driver package, but the Colab\n",
    "# # kernel doesn't install its driver via APT, and as a result the ICD is missing.\n",
    "# # (https://github.com/NVIDIA/libglvnd/blob/master/src/EGL/icd_enumeration.md)\n",
    "# NVIDIA_ICD_CONFIG_PATH = '/usr/share/glvnd/egl_vendor.d/10_nvidia.json'\n",
    "# if not os.path.exists(NVIDIA_ICD_CONFIG_PATH):\n",
    "#   with open(NVIDIA_ICD_CONFIG_PATH, 'w') as f:\n",
    "#     f.write(\"\"\"{\n",
    "#     \"file_format_version\" : \"1.0.0\",\n",
    "#     \"ICD\" : {\n",
    "#         \"library_path\" : \"libEGL_nvidia.so.0\"\n",
    "#     }\n",
    "# }\n",
    "# \"\"\")\n",
    "\n",
    "# print('Installing dm_control...')\n",
    "# !pip install -q dm_control>=1.0.16\n",
    "\n",
    "# # Configure dm_control to use the EGL rendering backend (requires GPU)\n",
    "# %env MUJOCO_GL=egl\n",
    "\n",
    "# print('Checking that the dm_control installation succeeded...')\n",
    "# try:\n",
    "#   from dm_control import suite\n",
    "#   env = suite.load('cartpole', 'swingup')\n",
    "#   pixels = env.physics.render()\n",
    "# except Exception as e:\n",
    "#   raise e from RuntimeError(\n",
    "#       'Something went wrong during installation. Check the shell output above '\n",
    "#       'for more information.\\n'\n",
    "#       'If using a hosted Colab runtime, make sure you enable GPU acceleration '\n",
    "#       'by going to the Runtime menu and selecting \"Choose runtime type\".')\n",
    "# else:\n",
    "#   del pixels, suite\n",
    "\n",
    "# !echo Installed dm_control $(pip show dm_control | grep -Po \"(?<=Version: ).+\")\n",
    "# !pip install -q dm-acme[envs]\n",
    "# !mkdir output_videos"
   ]
  },
  {
   "cell_type": "markdown",
   "metadata": {
    "execution": {}
   },
   "source": [
    " **IF RUNNING LOCALLY**\n",
    "\n",
    "Uncomment the relevant lines of code depending on your OS."
   ]
  },
  {
   "cell_type": "code",
   "execution_count": null,
   "metadata": {
    "cellView": "form"
   },
   "outputs": [],
   "source": [
    "#@title Installing Dependencies (CPU case, comment if you want to use GPU one)\n",
    "\n",
    "import subprocess\n",
    "import os\n",
    "\n",
    "############### For Linux #####################\n",
    "# subprocess.run([\"sudo\", \"apt-get\", \"install\", \"-y\", \"libglew-dev\"])\n",
    "# subprocess.run([\"sudo\", \"apt-get\", \"install\", \"-y\", \"libglfw3\"])\n",
    "# subprocess.run([\"sudo\", \"apt\", \"install\", \"ffmpeg\"])\n",
    "###############################################\n",
    "\n",
    "############### For MacOS #####################\n",
    "# subprocess.run([\"brew\", \"install\", \"glew\"])\n",
    "# subprocess.run([\"brew\", \"install\", \"glfw\"])\n",
    "###############################################\n",
    "\n",
    "subprocess.run([\"pip\", \"install\", \"-q\", \"ffmpeg\"])\n",
    "subprocess.run([\"pip\", \"install\", \"-q\", \"dm-acme[envs]\"])\n",
    "subprocess.run([\"pip\", \"install\", \"-q\", \"dm_control>=1.0.16\"])\n",
    "\n",
    "!mkdir output_videos"
   ]
  },
  {
   "cell_type": "markdown",
   "metadata": {
    "execution": {}
   },
   "source": [
    "### Imports and Utility Functions"
   ]
  },
  {
   "cell_type": "code",
   "execution_count": null,
   "metadata": {
    "cellView": "form"
   },
   "outputs": [],
   "source": [
    "#@title Importing Libraries\n",
    "import numpy as np\n",
    "import collections\n",
    "import argparse\n",
    "import os\n",
    "import yaml\n",
    "import typing as T\n",
    "import imageio\n",
    "import matplotlib\n",
    "import matplotlib.pyplot as plt\n",
    "import matplotlib.animation as animation\n",
    "import pandas as pd\n",
    "import seaborn as sns\n",
    "from IPython.display import HTML\n",
    "\n",
    "import dm_control as dm\n",
    "import dm_control.suite.swimmer as swimmer\n",
    "from dm_control.rl import control\n",
    "from dm_control.utils import rewards\n",
    "from dm_control import suite\n",
    "from dm_control.suite.wrappers import pixels\n",
    "\n",
    "from acme import wrappers\n",
    "\n",
    "from torch import nn"
   ]
  },
  {
   "cell_type": "code",
   "execution_count": null,
   "metadata": {
    "cellView": "form"
   },
   "outputs": [],
   "source": [
    "#@title Utility code for displaying videos\n",
    "def write_video(\n",
    "  filepath: os.PathLike,\n",
    "  frames: T.Iterable[np.ndarray],\n",
    "  fps: int = 60,\n",
    "  macro_block_size: T.Optional[int] = None,\n",
    "  quality: int = 10,\n",
    "  verbose: bool = False,\n",
    "  **kwargs,\n",
    "):\n",
    "  \"\"\"\n",
    "  Saves a sequence of frames as a video file.\n",
    "\n",
    "  Parameters:\n",
    "  - filepath (os.PathLike): Path to save the video file.\n",
    "  - frames (Iterable[np.ndarray]): An iterable of frames, where each frame is a numpy array.\n",
    "  - fps (int, optional): Frames per second, defaults to 60.\n",
    "  - macro_block_size (Optional[int], optional): Macro block size for video encoding, can affect compression efficiency.\n",
    "  - quality (int, optional): Quality of the output video, higher values indicate better quality.\n",
    "  - verbose (bool, optional): If True, prints the file path where the video is saved.\n",
    "  - **kwargs: Additional keyword arguments passed to the imageio.get_writer function.\n",
    "\n",
    "  Returns:\n",
    "  None. The video is written to the specified filepath.\n",
    "  \"\"\"\n",
    "\n",
    "  with imageio.get_writer(filepath,\n",
    "                        fps=fps,\n",
    "                        macro_block_size=macro_block_size,\n",
    "                        quality=quality,\n",
    "                        **kwargs) as video:\n",
    "    if verbose: print('Saving video to:', filepath)\n",
    "    for frame in frames:\n",
    "      video.append_data(frame)\n",
    "\n",
    "\n",
    "def display_video(\n",
    "  frames: T.Iterable[np.ndarray],\n",
    "  filename='output_videos/temp.mp4',\n",
    "  fps=60,\n",
    "  **kwargs,\n",
    "):\n",
    "  \"\"\"\n",
    "  Displays a video within a Jupyter Notebook from an iterable of frames.\n",
    "\n",
    "  Parameters:\n",
    "  - frames (Iterable[np.ndarray]): An iterable of frames, where each frame is a numpy array.\n",
    "  - filename (str, optional): Temporary filename to save the video before display, defaults to 'output_videos/temp.mp4'.\n",
    "  - fps (int, optional): Frames per second for the video display, defaults to 60.\n",
    "  - **kwargs: Additional keyword arguments passed to the write_video function.\n",
    "\n",
    "  Returns:\n",
    "  HTML object: An HTML video element that can be displayed in a Jupyter Notebook.\n",
    "  \"\"\"\n",
    "\n",
    "  # Write video to a temporary file.\n",
    "  filepath = os.path.abspath(filename)\n",
    "  write_video(filepath, frames, fps=fps, verbose=False, **kwargs)\n",
    "\n",
    "  height, width, _ = frames[0].shape\n",
    "  dpi = 70\n",
    "  orig_backend = matplotlib.get_backend()\n",
    "  matplotlib.use('Agg')  # Switch to headless 'Agg' to inhibit figure rendering.\n",
    "  fig, ax = plt.subplots(1, 1, figsize=(width / dpi, height / dpi), dpi=dpi)\n",
    "  matplotlib.use(orig_backend)  # Switch back to the original backend.\n",
    "  ax.set_axis_off()\n",
    "  ax.set_aspect('equal')\n",
    "  ax.set_position([0, 0, 1, 1])\n",
    "  im = ax.imshow(frames[0])\n",
    "  def update(frame):\n",
    "    im.set_data(frame)\n",
    "    return [im]\n",
    "  interval = 1000/fps\n",
    "  anim = animation.FuncAnimation(fig=fig, func=update, frames=frames,\n",
    "                                  interval=interval, blit=True, repeat=False)\n",
    "  return HTML(anim.to_html5_video())"
   ]
  },
  {
   "cell_type": "markdown",
   "metadata": {
    "execution": {}
   },
   "source": [
    "\n",
    "In this notebook we will explore the major components essential for this project.\n",
    "\n",
    "\n",
    "*   **Understanding the DeepMind Control Suite Swimmer Agent:** We will begin by exploring the swimmer agent provided by the DeepMind Control Suite. This section includes a detailed exploration of the agent's API, task customization capabilities, and how to adapt the environment to fit our experimental needs.\n",
    "*   **Training Models Using Various Reinforcement Learning Algorithms:** Next, we move on to learn how can we train models for the agents we created. We will be using Tonic_RL library to train our model. We will first train a standard MLP model using the Proximal Policy Optimization (PPO) algorithm.\n",
    "\n",
    "* **Training the NCAP model:** Finally we will define the NCAP model from [Neural Circuit Architectural Priors for Embodied Control](https://arxiv.org/abs/2201.05242) paper. We will train it using PPO and compare it against the MLP model we trained before.\n",
    "\n"
   ]
  },
  {
   "cell_type": "markdown",
   "metadata": {
    "execution": {}
   },
   "source": [
    "# Section 1: Exploring the DeepMind Swimmer"
   ]
  },
  {
   "cell_type": "markdown",
   "metadata": {
    "execution": {}
   },
   "source": [
    "## 1.1 Create a basic swim task for the swimmer environment\n",
    "\n"
   ]
  },
  {
   "cell_type": "markdown",
   "metadata": {
    "execution": {}
   },
   "source": [
    "First, we'll initialize a basic swimmer agent consisting of 6 links. Each agent requires a defined task and its corresponding reward function. In this instance, we've designed a swim forward task that involves the agent swimming forward in any direction.\n",
    "\n",
    "The environment is flexible, allowing for modifications to introduce additional tasks such as \"swim only in the x-direction\" or \"move towards a ball.\""
   ]
  },
  {
   "cell_type": "code",
   "execution_count": null,
   "metadata": {},
   "outputs": [],
   "source": [
    "_SWIM_SPEED = 0.1\n",
    "\n",
    "@swimmer.SUITE.add()\n",
    "def swim(\n",
    "  n_links=6,\n",
    "  desired_speed=_SWIM_SPEED,\n",
    "  time_limit=swimmer._DEFAULT_TIME_LIMIT,\n",
    "  random=None,\n",
    "  environment_kwargs={},\n",
    "):\n",
    "  \"\"\"Returns the Swim task for a n-link swimmer.\"\"\"\n",
    "  model_string, assets = swimmer.get_model_and_assets(n_links)\n",
    "  physics = swimmer.Physics.from_xml_string(model_string, assets=assets)\n",
    "  task = Swim(desired_speed=desired_speed, random=random)\n",
    "  return control.Environment(\n",
    "    physics,\n",
    "    task,\n",
    "    time_limit=time_limit,\n",
    "    control_timestep=swimmer._CONTROL_TIMESTEP,\n",
    "    **environment_kwargs,\n",
    "  )\n",
    "\n",
    "\n",
    "class Swim(swimmer.Swimmer):\n",
    "  \"\"\"Task to swim forwards at the desired speed.\"\"\"\n",
    "  def __init__(self, desired_speed=_SWIM_SPEED, **kwargs):\n",
    "    super().__init__(**kwargs)\n",
    "    self._desired_speed = desired_speed\n",
    "\n",
    "  def initialize_episode(self, physics):\n",
    "    super().initialize_episode(physics)\n",
    "    # Hide target by setting alpha to 0.\n",
    "    physics.named.model.mat_rgba['target', 'a'] = 0\n",
    "    physics.named.model.mat_rgba['target_default', 'a'] = 0\n",
    "    physics.named.model.mat_rgba['target_highlight', 'a'] = 0\n",
    "\n",
    "  def get_observation(self, physics):\n",
    "    \"\"\"Returns an observation of joint angles and body velocities.\"\"\"\n",
    "    obs = collections.OrderedDict()\n",
    "    obs['joints'] = physics.joints()\n",
    "    obs['body_velocities'] = physics.body_velocities()\n",
    "    return obs\n",
    "\n",
    "  def get_reward(self, physics):\n",
    "    \"\"\"Returns a smooth reward that is 0 when stopped or moving backwards, and rises linearly to 1\n",
    "    when moving forwards at the desired speed.\"\"\"\n",
    "    forward_velocity = -physics.named.data.sensordata['head_vel'][1]\n",
    "    return rewards.tolerance(\n",
    "      forward_velocity,\n",
    "      bounds=(self._desired_speed, float('inf')),\n",
    "      margin=self._desired_speed,\n",
    "      value_at_margin=0.,\n",
    "      sigmoid='linear',\n",
    "    )"
   ]
  },
  {
   "cell_type": "markdown",
   "metadata": {
    "execution": {}
   },
   "source": [
    "## 1.2 Vizualizing an agent that takes random actions in the environment"
   ]
  },
  {
   "cell_type": "markdown",
   "metadata": {
    "execution": {}
   },
   "source": [
    "Let's visualize the environment by executing a sequence of random actions on a swimmer agent. This involves applying random actions over a series of steps and compiling the rendered frames into a video to visualize the agent's behavior."
   ]
  },
  {
   "cell_type": "code",
   "execution_count": null,
   "metadata": {},
   "outputs": [],
   "source": [
    "\"\"\" Renders the current environment state to an image \"\"\"\n",
    "def render(env):\n",
    "    return env.physics.render(camera_id=0, width=640, height=480)\n",
    "\n",
    "\"\"\" Tests a DeepMind control suite environment by executing a series of random actions \"\"\"\n",
    "def test_dm_control(env):\n",
    "    env = wrappers.CanonicalSpecWrapper(env, clip=True)\n",
    "    env = wrappers.SinglePrecisionWrapper(env)\n",
    "\n",
    "    spec = env.action_spec()\n",
    "    timestep = env.reset()\n",
    "    frames = [render(env)]\n",
    "\n",
    "    for _ in range(60):\n",
    "        action = np.random.uniform(low=spec.minimum, high=spec.maximum, size=spec.shape)\n",
    "        timestep = env.step(action)\n",
    "        frames.append(render(env))\n",
    "    return display_video(frames)\n",
    "\n",
    "env = suite.load('swimmer', 'swim', task_kwargs={'random': 1})"
   ]
  },
  {
   "cell_type": "code",
   "execution_count": null,
   "metadata": {
    "execution": {}
   },
   "outputs": [
    {
     "name": "stderr",
     "output_type": "stream",
     "text": [
      "/tmp/ipykernel_74652/4073379236.py:65: MatplotlibDeprecationWarning: Auto-close()ing of figures upon backend switching is deprecated since 3.8 and will be removed two minor releases later.  To suppress this warning, explicitly call plt.close('all') first.\n",
      "  matplotlib.use(orig_backend)  # Switch back to the original backend.\n"
     ]
    },
    {
     "data": {
      "text/html": [
       "<video width=\"640\" height=\"480\" controls autoplay>\n",
       "  <source type=\"video/mp4\" src=\"data:video/mp4;base64,AAAAIGZ0eXBNNFYgAAACAE00ViBpc29taXNvMmF2YzEAAAAIZnJlZQAAivttZGF0AAACrgYF//+q\n",
       "3EXpvebZSLeWLNgg2SPu73gyNjQgLSBjb3JlIDE2MyByMzA2MCA1ZGI2YWE2IC0gSC4yNjQvTVBF\n",
       "Ry00IEFWQyBjb2RlYyAtIENvcHlsZWZ0IDIwMDMtMjAyMSAtIGh0dHA6Ly93d3cudmlkZW9sYW4u\n",
       "b3JnL3gyNjQuaHRtbCAtIG9wdGlvbnM6IGNhYmFjPTEgcmVmPTMgZGVibG9jaz0xOjA6MCBhbmFs\n",
       "eXNlPTB4MzoweDExMyBtZT1oZXggc3VibWU9NyBwc3k9MSBwc3lfcmQ9MS4wMDowLjAwIG1peGVk\n",
       "X3JlZj0xIG1lX3JhbmdlPTE2IGNocm9tYV9tZT0xIHRyZWxsaXM9MSA4eDhkY3Q9MSBjcW09MCBk\n",
       "ZWFkem9uZT0yMSwxMSBmYXN0X3Bza2lwPTEgY2hyb21hX3FwX29mZnNldD0tMiB0aHJlYWRzPTYg\n",
       "bG9va2FoZWFkX3RocmVhZHM9MSBzbGljZWRfdGhyZWFkcz0wIG5yPTAgZGVjaW1hdGU9MSBpbnRl\n",
       "cmxhY2VkPTAgYmx1cmF5X2NvbXBhdD0wIGNvbnN0cmFpbmVkX2ludHJhPTAgYmZyYW1lcz0zIGJf\n",
       "cHlyYW1pZD0yIGJfYWRhcHQ9MSBiX2JpYXM9MCBkaXJlY3Q9MSB3ZWlnaHRiPTEgb3Blbl9nb3A9\n",
       "MCB3ZWlnaHRwPTIga2V5aW50PTI1MCBrZXlpbnRfbWluPTI1IHNjZW5lY3V0PTQwIGludHJhX3Jl\n",
       "ZnJlc2g9MCByY19sb29rYWhlYWQ9NDAgcmM9Y3JmIG1idHJlZT0xIGNyZj0yMy4wIHFjb21wPTAu\n",
       "NjAgcXBtaW49MCBxcG1heD02OSBxcHN0ZXA9NCBpcF9yYXRpbz0xLjQwIGFxPTE6MS4wMACAAAAW\n",
       "xWWIhAAv//7bW/MspSkKoyj49dvgfN//M4/EXKWAgbK2xU4BZv1J3K7KXrGW9GiuI9+TfSpeI9G/\n",
       "ih4A4LdYZbHmql9LjUdvtMRfZWcMB5qDOZauBTieIvtvOpmczLqgRfVE6/u9aQH4NT34EQ13kcr3\n",
       "lfwncPDiBd3Mdcz0q2tyNPayHDy7Iv+DBFWjeUDWQn+xTQod4jSNWsE2V2J6iKF0wfP+0+nxb/d3\n",
       "XaP4WYCn5Fu1cbvW1wcxSf0s+Fh9v9OLJacXd4+4HJa4hnOqFP2SiOFwjlPIqSLswINaNBxBtSRI\n",
       "MK48rcL8xRXtlLHBXvZj3EwA8cUfx3053OV84Wf/u96H8pSadOY5VQiTnlk6xM98IM6BgYsQpHA/\n",
       "MI2fZqTMRux4pCpnaNOfjpSDZQGr50dfXnc+l18j/XwFLzB7Wxh3VEUuEPKKg9vWB4hb50DFB5ng\n",
       "7pxjCtQQAE+DkjEH55Evra10hub9xmA77s5J9W7j3l0TzaVIcuktyvKwGq3BBUuEh4fZq+avEVPT\n",
       "0PAVQ9uanp/f0aJFGqsZBsDgkCcF7aclM+6lkeZNPeUokYS45XoLeTrPiFQNmX8BXv2ld5lcI/gK\n",
       "O3qXT3z5Gnt9L++KBxAGqzUW2HIIWRmCYcIS16eafikjiiLX3DC+NlyzsADBUS8u3g65wTdCqE9Q\n",
       "B3OEUrn3TSjXwIO7nhJSZV8WUduT3iGZq/73IZujBxY9iT2OzHH+i1OjFu0MmISIz0R1p+VT9mXJ\n",
       "sTuoH/oJgRR3nBzR20wqeX1SZK0iRLXtBR+RZhe9aXghY8YhqJ3x3Xjo9Po6oj46PXRejd6klFkg\n",
       "i6PHqO8WyHEeiUn1WcMQ8UHfjAJ2Otht6tSSpXkiAinNV4KPOMdpv94f2cBf41LC2blxeipSkdbn\n",
       "Ny61yCbaM5zT6XZfMVsGUuJ0gulqIXwOLdi+K2yHNYp2c/657ETm+r1n0OwMn1X9TPGzmPB4CriO\n",
       "tSClwJuzr/khfs2oBIEo7GmJsTzlKg64SaDnXjlgzKqR7t9qz6lJmzXnPZe8T3fKRN/nCyaFjLRk\n",
       "duDZZz6M1MTiDDqoh+aYZPCEiNgGoFiyaThE14uU0n/aALhOHAegWoGcgeawOpc0vaYsBDb540uB\n",
       "7jYxIIAzr7lDqXmpEZhhxrop/irMIrqxG5gZRrxdd8ZN92bcwjb1JcqqJGrR1g7XasYW7djqm8R7\n",
       "ahbkg7i+TijwoRW6H4R5SEee3ANsracMss/H0aPgJCRPxbnUeMYLs6rxaHKLuRY5F5uAxNJU6nJa\n",
       "DMdW+8S3IDthDd/po520FBrpTEhJ0TQTAdVsMhJkGmW7NCrtP3KyjLlmedERqIJMLUsFvQCzBMRn\n",
       "wRZ41oucFsRC6mJnd5yMyr5Vw9zdeixPj8y6WLQXU1DXY2dkatfx3zoLC8l6h6FIIcToVija570q\n",
       "+xyIRFpaUPGxDvd77wRjsrvpgnuB8TDyn3fzl4HAyqo54wpg3L7/cU/2+rmuw93OfJkRyYtYsRNP\n",
       "N8cTp3YVyga0ALifQVCwpD/7noFB7NSjYoSQpiZOY3DJmvJOPevLV3UgFBuHhdikrOBND2WiGRXt\n",
       "VcRyk45BprJ/eVJNV9pWPlEGdH5fPz+WQ/TOx90mi2AYFpRBk3r8xaLQQH47OIPQYOwvi7UCPvq7\n",
       "CdvVkvEvX7PWamIwHEZs4ndfYd53wSoqwFXoahK30sPtd/+4wgdKNDZ8Qi+Ka/iDMIXiCS3Kynm5\n",
       "2EAVZdBqNLAn2M0XTm9laaRPtfKddCl0ZFe3o8jGwPQ01QHk7hxJO6nx0WFVsLfLbcldPlD7DqTD\n",
       "xYXVH2pjuLIqfrEac6C8wNK4BFEfMCtBfrbTjlweLxMV6RRr+hgjyCaoCnRFsA8MrFQtOm2DEo8L\n",
       "RvXgd14Ae8dofxMF8uAzl3PWMkHQ+nMCg3cRpKvgQdDmLAKrIhvHDYcnoCgHrjtAu88iedter/b7\n",
       "IbAIQga+X5I8UtUDQ0skGH6XFI0LIMPAfJMoLgxfH6diH1DzY7set/a8Rza3S+exll7L9xtNTVET\n",
       "EJQfaBpd9Ihn6JOcdUViMgDvONgnJ8tKwyU+aPsL51YEt8+RrB+/JzU8ju4j7FAaPT/hkvS8371l\n",
       "zpJ6rFVdvYQOlPog0loGljbDAHH7zuOJ8ZWyhbg14DZ49NpjUJS82hefNbw0VERWw3kwLKe7JHjZ\n",
       "7ZKuWLeEKs5PEANeEw80NOr7bccCZyHvUUEJwcTfTbXpj3cvuvxTCNkvVwpx3WPdCEEqm12MS7MN\n",
       "6KElX8mGZm7z51NhrJiUpHuAe+rB03yRd1xIAcGfWzAZkgHKSR3AmFv7nbwP7femZitv80MaxuBZ\n",
       "hvsvVVstTUqMho1902BKg88YboXzLTeT89DySipdz1tRncLTv83Z/qiZflg6rE5RN0NilG2y8hhA\n",
       "79i3FbmviQc2WLCA1wymnBDxmcN7sb/mTIXOEx8He+l6MCRx5JES2eMuY695txBhPsXWEZ1uGwt9\n",
       "mmy1uJi7WjENDkkeoDAXc2zMvL9C+C+zSAfAKsZZ5tKl4jAMHcYJAmH2BVQH2mM63bIih+EfLHMu\n",
       "oJ2EEhM5XGwpFp4ItJjM2BUZRYRFsxPilB2it6xV447F/JQX1XU5Tt3xUQRzH9DbyeWXHH+z6Jru\n",
       "bsw69VJmdzFQ+qbk5ZsxXdtQtaMfKh0GjlekqElmQttu8bu6JDxHfeROo5a+v4WMgL50hHYaebua\n",
       "bumHkOhExwpnupKeLI+Uda7lfYPoeUH/HenJ1x7CHfiiSiEYTqaMlerQGL7+NsKoF8xafK4Jo1pE\n",
       "oEfWnke1bE2/xcI2L1erT26vDNo6kMwtHQOjJ9u+BYIUh/PF2If9QTWDIZgCHbWhJMhicxhasIql\n",
       "xdS+TIak/jX7vZerlXvzo5FDNzfAS9vGeBvcTEc/moRvw8OHCe4wuYqudDYuwNEtexwUb9cKsXnk\n",
       "xAzQ8E/ApMmnKnER+ohAvgXbp9rpcT8D9blWfwOWQDOZyZi5XAy3bkFFqdt5FHIuruBvbaGlGmO1\n",
       "LG0pzBikuUAlX5I2w6K8kDEHXmF8GW0Uvufl5tVHe/E3tYDhNJnOsMek33vwLw2gjKzAy+eLfHsB\n",
       "/IOV8aD9y2pFzYnLQMC4rwow+EbXcNl/cAEzJHPyIYLd5tkNUG63cdgLWs5VgOnPBXbgKdiqHk7m\n",
       "51hnZ+hbbZcov9WMi8n0Ynof+ADAwNA8a2zliYZc7aBYCewPJanLpN1zpKdydq1MIJaSEyjSaNKt\n",
       "61S5UK3mH2BQ3lC017Tw8M/QT+cx2ksff3xmx+y7ZMJEKBmTFj0wcLkqpnjwEsEhSsAqz07nnKm7\n",
       "T85QuFFP9XNVhih9xkpWL/bLgQrb6fZYlzj6D+EpUpWFujsuXHitbEV/TSrjSn0pvynzs4vEof3o\n",
       "EOuQlOwWVLaNawwPtx/+wiUwas5XwGNtXdtghVxonA+4X40HFJn1cJOE60g5EI+rBUx3bRst8yni\n",
       "t4eRzbXy2QpmXAWri3+WuITc2Djn21eHqH7o7haXod0sqLippxuhE1SV4DemN5nivuhQn6PtTltG\n",
       "Ld3MOAPsZKzhQ0CBZkmQmFG/9nX0FcIAbZcdD+W/xgTwktIN5qaRhj+mL9S26TXnAsxiAGlaxnz6\n",
       "MD5rnpgoFJiH1EtJV7aYjXOWWAuwZ4V65DRbcptwckpNinbh0WdVYg6QLmf3vetAQM4Or/+PLCvr\n",
       "V5hVMiN1wguXQxAiuEF77C/4wfg9tQB6jDJRz+IPBS8XAKD82+qc5eXzUy/+4cAk9XdfDLBhpkuI\n",
       "Og/7q42y41XkKXzzyNCtl4mE0Cg8qDz94MlTcMhXC4IxqZdNBymAfq3GW1/pJi6VBd/C5mGw0+E0\n",
       "CeR3x7S9nEh7yPa1BgNZd7jB6XJR4Obna6z0P1gU6dSxqWOA96Nyt6Im4Z5nH+YEA4NulJkr6PfN\n",
       "YAFljAF7s6xPs8K/Gj1alOtRLv0pM5jjWUPU445xDUr5DsZ8Pf/eGZoYrsnKZ8iVJ+h6Bn/in3GP\n",
       "A4dlq3Y0+qQvQJQwwF+de/SBtn2zAoaihfMsqaJpjetBQN1eiF+v6Y6fCEFLTahvGMMJBs2k1qVh\n",
       "sPnVSJ9GLlxr/bB5nyoMCj1CgmEPzDeV6ZqX5GUaV2+hN3n+IygDo/ZY5TR5rrNqsGPi9swQIiZb\n",
       "MKqf8dXZa8oaV51haWVx/cTFH5z4ofv68BgVqDtyqGJwnQxswBSYZMjV9zdo6EKUToWD1JgGW3kI\n",
       "ExDn2ILUG39lfw/MoHp9wPyKRP5Y7y5CgPW9uOgYciz4L6rrXq9LD7HXqecKX6WAfcdiN9Ih++of\n",
       "O/8OJQnG47ByUipblDMxS1+PzwEgxkjHjzfyT+SMBTWr7qTd7EgEVRUV4Dm1xwirs4vZu7xuMQGI\n",
       "sv4b+DUcY4bAD+nbt6ULRpBzsd0U420T/AlZk3A/cGz2qft4qPBUq2c0UB5I4gr+SxeFq2SMMBNd\n",
       "kB8aF2UB67Oat+YKp1jrN/H8q5i92otvVC04kDePAvyecypbroQPJi7DFlUdZGrzPYHJD+Dxi93z\n",
       "Viuf+yVAL1RjaK6b+mEAGRZZGxQqmo/eNa3sB4m5aos+vOWwpeQ/C4YQZTwgkcoO63dZwDJuf917\n",
       "JZYNGsHzE+4nUO+ydRk6KtNpWBtY+wTbKYbJQSd+CmCeb06VllFDh9UoeYHl2ip4vc+8xdtjC76N\n",
       "tRH14FcO8PWEMohX+nNifWvarLm7xnETqntqF35D9wm4alXRmh66mzDvf2H3ukE0ZPG+Pchr7lYz\n",
       "Do1fcbrb5F6DTrFBZ1YMXGJhQDY6p1id3mPSkAOecrzXaHJT7spdsQGaO5SlzM43wv7ELyY5NTGq\n",
       "Dh/HtGU+rNEJdegzaAIBFgt5CryQTooksKO+WOP7OO0qqZjmUC56ajSJcMhq/GMKE/qjyrh9hVaR\n",
       "ccrwKr0kgmSadXw0dE+fWmpGObjR/3QHKy5nHi4VNq9BwsMsIex8uJw6t5N5/UFh4LJJawaXKLy2\n",
       "KMTiFvgB8cVqNPe/g7ZLJuxAgbYPcXplVpgBWHC9GHW+EbkJ68xwHhIsmHoMY6LbFBcvnf5VgAdw\n",
       "0nZDYDPhNrFj2rlnvxhUu7LxpW6FG8yoU3t/W+CL68OY2ZK9s0bk+dPGsK0BnPJgW3Qwupp+zZSZ\n",
       "hshf06Ekey3JdqCZ3mI8vay0eJQ7YfhnnIkObnFwvfTohXNGwNitWOMUKgFBISmzE6NatLVfl59t\n",
       "ZzdyDkoYfhNcg/KcnyjE/prj3qgKBUjZGBDtH5R2S6Seq1Gkb84lURlXp7RtKrHVnu6evun6Rzjt\n",
       "RqxZZYuf+GwKxhzORi7+PCfgjWPb/scwYDG+5De68HdxmJUiwbkUBUjxJ++Yh4elIcT1wLkSXKoQ\n",
       "exK6qR8os3Fd8ahBi4v2IccA2peFFiMbXWzhm0Daj4rv+NagvOzZMjy1lPHgYwqVImKZMuavL7Eb\n",
       "taeKAfMKmlwLl2JR0j+fdIvGGxD/J2B2Am2/SuZwrPv3fbMKlz/MJSKmanVeNQzIvrOQOwvO5MbW\n",
       "z9djBIog9q/ehpr85tIzjJVXI6r/ZtSua5rzwdnqXCCJCVtVz2nq4UCr5633nfz9XrpKtXeS2KTu\n",
       "ZbagJ9uCu5sxhR8BKnzlWuhH2UEcE5lPQqgpBQympqSZGK+oC11ux0CeYdG2r3L+wHhNvbHvXXPw\n",
       "zz6u6/RbyXcJT+YQGdkA3/eiTXwEtA0wZvdRmfdg/wnaxGwVyRxYP4NljqeZus/8CmHQM2iPS21V\n",
       "aiNIl+RJaKeC6ZVWMg4QHy4EY6XSS40tU7m/aIynT5jN6CKS+RflAWxQBf1ssE8jArsLJSvqljdu\n",
       "7tG60nKELrjbtc3k0tCgjbxKBe34B+Jbd72UqBnp0EYWDhQj0tH0izFFwjh9zQRYsI4vPw/y8kL9\n",
       "SCffrAkCQz4E24Lf4vMJPa8ejxc8n6UaWdLDH8mY8+2Qw+KN0OCdnuh5dRPNeG9qGbRSyEqsAz7y\n",
       "BLOEHZ5Z9BSu3ZBCIw6/ozUKBTy39ag4jOIuxRuNVTkQ00lX1ariCqHvEPN2gsC0Omz+yIhCJjbF\n",
       "7+Ih4Q5j6XLj4tleYN54WaPITfrF1bWfZciFlFo64krJIYHJoEETZn0/pZuIlw5zrlxlrqjQg5L3\n",
       "IJSBgpXD55fI8/0q4Nx3rO3OugbBE1HouS1XPboe+EucZaSnsOMWLx8ghggWwwIZcCuLaoKEl69S\n",
       "rpnNhfLE0z7Py8+hYj5IkCjvlqMKkLM19Vf1gfDlCZ5CBobEHNfkM8mzNYsxGual+xN/2+qe2iZX\n",
       "pRyCIOjTiuMMMMehXKRx5RTUcgUDAijduXzvJrwTOHjVhDHCJqH8WPxIjB/TNEiCNuXdwASpSTVn\n",
       "UdSwuk8zzfxLDGmK8dJDL+Z6H1UelDXcTQZbfvIRWfYci/oHKTPJ4nlycHuXy8gQNux8cD5q0Nj6\n",
       "ys83OBIgqaY+OMK6ZSlOh4S9hGZfZ8mWZ+xE1gVo1o1kqZbFPaVtwonOzg/gqtdLYbVEy5uYriZ5\n",
       "MAVaMa3n0IIHPIuCfdYFzaWrWJZLq8iTVIz0rFeOrMvg+cSfcW9a2SfsTHISeHmFemEb7b8EnBdX\n",
       "py82z7kq0YYKFhDFiF5DtjzzZCAEoEKPTknohaGsUj7GaK2xWATp2lvqGuTsGwhKWe2tfxOOSiuP\n",
       "Vr8ZRGMF9k42uWnM8ZYlSYPOfd+F4aGQ6BzbCc9z4FQ17H0ky+JKbt/l8zc2Tbi3Ck8QG8q70Hgf\n",
       "hEC74J75b3nMfpuCgjGJqL8ODrdmgIrorS9LIl1mYbjUru1yrzdfq1NnkahTqZymNyvm5U1pwgkf\n",
       "XU7l9Jq29iRuPPYFoto6fPCFldcVLRhh7DX6/Z6goXoF2hqw8PFpWOeAM4hsNegcFhPlHdRjVR7b\n",
       "A16wXNdxIHWNiYP/zlEVG+0927UPXSSnQS0xNd7boIAVL6O0cghsv5CA2PQf1d5VkaiFb7rjXCUY\n",
       "5Worr09AE5uf82858AXaRumNprvWlKO8/b+0GCwGt+iypDxCB6od7RlfyZxuqjs8cEqVl/jdlAgZ\n",
       "c7k7jxeMR3yhYBH99DM8tKbuZVLWdrUESYHqIS7JyfAxtlcltyi0vzSr/qHceql3a5y5pHSP62hc\n",
       "+cPrfJIdxJllr8v1ciOXrCcn55J9G1Fh50mCb+Yor6zyz7elC5ywvgtJZRQxTOEBmKe5YGq+M3K7\n",
       "0K6euEOzbJnkSDag0LBRsS3Zpzmc00PEkzYw3yyTq4aOX53XjeHDS3pao+wOVktuCff+47iZ/mvn\n",
       "D8KiubPUpK2yii4GTNcXGaC4VCmb8BxpDlg64gAICQFrXdKAIr+UGofiH1tYwtYD2kI2pK/qWUtR\n",
       "D7qKa8+Im+5h8Y/xwu23rtVtAULCxToeDP/I9bDInlfU+ptJKZXBFQkSo14whpQumpZkZXwVphOd\n",
       "rOyIJBEPwQBbGdH91QdR8oAwVwr5r5HKrAStXJ3RqM2GPDrrt8ZL5u3SzDABcPdb81smj9ISYTrr\n",
       "EsmvxQVRECTxm/XQ/2cv0JfeaUxN510JZtHFwFDWSLNfCHYBWyjzcE+KFy9XLN7ScWLpHlovQedg\n",
       "Ct9yJKhSrpDghAERv1aTXsX68UNJaKGYxoqmihtJauowH8f1f46MvLGwOPd2/jr56JKI8JNso/TQ\n",
       "+Zhdpvu+gKLj42MR18nrdw5R44eyi3fhmeyuGdNni3i9psoJFWjGxl5Kao466NcBIPPU2Xd7zJgA\n",
       "vrSAkx3Ss81vJH4Uq2gOpQAABixBmiRsQv/+hf94rlaZPffOWt+DGk78utyhyoE6pKvh5qDfsd1Y\n",
       "zVrMzp8N4yBfvTtz8SyM+UDQpSGejT8JL6YS8RIUGlPETPRo11/e17BfW+huBfkktqUl1PtJzwdl\n",
       "GtrkGR9W5Cm9DhfPWBlnT7jIQcdEkPbpk0RX2uAUc3zqQLIYpm0oYbBXB9hKVPftmp5fg1evS5By\n",
       "+eKDMXDCDCSBrqfBihZRZVs1e8viZhwoz4cJekMhVogkHttbGxpSB9UC7vx/UJ6Gh8SAoVLVh8af\n",
       "SJljS9vOlEv3nmhhh5rO1gLpkB2Hxffk06SlRdIVrl6vAjm6qAKZ6+Pe+sXXYEcG5pd8Ne8SJA7z\n",
       "l5Wqcdh43JunSsE/S6ZXw2yfEMnJB1CuOKPv4ZJba4WbjvbuI6NjYOmImbaFbxSzkvbC5H/18VY5\n",
       "ekUAOCrj8hquIgpnF85/PbRxueG5mGvRwxdx9eQgcDdZmKYJb/wKAPtRLzpybM7X0WpxztrBFSvn\n",
       "U8/fDRRL+YY5n8Dq51lgZlR0kQxx4ovOf0xshKxXkxT/p7vLF2w+qZjWlznw90aIYD8r2TDmqDxb\n",
       "9UgukcIBWyGD/HorJvJLo0reIr53Hp8tyqU+0yxG3iWfwv6It47alKRL6Dwlsgb6ThyE5yztcU0Y\n",
       "SESLpOn6aYM9ZjJdZh92StOxTuoiEXc0LOeICLIMSk/bCkXHoE1QFM7vtQ1SQG/sDlc+QpZoon/9\n",
       "8jXcD6N7YGmEQK+HT/GgSIl7FwuJfO+TvKQT6gHBtnf0ij87Jc9FJj3Gp70gA0L2gp+5A/UEAkny\n",
       "ttC7hub9pvG1Q6dWR79xQb5GQMq+usPfnVGVVpoPxdn9QM9Eiwbx4RdSP8Dhiu1JwozPeo7uA7FJ\n",
       "JZm37mETs4LXat7OYP+g1KHykbc1rTV9/DiVFgUkbIjFSlADYF89w0sZ+rkNJHCJ7UFTJFqRJRxB\n",
       "BW3f61EfdMoqiRAK82O63PNlx4b7AaKoFgnHZx4aUUYnckmex8uisDjKjYT92xiW1yR7jNAzuHqu\n",
       "3HXZb6xU9p3tOvgIuaZgzwwR/T1YdWeq+OZM2PmZQfpvoMkJlmZbv17w8vs64l1I2EWvLi2+CdSi\n",
       "uc0/t/IWMSrT8L3YkX+5ms0JkM0YpCeqbucMYsHYoa835n64RlfUIzzPUOKxiG4eCJWdWENdgt5P\n",
       "MeNcN/dbQaAif3M19iOeQuXa7ALcn/1rQzHGJBYhVuac9htG+GPPHdSAQ0bz8dLABq5proxC9lvd\n",
       "q2LRfX4NcRgGMfYkgO7llsDdFr4T6J9XIa14hT3fyqjwt46UjzwfD0L0W8RTHmKCJejCjNk31uW8\n",
       "zFUcMaP/VgPyoJLjky+gYDFaSTBDRjOWf+ZWxjqTdt9nam/tWLfNy6wkN00kA43u5xa3ERRBZ4VH\n",
       "/QDLh0GEn7zRseNBqjRorRd7yMw5fJOTOee0WvqYq7hrmGomPUF1h7ZeSRDs+uYi9DCLebPQqISu\n",
       "GJMRcKzHXMPe5XdL8H8Ut9+nUOuNEZx4dtfaJruvmJ3lDM9TceZtWdDjkB9941rgbaa37zrt7SIT\n",
       "kst7on9cf2jp0vszDcc4ETlef7IZI8TvMTOQ8go3et6zwM/U9orSX+ZiQ/J/xDphNFkvCJ0rlgrz\n",
       "RSJOJ/5oNTg9v3dfGvGhO6RLyoftd8DMI5a0SIb2GxN+vtuPuajEYw5iC4jU9yx13NGi0EtJebEZ\n",
       "8ftXTcMKlk9A49jQpMuvMuXOZQFq3Ys07IOG5aoHNO5g1nYxkLcVXbZijalpTDjsNpdpaHccjo20\n",
       "i6xsJFc2Ozci2kPnWUXaxvuLCN6XJNdWlWqhu6B2B8bu9g1Yc33iXFGHQ6wLOXlUeY7gYvAbWnXC\n",
       "YeQtUaJHxeG8zYm+wnxFRCqx79rh6e8baHpDAW1T5VN8IJ8wHY2I3sqnry14gcQrpMDTYuHhaPXJ\n",
       "wafQ6soxADfwTG4YIKRhqnvAiNBVKvuxXR7sN/HmdJRgY8gA34XUlQiQumTlqWfMQB0sh0ASDBgg\n",
       "uvvx2pmr5GxIJSFLkdqW00xR5F5U2YgGUjVA2h5jKf92SNVfj2kVXWD8H8F6cNvf1f8RvrTFdat+\n",
       "k73jgAAAAWNBnkJ4hH8MlWFceK1K9Xq8ANblhICe3Q6I3Z1fP7+Ev+v6gw2FFy/Aa4JlQ+fY9JCX\n",
       "oOToOxEdVwtSaMZQWViq7bhImAhGDC7LvLCSJog96kQMyajY194OjVcmb/+U3eAubDDVpgk8uDnV\n",
       "0EywJ4ZxwEcBMjIku5st/Ze2ZlIWjxP6QHHwM3QS4TvFJXAL2rC/gE8Ca+wuaXu4JCCjmzft+gcu\n",
       "sxxPgBCOBlWV+125XJQut/ifSuJ7VdItwaq70d7Fv0NggOTMBTtBC29PrTkLJcBFWbDNFg895qzg\n",
       "nq61bGlnP/7PpqaTvjW6D5R2b/dEiOe0EgZLILG35ZOtt+sgWgzPVGeKVn4SVU04XHWZH3oErP81\n",
       "FmXpV41WhA1Vbbmt7qh3s91bIYKfXgiRuXrjzM9ZgZly8ooz19RxX5+Q4DWJoZXJEQMo6NycmZ/t\n",
       "SO4tz/Q0hYK+qRSHkxnU4IZDEdiBAAAAogGeYXRH/wNbgCxI6oiDfiqf+N1ZS1qd96sfJDWFtZgy\n",
       "iUx6G16xcRNX6GBLMsGV2SQFOQc2y1RignsEiAXYYayNbCtwlmysGp00v/kxsCkDeyAEEksLGHYg\n",
       "Zc8YEzSdrDmKoZosibox4GW0yYlDfMT+4b+lBa6kBVUjuJmThu/h29AM9/toaJDbp6D9Ag+M5MEj\n",
       "LwXkrVVPmqjw9HdrIJLmyAAAAIgBnmNqR/8AAAMA3P1S7272oDhcFwAA9iDD15TrpsnmX1YawxXS\n",
       "NqaFMZkjB77mkO1ggmIG2LNNhb1MxUSQACkQg99f9/ZXgMac8Riapq4lRK3jiuV4ruZJBbVJNB2n\n",
       "1W86BnsvhDtmUSYP73WEymYTYIs1ds9kJ5J91YzcUSYwpP/AIAVrmfKBAAAD8kGaaEmoQWiZTAhf\n",
       "//6MsAk/h11N8YhESynGFaZm3buRIHDdcnTLi1tMK5z87BMvc3kmLj6rfYDhfq4U/XCUrPy62MpG\n",
       "GV8X2YJVdNFsd2jGRB12h2RZ2aTDzxEuRQIJjU0xlpAMKSBoh+g5pSqEgsi4DmjD2VF9oZFqouI9\n",
       "HTTlOxEbWvTxdzc0+uTI0G6FD/oTN+GTru1+ZMvAT73ul/8U0XCgfNfkQDudY5bXh63rK/SXgFlT\n",
       "p7dzkQzjd0jH+3emjwQFnrf4atyXHE/EfJTev59OLM87fYa4qMbVO3nK2OII2txCWkhUom2RH+Qy\n",
       "RtpEK97JVtRxTbMZ9pDnH3FEt41wx7mzivsScvrWT9G6xWe4bP9i8MPsau1X+mqWfXmK1qi0n/y0\n",
       "DoaaExjLLjfWkNy3JBFpTyDBUrgK/XLWhnSMNffT+4nO6nLOk62MdeyW9qUiBPCSZKZm11ZAAGx3\n",
       "Zo+nj1ky+bUOHtBD5WQwYrTQkf79cWxWi23oCSBccjTIfQUB4FCLieeybRdyfjvmTPNTXLo+tSdL\n",
       "UnyvGKdaV41vykj704fTMopJMXmPfHa8GXy4jn1Bn11PWNRQOXmoAb5X3KCQe/ZRH6F7+krqsPxL\n",
       "OSt/7ehRrEB7TGoGt9O4t9MqmMtvMBbrs80JRDATDx8CWx6x19E763pEufK3prFd9OQ+X5VCPm+U\n",
       "VJfFETKAwWHkEgAPfDRpuDuoq2l8OU6+PmH4G3QekiC4+uIhaOR5+GZ8A8CslJvxsUAd8dIzi2/5\n",
       "ckFiTeo83PXR3zWZJTNy3WbGbGmQ4G3Q+xZKDN87kD8Fdk9rE9WW500xDxpa+FQYhtcybOAT8R2a\n",
       "QD/K0bDOTYbL0US7nUK3yRZc/IKFpufHqLA56wEwz0SfXszgK9HnOd+/PbJftojlDzHjAAqdoCO/\n",
       "/TUclg0I2p3pGzU2EVKA4nbbiWyq+JwQhoBmmFrTwj1eG9S9mfoClLkacT/Zrjo0GoP3+ObxIpLg\n",
       "zCFmmK4tMvQhkp/vuj1bWtdr8QHnD0tpZhtt5Yku/mNPCLQhvPrnPav1DhVzIdnuGkE2lVptKhb8\n",
       "n9hXeU6DGhHd2azHCIhpznPMJWpN43ikLUVZQ2bLd1JjHpRebKjxhVOUq4lUtlxhwu3TpUfDCo88\n",
       "hYCuS9qXzxLRG0//0hehVFCzRZyHU3Jd/VqQJEyOjjzQmG+Wzcynh6PC3QqLTpNcUpHnT3+EJuhE\n",
       "Vrlf2/CO4mJrGy8aOIiIqqpuk3/bru+U+mdnjwmlUJ8SzyxmAGzFXTsrcnJ02f+9+sPIZmatwrq1\n",
       "Xw8beJLxFShsf8+CgXJcO5sBH70zlOstgbLwhqpLAAABB0GehkURLCP/B7BTC41jBobFXiFK8Xn1\n",
       "Bcb9qbrR492JMyEhUCbX/eVm0fY17qnettMdnhhcN5wX7bVkQVdut/SXCVcsW85Q++TCMLJ7rrKh\n",
       "zZH7zlekkMGHvfKyOmmX1pp2ij0BGg4D0roIMiZiYrumiUHAbdHP5kyz+xbKCF1tzpFIzQAtWcoB\n",
       "b1LGCLs8DUiIIePRBmfsH4pcPnsSqe6OMq9z0f/6keYjKbkUW5jqukw7YIixSN2AtKTuicHLJsqV\n",
       "lYAkDOMVu6Ub3DhH1qeQdOYaunnGy8wSOyXzCA8yQL5BmDMOoqckVxISFRSKVDCpaSSXfHBGOHcw\n",
       "GnsXhZj23vr1AgShAAAAkgGepXRH/wAAAwBc9aIpTymWkboTNHb5OgBLeDTcMz/GDLww1rAq9oRj\n",
       "QkhOvXb+hSbHLYDe5V9CdlUXLKgs+RzTU0u21AMjb4eGutMvI/5Y7lEhV2cLfHPVTU331CTVBfvl\n",
       "Jjmt8egLHLJdJ2ponfES+5qHIJZ3/19gfLrDTUhFA8otN2dEuqMnT9SlJqdbPrZFAAAAhgGep2pH\n",
       "/wAAAwBff8jMcETw8i+0W9jxOLGi3n82BC6QPH4hGE8mHiN2CwEnZrVZE0CJr4BP/bn1+vfugh10\n",
       "rKO6Qbn8V4MZjhLNfBX/T/cCbbIw47jhz2unX5EDVTKXw0RpGK/EYANqXECC5KXjlO+opXL1skj6\n",
       "qiVM0Y3BuCnYGZ5lGGGAAAAEw0GarEmoQWyZTAhf//6S85qRG0gNMt+tAlnFe7zPAUA5P2SRl6GE\n",
       "3dhVHcxwPrZN8AFTiyIbjPLT+MuLFzNM9lfjZot/cErllDWiqWSoa7GAcQl/GqjYSJw7r2XrEr7s\n",
       "/RUr6vs9UQF2KlZmT62JAK0ueY/gJo5WKl2sLZ7bS1ezq+38nb55fbAepwIgO7rTL8G8pRYNTShe\n",
       "ylZeUvmU+55xbKdihcUMSaJ5hEzl7nfNW5QKKIydtMiGt9rBVhC13PvNQu9OePC66+f+XWdavy4r\n",
       "2Enp8rJNvf7PVVJbfbWAbfo3WkQMAat0QgvPKTtPSK1klrLsmjyU4gzW91/QyIiJVGYaYjuch6+i\n",
       "zXFvZ+v9KpzizFo/DyYG32deH2W1gIjfmNwXAinnWt/7fMGJVmhawbX+GF0XihXcymyBNgMh/9zE\n",
       "R36A06ITiD5xyJWoID9dvR0htvT/Bw1B+Q2eyKfbvwai6k5uWv12ShyYadc/4piPC3atwNVDX7+A\n",
       "mQ3L6J74mY57fkNEkh7DAyL4yB+unTTzmPCw+lZM8Htyo9q1YYqodyKxWO1OTYhZwLc2L2KzZHgS\n",
       "4gyxJZzFmCO4Ceyao7OuP6cP8SkV7ijnSSHytyOCldIA7w51q9gZ5tBiKrPD6V9blOi0buXyw8K2\n",
       "PwM1OIkJZ+8wigMz0TNg4xajBm8mF/T23i3VhUjdN4zIfMp6o3y3/eyfCPf/Z7CZWqgzmyjRj3De\n",
       "s4v4paMhiLEPzE2BzKB1EXCbYry5QH8dW/WCNwiYhNZPUapiCaq7EOFjaWGIXxqkEkSm6cEaImQa\n",
       "wOKf92Qkl9jQLHj6VMtYi8sz9IBjIE3s8ZG/oCBRPmwa2KHhxlQuRVut0fCJ/hQwAAgg6YHv7Xov\n",
       "E/5eizRg5d8NLl4V79YRgEKNnOKjnShofUsKBFgMtH5w92k0xkWnrSc97+FA2KD2sQNTSVlhRJhb\n",
       "C5BXiFCtikthwUgwavxEklOhjBW9V72JfOBUNHkSBosKOexcl3QqskXMBt/qOFVSPzfYv6RS+Xi+\n",
       "Y/qFEqUxmSIu9KlTDf9SJ8nzukwjGVQxGG4ppSz2RNH7fvRpQBriIlPILC7MQA84IP+rjsi9S3n8\n",
       "SH7h4+VWk6kzjMDGqkLW68wIymzQ3WiYdpvlMU5WhUg5yUU/w9n2v67aq6qYUhvu4fNY7v7WEPt0\n",
       "PZPWdEPbqeUgoPcBgWRyI5yYy2dw2bfkFV2vj46HrhPTJr4mqaP01CQYgNBVIRyRkewyY4USbVaP\n",
       "ULy6qM7upJpeUJgro9Cbk5UDRw3crmE6U+rxCu0jl2sOAP+u+KEkM2RceJNb1PmCAYtw6J6DgUGm\n",
       "4YOYygyeVqaB9e6Pqfi9wQOI5FJumE6znG7mkYi/RHIDuEPXEQP0sr4zYIA2kFZ6qkmZHFpTQr20\n",
       "kPpK9UGd2K5m2T2S8JzjykHICf/EjidEwWhSP7nInjgLicTLl7EwoyKvhXHfk9xS/WYnKBkcN9TN\n",
       "TiPKUyEyGuSGe8Dto4NDYRoPZyODiDYz/I9FAuspXMK4RERCS321w9ASIqx9T3jPYL2OKdV20mKW\n",
       "Omchbs3HPJ/TentBNuFLVsVfI++me9dzbHjJ/dWC4I0NraP5rnDkeX4AAAE+QZ7KRRUsI/8HsFML\n",
       "jWMGhyQVexQtwOGTLeN5pwAPUMKm/HI6cJPbf4CCXpInWZlfBCKxmHmFyntNZPEFKx25Qg6udTcb\n",
       "SUACb9FAVP1Y9SPdMQ+qbvOJ0olxgMmoFm+M3b1HcnvPPYPHtqIfGydilHuE6Y3y43kZEEE9ZJtW\n",
       "D9fkig7Tf2a3VGv3lSPlm71Ym91d1bhRdAPmlFEDWhwVp03jYkhXBfSN3miNwUih2ufbUxtkasxA\n",
       "DQykyVgkxohSPtP5tOf9A7Us21E2WajBqpzv8toGFEtsLd/BsBwrPP1y/6XttSsjXJ4XzCnVCap7\n",
       "apYZ/14bIbbf094vh6a/gJ6aoVa8h6gNJvdhfBsiVPrM39fbwuX/GTqVCB4gD3B1h9uZLKcgd5EP\n",
       "otTSXbqeq1KMFJ2pEoE8LmvBrtQnAAAAhwGe6XRH/wAAAwDc9ozPxnCy4Y2C6AIfxGu2BbNmpVbG\n",
       "PyslrNvuRVniIFjjNK8YJEcdqwzt/CS1sCKrganX9rKqBxZjWrb4spAoO4P9VHhisdR6KUTHbUFb\n",
       "2kFLI60YA9DsJs6LhQDiUAAJX5bkR6BZR+YmkJyYD41C6WpzOPsFn9sid9NSsAAAAHABnutqR/8A\n",
       "AAMA4mSpv9/GIBcwqiFwhFUB/oC166ojCa0Z2VjDqtPJD3LkwyObZs6SvtD+yGFSA6uLfK3shlCW\n",
       "6zNPQpbJHx0Id5QuahL7yRufK68bVU/EvcS8O35rQmbHAPvF7iG0f7PMYC2H/XPGAAAD9UGa8Emo\n",
       "QWyZTAhX//qkdUzVOcAy62SqAiMqGFPsjyo0iWEDXowALiBVO9IHlnjWJ3RtgRAXtGWFfk0YMvbo\n",
       "DUqDZP+lk0AsyB58eOdFTZmyJy+XwUI2c909p5xUk6ji0sqsztxK2N48hoxb2c/Zd5E2iK4fa9b0\n",
       "DKX1D0XYvC9Dv9XNONyUL73w8nOfeZlnYTrmyIhj3f3BhiuG0p7zzHuUUESaGyn3tSk7ojAp/r3I\n",
       "4qrErXmS8v7OTawk2JENwXwR+IkhvzzkWVaBemmyYnLY5mkgJv5SdwZALEjypVEc4Yms9J1u0r/9\n",
       "Q3aoBa4vrncqZkaqjD0rHF6b3qcNU8ekL0ZI+1ARlNWyz61PBUNc6a6OocVfzlYcdGFX0h1VRWuv\n",
       "mLlVNMkhE6b61rbDFXTsIg86MLWB1A+4RfdaseeHOs9ENIlltNleVXZZ0CgaN1jlyGwaGyeLhgeu\n",
       "8EoFRl9NQwXdezZxGQ6NWDHeQCSbFhKthfEvqylpbQR9+4kx5ZlcGduuU5Xc/xGO85N7U7tmFIju\n",
       "L8ug77cQsDOjsHHgIMLK3fBV9QyISMcUHdHrOVDzXFyln2/5PKcfCIBwU7H6seWDw62+jnn4ms58\n",
       "zsV2WU6Aav1c4A3AtffUD9pnclmHkApYY/V2K37A2V+qHYlKBKZBhUrzWtm+YcBO9Tmbe1LHJt3k\n",
       "UKd8Z+ShNhQqiEnazZyf3Ck+Y/HEA1HwOCoQXzNoKrFrASL2e5pjFd5w88PXlCup39EMbTa3SB0j\n",
       "h2Q8BJSjZQ2K4YIS5N2DR3p1Jj+8teKXACM+21I4hcMudyc9YWACXw0xjMI+cyrMlEsiZasyROI+\n",
       "QyWeV+TJaRgvCFKzSeHxyS/1c5mD3sipABm1lADyDL3W62xQAORQs8/saEyryN86ZMvw5J8Jb5/P\n",
       "kxxwbUXzSdlRsm/hD42Qbtn+hg3kKUznvMySHeGuaKa5L4bnO6ZjgpExOWvU+5TbuKJmGrg83JQe\n",
       "oc92XxIaCy9Jd6sV0OAK7jwMMkOPBkYaesks+/1q1UM8S861cz1caGxoUkggutZU4+wxKfCK0lXf\n",
       "M1+9M2WERLpBDQWHzPRr7/yCPPeEZxtuRy2xW4dmQmDd4uhuLAszuY0nPxiFFJ0B4qDEYibsAOXm\n",
       "6Y2Jde7Iayv+tMRsnabc6ig4IwOJziNQwOShuk6f8MUTD2VfRf4wh0qJUk5qPKUB5/4ZO55N5kgF\n",
       "pCh1/dMlKokQCw8i7TpyR7pktQlLMIG9ur1dCglpBTLLhlEAjn7qTcqNytkyrxJjEVTagr9Gu58M\n",
       "1jX2ibs1CroAfpEINnYi0JwXQhCkQGnWKZJ4F5FeqY7RlXBC2pCBAAABM0GfDkUVLCP/Nmp9/BKG\n",
       "+FEzZV6Gprzeks1po5A5SDCu9im0bLrhiox6tuH14403IUimf+ikcGtkchA4n7zM8Ettwca55Nfq\n",
       "0MWIKgXvAjTgSpUkYUoQwizMqYXkPFEbqOEAMnWO5csIqR3jy7NDVB3nYjacuYSNLOs0GNN4LsMV\n",
       "pADOhFfXL2NF37Ipas497sIHrvh5INHeCV9k+oMBfx1UoM62fJMPZTUrwV6XldwGUvp/cqvWjmlB\n",
       "oeNVZ7LQ9Cs7K5BhwOr9jounizNT1nQhfidSHmlrjewuvnk8aOH2pvnnhUI3DZ+cAgU6vzH0ZAUA\n",
       "+VYAHnPjVp4dAegIACnnlIBPMl8/qSOZyRtIJlmR5fuY7m6VFg2oNV6+mpK8qJl4cb3n5BAZHDet\n",
       "Wi+7I++OyoEAAACSAZ8tdEf/AAADAOhWa1QiCEiEmX5BJH8g76k1tOynqZwGQ72Og8RnQOky47pc\n",
       "U4sgBQjwkg8GRShVt11W6BJ7BgCs0PGwqgPcXT0zETq8sQL/4gAE1oKH3fpbhjmey8FHHG8LaA8V\n",
       "FHZe6aG3TRgwZHHYPVK9jxISNqw2F8aHr1QQErznZYqspLaf2JNNqzdI9IEAAACHAZ8vakf/Amvx\n",
       "tIA6rFNGL92S6yH4Tpu/3Q4Ya9bhS/iNRd5i1VjWJZH5/hhSWzEV25M+ZZD43HilFIFyV9il/wYQ\n",
       "ji4XhjMl0LpaUnjmSG+EYp/MP6Td3UjecotZelwHJdu8w2HWSzrIAVvu3ImbkP5TPN5MH4Ng79Hg\n",
       "tZ1RyAKR9dcKh1CIAAADt0GbMkmoQWyZTBRMK//+Qy4yJNuGvybTbOuTk9wBQBubeehmDehSCFWs\n",
       "X2cl6uAUfwwfPK0WJSJ5h2V8rlRkEYaeHaLCj0BaI3nl6b+HUABmRrFtERL3B6da+lrn4UkISVOd\n",
       "SqmqWMiHcbNNtA776Szui2Cm0XWjQmNM52d0pHwJxl1dkll1JMNohiIczMdH1HSqGv69Bc2ilTn2\n",
       "gkykAkamCmsV/YEph9MDWjAYJ7TCQ7feHC3B5O4u6JcTGq3PVSdGFnWa0b/xwERU5/VHBWe/wjua\n",
       "Cqp0p484lI+wySlJNKT2MPoFEZzG78oFz+T15/PaBQfll5XhB0YuW3JfnLx3AQsMUoAlQ6zLil9q\n",
       "ljJwNXVXAQifKp8psLwOvR846sNVWZnt52KKf/UQJD1NXVRsWt8eYSsvmRmfS9rDpv+9koy/R2K9\n",
       "Ntr3DWeJlTPq2WdR21CtPYJgAqEAmBzfKyyTJROqUjtSvcsX5m2aNPsWtIfONqqH3dqDWUEnA8Qr\n",
       "HYmURJpJd+YSZ3M/nZ+E8zlzC4A7hIvwOxhVq9FKl+kZWlZMBdR8fXRI45wANpqlba0gBD9IPqaQ\n",
       "MqhBD5uCb9KdwJsDyUGeeX563bGGjNwmX/9AF7mUrq6I16yWVKhJrwNdCas1Ny+BQgCjVPfwGxFA\n",
       "ISb0HVp2yHfUMK8yAVDPro39p6nflyDiOEWz+7E/nJkhBnPQVtB2JmYA8rSAJVM4RQubJu7Jq66H\n",
       "GIeSAPjV/Je1aRrv+BZ6lPfd93D6AeWO1HMxjrx1jKe8yyR3T1IgYEFZzcs5MIFJ5QnwztbFfNi9\n",
       "8KIefIZu0NhulQz150hIKGVqhUpQSIitvbBEKpprUbKUX4HApdoucJp6HPJPZ/PvPJiMbK7kC+mj\n",
       "+VrLmWRft9eo7Cm/XqzhzLxvgYuGhdLwjx5s9WQpFMU+8ZJHfa9TiE6UWdDYnq65tgTrUwi7bdit\n",
       "qyRKunA1xdfLKEsdTkOE4UIxJLmgfzOgE1i9lERcb4V/eJF6AFOJSRO52GNPexuQChVYBpPgth1H\n",
       "qbLKL/JAF4EShxLdZn53mqvTfBJTsGN2Jh2+9KXteUHy0mQKuWaZf8UmEjpjreha2uWIecoqAxZy\n",
       "5ctBPetTXAGKUWna//g6pHmIiHARBF4PA+uV8ZKz2Dk+OJbGazeNyTfphaZ/xKm/1z2SLJP2+8df\n",
       "a3OXS6r7/5wmJTpRh9MdHRSATxLfPM0gKVg57yNIdVIXy4V0KAOmz19MYrDC1x9MWqeacLuqIAAA\n",
       "ALkBn1FqR/8CayMjuhWMmZEuAknmPHnbAETZnU5a7WoMhCs7VVmas7Vg1DfmojmeATCJLlUyTFcX\n",
       "ohKAw8HKDpv8kVidNH0kia0pzE8E2wvzPlNumggarTGdFTaPt6cng/1QAJbU0cmGq54+sG2BPF6m\n",
       "c0HCPgWcgVrZD8ibgyB8o4tpsvf//Er2J06AesLDrAba8HEvgz2tfXoV0vzF1GvpIies1e05eFIn\n",
       "vAJ0WYUsdofg3ILl7XwMIQAAAz5Bm1NJ4QpSZTAhf/6S85qRGEe2tjm4Ex1SsBMl0gBKfOcCC7Op\n",
       "c1WAM5W2zxsy0iPr5gLAoPyJ37gR+rp0/EQTT7UhaAGfXwqzMhOFaRu3UCeQgWS0z2DExDpZ9f8v\n",
       "/lE56pVguKA/GdtVotCxX+YWOOVBKXQisTn+kvJ+nyCoLO14/VZATvvcbWEI6KX7RO9RN0uRnVFZ\n",
       "RIvf2qJlCUQXi32T71xwDWOWEIfDe1PedLDMEf7Uc3EJC8Tsfr4SNjxx7rNdw6XjBVHzTVOy/ro2\n",
       "Mo/ULvthjiAoAHBOJZJZ3Qx1Bb+lJYPPes1mY9ewwGEWdf3yew7WJRaUqPVvZZ4GeLlAj3ra2Dm8\n",
       "WjWWMtsE0J7xbjCIUKTHfz0spRv0l+67NvnbZ/m6jLkGpz/AhJwQ2UaqlRrArCcwYOQclV2/v3SQ\n",
       "5JRf2srlWkTNQIzhPBnsa5CocbfkVs9qPWW8MG1yKBDhu695PlM6HyJF3x12U5Y6tIIJzTfRLlDL\n",
       "SCr988aBIhmYVuuSlOsSshArFkXgksABkx2VfiamQMfesyrr017GfE5sN0JZy+i3GIHsQukk95ac\n",
       "7BWhjdrf7LrIl0JIfxv3nKwSU0elvv4YAH8Q8d0mLgkChhgOsVoIoki7FYH30HHMqI5qMK0JC58h\n",
       "lVzbNa55vVNg6YqvJWskfdc/nC9TtaJAp1XO1A6P/2OZIxUkWUB1vzFyHNkr+FHXPed/nS6iLAuo\n",
       "yyzR730zD71zxpsGcplUMssNT0w3MxfuAXwsSeuW3nxckl511SNbLdo0wlWTY/A22E3Xc3rrYjFJ\n",
       "GaaU9q5PodSXarPFC5sXqzshb83vhR1ARREy6GFD26aUHV5sgSHeQz3ZoLhLW7EXGZ490zluK962\n",
       "q589Tv000UPsey1ig8nMVj+fgVguMbkbOJBGyLdIkSTgJPl3cMCxoKUpvw9ugAu3vw5a15rWXjZo\n",
       "BOa5+rbbQMZYQyghriho5HwgN4fMSf2cMPFeCsktIF2NfJIIVW5E2hgV52KOee1MjE93NE9BpHgR\n",
       "90wEEF8mcCr1lZYpDdWyu+aqPrpVhtqc7/lxS/ZdRiLdTAcuBlQmfcmrTnIc10E8GK6S4AAABMlB\n",
       "m3dJ4Q6JlMCF//aDN+u6P9AIv7hAlb3U+4EFH+f7t1K/WSghU480iw0qy8j/txMbPFFhmkNF3cjX\n",
       "b8zzCX2pJVNku8SHk5R8zVu0L7f7AM2dV5RpzAs8KAwkY7pZOXcQIE12IBW+KU8ubKButrazUAA1\n",
       "pdd1oqpKmMUURsM7KL0J2MyDnq92E+GUzWQYfnAWKV+R/w2uzlmT+sbiSHfsle7BN15LL7IJtxCW\n",
       "2x/5FTA/rSSe6JHwfu/lZKGOzSbkc+EwSw3iJe/jnhjH3ij0Zz4s4fOmhwoMOObMOd0JBVAHVkIE\n",
       "e2KYpqMiL11HjcZ4j/OhqOAs7chM07Df6zme6uKUhggILqmgAaQ5xuZb3udGXm3a+GGEn/GQ5/Ac\n",
       "8CQabA4Dwimiil7l96ob+6DPirhV8Ou+rzs6dsYmlgghB1kXTR1P1AptPARAaVviQc1B+XxgIwrD\n",
       "l6EFtfvskfz+8jBnT/KgqGNIz+kD+S6bZFQYVLuc8LsSDs69wBItTKYyQPAaMJGtR0sVqvQtD8v+\n",
       "gsYjaTcZNW1GGtY1eOuaqaQLAfXXy08KOJpc0S5LVu3lKB4Kg0GpK2dW/WUzkPHYZtQKR5wJWAE/\n",
       "wmPUl0E1f7HBmWZqoYiTLNb8EqhL/5Kq0TB7KnvOOWAt776nSB6Ndc3irqtY77buNljlYWCNl4OT\n",
       "3/mPhhm5iN6CbslInZhTZtp6YuzfS0DXl77Es+6tjGNaXzLFffnBEx9hxtk/mlIGctMAm5WoxqCG\n",
       "SJN0CnoWySrzkHOmSGHzZUYQA3l8coIrNGKo+14KGuHYcczA6DWlviSmUzOpcWxOsx1Xn7I8nuL/\n",
       "P2N3S7pg0paVJJq79JMXAkfLgh2PHr9j3dyqg/xduUlZrZwPKSmN4jGsoal14LKLrym9KFJ3AG2R\n",
       "Og4C+ZHpWhXuoWBlWqFkR/cXVXOoPhI5Cc/EnAXwcleXDZJCIs0bXziyw2lv5HsG73+vwAz9qA0L\n",
       "4sykxnAByVIifN9XB9cOGMhOJewpXRZPHR4jh3NzX69C7Yi31sqCIItt9xIPvFrOuJHTfZbAkDYQ\n",
       "LIx2t4dGyBq4TIannlfzVz5k6taBhO5Na/2/8AWOdWjMcet6zEg8UFczcopmiMgmqYAyHei0Rze/\n",
       "RvYv9G8Yn4e2wmrT3Wayb/39QytRKpgnbRVwhuE3hf/2ZmEDi2DYUISUudu0RHGDpiG1KHccZdlj\n",
       "gEjuUX1xUXRpsBQa/ksqxRrEER0+89IaR+kCG6iC2sH+2fxlqG8dI667mLbgoXq4O/m5W9SogfVi\n",
       "sRmG5kL+ViY79+EMf71p4r6q39h5kWvK7l6Tbb1wSstOTyqqFpA6mYZW/Z9Zln3fJ6jDc77NUDQx\n",
       "msCQfln+27M3umhre3a86G/5q6kb0E89p73W/8JHFF4YQAh7d1dO1gO2Z3Yjh0nEGN3CSkm6hqyu\n",
       "J8bX+P69GX3+QiyQ9y4FdUIe8QTfFL9Q/iSp/DetdEgAt0ksWsKuY9Y8G9nCmmNtrzIqDiN0q4hZ\n",
       "EnlaXabLOTe1FnkzzG7AbioQVNVEJABDtO9+Lq/W65GOEHJdFGGv4WSWxfit2bOJ2u/d53OwWqnL\n",
       "aVOgUE4N0AhA6jJ9ZH/8NuyFn2ucfmE9ebkoAAABMUGflUURPCP/AQ2fKKxaPAdFHG4WxlCCmnEA\n",
       "ceyj0O0UeXyWyzu36m2sBAJjqKAMqwzU32PFBY4stYYansEj2gSQhiBjgOJAbYExZZ5POC6ePQ5f\n",
       "7kpOcIXr+UCqzA3j9tDfjEIG1B1SZk2eWbblABokcwKcd7cMf0NJw7/MiDMrge/kdSuj436igiAF\n",
       "mnlf2Pnq75yu8AnnHcpUlEQeyMOVQSW9LDwv5PJdqgD+XYqk8YMsASeFRNiMSzzwfN3YDh/hwyA3\n",
       "Vl+mVCbU/3WYkjoxHwesz0ZQA27s+H4l09fckiCvtaRKTjUiKVWCpMeNtOYbGEo/YxDfZqc0RAdD\n",
       "mhbiA05K1i4z8H1/NBbkJjP7DVWBNvDG3/rzbisvlEu+8o951pL0gYUo7/3vfnGvzMVDAAAAngGf\n",
       "tHRH/wAAAwDnvBduf9ngYEsnicxl/Lpe5Rz4ILsA64F0+eZXdjq2+UOCH7Woo3XEoAP3rKk71Y5U\n",
       "BIxww1+cXcU8ALUoaWc7qot3H4Edr4TRiW44IfNvQb5hPJ+6lrtNcwoAtpRXvApLXDt7ZLgAMFvw\n",
       "BIA553RLGCqtXommSHdv8m2n/+8htMnGKoJhsG5Y1SLB7ArFk/c4JOxjAAAAlQGftmpH/wAAAwDi\n",
       "p6+s1Fxia2KiRc9TY5b8tKmfGPXLCld568ctyIKjBOnjmKZimpP35HdrdEWzFL+GMiAua6j+A2xc\n",
       "ADdd7vUaPsuunvysC0kJrrJeAhp1BGJWAFetWQXTXfFywGVH6ts+rHOdpkA/4TefR7krBTu2S3pf\n",
       "H9rmBukMZRh2La8ZaM4hAZ6HUd4oBmCDAAAErUGbukmoQWiZTAhf//6S85qRGEe2tjnAnclA6wDW\n",
       "v5PjS07SYNBmO4ZWM3UyW3GI8iqoPjibZuG6tOXJh7a5dqgl+yeObiEC0MbgiGMeBqWFzkz50HmQ\n",
       "/TUdvOpNkh9zMx6+mFcdPCMJ+aTKq2uV5emHJf/ro0kiuJNaFFx2aNhzqd2edbTmg3mCEigLJUe8\n",
       "iY0w1pJHFFtM/LSZW6qSeZfQ3YGUGNF4LFbeij8JHEJAYXnqH+YXYdV5qHmMDrv86/D1JAh+bcse\n",
       "uKcArYsFDvPWDe2lTcUl+7/R9FYxZXMTLZW96p+3WcQFpTGZVDRF43G1WWo+LG7+XXyTpbaoTvF+\n",
       "prwDDfwIBgkXXYmJSpzTeGT+256qt+B5oFFYa1rPCIFDhvFqxc0hGZ/buXk9tW6XLRWhzCE0IwS1\n",
       "GkuqxEebLl7eyUgofSobB+HT7ycZWF3BIP6Y/Ehvhk0Zct/HjGqhVjfkbuL9UzIvO4Jn1CgmPDAg\n",
       "IJ0blVrWQ323iItfIPcSDMOPMtpkmGMBoA7S7nd/0SHJnpDI5LsTDE4DXR3vE/cKFJarHoDRE9J8\n",
       "efQV8ejz81kLO5vc7geWmpW2Dd7W4+slk9JrlXKPHjmvHX9FZ1xdXfLs7ZSRpEKrWxlactduUEWS\n",
       "GMmdrIFk3mh3Oe/gZ7jzA2O5ns5E18VLBcNYVT4V+L6/1t1z3eSGx75mU5J1Ei6Cz+RX94ibap6r\n",
       "U1MzEZwSUpwCM4bOLxGHJ6mAyRzOwBN60k+jVNrLYWJZKBclTXO8RCJ8i9N4HMaNpSnDlvc4keMh\n",
       "VZK0DRDxMqufMBg/eZiKJ0MAsPld8akrqv2czAAmSBgqUFs9qGz5MFkJQCbwuexqDmERpRMVH7KY\n",
       "TfUi6zx/vHUbEZmEI5jOgj06ja/cuuMnYwtqXy36hvTMKhdc1DYaMEvqc36A9dpPaFoQPm4a4v2l\n",
       "lGQlvwkVzqmiexB6x1ci4m4+TyVPh180ieuuWA0oVfVVc42ZukZxO5qOXKXHpHDmKDmNwrx83PFF\n",
       "QFIzwdgzX1RyowLgKPc4rwZ65tXn+5Dvlf988qPcObs5CGbeG/8bage9PRBGN6TUO4U2vrv0HxDw\n",
       "XGJwwRkMHD8qf3TTAu6UTTNlJ6nEmwcG0lNVH/k++YH20H3YTYA/IifsiqL5EAvZ1hZ7oP8pEYt1\n",
       "Romy51lEaRkxk7h5lYn52Oh3NXnMJ6SqG+crDwoEsSlcmHDzVpWked+k9gl3ERm6hRGOEtV0BTko\n",
       "cfgK0LvnNmoNxLhfTZD76qJAnMdzHcQyL+MLC249Tqz+UJEAW1wNVgTZxkuwsp7s7/0EKfcIYlnG\n",
       "l1nmmaJV+PbfHshzpZc6ATj0+3lJ8Jn2oelnA91C2q7C6GZFs3Kzpe8KWvcNiu2euRZ4Oz+pd6Ew\n",
       "1/CFbsLlBw/9oAtG4uTW+XrXjWsQdClJbGUtdBEGmPlAx2R1DSFAz0a/+gHARSMduyuBjl5AOGsW\n",
       "eye+zGJIh0sDqRk7H2QigKFg9i4Z5M35aGD2s5rL+MhIi1IzUfCgTID804bX8vqk0QvfHMsLf6GO\n",
       "nXPJ7JWwhrADR7AAeWynmAuSy6x3i3M8GjrPgQAAASpBn9hFESx/AKy/fMmgBs7FsodVM9+9REX0\n",
       "M3r5QpQ2sADFclx/HyFAA5vSYKAgQ52Xys+GIFlmVu/98Pj/G3ah7OdiNjPtQBqk+huoHJ6CoPxS\n",
       "HvHzFKgnjm3xIdzS2deg7uSBhh3pc0vf146I8eZHYdiidlWYUf54Eq/iZbpH9uVDU0pGAdJ8OgZe\n",
       "vaqFSGT/t3oDVpKfCUCVZqzqaLdkp6PGe7UW95KoaAP3YCqHzmkm7NvGaEVABoe1O7sqEJtRu0qd\n",
       "P9XFhriTkBR0vcPxOpu8McwaHMiBsL7kCrBLCT010G5wNdk+RtoAnXjRzNSjPKfQKyPy8RnLBCY9\n",
       "mCnOArizxo/8rcZyHrZGEyT0hVSVvbfvUy8ouJQOCIQuliU+toHtUo+hmznGAAAAswGf+WpH/wAA\n",
       "AwL68WOWwNkxoZjxXDJHxFv/FPZhPOVggcZUty4TIE4Xs0edlOQA1zYACDj/R3mBYeztSxeOY68F\n",
       "KwjWNTFLdTDU3wNCZud+Uj9hxA9g/yhLRfRQLvGuKLRymOsaFKVQj4f6lwp9OwKR8lJLAvaNxgaQ\n",
       "7RRd1BqqdpWk00UJIJ3NVUQB8UcMEJ+MJdqnJISJ+Tk38YjCo9uJkWgK56RfvO3fCEPMT17yVF7x\n",
       "AAAEt0Gb/kmoQWyZTAhf//6P2c1ISaxrZWhHggEe9V3Tn+ereIEzf/cLSXrFds1YEEiIiTKgVyfv\n",
       "FT5bFxMYTsTHrtNu300no6cWl36wTNwk3dlLTrpNQKX9z3CLcIAuW/0fr31ZOHNWsPwarIkKStg9\n",
       "JHy69Q/gNBIypSE08W5axqJSzmH6ZSSC+p3kXGQX6FCACchEYutyS47qB80JSxd0IleDIHxBRw7k\n",
       "ZFlKz8mKkM6RCzp1e094ZWmILFpWWHDBnAsltGDqi2M3RWnyKGubuxOnc7Kq2jD3SsDgdlgPaqQf\n",
       "44B9zN0UZspcSiraZcn/KrSTRswsKde5+5CZoEg9ssfaTfey5ZcPLj8+DPbCD0cjl1mzxBujheEi\n",
       "GxnA3ZALl6Iy4Q1bXlsHnxSF33co32e+CBNxi+BgwZpBNGpU5Dp101R+E7Blrd8znOyAHmiwj2ZO\n",
       "wFLi1Wji32J2o84VfVlKRZpK6ODUeiQ1+a5cRt3x+U7DDX+wb7HY7hmA3jGt5TXUJLqvl0ijMIvl\n",
       "iuzX1nZKCHNCV1sDFLs9fxt1v87xfdiFIQadvtHDOwQ3QAvtkZWAVGUYZkJFTlh4Nujld/o9kHkk\n",
       "s5pxjoiuP1RjI+8Cwlm5noaX3Xu0tYKabN8PBUz99VJKQndVoSIm9Y5qVxdzSMEC9BN81O1JYT0W\n",
       "DILaw5DLDCiKq+Hcfy8nmi17L7LZIMV8LomJ2KzM9XNTc+ZNwkK9m+934AY92RXCCb1mPkQcFKlM\n",
       "N8aKCt22sVRQAOVzo4eVv3MslVM/644CKfoE2vGoQj0u6Ujqq8KpXTbPqch3bHd3Kz/aXAVtbcEq\n",
       "JjY3/6FjBT+9GfYO/1XAtGzuDY75jnylYLK3GUHGtEnn3CpbvqpZkfZfiU6iFAn+JfOtlUZfWQkV\n",
       "PlXguNTrZJ+PuFCgt+HN6oKp55BsDMAUDG2yo/2lx71Z9BszMO16Ia6n0BKvFKewolFDOSXgARKS\n",
       "QYqyJKxN3T0HlgO3saDt8lO5bkIjy2jo3dxCvscVarVdHTebnVXHdQ6G3kB0T98qmfokg68ralnU\n",
       "Z2XkMNMHJb+qot0fPRsVq/CJ1D/0pk9d8vyn894WPGhJOqYRIg2L8mvnim7BiMRMmtWGjrjSKk1s\n",
       "1Z2JaA4XsN8N6giycLDONLKCrDd9Z65s2ySvoUr3ty9DGhi9hxFhjt/GXg7umEYy+VEEP3ZN8Oh1\n",
       "EY1nDz+PrmKLCywKMxOd+tvaRdn91q1cRbS65acSoSHMQACYxGajazFOs7AOvxtW4CQQgjzuUNS5\n",
       "yJw/QPLREkimLF/bg/Ba/dTMmu6/YnjAAs+z7YpTKhRV8IazW73KcKZxrvrvKWvToxyIOhSm74B6\n",
       "V3ppKeXPpp9YRNjzVqa6e78M3KOrQ11WBagIdRjrryn87tjazpNJeIgNWqLdnmLTcaqd8Dj1Mlub\n",
       "1p+ezuzvemkqxX2QMJ17l5YDM1ANmUU9ithRdUjCB1P1tmNzOdMkxHB7M5NCRletTjmIz0IHGOLw\n",
       "0yzsrs/SrNwtNiKrxvKkL7T28RiojHEjNx3Sm8kdS3HhotMREOQDXKGHJUR4pFg0/evChi2jbbDC\n",
       "+OSoMTQX8o/mQ6dsJ94AAAEkQZ4cRRUsI/8BDZ8ujIVOM1xCFuC6o4vpsuRMSUEJdRJQZpvxoD8Y\n",
       "pB4X75yZ8wvYu2rC5jaGecIzt8X165sPmDqgrLr3ldInNWz0EZRNByOc47D/dJtPPGiGfSSexPkR\n",
       "YuDVjHO2B8tnVOE9XBq02+dN7ENsxfsUoABW/m9rWFitZRdtEXWSS/7vdXLzOZj/p9hZOxaB6LU8\n",
       "ieNV90Syh8lfNrNHFYtc+EWySsWphI+Sr1GfplucsWsSo0xJzyMEsWWGt19rVaicHGrXbnBJRzfU\n",
       "lPGwTBPYUE7CvBrxbXEqwLBP3zm4eCXnYCwVc0KSsIZAlQ0j9tOjRw0vAQPxmtCkkgl+dwbubQcf\n",
       "lvKpCxLpzvIOCrrZ4NuzWgSrWqo7wt1smQAAAKABnjt0R/8ArQkqkFc4IuGyIhSBvHBxSwRPOQJT\n",
       "XKcO0HHCf0EUecRtEE9wGOE8R83vJy5yyrAMhjJRKbPZdDcZOMfi7y3nW8chhoSmWFk972auDbFN\n",
       "6pvJ4Kn5RqAfUfXVU8+t7MNFeEJfw2rtK+h2KCTIyL/WAAgCqEwDNB/xyYcuq5MDF7MsisXnrw9H\n",
       "gwrK6mcobQjQBPLXRLPW1oZFAAAAcgGePWpH/wCsv2XEzj7nrgjDRgGobE9VmLkwy4RIsHMzdF3w\n",
       "SYGG037ZNdTiSdIZIHmk8tHa6ZVxkCa7h6HXQ8eFvDMdjoCK4LRNj+8tuB7RH2vhfdlC2Y88uYCQ\n",
       "z54eyU9ZhiV86/ocuw4L2L7ie+MRQAAAA3hBmiBJqEFsmUwUTC//371bgzbLz9LIrmA3eQtQ8cVf\n",
       "QM6cfzfxEy8+/aKgUZpgrkLXqSXcgZYYKDrXwenecaK5Pekr+o/MRnYDekG5fqCq+IBFjbc56y1t\n",
       "sNBqgxvRh4kg1qytEZRDh16/6E2dnv3BwFkYP1YGrLXyRV7jxEuzsyyRXWWb0H0DgItTnL4Y3JCq\n",
       "1J2++tG2Jb7868oK0ZqqUpggk0bIMedGquj9ZmVxACq0qR8vFPiuzNRnQHI7doLAKcVvMrApNYue\n",
       "F0gDTbgFKGpZNSz/KDotQP8xCD4fXyDQMqm2hZsz9uD2SA7ZkEOt5sR5R7/iX539F4biS3uN+hjb\n",
       "9OKN6b4K0ubIzdDUJytGqh6LZL1hKpG5rb4PlI79033rkFtkOsVfas+KFeJQ562WVrN8CiDHNoSj\n",
       "dKAIlEgaG79Sl8oD1nqhQsu2CKAsUjoSBrI91ZIZ4zuZqng9KaKq600uzFB5m4EyUjtR0Z8pYKjN\n",
       "7hojAyRANVT62p90lkoAD7HbvNOLNZ1v21JRZFqOqTOX0Fh7fWgIC0lJJy4a+z5Y2fcJLbG90Ct9\n",
       "zm4LRTca8a2RjAoCdYcdelxYLcO8rhwU4w87n7wSS3basPgOkM+uHEnd0NgOjFys/G/6v/kHGHlH\n",
       "+JwE82p8V82OQkATb9yUYTYIiePcdswTzHRDmWg+wb3IgRaX6L6/oXhpD5Vf6PzORmRDAyw5j9Uo\n",
       "ABZ/+eCcNqS9ol3S28Ta19+fctfURVKcFITFmO9lUd/h/8C0WFWv1vZ2+RbYvsVT23ZWvcFbmuq9\n",
       "Cho0ri0S8z/ke3aYg8MDecYlaCv/MA4xExXSpL2HQjJ/av2omzUQxVEA24E3FIeC27TXk9CTS8yu\n",
       "F9S9iAOzePA1IXgUF3vG7FLk+DvGuluW8Xy9ZQ86nf+v4vGqz2zX73ALp2q1kNAO/CeL87GzIZW7\n",
       "BL33vZRN335xthwGF8Q1Z/uu00v4r/QJ6LxvuP3tuTJy5qeqHGBQo0fgH2uK1nborvScxZi2huW6\n",
       "JpK82PcttM0sBanZiWeE2oi5dYCwy+GxGFgozWiWTSfKcTI6Ha9l+arVPtoP2tzTEvbh4D6Msyu3\n",
       "ZVZk4ps7cL480xPxAQbxOd6vRNL1tv1eqiqB7548XzZk47rVguNNwAO0/jl8+yxhnKEbBl2ZmV5m\n",
       "0iAAAACeAZ5fakf/ADJHiOqdtEVh+iVf8VHBv47sPtywFqIiBjJiIyHiZlJkFWEucBTL8OONvGDZ\n",
       "WA8/dJxjjZNJix1TzojXU2oBmVHTTl0c8hjABolcmhi2SnmESpTBiktX3jjh9FXd3P+PEtviVaBD\n",
       "miQpTn5RqXsVqFiU0iHPq2mTAbgKDGLIjBHhkJePK/yFmZFa2acFmggDyTqR+qFK7+EAAAaRQZpE\n",
       "SeEKUmUwIX/+kvOakRwbtrY5t/0NpaiABv/UI35AB5WRLEAAA0RlTPr8Op4VJkS/mopSyhg5/AM7\n",
       "jVetSAQHfLJbEW21KVANI9hwVwotA7vykOFJRpcutcM91WQTvlqWdzJXvcjY1wRJAU4Gseb0Jjxt\n",
       "3XZLgAAOkRCjqbHRjPcUS7kr0RiDynwqDH8e64VxL/gY6kjO2ItD/dDet5buvYcAWjGADOkLpqdE\n",
       "bRQ7rQtLzdGcnCK7918/ZnwPIOknWg3jO0vWxPcBKp8+d7mkGgu9ZUw9uaj/Z5v8G6wuRtjrB8jG\n",
       "ns+GGTMp1SCwwp+pKSZLfSRgulJXyWGreWfdAhqs+IVhHMpuHODzUpMidjg4u6t/Ef6uEhRA6J/n\n",
       "DY5R0eEIzXvYhpagH4XBoxM3IWcVN9Y70JzlRRWDdU68sOX9iE8nVYkdgaWxJ808rxsyzdvdxX03\n",
       "EcUgPRrTyQce6YEvzE51KGkbrHrlxxKCdAtXAwR47o+JAW5JxTm3J1nkeLFRf66vZWz5HxazwUXq\n",
       "gtql4K8onKkkYGtcARKhy/v//HSM9/u62Ym9/9mrv18vHGDfg3peB/EiN8ZCqAdDaSvxMJdYvfC1\n",
       "RS1qqhEmssLc9we8EX1C2GJPXlxXQ3SfPS3swLocNKtIO/IOxN8Z3OCnUM6fCVlaQNjGx/iam8B2\n",
       "eA6J25V0FeAVDWpA+sLMjt8jIOqn1fQ6AHmL3h97BMZPc6X0q9PO9jWyHVkbkqXc7cOYjZddsIVp\n",
       "hVtQmIqN1/P6ThmVrW8UmoKi9m4P5hCml3ux03q4WfpJyP4VgBS7V0bIRQkZt2XYGWAx6y/yc3i5\n",
       "lE54ZGxEHasChiKL09/r34qcjZ+t+qa8yMqbieOTJN35dkrWE9zX3Qff4cXjS6fK++WgEmlkE3dD\n",
       "sXVhAcrf4QzLlGgQVZuwdf4sMvziz8wQw0mBqiKMRHx3xHaxPfxqXjxTgl3jTx1xzvCC2n0//SNb\n",
       "3L/znTYJRfXoM44sAnBn2kHT7D7CsisVCByw8dIvMR56D1YzTdHZGWirosZgwgmA/I7UKsGBY0tK\n",
       "/5K0bVAU+iyo5PYE0vjyj2gvVydFt9vE61/7BdG4h6z18HmPJKo055bgdrs4RptIQ0qiSck2Hic+\n",
       "z6C1yLVgam5EeFNYWpv1+um1+HwgUyJypfxEMUkFo0I5nqFv+Mt7PHK7ijrE6ERSFFHvoBm2vGNN\n",
       "KX3prkFME2w6yRo4BrzvhZpk89N9VeGuowlSMjjbzLgUXeT2IJdiZR53b+TdGxT+sChDHroHab5F\n",
       "JuVG0X2DNhy/gYGYv970voIn7pyaTGajU/JwsDFbPoMcXXterHDUM3YtN83DRQrdBf7Cimu+Mo2s\n",
       "mcUgh+4Zf3KdwR+d4zXac6Q6a88kR0oSUpbE791jJZXNS65jpQnGf0JXcK/VdDPRygUe3gtAjtr5\n",
       "M/7vHBdUbDlYVCObSqfTYOSHxnAsvst/7UpADEjxQS/66B3VoylrNc2oMS9BrzxaczGFchNVNK/U\n",
       "ouXnoG/EIVUy/xyb/JfnD9c8YJ7A0gtkJFIblxN6RPd+m2hiVms7OtUQELm+N/b9/tFcAtcF1pTx\n",
       "2gOO/3GOBoTEnFfQe1wVtEQnZSnV8O6r07X7rn7uWQ4EZG9dGeMLuVs37VIbmZDcs2LWAe7aOESw\n",
       "kGn5CrkADQwEoKmcGDx+Nsz0qwq5BJsTRFrKf2lDw/EBLoAVJYdpBL+mMOazAEgho5JbqlgsUpz5\n",
       "bSSCkl8alWWswcli+CBeOM30vLFK/Qvr1uii/W52UJUEIxIx7BltbrOYARywshuuIGDtXuI9Ag+D\n",
       "S5Sz8yjMpL9sL9m5/izcuOmbhg+BDcZD4/jHAmVdLDaiGcpj4HChj8ljTUmqO/H7H47VcXK7g+qK\n",
       "AKCBGbHzvjTwhpZRXi9PXaNexRqwv2I/Km2nJnTOu/0I9mGtxCigiNXv94YC3+ugn5COjRLmwlav\n",
       "Q0NikDqZ2wUAVQ/AfCs/nQxK4ZX7yPfkadUbMEZ2eOADPPMfSGttlzMNWCREc5VosMvyvW6KmGFY\n",
       "eQYRVY5nGvvnC9x5ln8jSV8ysVSeFNlWKJQMBPoej82BT1Dj+TW8zKE/UZIOr0Une7VJCHE6QgB3\n",
       "iQ1PMCQOurdktZhnwFKJCcdUGIuMUuxn+T5etDK5r5pJyFyz7DMUtH9pXbuEQUgQqNcP9T8SZ9ls\n",
       "/Ki44WLbw2mZFHcw4pNmuoSb8aolkir+VAAAAVhBnmJFNEwj/wDN3G+m1yK4of86Dk/Xfkd4r7mA\n",
       "A1CAkhTx99sTSfNyU9O57YkaFWKka9194aRE61ykkQQ3hjIgksiCSvmbpLsh/8v/gVj8sRZORXkY\n",
       "HxO34fZ2C3Vb4YQw4imdnWCxi5z18TUhIrqRL6DiaE18dM8v2qOC/QjGEtlAfQSAf6YUc9bls1Ie\n",
       "tmuGwRn/v9Mnt+lZ03AH3TM8cgvmdEhwCalhANNR7AAAEHqMQrTK7ndFq0eEyp+fGtJe78Ix+8CL\n",
       "EYFKRBptC6GXsof66sg0nmUXYbq5X7xD/i/GRQk4GGQZuxJ4wxWV/k0PcpC2N7Yo3YNUF64iUmN8\n",
       "8gYN+u2lsNSRCRT+1lpk4UKukJ3aKFpMJ09MzC99rsvR4a7P8DE6I8TKwVQHZ0vreuhOCiYhE05f\n",
       "GcwSv4MB2MTb7isOZBedTJmIuwLNNRBnKiA2lpmi5wAAALEBnoF0R/8AAAMAXTb9P/UyjfuKjBj7\n",
       "SOoV7Rk5KwBrTNTlscbV1X9fqmmhehwyzaPQhUYO9BsoBqOrLxatuQ5/H8lJUjNQXBydgEOcXmgT\n",
       "X99ACyqcksBYZoUSxHnmALfIVhhRkonmeLggcsf20FxACaNM7oJ92m/U8XWDg3FGtCevQ3KZbG1N\n",
       "/lr43xlo6oZr/ycLgvUwLDpz4k/Eqrca7+H41EtpnKmCgvWaQ40eQlcAAACcAZ6Dakf/AAADAPNu\n",
       "m04wxFHyRVRb6YFwxWwDJnLk+7e/i6NM8gad7aodQtp0CEKBZKvK4osY8d3OvBiioGRDg5wRppGJ\n",
       "2f3tgAuegdW/EyP3qy8VV/shdDhuW8fve7GjRybw7hKqKznKW1GbESTyYs99dzCSp2kz/bXAc89v\n",
       "TY/6YcXYwoTfEKsLG0ZRnO+0DimW6w1BGUuOLmtNAAAFU0GaiEmoQWiZTAhf//ZwbscvJMNqHzLA\n",
       "3ZsVY4ZofiSZGQHuCkTC6mfbTw2tsQzxc582aqc3OsLlLD2P4277LRGrYtlqdIhlSzXOcU+0Lk9O\n",
       "z36sHVAtCNT+uX6Kvo2ZmpjtyLgpIwtE1NPnr/F26lYHOHF787TgS64XhHFePbFk3yRNZTDbAnvs\n",
       "GQSNE/ZgFozA0Z8ggEAecnY7fVYrZDc0a8Iyyli1Sr14AsCq6pfRypqNkdrQV2M/g6qPwzjia0yw\n",
       "e2RSQB30+PNgvQK2NwQuv3+jKXZsmL4wgTHU5icyRH6NdhGYo1MasvY2DioAQ1WJMCSQhnoQKiPp\n",
       "TNFr/XCvkdcdrEireFr4MFQnYgk/Q5gOp0Bks6uCNn6HKemgz1a75IZgaZpRuRSAryLQivx6Po7p\n",
       "1KGViO6McAmC4FRkU7KuG1Xz0CKB7eh1uKB9XP7mdJQm83pba7fpQH6O+/i/zP71oeopmZHbPgQs\n",
       "UWz6L2fhW9C712y/bk/VJhNg8UqYbZqxsj2/yaID1lX0gzX6YN3FtcXb5THw9TrV4N1rOiqV6pxq\n",
       "k+zB0Fi+4or5NQ/kWpmoh0s1RAti7c5RHe0ILycoD+5/MWYMObpafdlnOoLnIQFfWjoXUuC3ncHB\n",
       "NwPU1dq3LYI8IlIq1Q6/cApxMZTWDp4AIX8fGk87Ckosd0c6yAz329EAxLFaQjGfoRM52Sw9r8lz\n",
       "FyiAXUhbhTlK8FkSpI8O9qj9RJyWxqpa0guy2frScjeR18fSdz7n6AOcfRQVKh/5YwQcjsgwNMoC\n",
       "pE6KPq4LJV9asbxasHP72h007GITso3x9yy9uOAKh322LR5gUHTnp2BT1RLxa3SV7Mm7gV4AD+qe\n",
       "pp5NxJtToqdmBC3wn/KDoHVKiNWaNjyUxw6hPkr+JYMIGrY2smuxRo33dI8VpqLp2ZtkR8maiod5\n",
       "YM2RsUGd1YYBP3nB4bwP0YeUNEpOcqDH5GY54e9K8Q7hPWg4NUg4jEoaDTkKuiuBMpcf/m13XKZ4\n",
       "xb83UURhjhxA4yavcW0Kfr/PHKvcZxr/Y16ZMqUdp7QycU7lmxSPsEl5U+/pnSIIGd3muer+g5AI\n",
       "Xdmvkb6JaToHQofTO5/+vn8Agt0HEukdBvT4728ougraYFYlsPwbd1W6Z7K1kcJ5tP1Mk1JfShvt\n",
       "ezH+NhkgNV7souuVTrhurS2QemNnYwyLW+Mnm+suFYXx2O4r8hu8VAyMB9w6EP1lN15BcRunoAkW\n",
       "QdgkoeERE8WVfxvpsmOzyJqceeFm0RF6jYCqVDc/idp8kF3YJTU31enWWjpbLK8t0eplYZv+2g/J\n",
       "pUnS9+fn0BwK9n1pbxdxjJfIyxSH6gw1yA1bWrmmGYcoLkvUgbN1C45aYdFmKtf5f5WlMx7MRIkm\n",
       "7pjpBrKyW9ERPzEdZMWKccj0HbajZ5ZIvIxqIpqoMFmxcBNxPPg1M5YPCN/qgUZ7VCZ/nsh/nMAX\n",
       "CBd39juhmkU8MgY0y4oj1THMM1qNZGlHzBJQIFBm660aJS/dW/shdGFLA4hBIEkNGv2LMSGzaVJL\n",
       "QpMJc+GWen+DhcCNistSSibBDbvRzOQ4aWdRZ2310kcf1xtrmerm8qzkHxHbRPB9Z5iVYxN8eAZ6\n",
       "GFPJCeBQGVocrrfyQr3nYjPabeSJcbjiZBZA963Fwss8OcMH07BtyAmkdZwHLfK+8uKBMd+OwkdU\n",
       "3AdaowScLl1ybPngY0eaidj8WIOtlRafBUG/d5NbEmmHcVh4HoXHbHAzlgVHu+YduL6wRyAehf73\n",
       "DtHTJm8MLyDPyIA42tWiYT5g1qbINcPDuFRbHUkAAAF9QZ6mRREsI/8AhsGt0vwe97URGkfrO0tv\n",
       "05iPX7i/d2o/AKFlNuLMze9RlxyKMaCkOyVSUXYDsYYlpJB/QhbjAGwvhm6ic3/UPW8U3bL7Pf22\n",
       "eW6hHEcQbx8WZlRGlkJSQyliDTYnyODsjnSrJ1jivOhlmPuSzjYMLLvgQBcwlGZOzNlaLLYDkjeD\n",
       "oIWL+yJj9WsJRQD3u8K76rnphjzn8kY8bs5A5kExXz4hYGvos+WgA9sg6i3P8GnYYiioO5TFpKi8\n",
       "cIUjJeHmLsgD7e0mG6MrQIJPEo5OGnG3QPJoC4VJcuodchwMcA5GTSdriZbB7eNMiOeDkC5akkGO\n",
       "vXh24BVlgh0UVJfpAKD857Ec2khv+Nz2mABnvaw8a19jkd8xqegTzXK90ei9dWrpNcBiuaqL0kw3\n",
       "sGUKnbIfXPDTc6HVDgudSXB+9KvHVi0zm33zYZUVEDKZqKkC+uWPPz3ujl0RSsQCWPcI50oxfWdb\n",
       "PmSZ5xWCjtOMibueDXDJAAAApQGexXRH/wBxIfaZMqTMvcalvtbqQ7kbn7pLK5Nn3MpINRaaMOlJ\n",
       "pdWFZ5u+CEXngqhkUTcyYeS2MId0BzWnMnVibhJrujrugA/cqwIkeGK43h1hqG9fyefOSwMk5W0k\n",
       "0yOBpLCWLz0mhqCMNTEL7VdbaoAbyzSo3Ox4u6oKQsoTuVMy04NzRBbEosKkQIbU2suDYexxUzX8\n",
       "WxJT5BzK7kU12ksA2QAAAKUBnsdqR/8AAAMAWswKXJZxSQgV6YkmR5LQKqyTU8COC0XeKNbTPWFz\n",
       "MAEffivpxf+ezYSukQNc3r7msFpdY3gOIjmez7mQAcD3YY+qZLeFk4BCLCnLb+xByUGECek5FfK8\n",
       "geJ1z853OW7im4DoK9kL6tfxY0+/fZPZqoXfFUwktSj9IoiJuaBMAkBfSskLHRdFApXrIU4bVIUW\n",
       "r6yr9ir3iZi5/9EAAAZDQZrMSahBbJlMCF///oywG+gtXyaFju+E1q/et8lqqQLFA4OGKrXdrDwV\n",
       "c3CwbM8+5Iyx07RxrbfuA0QZhbtbGmR3MSnD4BqbU21GkSQSoFxeZ8IKjbwlmn5v5F5oZUi1X0ne\n",
       "nG2rToweKxJ5/MD+qro6c1172tWjjSILSjDeVAccukC3DWgNVhzZCywWvWQVH8+MyVDgh+RZQFEX\n",
       "Ly9GspuxVWyATC84lDNbYOgY3aFotQukEeqExUnnV1yxZ+5klGI22vcSuWzGxapkKZbA+vRvsAxK\n",
       "ytgQgxSLhc2hwQbgmQvJvqp/2HIIlh8EVFEGg0UA1CUS0QdKgXGMfVKpWZV0DCnEmUcTAZT/l2Xe\n",
       "vZHrM6qej/V6fY2gq4RgcyZCZtMfNCDhFCzFDUmf8AwgNh99wQwD0j7FAS9bk+MsCLdBbgmi/0zB\n",
       "b+fyg5xJJ5k7Njbg6bkoKuaxeorXYel0a82U8w+jQwWcEJ3/LTGIeVS8DONnHXU9kD3xP+n2x2+M\n",
       "6fju31Da/kWCXz8vbbYYzLVEQDyCoXxqwuS3jI6LAW6uXE73IR4pDdupkNrm5LnimCOGXeu2+c2r\n",
       "VTg2hw2PNf5dVGCrODMfGZmSjnOhZW4SN4oDxD/MGcw9YI2W/x8Nf/6SFdW3IGN44fxyPgvCDTDg\n",
       "4Vc3zomQddGCffXs4/9wzptwKYXTiIDplBugNlQGyDQmtn5EWyEEUkjEp4/PUmdY5hQMiYMmQtf4\n",
       "twiYXw6adLH/HEn2ClgR12Ga6AKnKlCii0uMnYzJW66FDKoN8hByKEAtgTwZXeKzsBf76IPygBMu\n",
       "q+B5i9C3j0YeTx2QT+Gk9KWOtJBxXCxwddZmBlvCytRP55uYoK24iJQ/CajeQqOjr2wB6EmA9NUC\n",
       "fvnEdFk1kTlTZJMivlwq/9ECSezFPVmD/SXtX2a0XB+NiQzC0y0+VUuBxBv49GgGJV92m/35PlEh\n",
       "qa6/6T8jla0xmE07yJznl9NlTfFX/qzEVWigOQcDaCjzYWofHFyOiQA152tAAevy+gTYId4ImMcA\n",
       "sTQmO/OnBeoo99fgv119gj32H+S+gX5UdRtGZpsYfcSOgOfWO7GVDvoGrp/dYNbRSjnNiQkNZHUL\n",
       "dLOsfrYH91urtjWeA13yv9illOo61EHMkWqI4kjsriVA2Mez6s2bAkgiPzOAeQe3mtEXUzZqkfIi\n",
       "kRatXfgbSajlr9Nd6tfUbcp7zVkXes8BsCzU76pO+BgYtWY67uhybvhUsKDH2sQnVtXq248/4WYj\n",
       "9Oy3CFM5/3X86BGvU66TSaTiDeMaULKlTH9em1370Cwca9pQQYqQHpLdBgFXJa7I4WUdwODQSI2U\n",
       "kaeNXYfRH4Vi8OfHTJlk426VqWLifRrXXsKHNeHsNdB54ak2A1awuc/EVzFXfILkJJlyzpCHc+gk\n",
       "PSP4ok9Gn4l/YiexQ5WamR8X4tMn3VLt7ZA+1wSjGwjpYRh1zBOLBxHrgs1X9gBqdI51USf3vcJ7\n",
       "GWYmNFkuRB9fjborR33I07QP77a8QZd6wdk/5p6AEY9PU1H4gkV5dI1D+TtGFaM5S95eJa/S2AeW\n",
       "7979do0wLgtt28UyZ42Kzk9pFYQSLXlqhQqR3N9FUDoIeRoLoyvCuHw+RPKMOwLp3HW9IGJa3EX6\n",
       "ZXG7xfG+11jyYlLh5p4uNCkVR4jF5xCL67mUisK2YjvuktpZhqQGTC3MqdgNGL5BVhhjhOklKLJa\n",
       "eScRhA5cJJQ1vSC6nZccmPaCGcsxhXJr4LqaOwdIbmG5ouvmaQkczyDujN0g4BEO+1RnzWuFcY8/\n",
       "T8Z1mKHOfI0hU+14ztGwPwtuVBTiXjDOMbjTsNMlJp6IzzjeTOBtjxNUPuCrfUpnE1xLZqx7jUed\n",
       "coUn+x+gIUR1DLO81F/HtWx4m6tuOMs/PvDh3NlcKoojIDbvBPXZTO3XbtirCFII8lQjX06p/9S1\n",
       "CEATPh/WEgO5bmmAa7rvAzzue1GnbetfcR3KPDHw2KeA6we/biKoXV1YBTrXr+D3UGSDVfavULLH\n",
       "knakNyhkK5VKtQv4lF/1qFWWgFTMA2T9eSc4J0N1hGX7HEkp179FEXp4V5ylYgXz8b3/sNcDNmeU\n",
       "DzzaEbUcIgvFMbGB5PPW40VCACYtgAAAAXNBnupFFSwj/wDJFS6hUPOZBIjdEInGT5u+Goc14T6L\n",
       "A0jsyxgr2IVL7WlfhfZl1p6F3dr9q2Kno0D+ykZuK4luBHu/+t/+0Bnueury4WfLRSzScx+oqPYe\n",
       "u3UlogXy3qK7BzWbDkiYcHy/Kk/FaZjss9Br9VJhhEjIzzwufE2OFrVwFac09HDCl7AuRPc67oSS\n",
       "UqXPXPyL1yelbiItzwdP/w/ummUDVJmjw9RfMEJoArfWpkTwJfCBCl5Kq+m1amcj46FcMXS7qszj\n",
       "2LITL9KGh5rawSXRiSCM91Q3AaornDtqoueznJmBrcEgbmkKE57sjm1VA6ohTZcnP4I3l7S6XKvI\n",
       "7qRIbsDbm33J4HFuqGqU6vuYz4ad2fYMAiCsKDPPrZSepJZfJaJKTSSchm/mRWdgoAtlvRzcgqtD\n",
       "Zf2wL/10/TgNGi2UeMlT7AUUDx87fEkxt1iO7Y5K71Ve4fAfcONCg34TMXztjVRbCk2sUdlVdQAA\n",
       "AMABnwl0R/8ALoLekRlC0TESUy8F6DoR8KKcWnV8dtZeeeMMDILNMRo+kF+TsoWuhrC5EKpvDthb\n",
       "4g7E+KPCofpIC6LicesmfnK8a08Rtgy6ULMia6GE3isAsilIXDPPB9qJibG47iMiibFR/lDmL804\n",
       "Xi4Xcb+AvS4JJ5dCFvk7uEtTaBCfRYsR/i4L/yIGtcH8nsDTktWuUSPMX5ulucRLEh4SHQSUTrSw\n",
       "FDhTvHozpUcs+KQMSo+aqlVwSPi8WoAAAAC0AZ8Lakf/AC6Zp1BSCoUJyOiL2BQHuEguoxZHLQ5Q\n",
       "abI3Q4jlDaTDN9HVJjWboLpHmrOB62ul3y/jgWctAisl0Em6BjDwtmZBOfcMs06zOF+fRT7C4K1T\n",
       "u7atggBoZiAkhD063AJJwB3Y/AWt3OFUXLCAo043csoxHgjdYK0mpF/AcB1bm4RIc/R43grF9b5d\n",
       "7ToUOwvCThUeR+AuKSnqnWGQXIJSel4E+2iHXQqHuiBq9UuzAAAGOUGbEEmoQWyZTAhf//6NnI79\n",
       "i0AJyjf6Vokco6qJ2vDUAAADAAAH/rMzEwgMXVKoLUNBAMJxyyy4sFu2aSVv+LZxLWUdYpR8nLZ+\n",
       "T74u5LlnQZm/9neZ6/0K0/Iue6QlX/0Y0bAiEP90Umh0AUxoW1oAg3dTI2IMEwAdRRUKLZfFpf9H\n",
       "kwj50bVocyQvcf3A50EXFldwbCZ2yh7WpuL0MAJyWMxG/aVVeSVIrzTS/vt6MkA6tcrQBtjhZCaR\n",
       "UOBCSrosFuEsdV/eVM7DsScItg+1SKdV2GV/qpjFBPoW/y5/31AhqTZcDTsE6yY1Y4sBmlgf24f1\n",
       "fu7U0cFVRPjBVtGPJgxMyQxrKUnbn0Ajyn/ZLrzUlptHZBJpgTg3Tni6M+eJuFyqVROPfTTLczLz\n",
       "u8N8LcvB/pG0oDi95Rs8x2g82/EYaJouM9c7pVTHZY6BzKcz57VqwpiWqRyHza+ZW0A1K3AHAj9/\n",
       "aRnuC7KrBouxPvZ6D/U1EkZqcs1VKOqPca0AmvG0h+Ek4+4TM7vqP4txnbgogqtLZbTIMX41zn7H\n",
       "A6txUyhfaMeJ9cfixiHPGZemP3hsXBlpEnRUAZvjH3Xvv9E9uW37Ii6WxORupdCMicAWR6s6hzP0\n",
       "NwHzTxxH01YaeGwSN/oLyejI7E/swnrJqiOHFHXI12YrBR1cMrtbo76Kjb/z4Jnx3ruu1bIJMb4W\n",
       "4HcZIFWDPwBzSqfDdQrsH0W0afj6j3pEwIe2SwWUmmgjqI8lxnQ3d3pING6tDDV1ll8bUnz9gCWd\n",
       "HcuR7/htpQdTa5+Ss/M0mQFgXsJbDUYMPHg/jE/SGDg6pGbh1WhnqPXm5+P7IbvsLnGscLHIxgJm\n",
       "ZFGPgb9MFz6x11/4yxAKfBQKHzS4PWfMsFfAhNS0uCSKGI6HdhVB23AnndgKcNyVnUSOPd/NkjSN\n",
       "ABynnvtzrlH8obZf2+H8U2fl1ClbgRz0NEGwzZpBN4G92zlq3eZ5BH671ZO4WK04MaEgGe/m0pog\n",
       "+Wkjxn6IaF1gkBdGZrjDyyGXD+tf1wTeiz/9DWgJIwv5Nn0F1/6Zws5cM4OowRziZ5+vkgbFHuWJ\n",
       "0X6R6wI6OhbzMdCw1y0OG11BSvyEzyxqxBrLaPx2Ue4Gp+99hu7Fb9ptrAIykpsr5qTeytdVKKz1\n",
       "MWqdontuQAa6+nZNP/Ox4A1MlEibjCqx1NCmX8svsnvT2aMjj5bekkfYc/Q1/4AgaOs2w+Jj5alt\n",
       "y/jCHEZ7/X4eWB0N/RiU2sg24muAa3ZS3H7l9TWfjiVjpUonGG1pYGUfwGpLN0FcNoLxq/G+HmQ+\n",
       "e5GMjczxGy4aOlTUljcOxrUkUaYhZaj8qx7LwJ5L6Bv6tyxAfyuSo7bV0i1F8tYuNrvAjr+9EgVL\n",
       "9BtF2S5XIxHR1efK0To6q2NUjbuYXpC+pFrZHa7lf01gKUrSH572VWfTXKgB72WTCDfc5ExzOk/n\n",
       "mVQrsBLkIPL8FZSVPiIS8FVlK+vBoUrLo2or3cSSp7eNMCqa1XaUcXD7jyBegtMh8P5DC3LITWYG\n",
       "FMGjHL3+lD5gic2Ie+7x62ZLgg4b6arwElnQ82tVzxePXs0Teje6k16D/ikXoLqxsrSFulGNW4Zq\n",
       "dTxccZon+i9c8tBEiLmAYIqpcUMWl6fxpNbsEX1qtGLcSDVP29RvjBSlaUUWAbwX5h9L5uanA9fM\n",
       "2lPkCi9jZo3NheFeiz5o5/K1veN55NnGm2cTSG24VRfN9rxo3qairzy8f/tGLj3+z/GUVpdHLstI\n",
       "dXN92wQDBU+CI3wy3NbngRUMyaBnjF7SZV2GcF23NBA7xUvy7DwNSm/ChzoQmVwV1Objfut5c9Ad\n",
       "YNwh0MuG8+WkKpTwUoH9806vkCUCBwNOsM7hrWIRREHyXpYjm/g2/NHjME6dct6L0qK15NRK9Xa0\n",
       "SIqaV+e6zNA1mMJ/dFQ9AHZ3vi3Z7b/8Yd/DVwGd8iE6qunTQlPwKS4feE3aAbFLB7R9E2f3guHk\n",
       "6WlHlmW15DreV6mPaEM9/+OvqpZTLGe9kant/XegRh9fJrVgXWg+GACY++xmza//Rm1/jM9jmFAV\n",
       "/WrUHOucu5dteLfuaBq+emC8gVsZNb0Kvw+uV+zlK4M0TkYQQQAAAaVBny5FFSwj/wBHTVsiNmUU\n",
       "7NxVX1NO69oe8dz+aJG8UMVUfYUfzOihy+U+81YL0TcBntkfThfeH5fFqwBaRVqLYmqA/n1eMEpE\n",
       "iJHAUHfW2o4NvFX5ufVl+w5+nePEySuYuGxCtHMldayxjBqXsWz0lRqd07RoJvjtrPQYnz12tgQW\n",
       "kZ4KhI1uRwveIom+xq6l5ltB9h67eveGO/FPxDjq0SkmCM50G/2o6HEMdEb0uLnwbMoHU4C7XTdT\n",
       "jzqPfMsn0Tp8umPUtQsgas2lKU9VrI8Vd3G94WzV9PATsSNrv3++R5R1jfM2gyFOCFyd8TWXezow\n",
       "1B4Kqy7JZ6dSDDZCgQfeBusE9rxzD83eq3wz2IGxeHyygJ8DGikAEamcwzQP2pyZ6bCM5sc+fd49\n",
       "fsc4y0vJhC6u7QOG4q/he42/LJ/9DHtn7tzuz7Qn/A/SSCSnHIqCn9XcRRcuHmjvqxiNIfdtB+e/\n",
       "YSVsVMXrCnh/IrKcjeSLpjI/td/IELNAF7klBQVPwR1RgvK5Zl6iHVBRUoRUKp14dIP1eIvO3f58\n",
       "7E0ZTOthAAAAyQGfTXRH/wAugt/a7ehkUNcD8uVsEtAWHeusxboBbbQ+OQr1fenmceTWQy6MXEa9\n",
       "8jg8lVJKIsEgOAHQBEjDqrP6tubHVDWRb+RVYKfgt/PiWMpJrNE4GtcRKuNUvwyRfTuyvq0WeCb4\n",
       "Gtly3mqkjrBHeMQGYxX4+fbguQ9vWRIy4zHeSunVlcU/tV0+2nw/p7qOwURTO8FSYM9tOVFZhnuk\n",
       "o3WcEwy6IqxGmjVjC8OUqQGLpsLQ/QnPpapYE3qoBm2mDhOkE+FRUQAAAMIBn09qR/8ALpmnUFQd\n",
       "hqDvHZ7RPuoM9RHouH03lvXuIvcNdtfv3NyQ0aCC8hEvN3OsoMhVGAAtrwsZC5azUn0zFCxGATA8\n",
       "qY72j1J2ydpam/kJrdIHjiIh9YKVlHy5uHtSxmnLoURv3ExevxBKtlKCCV443KqBVLfSbYVSoPmg\n",
       "mrQrjXlnHLSHPFRU7xUmfJOQqCA+bBO1MD4ZlLIl2fy4pmyvTFyweqims2S0GF4bRD6B89EL5Gr+\n",
       "w3XzL7L28efy4AAABPtBm1RJqEFsmUwIV//6pHVM1aW7gGUjnZYyStAh9SawNAi1XCpSOv4Q0WZP\n",
       "5kcf1DN268dT/U8rRaHF1EoOOdOpRyWbzb1zhqVeZc4SNSbxEfjHvjGZj5W9lmKJQW7GRHZJKekL\n",
       "QHIZ9imE+vVJfcuDATk1y+YbideLa1g0JdjJ6u30pUEq6LDBYA7RK+0MNkyj7PRrQDz4Dj/GVofZ\n",
       "/BzbJEVmf7JklnlVzwlcOXdwDpjHIXBUSA6XYWZyyo31t9eLCHxGDV3MjLFm92UX7ndLIRNJHWuS\n",
       "BpQsJRDBE/Ev9khIqiS7a5O11fCB8wRg2JXB5jC0MFlKwD+KCaKULy9vt98ib6HyU+KLyVESCgW/\n",
       "Jr2wB8Yg4U/2FBmDp457ETQjwGKC2jlx+CnemgBmpHeWHx2rojWmHfHyM9g9oeKEZVJJEvTWMhPo\n",
       "CSu/A7TqeEw+100MrWtNueXQWQFQFo0LsoV8xjkMxxIqEHcbjX4gf95p9zERbky9JU4pIdk7U8RX\n",
       "CynsHD3+MG6Jl6dejhQJ8hCvBaw2F1FJaFkizBYUfsJvigIqi79x18/fTpOIDQceShSo4YDnq816\n",
       "tWTV+pdBwvByaX3QWtbVcj/eMPNm4eCjfZDD9hv9/zx/iO0FeAsTMQ7iKjGBLx3bYHw4u/ZgRFTU\n",
       "soESm8se4N2nZ1bqqrUWnPtt5J+/+wP+eSFRsTdqKQcwZdPPA6X19ZTDNKORj2HY/tx8//yZZPNA\n",
       "9rVEAfMNsQCYneqd4jefSYXpD7DDPZbq9XpHoPsY4Dw7IYyuJiNikHmi9gvRmET6S7zUP2BZ4NE6\n",
       "8XrsLuN6zXllLfXVMc0SApA6kY/iL+3zVnQVeHaWIQtVDMIbToAXpRm1lkSjN4QhRQEnxD0nmvpD\n",
       "6XXW5qQPH+qSPaKYqwypv5PUtHc3hd5HaHM2f/wK1LleUvtT/g7/k1b/qFz/GWQnPYL4jTSzxcNM\n",
       "O9vyF1iryopjzWXA7sZ7DLh8A6+SE0G32B1/S6CqVyQyR1ybbtxhowLlu2HjO9xFX05nhkKwViga\n",
       "0SuJmEaGyQwuIqJi6aASZz4nKyCHn6GZIQRCtQzGT+hN3ZCyBznHK3+W9b3s+bWJQCHR3fvl83y7\n",
       "Lic0Jv/pkUL8arhF3SiwZN2UNGOtU299LibIS1FyrMlyhM7qNc07Q3kyToPHyxr7GOlDFTOCnnnA\n",
       "i4GmcFNksWTQAhGIy676XuSpJ54hBv5l8VLnnBZY840goUF5CU2X3tYbNMt6Mj4RRY8LRnNUzUr5\n",
       "Kgcobo31BKFEUGNdd7WDral0/DBBb6XVgOzA19ad1V0gaSPn7tGacSKhs049zHaoNAUeqpuFowcG\n",
       "OSaVw4wCfpyvTCb+ZLihXbDtwx7uwjnqxZMr+iW9PYEszW/fEMKWV+eplNs2aliylsfji8cFsX2L\n",
       "HTEkRUsZ+RYZAkw+x5PFUSiPlyClgmIMQpiNbk0N1VE2tDFHhLvSOdykhXpQE+Zk1uJGow3D9vxH\n",
       "4wIfsnmTZr5FuaXI1hlCekzF0vZcZNXciSEo9fekR/gX47Tplj736JqMigmROm7JYBsqSUXp41js\n",
       "Th7RQYMWiV/wx4nQkqD5/5kI34Qr0ddV4H3dUP+Drorn8NVwsZrhNzLVq9feG4RdE2BTk/njfLuG\n",
       "82QEK5iN96QeGMHCL/t/w4CjuT/n4SJp2A80kDzm0fnTEQgAAAFXQZ9yRRUsI/8AbBTMDurrxrkN\n",
       "oLfXV+Jqv2snZcFeG5MG4xEnCFW0OHnNH38QR90frsPf7g9l/qy7vEoKnTbLom88eoh/2cQpXrN8\n",
       "VBqo2uIUkkOEz0Fo1/MFujIs7NnaeDhiEvKC5w1AJUfX9zACRHbTaGNwBZMf6yZdEeEpd4wm1qJb\n",
       "S9+jRmk1jIz5TXvFA3X9e6OFC3YFWMSo7uezuJ5SF+BuE3vSy2nRYHNq8TfUiJmMv+pcm4fucWHU\n",
       "H/daxnkTUXo4JVrrFyL/KtYxyU+tR3fxhA3H+tKIr3Fr4BVaP5i1UXlRWiYKI16ppY6pmFhffAe5\n",
       "ID3l4znI2FdynF3rHkM5Y8LwogIbpz8UOorlK4FIUod5I9trWngKp7scg6bSzUMW+tXUmQuWmPDw\n",
       "gtfKoiRQ8Eot3VX2gCMw1jFzCtZs3wrqxIqC91m0ycawgPoiiWPQtQAAAK0Bn5F0R/8ALoLekGbW\n",
       "d88fpvk4ACBrswDHSc8ff719OfnnuXkUnbMHCJt/etu75skmLMSST1TX4Z1LKlC9fETRN7/LklO/\n",
       "Pya7UkZqeSkKqsHzPTd+NmtSNmnisD/X+iaHwAkuHB9tbSA5PERFcQiWtiN0GLDN7HipUqwGqQr9\n",
       "B8t/jXVrb4A5sV9DEAv3RRVFCqEezP3FiVv+YWCeAMu9lW+XLqXxS7myfF1CMAAAAJIBn5NqR/8A\n",
       "KzELyGeL2OoCw0YtydNebA5LtajoiflhqozjCRMF3a+krYKuVYY1/RtngpR8PymvNZcGy3eYUDTC\n",
       "GZgwZfuUBMANGMXP4+VXuCtrmn00DAEYAGfpc9aekFHNmMcmXlC2yk5IXxmMXipUiJ05L7kwjYHL\n",
       "DJ19ix8DV9sdcsDMecED007Z1mrBmYAGRAAAAytBm5hJqEFsmUwIT//xfyH3CA9KmzyY9pAv79cE\n",
       "36qUiXEGF+QwIwhvnMNkCONzlK/iq0yT6hjqc8oG4n6vQ/xd3mPbnb6xpbfDoKIqNrnN1p7L4lxT\n",
       "yYPgKenbLVaX3J9VVbADfd7n6cJwz36qZdLdzaCeZ7jZCTy9D4iH+AOyDcWO5BOf3jBYnYNTxx2j\n",
       "1teHyZA7EjExcYaGp32BNEUElla0zIWBFKLKlmG16JtnrU4Vley3+Tdsirktp5uRp80uYTrWGGlC\n",
       "QePJ9krkzEX6xwNHhQuTaL003FomSeCtb4KVAfeXUsdlJis7jBcd7BYQUanr241npawvQvBXarmZ\n",
       "4OYhzharPEW2TK+QjUJwp9aKyaozIUv8C0CEBzVkqOIb3J1rQl5iVEsQUXupH4YSq4kKDWjxAJRb\n",
       "+LrN1SWy3ZXczYhBX5L/k/Yh6VM1eKFtlzooI/OpWzolVBLbxAXuNeO4nEHWxzioy/E+9QE+71fG\n",
       "kYB4QlhK9Wokre2zn9Ym+ap7vFwil33xVsW0YBtD/Fygrm6aKXLzh0ZkHHyyea7TRbckz6cfyI2d\n",
       "FsuhQkaNfsO3ADHaBVpUxlR0rtuLh9CYVISQ3ioVmUTeB7cuLgpXFFSow4dIBmCZrD+YVw4wzxJH\n",
       "+1YG0MRByfAAyrUrm0YP7AN/b+2UcDz9qZVYLPyOjtwompM+qx5D5v9omO4d2ELkmA1uuC3Hns9F\n",
       "t4pAKEtH5ovUPkIhl0vs3Lso/lc7LIZoI6YJWAeHS+1ksnjblJk9BYPZz2NpEecDUNQ00dHjqRPU\n",
       "V7A4Ht/bzXMz1ugJcA1FoulvYVHlt0QQvsKRBxQYSUOX794uFlFb5KJJMuKxomjsTlzW5XKw0+zD\n",
       "sdz/FbL7ihz4hVMLf88OFVhI6CzyKkmvkn6wJsu3SjPWXjlMJu3J5YL8hYlWPyWLPIsI8Kg7pALJ\n",
       "DV9GrsVTkh/OdXAWmUz9CkN34OlxLhgNMzOvDQHNEAObP1toMLSjCDBmMvZqaBAwTxX1UzZpAlS6\n",
       "CQfg1GIKCQlXhcsLr8NEojSelug7XhxYTIDs4d2Q00L7MnFB92jhkvOBAAABKkGftkUVLCP/ABwA\n",
       "sLTWa6Q/e/vQ4pC8omqBvQd2ztPdcgXGWQygYV+F8CYSkw+gHohNN5PtW1kohQkqM88kKGaDI3AY\n",
       "27PYcSZJ/aS1mwA3bq1BTWJ1mxcRMh5kgVah8OOqvxFG5V5zntrr7HgGChMTZm/RFBSNVUaDHuu+\n",
       "xj0fv9P039rBfelp2MgRU4KOfvzyzjw1rJ8xA8vJZE0jT18KiwaAebO8yITHJYf9It1275iwsNFC\n",
       "YRoILqXXAJXBwFRhWAAV1VLEv9Khy7PACeJxcecPAi57WkhyoKgY9raNRW0SkntWQfjGdmd95hc4\n",
       "yrLMcNVura+v9osR6jyV1ExFa26eXiLoHos7/MOBgyoSrIWDVQAt5cIJsoK6lKn81hwP+O5TPNVZ\n",
       "suYAAACeAZ/VdEf/AC+4mBwDyvNTjRP07qaqPliqzGwi7BFYX8CFO5vF69Q+fCxMcXdRSi0OMMHK\n",
       "1/GsjgeOJa9wjEIAEtrGS1OiVfCO1vJ/sWxTmhbUT+v10a7m2JqgGlPRkZ8VDQFx+3k8H6GLHHmz\n",
       "Vu0FIJgtARztP+/DlOE4EEz5vgXzoF2AwdSLdxA8eUOoBRw+iam4Jhyg/6/OwnACjKkAAACOAZ/X\n",
       "akf/AUbYkXzwc8BzgGfSC96RnVI1mIiKIH3xJ8llLNQWIVkgQcCnA8fQRBW7Enq6jIh+uAdxUeSS\n",
       "CcuDaoZfr6gFOsZAsjkoso6f/YbY1OLAAIDIvAcfBlEFfpx28cMyS28OGZa/IGl0pgKK6jHL/E8b\n",
       "8pKjIqwiDPLcyd9+2JWHR+T31lNDcUR7oQAAATFBm9xJqEFsmUwI//yFdiQdHy1R4jUfwAAAAwAb\n",
       "YnPHbbVMsh3k0LsnfjIFnKcRIiosJel3LWIjSg59upvsjCV92svLBRrPjRDOyvC5D4LucoL1GI8Z\n",
       "1eMU4aEqbKr4ASQ1iA5xZq5XCpslnwq3g1cgULc2tcoouL6tPNHMYmZBNj6O2p0s3kGEWgaTYscd\n",
       "qcYHe/fVu60Smua8/e10HMENhIYzfTFrzIbMzCQSLpfPyveuJ/YfqUOoLj473iAgreEIkOxRSJBJ\n",
       "qnxBVbWMqV0I5JqEqc0V/zZXJPCP8ivdgpFHBTovrkt9iWvL4qf/Je4yfM8qdvaRcb5DXg9DbTen\n",
       "Xf/XuUjWAG/VBXUBlM5AzccaHriR7qapKRmxNhVlw4GfJe3ar+G56LmcHhBEpW1hMAAAASBBn/pF\n",
       "FSwj/wBsFPAIuwGfFUkDXU4jNa/EtCGgUD/sRwedZ0IFoFONpF5NOOCC8qbKxMR0QWoPbswB1P3i\n",
       "lzX6aUWijE0/m7WNa3Qf1dkeNzB90IrjyOmECNe/QoxsEES7W+sCOzUovJir5s5t/3oUfLaH6h32\n",
       "WXssX1e+qo7e0ups39RaM2B3O8nIx+v7XCXLTq8yfTEvR5I6ceTks0FL+AusZ0zj9pQ9G+Dq2yuN\n",
       "m4OrFTga1rXMBf19aYBdRdfg134dKDZa6Cwct1tdJrGMUgX0+7eAFutbFNT7A2ANvvA3mmpGB8M5\n",
       "6MXNHm3hEsKVh6qc6sDHK9UOSGy+HkeQB+8DDWtdk+w842DzDXgAD62AnGaWow6vo8qmLINtMKEA\n",
       "AACEAZ4ZdEf/AC1iqSKPl1RFTTr9VqPuryAtAXCVFBq4nd3vx2fxv0AGf+qPyLzEyO2Rs4j/fBGi\n",
       "JbR5uCaVGQRTKeBFF3SPwd9M3vKISO822QWbbpNW83AP+Q91L8ZNjKZAlOvWJx2IF3LompuoVr5q\n",
       "0MsA0mF8FJbDSAZWNszVnqSbl/AsAAAAUwGeG2pH/wAAAwDoH53roWEd57/IO2zQwYXzRPrHGcx8\n",
       "saQfMZ/wAeNuoAcCJt6zeLHDVPdPB3Jyhsh1LO2MhRLH+bIZg2hYq42OuefSHEhtvMGBAAAGBm1v\n",
       "b3YAAABsbXZoZAAAAAAAAAAAAAAAAAAAA+gAAAP5AAEAAAEAAAAAAAAAAAAAAAABAAAAAAAAAAAA\n",
       "AAAAAAAAAQAAAAAAAAAAAAAAAAAAQAAAAAAAAAAAAAAAAAAAAAAAAAAAAAAAAAAAAAAAAAIAAAUw\n",
       "dHJhawAAAFx0a2hkAAAAAwAAAAAAAAAAAAAAAQAAAAAAAAP5AAAAAAAAAAAAAAAAAAAAAAABAAAA\n",
       "AAAAAAAAAAAAAAAAAQAAAAAAAAAAAAAAAAAAQAAAAAKAAAAB4AAAAAAAJGVkdHMAAAAcZWxzdAAA\n",
       "AAAAAAABAAAD+QAAAgAAAQAAAAAEqG1kaWEAAAAgbWRoZAAAAAAAAAAAAAAAAAAAPAAAAD0AVcQA\n",
       "AAAAAC1oZGxyAAAAAAAAAAB2aWRlAAAAAAAAAAAAAAAAVmlkZW9IYW5kbGVyAAAABFNtaW5mAAAA\n",
       "FHZtaGQAAAABAAAAAAAAAAAAAAAkZGluZgAAABxkcmVmAAAAAAAAAAEAAAAMdXJsIAAAAAEAAAQT\n",
       "c3RibAAAALdzdHNkAAAAAAAAAAEAAACnYXZjMQAAAAAAAAABAAAAAAAAAAAAAAAAAAAAAAKAAeAA\n",
       "SAAAAEgAAAAAAAAAAQAAAAAAAAAAAAAAAAAAAAAAAAAAAAAAAAAAAAAAAAAAABj//wAAADVhdmND\n",
       "AWQAH//hABhnZAAfrNlAoD2hAAADAAEAAAMAeA8YMZYBAAZo6+PLIsD9+PgAAAAAHHV1aWRraEDy\n",
       "XyRPxbo5pRvPAyPzAAAAAAAAABhzdHRzAAAAAAAAAAEAAAA9AAABAAAAABRzdHNzAAAAAAAAAAEA\n",
       "AAABAAAB8GN0dHMAAAAAAAAAPAAAAAEAAAIAAAAAAQAABQAAAAABAAACAAAAAAEAAAAAAAAAAQAA\n",
       "AQAAAAABAAAFAAAAAAEAAAIAAAAAAQAAAAAAAAABAAABAAAAAAEAAAUAAAAAAQAAAgAAAAABAAAA\n",
       "AAAAAAEAAAEAAAAAAQAABQAAAAABAAACAAAAAAEAAAAAAAAAAQAAAQAAAAABAAADAAAAAAEAAAEA\n",
       "AAAAAQAAAgAAAAABAAAFAAAAAAEAAAIAAAAAAQAAAAAAAAABAAABAAAAAAEAAAQAAAAAAgAAAQAA\n",
       "AAABAAAFAAAAAAEAAAIAAAAAAQAAAAAAAAABAAABAAAAAAEAAAMAAAAAAQAAAQAAAAABAAAFAAAA\n",
       "AAEAAAIAAAAAAQAAAAAAAAABAAABAAAAAAEAAAUAAAAAAQAAAgAAAAABAAAAAAAAAAEAAAEAAAAA\n",
       "AQAABQAAAAABAAACAAAAAAEAAAAAAAAAAQAAAQAAAAABAAAFAAAAAAEAAAIAAAAAAQAAAAAAAAAB\n",
       "AAABAAAAAAEAAAUAAAAAAQAAAgAAAAABAAAAAAAAAAEAAAEAAAAAAQAABQAAAAABAAACAAAAAAEA\n",
       "AAAAAAAAAQAAAQAAAAABAAAFAAAAAAEAAAIAAAAAAQAAAAAAAAABAAABAAAAABxzdHNjAAAAAAAA\n",
       "AAEAAAABAAAAPQAAAAEAAAEIc3RzegAAAAAAAAAAAAAAPQAAGXsAAAYwAAABZwAAAKYAAACMAAAD\n",
       "9gAAAQsAAACWAAAAigAABMcAAAFCAAAAiwAAAHQAAAP5AAABNwAAAJYAAACLAAADuwAAAL0AAANC\n",
       "AAAEzQAAATUAAACiAAAAmQAABLEAAAEuAAAAtwAABLsAAAEoAAAApAAAAHYAAAN8AAAAogAABpUA\n",
       "AAFcAAAAtQAAAKAAAAVXAAABgQAAAKkAAACpAAAGRwAAAXcAAADEAAAAuAAABj0AAAGpAAAAzQAA\n",
       "AMYAAAT/AAABWwAAALEAAACWAAADLwAAAS4AAACiAAAAkgAAATUAAAEkAAAAiAAAAFcAAAAUc3Rj\n",
       "bwAAAAAAAAABAAAAMAAAAGJ1ZHRhAAAAWm1ldGEAAAAAAAAAIWhkbHIAAAAAAAAAAG1kaXJhcHBs\n",
       "AAAAAAAAAAAAAAAALWlsc3QAAAAlqXRvbwAAAB1kYXRhAAAAAQAAAABMYXZmNTguNzYuMTAw\n",
       "\">\n",
       "  Your browser does not support the video tag.\n",
       "</video>"
      ],
      "text/plain": [
       "<IPython.core.display.HTML object>"
      ]
     },
     "execution_count": 10,
     "metadata": {},
     "output_type": "execute_result"
    }
   ],
   "source": [
    "test_dm_control(env)"
   ]
  },
  {
   "cell_type": "markdown",
   "metadata": {
    "execution": {}
   },
   "source": [
    "## 1.3 Swimmer Agent API"
   ]
  },
  {
   "cell_type": "markdown",
   "metadata": {
    "execution": {}
   },
   "source": [
    "The observation space consists of 25 total dimensions, combining joint positions and body velocities, while the action space involves 5 dimensions representing normalized joint forces."
   ]
  },
  {
   "cell_type": "markdown",
   "metadata": {
    "execution": {}
   },
   "source": [
    "\n",
    "**Observation Space**: 4k - 1 total (k = 6 $\\rightarrow$ 23)\n",
    "\n",
    "- k - 1: joint positions $q_i \\in [-\\pi, \\pi]$ (`joints`)\n",
    "- 3k: link linear velocities $vx_i, vy_i \\in \\mathbb{R}$ and rotational velocity $wz_i \\in \\mathbb{R}$ (`body_velocities`)"
   ]
  },
  {
   "cell_type": "code",
   "execution_count": null,
   "metadata": {},
   "outputs": [],
   "source": [
    "env.observation_spec()"
   ]
  },
  {
   "cell_type": "markdown",
   "metadata": {
    "execution": {}
   },
   "source": [
    "**Action Space**: k - 1 total (k = 6 $\\rightarrow$ 5)\n",
    "\n",
    "- k - 1: joint normalized force $\\ddot{q}_i \\in [-1, 1]$"
   ]
  },
  {
   "cell_type": "code",
   "execution_count": null,
   "metadata": {},
   "outputs": [],
   "source": [
    "env.action_spec()"
   ]
  },
  {
   "cell_type": "markdown",
   "metadata": {
    "execution": {}
   },
   "source": [
    "## 1.4 Example of simple modification to the agent"
   ]
  },
  {
   "cell_type": "markdown",
   "metadata": {
    "execution": {}
   },
   "source": [
    "\n",
    "Let's make a new swimmer agent with 12 links instead of 6, introducing complexity. Additionally, we have the flexibility to adjust various other parameters."
   ]
  },
  {
   "cell_type": "code",
   "execution_count": null,
   "metadata": {},
   "outputs": [],
   "source": [
    "@swimmer.SUITE.add()\n",
    "def swim_12_links(\n",
    "  n_links=12,\n",
    "  desired_speed=_SWIM_SPEED,\n",
    "  time_limit=swimmer._DEFAULT_TIME_LIMIT,\n",
    "  random=None,\n",
    "  environment_kwargs={},\n",
    "):\n",
    "  \"\"\"Returns the Swim task for a n-link swimmer.\"\"\"\n",
    "  model_string, assets = swimmer.get_model_and_assets(n_links)\n",
    "  physics = swimmer.Physics.from_xml_string(model_string, assets=assets)\n",
    "  task = Swim(desired_speed=desired_speed, random=random)\n",
    "  return control.Environment(\n",
    "    physics,\n",
    "    task,\n",
    "    time_limit=time_limit,\n",
    "    control_timestep=swimmer._CONTROL_TIMESTEP,\n",
    "    **environment_kwargs,\n",
    "  )\n",
    "\n",
    "env = suite.load('swimmer', 'swim_12_links', task_kwargs={'random': 1})\n",
    "test_dm_control(env)"
   ]
  },
  {
   "cell_type": "markdown",
   "metadata": {
    "execution": {}
   },
   "source": [
    "We can visualize this longer agent using our previously defined test_dm_control function."
   ]
  },
  {
   "cell_type": "markdown",
   "metadata": {
    "execution": {}
   },
   "source": [
    "❓"
   ]
  },
  {
   "cell_type": "markdown",
   "metadata": {
    "execution": {}
   },
   "source": [
    "Using the API provided by Deepmind we can create any kind of changes to the agent and the environment.\n",
    "\n",
    "Try to make the following changes to make yourself more familiar with the swimmer.\n",
    "\n",
    "*   ***Adding a target (like a ball) to this environment at some x distance away from the agent.***\n",
    "*   ***Increasing the viscosity of the environment.***\n",
    "\n",
    "\n",
    "\n",
    "Have a look at the following links to see what kind of assets you will need to modify to make these changes.\n",
    "\n",
    "\n",
    "*   [swimmer.py](https://github.com/google-deepmind/dm_control/blob/main/dm_control/suite/swimmer.py)\n",
    "*   [swimmer.xml](https://github.com/google-deepmind/dm_control/blob/main/dm_control/suite/swimmer.xml)\n",
    "\n",
    "\n"
   ]
  },
  {
   "cell_type": "code",
   "execution_count": null,
   "metadata": {},
   "outputs": [],
   "source": [
    "# add your code"
   ]
  },
  {
   "cell_type": "markdown",
   "metadata": {
    "execution": {}
   },
   "source": [
    "# Section 2: Training models on the swim task"
   ]
  },
  {
   "cell_type": "markdown",
   "metadata": {
    "execution": {}
   },
   "source": [
    "\n",
    "To train the agents we defined in the previous section, we will utilize standard reinforcement learning (RL) algorithms. For the purposes of this tutorial, we will employ the [tonic_rl](https://github.com/fabiopardo/tonic) library, which provides a robust framework for training RL agents. Throughout most of this project, you will primarily be modifying the environment or the model architecture. Therefore, I suggest treating these algorithms as a \"black box\" for now. Simply put, you input an untrained model, and the algorithm processes and returns a well-trained model. This approach allows us to focus on the impact of different architectures and environmental settings without delving deeply into the algorithmic complexities at this stage."
   ]
  },
  {
   "cell_type": "code",
   "execution_count": null,
   "metadata": {
    "cellView": "form"
   },
   "outputs": [],
   "source": [
    "#@title Download and install tonic library for training agents\n",
    "\n",
    "import contextlib\n",
    "import io\n",
    "\n",
    "with contextlib.redirect_stdout(io.StringIO()): #to suppress output\n",
    "    !git clone https://github.com/divyansha1115/tonic.git\n",
    "    %cd tonic"
   ]
  },
  {
   "cell_type": "markdown",
   "metadata": {
    "execution": {}
   },
   "source": [
    "## Section 2.1 Defining the train function\n",
    "\n",
    "First we defined a general training function to train any agent on any given environment with a variety of available algorithms. Given below are some of the parameter definitions of the function. You'll likely want to adjust these parameters to customize the training process for an agent in a specific environment using your chosen algorithm from the tonic library:\n",
    "\n",
    "* **Header**: Python code required to run before training begins, primarily for importing essential libraries or modules.\n",
    "\n",
    "* **Agent**: The agent that will undergo training; refer to section 3.2 and 4.2 for definitions of MLP and NCAP respectively.\n",
    "\n",
    "* **Environment**: The training environment for the agent. Ensure it is registered with the DeepMind Control Suite as detailed in section 2.\n",
    "\n",
    "* **Name**: The experiment's name, which will be utilized for log and model saving purposes.\n",
    "\n",
    "* **Trainer**: The trainer instance selected for use. It allows the configuration of the training steps, model saving frequency, and other training-related parameters.\n"
   ]
  },
  {
   "cell_type": "code",
   "execution_count": null,
   "metadata": {},
   "outputs": [],
   "source": [
    "import tonic\n",
    "import tonic.torch\n",
    "\n",
    "def train(\n",
    "  header,\n",
    "  agent,\n",
    "  environment,\n",
    "  name = 'test',\n",
    "  trainer = 'tonic.Trainer()',\n",
    "  before_training = None,\n",
    "  after_training = None,\n",
    "  parallel = 1,\n",
    "  sequential = 1,\n",
    "  seed = 0\n",
    "):\n",
    "  \"\"\"\n",
    "  Some additional parameters:\n",
    "\n",
    "  - before_training: Python code to execute immediately before the training loop commences, suitable for setup actions needed after initialization but prior to training.\n",
    "  - after_training: Python code to run once the training loop concludes, ideal for teardown or analytical purposes.\n",
    "  - parallel: The count of environments to execute in parallel. Limited to 1 in a Colab notebook, but if additional resources are available, this number can be increased to expedite training.\n",
    "  - sequential: The number of sequential steps the environment runs before sending observations back to the agent. This setting is useful for temporal batching. It can be disregarded for this tutorial's purposes.\n",
    "  - seed: The experiment's random seed, guaranteeing the reproducibility of the training process.\n",
    "\n",
    "  \"\"\"\n",
    "  # Capture the arguments to save them, e.g. to play with the trained agent.\n",
    "  args = dict(locals())\n",
    "\n",
    "  # Run the header first, e.g. to load an ML framework.\n",
    "  if header:\n",
    "    exec(header)\n",
    "\n",
    "  # Build the train and test environments.\n",
    "  _environment = environment\n",
    "  environment = tonic.environments.distribute(lambda: eval(_environment), parallel, sequential)\n",
    "  test_environment = tonic.environments.distribute(lambda: eval(_environment))\n",
    "\n",
    "\n",
    "  # Build the agent.\n",
    "  agent = eval(agent)\n",
    "  agent.initialize(\n",
    "    observation_space=test_environment.observation_space,\n",
    "    action_space=test_environment.action_space, seed=seed)\n",
    "\n",
    "  # Choose a name for the experiment.\n",
    "  if hasattr(test_environment, 'name'):\n",
    "    environment_name = test_environment.name\n",
    "  else:\n",
    "    environment_name = test_environment.__class__.__name__\n",
    "  if not name:\n",
    "    if hasattr(agent, 'name'):\n",
    "      name = agent.name\n",
    "    else:\n",
    "      name = agent.__class__.__name__\n",
    "    if parallel != 1 or sequential != 1:\n",
    "      name += f'-{parallel}x{sequential}'\n",
    "\n",
    "  # Initialize the logger to save data to the path environment/name/seed.\n",
    "  path = os.path.join('data', 'local', 'experiments', 'tonic', environment_name, name)\n",
    "  tonic.logger.initialize(path, script_path=None, config=args)\n",
    "\n",
    "  # Build the trainer.\n",
    "  trainer = eval(trainer)\n",
    "  trainer.initialize(\n",
    "    agent=agent,\n",
    "    environment=environment,\n",
    "    test_environment=test_environment,\n",
    "  )\n",
    "  # Run some code before training.\n",
    "  if before_training:\n",
    "    exec(before_training)\n",
    "\n",
    "  # Train.\n",
    "  trainer.run()\n",
    "\n",
    "  # Run some code after training.\n",
    "  if after_training:\n",
    "    exec(after_training)"
   ]
  },
  {
   "cell_type": "markdown",
   "metadata": {
    "execution": {}
   },
   "source": [
    "## Section 2.2 Training MLP model on swim task"
   ]
  },
  {
   "cell_type": "markdown",
   "metadata": {
    "execution": {}
   },
   "source": [
    "Now we are going to define a function for creating an actor-critic model suitable for Proximal Policy Optimization (PPO) using a Multi-Layer Perceptron (MLP) architecture."
   ]
  },
  {
   "cell_type": "code",
   "execution_count": null,
   "metadata": {},
   "outputs": [],
   "source": [
    "from tonic.torch import models, normalizers\n",
    "import torch\n",
    "\n",
    "def ppo_mlp_model(\n",
    "  actor_sizes=(64, 64),\n",
    "  actor_activation=torch.nn.Tanh,\n",
    "  critic_sizes=(64, 64),\n",
    "  critic_activation=torch.nn.Tanh,\n",
    "):\n",
    "\n",
    "  \"\"\"\n",
    "  Constructs an ActorCritic model with specified architectures for the actor and critic networks.\n",
    "\n",
    "  Parameters:\n",
    "  - actor_sizes (tuple): Sizes of the layers in the actor MLP.\n",
    "  - actor_activation (torch activation): Activation function used in the actor MLP.\n",
    "  - critic_sizes (tuple): Sizes of the layers in the critic MLP.\n",
    "  - critic_activation (torch activation): Activation function used in the critic MLP.\n",
    "\n",
    "  Returns:\n",
    "  - models.ActorCritic: An ActorCritic model comprising an actor and a critic with MLP torsos,\n",
    "    equipped with a Gaussian policy head for the actor and a value head for the critic,\n",
    "    along with observation normalization.\n",
    "  \"\"\"\n",
    "\n",
    "  return models.ActorCritic(\n",
    "    actor=models.Actor(\n",
    "      encoder=models.ObservationEncoder(),\n",
    "      torso=models.MLP(actor_sizes, actor_activation),\n",
    "      head=models.DetachedScaleGaussianPolicyHead(),\n",
    "    ),\n",
    "    critic=models.Critic(\n",
    "      encoder=models.ObservationEncoder(),\n",
    "      torso=models.MLP(critic_sizes, critic_activation),\n",
    "      head=models.ValueHead(),\n",
    "    ),\n",
    "    observation_normalizer=normalizers.MeanStd(),\n",
    "  )"
   ]
  },
  {
   "cell_type": "markdown",
   "metadata": {
    "execution": {}
   },
   "source": [
    "Next we call the train function which initiates the training process for the provided agent using the Tonic library. It specifies the components necessary for training, including the model, environment, and training parameters:\n",
    "\n",
    "**Agent**: A Proximal Policy Optimization (PPO) agent with a custom Multi-Layer Perceptron (MLP) model architecture, configured with 256 units in each of two layers for both the actor and the critic.\n",
    "\n",
    "**Environment**: The training environment is set to \"swimmer-swim\" from the Control Suite, a benchmark suite for continuous control tasks.\n",
    "\n",
    "**Name**: The experiment is named 'mlp_256', which is useful for identifying logs and saved models associated with this training run.\n",
    "\n",
    "**Trainer**: Specifies the training configuration, including the total number of steps (5e5) and the frequency of saving the model (1e5 steps)."
   ]
  },
  {
   "cell_type": "markdown",
   "metadata": {
    "execution": {}
   },
   "source": [
    "\n",
    "*Note:* The model will checkpoint every 'save_steps' amount of training steps*  \n",
    "\n",
    "\n"
   ]
  },
  {
   "cell_type": "markdown",
   "metadata": {
    "execution": {}
   },
   "source": [
    "⏳ \n",
    "\n",
    "The model can take some time to train so feel free to skip the training for now. We have provided the pretrained model for you to play with. Move on to the next section to vizualize a agent with the pretrained model.\n",
    "\n",
    "Uncomment the cell below if you want to perform the training."
   ]
  },
  {
   "cell_type": "code",
   "execution_count": null,
   "metadata": {},
   "outputs": [],
   "source": [
    "# with contextlib.redirect_stdout(io.StringIO()): #to suppress output\n",
    "#     train('import tonic.torch',\n",
    "#           'tonic.torch.agents.PPO(model=ppo_mlp_model(actor_sizes=(256, 256), critic_sizes=(256,256)))',\n",
    "#           'tonic.environments.ControlSuite(\"swimmer-swim\")',\n",
    "#           name = 'mlp_256',\n",
    "#           trainer = 'tonic.Trainer(steps=int(5e5),save_steps=int(1e5))'\n",
    "#     )"
   ]
  },
  {
   "cell_type": "markdown",
   "metadata": {
    "execution": {}
   },
   "source": [
    "❓"
   ]
  },
  {
   "cell_type": "markdown",
   "metadata": {
    "execution": {}
   },
   "source": [
    "**Try playing with the parameters of the trainer and the MLP model and see how it affects the performance.**\n",
    "\n",
    "\n",
    "*   ***How do the actor and the critic model size affect the performance.***\n",
    "*   ***Consider increasing the number of steps in trainer to train the model for longer.***\n",
    "*   ***Explore [Tonic library](https://github.com/fabiopardo/tonic) to see what algorithms we can use to train our agents. (D4PG is usually faster than PPO)***"
   ]
  },
  {
   "cell_type": "code",
   "execution_count": null,
   "metadata": {},
   "outputs": [],
   "source": [
    "# add your code"
   ]
  },
  {
   "cell_type": "markdown",
   "metadata": {
    "execution": {}
   },
   "source": [
    "## Section 2.3 Function to run any model on the environment and generate video"
   ]
  },
  {
   "cell_type": "markdown",
   "metadata": {
    "execution": {}
   },
   "source": [
    "One of the most fun things about these environments is their visualization. We don't want to just look at the reward to know how good our model is we want to see how well the agent swims. This is particularly important to avoid \"reward hacking,\" where an agent learns to exploit the reward system in ways that are unintended and potentially detrimental to the desired outcomes. Moreover visualizing the agent also help us understand where the model is going wrong."
   ]
  },
  {
   "cell_type": "markdown",
   "metadata": {
    "execution": {}
   },
   "source": [
    "Here we have defined a function that will generate the videos of the agent using the input model. The function requires path to the checkpoint folder and the environment you wanna run the trained model on."
   ]
  },
  {
   "cell_type": "code",
   "execution_count": null,
   "metadata": {},
   "outputs": [],
   "source": [
    "def play_model(path, checkpoint='last',environment='default',seed=None, header=None):\n",
    "\n",
    "  \"\"\"\n",
    "    Plays a model within an environment and renders the gameplay to a video.\n",
    "\n",
    "    Parameters:\n",
    "    - path (str): Path to the directory containing the model and checkpoints.\n",
    "    - checkpoint (str): Specifies which checkpoint to use ('last', 'first', or a specific ID). 'none' indicates no checkpoint.\n",
    "    - environment (str): The environment to use. 'default' uses the environment specified in the configuration file.\n",
    "    - seed (int): Optional seed for reproducibility.\n",
    "    - header (str): Optional Python code to execute before initializing the model, such as importing libraries.\n",
    "    \"\"\"\n",
    "\n",
    "  if checkpoint == 'none':\n",
    "    # Use no checkpoint, the agent is freshly created.\n",
    "    checkpoint_path = None\n",
    "    tonic.logger.log('Not loading any weights')\n",
    "  else:\n",
    "    checkpoint_path = os.path.join(path, 'checkpoints')\n",
    "    if not os.path.isdir(checkpoint_path):\n",
    "      tonic.logger.error(f'{checkpoint_path} is not a directory')\n",
    "      checkpoint_path = None\n",
    "\n",
    "    # List all the checkpoints.\n",
    "    checkpoint_ids = []\n",
    "    for file in os.listdir(checkpoint_path):\n",
    "      if file[:5] == 'step_':\n",
    "        checkpoint_id = file.split('.')[0]\n",
    "        checkpoint_ids.append(int(checkpoint_id[5:]))\n",
    "\n",
    "    if checkpoint_ids:\n",
    "      if checkpoint == 'last':\n",
    "        # Use the last checkpoint.\n",
    "        checkpoint_id = max(checkpoint_ids)\n",
    "        checkpoint_path = os.path.join(checkpoint_path, f'step_{checkpoint_id}')\n",
    "      elif checkpoint == 'first':\n",
    "        # Use the first checkpoint.\n",
    "        checkpoint_id = min(checkpoint_ids)\n",
    "        checkpoint_path = os.path.join(checkpoint_path, f'step_{checkpoint_id}')\n",
    "      else:\n",
    "        # Use the specified checkpoint.\n",
    "        checkpoint_id = int(checkpoint)\n",
    "        if checkpoint_id in checkpoint_ids:\n",
    "          checkpoint_path = os.path.join(checkpoint_path, f'step_{checkpoint_id}')\n",
    "        else:\n",
    "          tonic.logger.error(f'Checkpoint {checkpoint_id} not found in {checkpoint_path}')\n",
    "          checkpoint_path = None\n",
    "    else:\n",
    "      tonic.logger.error(f'No checkpoint found in {checkpoint_path}')\n",
    "      checkpoint_path = None\n",
    "\n",
    "  # Load the experiment configuration.\n",
    "  arguments_path = os.path.join(path, 'config.yaml')\n",
    "  with open(arguments_path, 'r') as config_file:\n",
    "    config = yaml.load(config_file, Loader=yaml.FullLoader)\n",
    "  config = argparse.Namespace(**config)\n",
    "\n",
    "  # Run the header first, e.g. to load an ML framework.\n",
    "  try:\n",
    "    if config.header:\n",
    "      exec(config.header)\n",
    "    if header:\n",
    "      exec(header)\n",
    "  except:\n",
    "    pass\n",
    "\n",
    "  # Build the agent.\n",
    "  agent = eval(config.agent)\n",
    "\n",
    "  # Build the environment.\n",
    "  if environment == 'default':\n",
    "    environment  = tonic.environments.distribute(lambda: eval(config.environment))\n",
    "  else:\n",
    "    environment  = tonic.environments.distribute(lambda: eval(environment))\n",
    "  if seed is not None:\n",
    "    environment.seed(seed)\n",
    "\n",
    "  # Initialize the agent.\n",
    "  agent.initialize(\n",
    "    observation_space=environment.observation_space,\n",
    "    action_space=environment.action_space,\n",
    "    seed=seed,\n",
    "  )\n",
    "\n",
    "  # Load the weights of the agent form a checkpoint.\n",
    "  if checkpoint_path:\n",
    "    agent.load(checkpoint_path)\n",
    "\n",
    "  steps = 0\n",
    "  test_observations = environment.start()\n",
    "  frames = [environment.render('rgb_array',camera_id=0, width=640, height=480)[0]]\n",
    "  score, length = 0, 0\n",
    "\n",
    "  while True:\n",
    "      # Select an action.\n",
    "      actions = agent.test_step(test_observations, steps)\n",
    "      assert not np.isnan(actions.sum())\n",
    "\n",
    "      # Take a step in the environment.\n",
    "      test_observations, infos = environment.step(actions)\n",
    "      frames.append(environment.render('rgb_array',camera_id=0, width=640, height=480)[0])\n",
    "      agent.test_update(**infos, steps=steps)\n",
    "\n",
    "      score += infos['rewards'][0]\n",
    "      length += 1\n",
    "\n",
    "      if infos['resets'][0]:\n",
    "          break\n",
    "  video_path = os.path.join(path, 'video.mp4')\n",
    "  print('Reward for the run: ', score)\n",
    "  return display_video(frames,video_path)"
   ]
  },
  {
   "cell_type": "markdown",
   "metadata": {
    "execution": {}
   },
   "source": [
    "Let's visualize the agent with a pretrained MLP model. Once you have your pretrained model, you can replace the experiment path to visualize the agent with your model."
   ]
  },
  {
   "cell_type": "markdown",
   "metadata": {
    "execution": {}
   },
   "source": [
    "⏳"
   ]
  },
  {
   "cell_type": "code",
   "execution_count": null,
   "metadata": {},
   "outputs": [],
   "source": [
    "#@title Uncomment and use GPU to observe video\n",
    "# play_model('data/local/experiments/tonic/swimmer-swim/mlp_256')\n",
    "play_model('data/local/experiments/tonic/swimmer-swim/pretrained_mlp_ppo')"
   ]
  },
  {
   "cell_type": "markdown",
   "metadata": {
    "execution": {}
   },
   "source": [
    "❓"
   ]
  },
  {
   "cell_type": "markdown",
   "metadata": {
    "execution": {}
   },
   "source": [
    "Try testing the model on a modification of the enviroment it was trained on.\n",
    "\n",
    "\n",
    "*   ***Train on basic swim task and test on a environment with higher viscosity.***\n",
    "*   ***Can we train on the basic 6 link swimmer and test on a larger 12 link swimmer?***\n",
    "* ***Train the model for a bit on the modified environment and see how quickly the model can adapt to the new environment.***\n",
    "\n",
    "\n"
   ]
  },
  {
   "cell_type": "code",
   "execution_count": null,
   "metadata": {},
   "outputs": [],
   "source": [
    "# add your code"
   ]
  },
  {
   "cell_type": "markdown",
   "metadata": {
    "execution": {}
   },
   "source": [
    "# Section 3: NCAP"
   ]
  },
  {
   "cell_type": "markdown",
   "metadata": {
    "execution": {}
   },
   "source": [
    "Now that we are familiar with how to train standard models on the swimmer agent let's take a look at NCAP a model that was inspired from the C. elegans motor circuit.\n",
    "Our hope with using such models is that they would already have really good priors which should lead to much better transfer, faster learning curves and possibly really good innate performance (zero shot performance).\n",
    "\n",
    "Check out [NCAP paper](https://arxiv.org/abs/2201.05242) to learn more about the model."
   ]
  },
  {
   "cell_type": "code",
   "execution_count": null,
   "metadata": {
    "cellView": "form"
   },
   "outputs": [],
   "source": [
    "#@title Paper Illustration\n",
    "\n",
    "from IPython.display import Image, display\n",
    "import os\n",
    "from pathlib import Path\n",
    "\n",
    "url = \"https://github.com/neuromatch/NeuroAI_Course/blob/main/projects/project-notebooks/static/NCAPPaper.png?raw=true\"\n",
    "\n",
    "display(Image(url=url))"
   ]
  },
  {
   "cell_type": "markdown",
   "metadata": {
    "execution": {}
   },
   "source": [
    "## 3.1 NCAP classes"
   ]
  },
  {
   "cell_type": "markdown",
   "metadata": {
    "execution": {}
   },
   "source": [
    "Now we are going to define ***SwimmerModule*** (NCAP model) and ***SwimmerActor*** (wrapper around NCAP model to make it compatible with tonic) classes.\n",
    "\n",
    "\n",
    "\n",
    "  "
   ]
  },
  {
   "cell_type": "markdown",
   "metadata": {
    "execution": {}
   },
   "source": [
    "#### Section 3.1.1 Defining the constraints"
   ]
  },
  {
   "cell_type": "code",
   "execution_count": null,
   "metadata": {},
   "outputs": [],
   "source": [
    "# ==================================================================================================\n",
    "# Weight constraints.\n",
    "\n",
    "\n",
    "def excitatory(w, upper=None):\n",
    "    return w.clamp(min=0, max=upper)\n",
    "\n",
    "\n",
    "def inhibitory(w, lower=None):\n",
    "    return w.clamp(min=lower, max=0)\n",
    "\n",
    "\n",
    "def unsigned(w, lower=None, upper=None):\n",
    "    return w if lower is None and upper is None else w.clamp(min=lower, max=upper)\n",
    "\n",
    "\n",
    "# ==================================================================================================\n",
    "# Activation constraints.\n",
    "\n",
    "\n",
    "def graded(x):\n",
    "    return x.clamp(min=0, max=1)\n",
    "\n",
    "\n",
    "# ==================================================================================================\n",
    "# Weight initialization.\n",
    "\n",
    "\n",
    "def excitatory_uniform(shape=(1,), lower=0., upper=1.):\n",
    "    assert lower >= 0\n",
    "    return nn.init.uniform_(nn.Parameter(torch.empty(shape)), a=lower, b=upper)\n",
    "\n",
    "\n",
    "def inhibitory_uniform(shape=(1,), lower=-1., upper=0.):\n",
    "    assert upper <= 0\n",
    "    return nn.init.uniform_(nn.Parameter(torch.empty(shape)), a=lower, b=upper)\n",
    "\n",
    "\n",
    "def unsigned_uniform(shape=(1,), lower=-1., upper=1.):\n",
    "    return nn.init.uniform_(nn.Parameter(torch.empty(shape)), a=lower, b=upper)\n",
    "\n",
    "\n",
    "def excitatory_constant(shape=(1,), value=1.):\n",
    "    return nn.Parameter(torch.full(shape, value))\n",
    "\n",
    "\n",
    "def inhibitory_constant(shape=(1,), value=-1.):\n",
    "    return nn.Parameter(torch.full(shape, value))\n",
    "\n",
    "\n",
    "def unsigned_constant(shape=(1,), lower=-1., upper=1., p=0.5):\n",
    "    with torch.no_grad():\n",
    "        weight = torch.empty(shape).uniform_(0, 1)\n",
    "        mask = weight < p\n",
    "        weight[mask] = upper\n",
    "        weight[~mask] = lower\n",
    "        return nn.Parameter(weight)"
   ]
  },
  {
   "cell_type": "markdown",
   "metadata": {
    "execution": {}
   },
   "source": [
    "***Can you think of more kinds of weight initializations and constraints that might be useful for the swimmer agent?***"
   ]
  },
  {
   "cell_type": "markdown",
   "metadata": {
    "execution": {}
   },
   "source": [
    "#### Section 3.1.2: Defining the ***SwimmerModule***"
   ]
  },
  {
   "cell_type": "markdown",
   "metadata": {
    "execution": {}
   },
   "source": [
    "The ***SwimmerModule*** class represents the neural network module inspired by the C. elegans neural circuitry, designed for controlling a robotic swimmer with specific architectural priors, such as proprioception and oscillatory movement patterns."
   ]
  },
  {
   "cell_type": "code",
   "execution_count": null,
   "metadata": {},
   "outputs": [],
   "source": [
    "class SwimmerModule(nn.Module):\n",
    "    \"\"\"C.-elegans-inspired neural circuit architectural prior.\"\"\"\n",
    "\n",
    "    def __init__(\n",
    "            self,\n",
    "            n_joints: int,\n",
    "            n_turn_joints: int = 1,\n",
    "            oscillator_period: int = 60,\n",
    "            use_weight_sharing: bool = True,\n",
    "            use_weight_constraints: bool = True,\n",
    "            use_weight_constant_init: bool = True,\n",
    "            include_proprioception: bool = True,\n",
    "            include_head_oscillators: bool = True,\n",
    "            include_speed_control: bool = False,\n",
    "            include_turn_control: bool = False,\n",
    "    ):\n",
    "        super().__init__()\n",
    "        self.n_joints = n_joints\n",
    "        self.n_turn_joints = n_turn_joints\n",
    "        self.oscillator_period = oscillator_period\n",
    "        self.include_proprioception = include_proprioception\n",
    "        self.include_head_oscillators = include_head_oscillators\n",
    "        self.include_speed_control = include_speed_control\n",
    "        self.include_turn_control = include_turn_control\n",
    "\n",
    "        # Log activity\n",
    "        self.connections_log = []\n",
    "\n",
    "        # Timestep counter (for oscillations).\n",
    "        self.timestep = 0\n",
    "\n",
    "        # Weight sharing switch function.\n",
    "        self.ws = lambda nonshared, shared: shared if use_weight_sharing else nonshared\n",
    "\n",
    "        # Weight constraint and init functions.\n",
    "        if use_weight_constraints:\n",
    "            self.exc = excitatory\n",
    "            self.inh = inhibitory\n",
    "            if use_weight_constant_init:\n",
    "                exc_param = excitatory_constant\n",
    "                inh_param = inhibitory_constant\n",
    "            else:\n",
    "                exc_param = excitatory_uniform\n",
    "                inh_param = inhibitory_uniform\n",
    "        else:\n",
    "            self.exc = unsigned\n",
    "            self.inh = unsigned\n",
    "            if use_weight_constant_init:\n",
    "                exc_param = inh_param = unsigned_constant\n",
    "            else:\n",
    "                exc_param = inh_param = unsigned_uniform\n",
    "\n",
    "        # Learnable parameters.\n",
    "        self.params = nn.ParameterDict()\n",
    "        if use_weight_sharing:\n",
    "            if self.include_proprioception:\n",
    "                self.params['bneuron_prop'] = exc_param()\n",
    "            if self.include_speed_control:\n",
    "                self.params['bneuron_speed'] = inh_param()\n",
    "            if self.include_turn_control:\n",
    "                self.params['bneuron_turn'] = exc_param()\n",
    "            if self.include_head_oscillators:\n",
    "                self.params['bneuron_osc'] = exc_param()\n",
    "            self.params['muscle_ipsi'] = exc_param()\n",
    "            self.params['muscle_contra'] = inh_param()\n",
    "        else:\n",
    "            for i in range(self.n_joints):\n",
    "                if self.include_proprioception and i > 0:\n",
    "                    self.params[f'bneuron_d_prop_{i}'] = exc_param()\n",
    "                    self.params[f'bneuron_v_prop_{i}'] = exc_param()\n",
    "\n",
    "                if self.include_speed_control:\n",
    "                    self.params[f'bneuron_d_speed_{i}'] = inh_param()\n",
    "                    self.params[f'bneuron_v_speed_{i}'] = inh_param()\n",
    "\n",
    "                if self.include_turn_control and i < self.n_turn_joints:\n",
    "                    self.params[f'bneuron_d_turn_{i}'] = exc_param()\n",
    "                    self.params[f'bneuron_v_turn_{i}'] = exc_param()\n",
    "\n",
    "                if self.include_head_oscillators and i == 0:\n",
    "                    self.params[f'bneuron_d_osc_{i}'] = exc_param()\n",
    "                    self.params[f'bneuron_v_osc_{i}'] = exc_param()\n",
    "\n",
    "                self.params[f'muscle_d_d_{i}'] = exc_param()\n",
    "                self.params[f'muscle_d_v_{i}'] = inh_param()\n",
    "                self.params[f'muscle_v_v_{i}'] = exc_param()\n",
    "                self.params[f'muscle_v_d_{i}'] = inh_param()\n",
    "\n",
    "    def reset(self):\n",
    "        self.timestep = 0\n",
    "\n",
    "    def log_activity(self, activity_type, neuron):\n",
    "        \"\"\"Logs an active connection between neurons.\"\"\"\n",
    "        self.connections_log.append((self.timestep, activity_type, neuron))\n",
    "\n",
    "    def forward(\n",
    "            self,\n",
    "            joint_pos,\n",
    "            right_control=None,\n",
    "            left_control=None,\n",
    "            speed_control=None,\n",
    "            timesteps=None,\n",
    "            log_activity=True,\n",
    "            log_file='log.txt'\n",
    "    ):\n",
    "        \"\"\"Forward pass.\n",
    "\n",
    "    Args:\n",
    "      joint_pos (torch.Tensor): Joint positions in [-1, 1], shape (..., n_joints).\n",
    "      right_control (torch.Tensor): Right turn control in [0, 1], shape (..., 1).\n",
    "      left_control (torch.Tensor): Left turn control in [0, 1], shape (..., 1).\n",
    "      speed_control (torch.Tensor): Speed control in [0, 1], 0 stopped, 1 fastest, shape (..., 1).\n",
    "      timesteps (torch.Tensor): Timesteps in [0, max_env_steps], shape (..., 1).\n",
    "\n",
    "    Returns:\n",
    "      (torch.Tensor): Joint torques in [-1, 1], shape (..., n_joints).\n",
    "    \"\"\"\n",
    "\n",
    "        exc = self.exc\n",
    "        inh = self.inh\n",
    "        ws = self.ws\n",
    "\n",
    "        # Separate into dorsal and ventral sensor values in [0, 1], shape (..., n_joints).\n",
    "        joint_pos_d = joint_pos.clamp(min=0, max=1)\n",
    "        joint_pos_v = joint_pos.clamp(min=-1, max=0).neg()\n",
    "\n",
    "        # Convert speed signal from acceleration into brake.\n",
    "        if self.include_speed_control:\n",
    "            assert speed_control is not None\n",
    "            speed_control = 1 - speed_control.clamp(min=0, max=1)\n",
    "\n",
    "        joint_torques = []  # [shape (..., 1)]\n",
    "        for i in range(self.n_joints):\n",
    "            bneuron_d = bneuron_v = torch.zeros_like(joint_pos[..., 0, None])  # shape (..., 1)\n",
    "\n",
    "            # B-neurons recieve proprioceptive input from previous joint to propagate waves down the body.\n",
    "            if self.include_proprioception and i > 0:\n",
    "                bneuron_d = bneuron_d + joint_pos_d[\n",
    "                    ..., i - 1, None] * exc(self.params[ws(f'bneuron_d_prop_{i}', 'bneuron_prop')])\n",
    "                bneuron_v = bneuron_v + joint_pos_v[\n",
    "                    ..., i - 1, None] * exc(self.params[ws(f'bneuron_v_prop_{i}', 'bneuron_prop')])\n",
    "                self.log_activity('exc', f'bneuron_d_prop_{i}')\n",
    "                self.log_activity('exc', f'bneuron_v_prop_{i}')\n",
    "\n",
    "            # Speed control unit modulates all B-neurons.\n",
    "            if self.include_speed_control:\n",
    "                bneuron_d = bneuron_d + speed_control * inh(\n",
    "                    self.params[ws(f'bneuron_d_speed_{i}', 'bneuron_speed')]\n",
    "                )\n",
    "                bneuron_v = bneuron_v + speed_control * inh(\n",
    "                    self.params[ws(f'bneuron_v_speed_{i}', 'bneuron_speed')]\n",
    "                )\n",
    "                self.log_activity('inh', f'bneuron_d_speed_{i}')\n",
    "                self.log_activity('inh', f'bneuron_v_speed_{i}')\n",
    "\n",
    "            # Turn control units modulate head B-neurons.\n",
    "            if self.include_turn_control and i < self.n_turn_joints:\n",
    "                assert right_control is not None\n",
    "                assert left_control is not None\n",
    "                turn_control_d = right_control.clamp(min=0, max=1)  # shape (..., 1)\n",
    "                turn_control_v = left_control.clamp(min=0, max=1)\n",
    "                bneuron_d = bneuron_d + turn_control_d * exc(\n",
    "                    self.params[ws(f'bneuron_d_turn_{i}', 'bneuron_turn')]\n",
    "                )\n",
    "                bneuron_v = bneuron_v + turn_control_v * exc(\n",
    "                    self.params[ws(f'bneuron_v_turn_{i}', 'bneuron_turn')]\n",
    "                )\n",
    "                self.log_activity('exc', f'bneuron_d_turn_{i}')\n",
    "                self.log_activity('exc', f'bneuron_v_turn_{i}')\n",
    "\n",
    "            # Oscillator units modulate first B-neurons.\n",
    "            if self.include_head_oscillators and i == 0:\n",
    "                if timesteps is not None:\n",
    "                    phase = timesteps.round().remainder(self.oscillator_period)\n",
    "                    mask = phase < self.oscillator_period // 2\n",
    "                    oscillator_d = torch.zeros_like(timesteps)  # shape (..., 1)\n",
    "                    oscillator_v = torch.zeros_like(timesteps)  # shape (..., 1)\n",
    "                    oscillator_d[mask] = 1.\n",
    "                    oscillator_v[~mask] = 1.\n",
    "                else:\n",
    "                    phase = self.timestep % self.oscillator_period  # in [0, oscillator_period)\n",
    "                    if phase < self.oscillator_period // 2:\n",
    "                        oscillator_d, oscillator_v = 1.0, 0.0\n",
    "                    else:\n",
    "                        oscillator_d, oscillator_v = 0.0, 1.0\n",
    "                bneuron_d = bneuron_d + oscillator_d * exc(\n",
    "                    self.params[ws(f'bneuron_d_osc_{i}', 'bneuron_osc')]\n",
    "                )\n",
    "                bneuron_v = bneuron_v + oscillator_v * exc(\n",
    "                    self.params[ws(f'bneuron_v_osc_{i}', 'bneuron_osc')]\n",
    "                )\n",
    "\n",
    "                self.log_activity('exc', f'bneuron_d_osc_{i}')\n",
    "                self.log_activity('exc', f'bneuron_v_osc_{i}')\n",
    "\n",
    "            # B-neuron activation.\n",
    "            bneuron_d = graded(bneuron_d)\n",
    "            bneuron_v = graded(bneuron_v)\n",
    "\n",
    "            # Muscles receive excitatory ipsilateral and inhibitory contralateral input.\n",
    "            muscle_d = graded(\n",
    "                bneuron_d * exc(self.params[ws(f'muscle_d_d_{i}', 'muscle_ipsi')]) +\n",
    "                bneuron_v * inh(self.params[ws(f'muscle_d_v_{i}', 'muscle_contra')])\n",
    "            )\n",
    "            muscle_v = graded(\n",
    "                bneuron_v * exc(self.params[ws(f'muscle_v_v_{i}', 'muscle_ipsi')]) +\n",
    "                bneuron_d * inh(self.params[ws(f'muscle_v_d_{i}', 'muscle_contra')])\n",
    "            )\n",
    "\n",
    "            # Joint torque from antagonistic contraction of dorsal and ventral muscles.\n",
    "            joint_torque = muscle_d - muscle_v\n",
    "            joint_torques.append(joint_torque)\n",
    "\n",
    "        self.timestep += 1\n",
    "\n",
    "        out = torch.cat(joint_torques, -1)  # shape (..., n_joints)\n",
    "        return out"
   ]
  },
  {
   "cell_type": "markdown",
   "metadata": {
    "execution": {}
   },
   "source": [
    "#### Section 3.1.3: Defining the ***SwimmerActor*** wrapper"
   ]
  },
  {
   "cell_type": "markdown",
   "metadata": {
    "execution": {}
   },
   "source": [
    "\n",
    "The ***SwimmerActor*** class acts as a wrapper around the ***SwimmerModule***, managing high-level control signals and observations coming from the environment and passing them to the ***SwimmerModule*** in a suitable format. This class is basically responsible for making the SwimmerModule compatible with the tonic library. If you wish to use any other library to try a algorithm not present in tonic you have to write a new wrapper to make ***SwimmerModule*** compatible with that library."
   ]
  },
  {
   "cell_type": "code",
   "execution_count": null,
   "metadata": {},
   "outputs": [],
   "source": [
    "class SwimmerActor(nn.Module):\n",
    "    def __init__(\n",
    "            self,\n",
    "            swimmer,\n",
    "            controller=None,\n",
    "            distribution=None,\n",
    "            timestep_transform=(-1, 1, 0, 1000),\n",
    "    ):\n",
    "        super().__init__()\n",
    "        self.swimmer = swimmer\n",
    "        self.controller = controller\n",
    "        self.distribution = distribution\n",
    "        self.timestep_transform = timestep_transform\n",
    "\n",
    "    def initialize(\n",
    "            self,\n",
    "            observation_space,\n",
    "            action_space,\n",
    "            observation_normalizer=None,\n",
    "    ):\n",
    "        self.action_size = action_space.shape[0]\n",
    "\n",
    "    def forward(self, observations):\n",
    "        joint_pos = observations[..., :self.action_size]\n",
    "        timesteps = observations[..., -1, None]\n",
    "\n",
    "        # Normalize joint positions by max joint angle (in radians).\n",
    "        joint_limit = 2 * np.pi / (self.action_size + 1)  # In dm_control, calculated with n_bodies.\n",
    "        joint_pos = torch.clamp(joint_pos / joint_limit, min=-1, max=1)\n",
    "\n",
    "        # Convert normalized time signal into timestep.\n",
    "        if self.timestep_transform:\n",
    "            low_in, high_in, low_out, high_out = self.timestep_transform\n",
    "            timesteps = (timesteps - low_in) / (high_in - low_in) * (high_out - low_out) + low_out\n",
    "\n",
    "        # Generate high-level control signals.\n",
    "        if self.controller:\n",
    "            right, left, speed = self.controller(observations)\n",
    "        else:\n",
    "            right, left, speed = None, None, None\n",
    "\n",
    "        # Generate low-level action signals.\n",
    "        actions = self.swimmer(\n",
    "            joint_pos,\n",
    "            timesteps=timesteps,\n",
    "            right_control=right,\n",
    "            left_control=left,\n",
    "            speed_control=speed,\n",
    "        )\n",
    "\n",
    "        # Pass through distribution for stochastic policy.\n",
    "        if self.distribution:\n",
    "            actions = self.distribution(actions)\n",
    "\n",
    "        return actions"
   ]
  },
  {
   "cell_type": "markdown",
   "metadata": {
    "execution": {}
   },
   "source": [
    "## 3.2: Train NCAP"
   ]
  },
  {
   "cell_type": "markdown",
   "metadata": {
    "execution": {}
   },
   "source": [
    "We will now define functions akin to those for MLP we defined in Section 3.2, but tailored for the SwimmerActor model.\n",
    "  \n"
   ]
  },
  {
   "cell_type": "code",
   "execution_count": null,
   "metadata": {},
   "outputs": [],
   "source": [
    "from tonic.torch import models, normalizers\n",
    "import torch\n",
    "\n",
    "\n",
    "def ppo_swimmer_model(\n",
    "        n_joints=5,\n",
    "        action_noise=0.1,\n",
    "        critic_sizes=(64, 64),\n",
    "        critic_activation=nn.Tanh,\n",
    "        **swimmer_kwargs,\n",
    "):\n",
    "    return models.ActorCritic(\n",
    "        actor=SwimmerActor(\n",
    "            swimmer=SwimmerModule(n_joints=n_joints, **swimmer_kwargs),\n",
    "            distribution=lambda x: torch.distributions.normal.Normal(x, action_noise),\n",
    "        ),\n",
    "        critic=models.Critic(\n",
    "            encoder=models.ObservationEncoder(),\n",
    "            torso=models.MLP(critic_sizes, critic_activation),\n",
    "            head=models.ValueHead(),\n",
    "        ),\n",
    "        observation_normalizer=normalizers.MeanStd(),\n",
    "    )\n",
    "\n",
    "\n",
    "def d4pg_swimmer_model(\n",
    "  n_joints=5,\n",
    "  critic_sizes=(256, 256),\n",
    "  critic_activation=nn.ReLU,\n",
    "  **swimmer_kwargs,\n",
    "):\n",
    "  return models.ActorCriticWithTargets(\n",
    "    actor=SwimmerActor(swimmer=SwimmerModule(n_joints=n_joints, **swimmer_kwargs),),\n",
    "    critic=models.Critic(\n",
    "      encoder=models.ObservationActionEncoder(),\n",
    "      torso=models.MLP(critic_sizes, critic_activation),\n",
    "      # These values are for the control suite with 0.99 discount.\n",
    "      head=models.DistributionalValueHead(-150., 150., 51),\n",
    "    ),\n",
    "    observation_normalizer=normalizers.MeanStd(),\n",
    "  )"
   ]
  },
  {
   "cell_type": "markdown",
   "metadata": {
    "execution": {}
   },
   "source": [
    "⏳"
   ]
  },
  {
   "cell_type": "code",
   "execution_count": null,
   "metadata": {},
   "outputs": [],
   "source": [
    "with contextlib.redirect_stdout(io.StringIO()): #to suppress output\n",
    "\n",
    "    train('import tonic.torch',\n",
    "          # 'tonic.torch.agents.D4PG(model=d4pg_swimmer_model(n_joints=5,critic_sizes=(128,128)))',\n",
    "          'tonic.torch.agents.PPO(model=ppo_swimmer_model(n_joints=5,critic_sizes=(256,256)))',\n",
    "      'tonic.environments.ControlSuite(\"swimmer-swim\",time_feature=True)',\n",
    "      name = 'ncap_ppo',\n",
    "      trainer = 'tonic.Trainer(steps=int(1e5),save_steps=int(5e4))')"
   ]
  },
  {
   "cell_type": "markdown",
   "metadata": {
    "execution": {}
   },
   "source": [
    "Let's visualize the trained NCAP agent in the environment."
   ]
  },
  {
   "cell_type": "markdown",
   "metadata": {
    "execution": {}
   },
   "source": [
    "⏳"
   ]
  },
  {
   "cell_type": "code",
   "execution_count": null,
   "metadata": {},
   "outputs": [],
   "source": [
    "#@title Uncomment and use GPU to observe video\n",
    "# play_model('data/local/experiments/tonic/swimmer-swim/ncap_ppo')\n",
    "play_model('data/local/experiments/tonic/swimmer-swim/pretrained_ncap_ppo')"
   ]
  },
  {
   "cell_type": "markdown",
   "metadata": {
    "execution": {}
   },
   "source": [
    "❓"
   ]
  },
  {
   "cell_type": "markdown",
   "metadata": {
    "execution": {}
   },
   "source": [
    "***This architecture was designed using the C. elegans motor circuit that can swim right at birth i.e it should already have really good priors. Can you try visualizing an agent with an untrained NCAP model. Can it swim?***"
   ]
  },
  {
   "cell_type": "markdown",
   "metadata": {
    "execution": {}
   },
   "source": [
    "## 3.3 Plot perfomance"
   ]
  },
  {
   "cell_type": "markdown",
   "metadata": {
    "execution": {}
   },
   "source": [
    "Now we are going to visualize performance of our model"
   ]
  },
  {
   "cell_type": "code",
   "execution_count": null,
   "metadata": {},
   "outputs": [],
   "source": [
    "def plot_performance(paths, ax=None,title='Model Performance'):\n",
    "    \"\"\"\n",
    "    Plots the performance of multiple models on the same axes using Seaborn for styling.\n",
    "\n",
    "    Reads CSV log files from specified paths and plots the mean episode scores\n",
    "    achieved during testing against the cumulative time steps for each model.\n",
    "    The plot uses a logarithmic scale for the x-axis to better display the progression\n",
    "    over a wide range of steps. Each line's legend is set to the name of the last folder\n",
    "    in the path, representing the model's name. Seaborn styles are applied for enhanced visualization.\n",
    "\n",
    "    Parameters:\n",
    "    - paths (list of str): Paths to the experiment directories.\n",
    "    - ax (matplotlib.axes.Axes, optional): A matplotlib axis object to plot on. If None,\n",
    "      a new figure and axis are created.\n",
    "    \"\"\"\n",
    "    # Set the Seaborn style\n",
    "    sns.set(style=\"whitegrid\")\n",
    "    colors = sns.color_palette(\"colorblind\")  # Colorblind-friendly palette\n",
    "\n",
    "    if ax is None:\n",
    "        fig, ax = plt.subplots()\n",
    "\n",
    "    for index, path in enumerate(paths):\n",
    "        # Extract the model name from the path\n",
    "        model_name = os.path.basename(path.rstrip('/'))\n",
    "\n",
    "        # Load data\n",
    "        df = pd.read_csv(os.path.join(path, 'log.csv'))\n",
    "        scores = df['test/episode_score/mean']\n",
    "        lengths = df['test/episode_length/mean']\n",
    "        steps = np.cumsum(lengths)\n",
    "        sns.lineplot(x=steps, y=scores, ax=ax, label=model_name, color=colors[index % len(colors)])\n",
    "\n",
    "    ax.set_xscale('log')\n",
    "    ax.set_xlabel('Cumulative Time Steps')\n",
    "    ax.set_ylabel('Max Episode Score')\n",
    "    ax.legend()\n",
    "    ax.set_title(title)"
   ]
  },
  {
   "cell_type": "code",
   "execution_count": null,
   "metadata": {},
   "outputs": [],
   "source": [
    "fig, ax = plt.subplots()\n",
    "\n",
    "#Replace the paths with the path to models you trained to plot their performance.\n",
    "paths = [\n",
    "    'data/local/experiments/tonic/swimmer-swim/pretrained_ncap_ppo',\n",
    "    'data/local/experiments/tonic/swimmer-swim/pretrained_mlp_ppo'\n",
    "]\n",
    "plot_performance(paths, ax=ax, title='MLP v/s NCAP')\n",
    "plt.tight_layout()\n",
    "plt.show()"
   ]
  },
  {
   "cell_type": "markdown",
   "metadata": {
    "execution": {}
   },
   "source": [
    "❓"
   ]
  },
  {
   "cell_type": "markdown",
   "metadata": {
    "execution": {}
   },
   "source": [
    "\n",
    "\n",
    "* ***Compare the performance and learning curve of NCAP to MLP for the basic swimmer agent.***\n",
    "* ***Try testing the model on a modification of the environment (e.g., the 12-link swimmer) it was trained on.***\n",
    "* ***What happens if we remove certain weight constraints (e.g., sign constraint) from the NCAP model?***\n"
   ]
  },
  {
   "cell_type": "code",
   "execution_count": null,
   "metadata": {},
   "outputs": [],
   "source": [
    "# add your code"
   ]
  },
  {
   "cell_type": "markdown",
   "metadata": {
    "execution": {}
   },
   "source": [
    "# Section 4: Visualizing the sparse network"
   ]
  },
  {
   "cell_type": "markdown",
   "metadata": {
    "execution": {}
   },
   "source": [
    "\n",
    "Given the importance of architectural choices in our project we have provided a function which can visualize the network architecture. This includes the ability to render the NCAP network, representing the C. Elegans connectome."
   ]
  },
  {
   "cell_type": "code",
   "execution_count": null,
   "metadata": {},
   "outputs": [],
   "source": [
    "import networkx as nx\n",
    "import matplotlib.pyplot as plt\n",
    "import numpy as np\n",
    "\n",
    "\n",
    "def draw_network(mode='NCAP', N=2, include_speed_control=False, include_turn_control=False):\n",
    "\n",
    "    \"\"\"\n",
    "    Draws a network graph for a swimmer model based on either NCAP or MLP architecture.\n",
    "\n",
    "    Parameters:\n",
    "    - mode (str): Determines the architecture type ('NCAP' or 'MLP'). Defaults to 'NCAP'.\n",
    "    - N (int): Number of joints in the swimmer model. Defaults to 2.\n",
    "    - include_speed_control (bool): If True, includes nodes for speed control in the graph.\n",
    "    - include_turn_control (bool): If True, includes nodes for turn control in the graph.\n",
    "    \"\"\"\n",
    "\n",
    "\n",
    "    G = nx.DiGraph()\n",
    "\n",
    "    n=2+N*4\n",
    "\n",
    "    nodes =dict()\n",
    "\n",
    "    if include_speed_control:\n",
    "      nodes['1-s'] = n+7\n",
    "    if include_turn_control:\n",
    "      nodes['r'] = n+5\n",
    "      nodes['l'] = n+3\n",
    "\n",
    "    nodes['o'] = n-1\n",
    "    nodes['$o^d$'] = n-0\n",
    "    nodes['$o^v$']= n-2\n",
    "\n",
    "    custom_node_positions = {}\n",
    "    custom_node_positions['o'] = (1, nodes['o'])\n",
    "    custom_node_positions['$o^d$'] = (1.5, nodes['$o^d$'])\n",
    "    custom_node_positions['$o^v$'] = (1.5, nodes['$o^v$'])\n",
    "\n",
    "\n",
    "    if include_speed_control:\n",
    "      custom_node_positions['1-s'] = (1.5, nodes['1-s'])\n",
    "    if include_turn_control:\n",
    "      custom_node_positions['r'] = (1.5, nodes['r'])\n",
    "      custom_node_positions['l'] = (1.5, nodes['l'])\n",
    "\n",
    "    for i in range(1,N+1):\n",
    "      nodes[f'$q_{i}$'] = 4*(N-i) + 1\n",
    "      nodes[f'$q^d_{i}$'] = 4*(N-i) + 2\n",
    "      nodes[f'$q^v_{i}$'] = 4*(N-i)\n",
    "      nodes[f'$b^d_{i}$'] = 4*(N-i) + 2\n",
    "      nodes[f'$b^v_{i}$'] = 4*(N-i)\n",
    "      nodes[f'$m^d_{i}$'] = 4*(N-i) + 2\n",
    "      nodes[f'$m^v_{i}$'] = 4*(N-i)\n",
    "      nodes['$\\overset{..}{q}$' + f'$_{i}$'] = 4*(N-i) + 1\n",
    "\n",
    "      custom_node_positions[f'$q_{i}$'] = (1, nodes[f'$q_{i}$'])\n",
    "      custom_node_positions[f'$q^d_{i}$'] = (1.5, nodes[f'$q^d_{i}$'])\n",
    "      custom_node_positions[f'$q^v_{i}$'] = (1.5, nodes[f'$q^v_{i}$'])\n",
    "      custom_node_positions[f'$b^d_{i}$'] = (2, nodes[f'$b^d_{i}$'])\n",
    "      custom_node_positions[f'$b^v_{i}$'] = (2, nodes[f'$b^v_{i}$'])\n",
    "      custom_node_positions[f'$m^d_{i}$'] = (2.5, nodes[f'$m^d_{i}$'])\n",
    "      custom_node_positions[f'$m^v_{i}$'] = (2.5, nodes[f'$m^v_{i}$'])\n",
    "      custom_node_positions['$\\overset{..}{q}$' + f'$_{i}$'] = (3, nodes['$\\overset{..}{q}$' + f'$_{i}$'])\n",
    "\n",
    "    for node, layer in nodes.items():\n",
    "        G.add_node(node, layer=layer)\n",
    "\n",
    "    if mode=='NCAP':\n",
    "        # Add edges between nodes\n",
    "        edges_colors = ['green', 'orange', 'green', 'green']\n",
    "        edge_labels = {\n",
    "            ('o', '$o^d$'):'+1',\n",
    "            ('o', '$o^v$'):'-1',\n",
    "            ('$o^d$', '$b^d_1$'):'o',\n",
    "            ('$o^v$', '$b^v_1$'):'o'\n",
    "            }\n",
    "\n",
    "        if include_speed_control:\n",
    "          edges_colors += ['orange']\n",
    "          edge_labels[('1-s', '$b^d_1$')] = 's, to all b'\n",
    "        if include_turn_control:\n",
    "          edges_colors += ['green', 'green']\n",
    "          edge_labels[('r', '$b^d_1$')] = 't'\n",
    "          edge_labels[('l', '$b^v_1$')] = 't'\n",
    "\n",
    "\n",
    "        for i in range(1,N+1):\n",
    "          if i < N:\n",
    "            edges_colors += ['green', 'orange', 'green', 'green']\n",
    "\n",
    "            edge_labels[((f'$q_{i}$', f'$q^d_{i}$'))] = '+1'\n",
    "            edge_labels[((f'$q_{i}$', f'$q^v_{i}$'))] = '-1'\n",
    "            edge_labels[((f'$q^d_{i}$', f'$b^d_{i+1}$'))] = 'p'\n",
    "            edge_labels[((f'$q^v_{i}$', f'$b^v_{i+1}$'))] = 'p'\n",
    "\n",
    "          edges_colors += ['green', 'orange', 'green', 'orange',\n",
    "                          'orange', 'green']\n",
    "\n",
    "          edge_labels[((f'$b^d_{i}$', f'$m^d_{i}$'))] = 'i'\n",
    "          edge_labels[((f'$b^d_{i}$', f'$m^v_{i}$'))] = 'c'\n",
    "          edge_labels[((f'$b^v_{i}$', f'$m^v_{i}$'))] = 'i'\n",
    "          edge_labels[((f'$b^v_{i}$', f'$m^d_{i}$'))] = 'c'\n",
    "          edge_labels[((f'$m^v_{i}$', '$\\overset{..}{q}$' + f'$_{i}$'))] = '-1'\n",
    "          edge_labels[((f'$m^d_{i}$', '$\\overset{..}{q}$' + f'$_{i}$'))] = '+1'\n",
    "\n",
    "        edges = edge_labels.keys()\n",
    "\n",
    "    elif mode=='MLP':\n",
    "      edges = []\n",
    "      layers = [1, 1.5, 2, 2.5, 3]\n",
    "      layers_nodes = [[], [], [], [], []]\n",
    "      for key, value in custom_node_positions.items():\n",
    "        ind = layers.index(value[0])\n",
    "        layers_nodes[ind].append(key)\n",
    "      for layer_ind in range(len(layers_nodes) - 1):\n",
    "        for node1 in layers_nodes[layer_ind]:\n",
    "          for node2 in layers_nodes[layer_ind+1]:\n",
    "            edges.append((node1, node2))\n",
    "      edges_colors = np.repeat('gray', len(edges))\n",
    "\n",
    "\n",
    "    G.add_edges_from(edges)\n",
    "\n",
    "    # Draw the graph using the custom node positions\n",
    "    options = {\"edge_color\": edges_colors, \"edgecolors\": \"tab:gray\", \"node_size\": 500, 'node_color':'white'}\n",
    "    nx.draw(G, pos=custom_node_positions, with_labels=True, arrowstyle=\"-\", arrowsize=20, **options)\n",
    "    if mode=='NCAP':\n",
    "      nx.draw_networkx_edge_labels(G, pos=custom_node_positions, edge_labels=edge_labels)"
   ]
  },
  {
   "cell_type": "code",
   "execution_count": null,
   "metadata": {},
   "outputs": [],
   "source": [
    "draw_network('MLP', N=6)"
   ]
  },
  {
   "cell_type": "code",
   "execution_count": null,
   "metadata": {},
   "outputs": [],
   "source": [
    "draw_network('NCAP', N=6, include_speed_control=True, include_turn_control=True)"
   ]
  },
  {
   "cell_type": "markdown",
   "metadata": {
    "execution": {}
   },
   "source": [
    "Notice that the NCAP architecture is highly sparse and interpretable as compared to the MLP. Moreover notice that the ncap architecture can be completely embedded within a fully connected MLP of 3 hidden layers and ReLU nonlinearities. This enables us to do a thorough investigation into how specific architectural elements influence both performance and the learning process. By leveraging this capability, we can systematically analyze the impact of the architectural preferences inherent to the model and make better design choices.\n",
    "\n"
   ]
  },
  {
   "cell_type": "markdown",
   "metadata": {
    "execution": {}
   },
   "source": [
    "*It might be useful to also visualize the network's activity for NCAP. Given it only has 4 learnable parameters it becomes much easier to interpret the network.*\n",
    "\n"
   ]
  },
  {
   "cell_type": "markdown",
   "metadata": {
    "execution": {}
   },
   "source": [
    "# Conclusion"
   ]
  },
  {
   "cell_type": "markdown",
   "metadata": {
    "execution": {}
   },
   "source": [
    "\n",
    "\n",
    "Based on the concepts we've discussed in this tutorial, you should now be equipped to advance with the project. Within this project, there are multiple pathways you can explore. For each pathway, you will delve deeply into one of the main sections outlined in this notebook, allowing for a thorough investigation of different factors that can influence performance:\n",
    "\n",
    "*   ***Exploring the effects of environment:*** Investigate how different environmental settings impact agent performance. This could involve altering parameters of the environment or the types of tasks and reward functions. Understanding these effects can help in making better architectural choices and learning algorithms that result in agents that are robust and adaptable\n",
    "\n",
    "\n",
    "*   ***Exploring the effects of learning algorithms:*** Standard RL algorithms often struggle with sparse and constrained networks, which can lead to suboptimal performance. Explore where these algorithms fail and analyze potential reasons for their limitations. Experiment with modifications or alternative algorithms that might overcome these challenges.\n",
    "\n",
    "\n",
    "* ***Exploring the effects of model architecture:*** Investigate how various architectural decisions within the NCAP model influence its performance. Visualize the model and its activity and explore potential improvements by tweaking architectural elements, assessing how these changes affect learning outcomes and operational efficiency."
   ]
  }
 ],
 "metadata": {
  "accelerator": "GPU",
  "colab": {
   "collapsed_sections": [],
   "gpuType": "T4",
   "include_colab_link": true,
   "name": "Macrocircuits",
   "provenance": [],
   "toc_visible": true
  },
  "kernel": {
   "display_name": "Python 3",
   "language": "python",
   "name": "python3"
  },
  "kernelspec": {
   "display_name": "Python 3 (ipykernel)",
   "language": "python",
   "name": "python3"
  },
  "language_info": {
   "codemirror_mode": {
    "name": "ipython",
    "version": 3
   },
   "file_extension": ".py",
   "mimetype": "text/x-python",
   "name": "python",
   "nbconvert_exporter": "python",
   "pygments_lexer": "ipython3",
   "version": "3.11.5"
  }
 },
 "nbformat": 4,
 "nbformat_minor": 4
}
