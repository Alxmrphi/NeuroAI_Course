{
 "cells": [
  {
   "cell_type": "markdown",
   "metadata": {
    "execution": {}
   },
   "source": [
    "<a href=\"https://colab.research.google.com/github/neuromatch/NeuroAI_Course/blob/main/projects/project-notebooks/ComparingNetworks.ipynb\" target=\"_parent\"><img src=\"https://colab.research.google.com/assets/colab-badge.svg\" alt=\"Open In Colab\"/></a> &nbsp; <a href=\"https://kaggle.com/kernels/welcome?src=https://raw.githubusercontent.com/neuromatch/NeuroAI_Course/blob/main/projects/project-notebooks/ComparingNetworks.ipynb\" target=\"_parent\"><img src=\"https://kaggle.com/static/images/open-in-kaggle.svg\" alt=\"Open in Kaggle\"/></a>\n"
   ]
  },
  {
   "cell_type": "markdown",
   "metadata": {
    "execution": {}
   },
   "source": [
    "\n",
    "# Comparing networks: Characterizing computational similarity in task-trained recurrent neural networks\n",
    "\n",
    "**By Neuromatch Academy**\n",
    "\n",
    "\n",
    "__Content creators:__ Chris Versteeg\n",
    "\n",
    "__Content reviewers:__ Chris Versteeg, Hannah Choi, Eva Dyer\n",
    "\n",
    "__Production editors:__ Konstantine Tsafatinos, Ella Batty, Spiros Chavlis, Samuele Bolotta, Hlib Solodzhuk\n",
    "\n",
    "---\n"
   ]
  },
  {
   "cell_type": "markdown",
   "metadata": {
    "execution": {}
   },
   "source": [
    "\n",
    "**Background**: Researchers training artificial networks to perform tasks (e.g., image classification, motor control) have found that the activity in the artificial networks can resemble the activity of biological neurons from brain areas thought to perform similar tasks. Unfortunately, it is unclear whether a superficial similarity in neural activation necessarily translates to a conserved computational strategy. We need ways to assess how well different models are able to capture the computational principles, which will require datasets where the ground-truth computations are known and we can analyze similarity between artificial and natural systems. The aim of this project is to explore ways to measure alignment in dynamical systems, and to study different approaches to quantify the changes in representations across different tasks and across different architectures.\n"
   ]
  },
  {
   "cell_type": "code",
   "execution_count": null,
   "metadata": {
    "cellView": "form"
   },
   "outputs": [],
   "source": [
    "# @title Project Background\n",
    "\n",
    "from ipywidgets import widgets\n",
    "from IPython.display import YouTubeVideo\n",
    "from IPython.display import IFrame\n",
    "from IPython.display import display\n",
    "\n",
    "\n",
    "class PlayVideo(IFrame):\n",
    "  def __init__(self, id, source, page=1, width=400, height=300, **kwargs):\n",
    "    self.id = id\n",
    "    if source == 'Bilibili':\n",
    "      src = f'https://player.bilibili.com/player.html?bvid={id}&page={page}'\n",
    "    elif source == 'Osf':\n",
    "      src = f'https://mfr.ca-1.osf.io/render?url=https://osf.io/download/{id}/?direct%26mode=render'\n",
    "    super(PlayVideo, self).__init__(src, width, height, **kwargs)\n",
    "\n",
    "\n",
    "def display_videos(video_ids, W=400, H=300, fs=1):\n",
    "  tab_contents = []\n",
    "  for i, video_id in enumerate(video_ids):\n",
    "    out = widgets.Output()\n",
    "    with out:\n",
    "      if video_ids[i][0] == 'Youtube':\n",
    "        video = YouTubeVideo(id=video_ids[i][1], width=W,\n",
    "                             height=H, fs=fs, rel=0)\n",
    "        print(f'Video available at https://youtube.com/watch?v={video.id}')\n",
    "      else:\n",
    "        video = PlayVideo(id=video_ids[i][1], source=video_ids[i][0], width=W,\n",
    "                          height=H, fs=fs, autoplay=False)\n",
    "        if video_ids[i][0] == 'Bilibili':\n",
    "          print(f'Video available at https://www.bilibili.com/video/{video.id}')\n",
    "        elif video_ids[i][0] == 'Osf':\n",
    "          print(f'Video available at https://osf.io/{video.id}')\n",
    "      display(video)\n",
    "    tab_contents.append(out)\n",
    "  return tab_contents\n",
    "\n",
    "\n",
    "video_ids = [('Youtube', 'KpXu34cvWPE')]\n",
    "tab_contents = display_videos(video_ids, W=854, H=480)\n",
    "tabs = widgets.Tab()\n",
    "tabs.children = tab_contents\n",
    "for i in range(len(tab_contents)):\n",
    "  tabs.set_title(i, video_ids[i][0])\n",
    "display(tabs)"
   ]
  },
  {
   "cell_type": "code",
   "execution_count": null,
   "metadata": {
    "cellView": "form"
   },
   "outputs": [],
   "source": [
    "# @title Project slides\n",
    "\n",
    "from IPython.display import IFrame\n",
    "link_id = \"vb3tw\"\n",
    "print(f\"If you want to download the slides: https://osf.io/download/{link_id}/\")\n",
    "IFrame(src=f\"https://mfr.ca-1.osf.io/render?url=https://osf.io/download/{link_id}/?direct%26mode=render\", width=854, height=480)"
   ]
  },
  {
   "cell_type": "code",
   "execution_count": null,
   "metadata": {
    "cellView": "form"
   },
   "outputs": [],
   "source": [
    "#@title Project Template\n",
    "from IPython.display import Image, display\n",
    "import os\n",
    "from pathlib import Path\n",
    "\n",
    "url = \"https://github.com/neuromatch/NeuroAI_Course/blob/main/projects/project-notebooks/static/ComputationalSimilarityTemplate.png?raw=true\"\n",
    "\n",
    "display(Image(url=url))"
   ]
  },
  {
   "cell_type": "markdown",
   "metadata": {
    "execution": {}
   },
   "source": [
    "\n",
    "\n",
    "In this notebook we are going to provide code to get you started on Q1-Q3 of this project! \n",
    "\n",
    "The basic outline looks like this:\n",
    "\n",
    "- Section 1: Preparing the environment.\n",
    "- Section 2: Overview of the available tasks.\n",
    "- Section 3: Understanding the Three-Bit Flip-Flop task (3BFF).\n",
    "- Section 4: Training a model to perform 3BFF.\n",
    "- Section 5: Inspecting the performance of trained models.\n",
    "    - Part 1: Visualizing latent activity\n",
    "    - Part 2: Quantifying latent similarity with State R2.\n",
    "    - Part 3: Visualizing Fixed-Point architectures.\n",
    "- Section 6: Introduction to Random Target task.\n",
    "\n",
    "**Importantly, we've put landmarks in the notebook to indicate**: \n",
    "\n",
    "*Interactive exercises*\n",
    "\n",
    "❓❓❓\n",
    "\n",
    "\n",
    "*Cells which will a decent amount of time to run (>5 mins)*\n",
    "\n",
    "⏳⏳⏳"
   ]
  },
  {
   "cell_type": "markdown",
   "metadata": {
    "execution": {}
   },
   "source": [
    "## Section 1: Preparing the environment\n",
    "\n",
    "**IF USING COLAB**:\n",
    "\n",
    "Uncomment the lines of code below and run them in order. The top cell only needs to be run once, but the second cell (envStr) needs to be re-run if the Colab notebook crashes. These blocks install the needed dependencies and set up your environment.\n",
    "\n",
    "⏳⏳⏳"
   ]
  },
  {
   "cell_type": "code",
   "execution_count": null,
   "metadata": {},
   "outputs": [],
   "source": [
    "# @markdown Colab installation (Part 1)\n",
    "\n",
    "# ! git clone https://github.com/glibesyck/ComputationThruDynamicsBenchmark\n",
    "# %cd ComputationThruDynamicsBenchmark\n",
    "# ! pip install -e .\n",
    "\n",
    "## RUN THIS CELL, THEN RESTART SESSION AS PROMPTED (BUTTON AT BOTTOM OF THIS CELL'S FINISHED OUTPUT). DO NOT NEED TO RUN AGAIN"
   ]
  },
  {
   "cell_type": "code",
   "execution_count": null,
   "metadata": {},
   "outputs": [],
   "source": [
    "# @markdown Colab installation (Part 2)\n",
    "\n",
    "# !pip uninstall -y torchaudio torchvision"
   ]
  },
  {
   "cell_type": "code",
   "execution_count": null,
   "metadata": {},
   "outputs": [],
   "source": [
    "# @markdown Colab installation (Part 3)\n",
    "\n",
    "## GET BACK TO THE DIRECTORY AND CONFIGURE .env\n",
    "\n",
    "# %cd /content/ComputationThruDynamicsBenchmark/\n",
    "# envStr = \"\"\"HOME_DIR=/content/ComputationThruDynamicsBenchmark/\n",
    "# #Don't change these\n",
    "# TRAIN_INPUT_FILE=train_input.h5\\nEVAL_INPUT_FILE=eval_input.h5\n",
    "# EVAL_TARGET_FILE=eval_target.h5\n",
    "# \"\"\"\n",
    "\n",
    "# with open('.env','w') as f:\n",
    "#   f.write(envStr)"
   ]
  },
  {
   "cell_type": "markdown",
   "metadata": {
    "execution": {}
   },
   "source": [
    "**IF RUNNING LOCALLY (recommended if possible)**:\n",
    "\n",
    "Follow the instructions [here](https://github.com/snel-repo/ComputationThruDynamicsBenchmark) to setup the separatte environment for this project, or you can run the cell below for general installment."
   ]
  },
  {
   "cell_type": "code",
   "execution_count": null,
   "metadata": {},
   "outputs": [
    {
     "name": "stdout",
     "output_type": "stream",
     "text": [
      "remote: Compressing objects:   2% (16/548)\u001b[K\r"
     ]
    },
    {
     "name": "stdout",
     "output_type": "stream",
     "text": [
      "remote: Compressing objects:   3% (17/548)\u001b[K\r"
     ]
    },
    {
     "name": "stdout",
     "output_type": "stream",
     "text": [
      "remote: Compressing objects:   4% (22/548)\u001b[K\r"
     ]
    },
    {
     "name": "stdout",
     "output_type": "stream",
     "text": [
      "remote: Compressing objects:   4% (24/548)\u001b[K\r"
     ]
    },
    {
     "name": "stdout",
     "output_type": "stream",
     "text": [
      "remote: Compressing objects:   5% (28/548)\u001b[K\r"
     ]
    },
    {
     "name": "stdout",
     "output_type": "stream",
     "text": [
      "remote: Compressing objects:   6% (33/548)\u001b[K\r"
     ]
    },
    {
     "name": "stdout",
     "output_type": "stream",
     "text": [
      "remote: Compressing objects:   7% (39/548)\u001b[K\r"
     ]
    },
    {
     "name": "stdout",
     "output_type": "stream",
     "text": [
      "remote: Compressing objects:   8% (44/548)\u001b[K\r"
     ]
    },
    {
     "name": "stdout",
     "output_type": "stream",
     "text": [
      "remote: Compressing objects:   9% (50/548)\u001b[K\r",
      "remote: Compressing objects:  10% (55/548)\u001b[K\r",
      "remote: Compressing objects:  11% (61/548)\u001b[K\r"
     ]
    },
    {
     "name": "stdout",
     "output_type": "stream",
     "text": [
      "remote: Compressing objects:  12% (66/548)\u001b[K\r",
      "remote: Compressing objects:  13% (72/548)\u001b[K\r",
      "remote: Compressing objects:  14% (77/548)\u001b[K\r",
      "remote: Compressing objects:  15% (83/548)\u001b[K\r",
      "remote: Compressing objects:  16% (88/548)\u001b[K\r",
      "remote: Compressing objects:  17% (94/548)\u001b[K\r",
      "remote: Compressing objects:  18% (99/548)\u001b[K\r",
      "remote: Compressing objects:  19% (105/548)\u001b[K\r",
      "remote: Compressing objects:  20% (110/548)\u001b[K\r",
      "remote: Compressing objects:  21% (116/548)\u001b[K\r",
      "remote: Compressing objects:  22% (121/548)\u001b[K\r",
      "remote: Compressing objects:  23% (127/548)\u001b[K\r",
      "remote: Compressing objects:  24% (132/548)\u001b[K\r",
      "remote: Compressing objects:  25% (137/548)\u001b[K\r",
      "remote: Compressing objects:  26% (143/548)\u001b[K\r",
      "remote: Compressing objects:  27% (148/548)\u001b[K\r",
      "remote: Compressing objects:  28% (154/548)\u001b[K\r",
      "remote: Compressing objects:  29% (159/548)\u001b[K\r",
      "remote: Compressing objects:  30% (165/548)\u001b[K\r",
      "remote: Compressing objects:  31% (170/548)\u001b[K\r",
      "remote: Compressing objects:  32% (176/548)\u001b[K\r",
      "remote: Compressing objects:  33% (181/548)\u001b[K\r",
      "remote: Compressing objects:  34% (187/548)\u001b[K\r",
      "remote: Compressing objects:  35% (192/548)\u001b[K\r",
      "remote: Compressing objects:  36% (198/548)\u001b[K\r",
      "remote: Compressing objects:  37% (203/548)\u001b[K\r",
      "remote: Compressing objects:  38% (209/548)\u001b[K\r",
      "remote: Compressing objects:  39% (214/548)\u001b[K\r",
      "remote: Compressing objects:  40% (220/548)\u001b[K\r",
      "remote: Compressing objects:  41% (225/548)\u001b[K\r",
      "remote: Compressing objects:  42% (231/548)\u001b[K\r",
      "remote: Compressing objects:  43% (236/548)\u001b[K\r",
      "remote: Compressing objects:  44% (242/548)\u001b[K\r",
      "remote: Compressing objects:  45% (247/548)\u001b[K\r",
      "remote: Compressing objects:  46% (253/548)\u001b[K\r",
      "remote: Compressing objects:  47% (258/548)\u001b[K\r",
      "remote: Compressing objects:  48% (264/548)\u001b[K\r",
      "remote: Compressing objects:  49% (269/548)\u001b[K\r",
      "remote: Compressing objects:  50% (274/548)\u001b[K\r",
      "remote: Compressing objects:  51% (280/548)\u001b[K\r",
      "remote: Compressing objects:  52% (285/548)\u001b[K\r",
      "remote: Compressing objects:  53% (291/548)\u001b[K\r",
      "remote: Compressing objects:  54% (296/548)\u001b[K\r",
      "remote: Compressing objects:  55% (302/548)\u001b[K\r",
      "remote: Compressing objects:  56% (307/548)\u001b[K\r",
      "remote: Compressing objects:  57% (313/548)\u001b[K\r",
      "remote: Compressing objects:  58% (318/548)\u001b[K\r",
      "remote: Compressing objects:  59% (324/548)\u001b[K\r",
      "remote: Compressing objects:  60% (329/548)\u001b[K\r",
      "remote: Compressing objects:  61% (335/548)\u001b[K\r",
      "remote: Compressing objects:  62% (340/548)\u001b[K\r",
      "remote: Compressing objects:  63% (346/548)\u001b[K\r",
      "remote: Compressing objects:  64% (351/548)\u001b[K\r",
      "remote: Compressing objects:  65% (357/548)\u001b[K\r",
      "remote: Compressing objects:  66% (362/548)\u001b[K\r",
      "remote: Compressing objects:  67% (368/548)\u001b[K\r",
      "remote: Compressing objects:  68% (373/548)\u001b[K\r",
      "remote: Compressing objects:  69% (379/548)\u001b[K\r",
      "remote: Compressing objects:  70% (384/548)\u001b[K\r",
      "remote: Compressing objects:  71% (390/548)\u001b[K\r",
      "remote: Compressing objects:  72% (395/548)\u001b[K\r",
      "remote: Compressing objects:  73% (401/548)\u001b[K\r",
      "remote: Compressing objects:  74% (406/548)\u001b[K\r",
      "remote: Compressing objects:  75% (411/548)\u001b[K\r",
      "remote: Compressing objects:  76% (417/548)\u001b[K\r",
      "remote: Compressing objects:  77% (422/548)\u001b[K\r",
      "remote: Compressing objects:  78% (428/548)\u001b[K\r",
      "remote: Compressing objects:  79% (433/548)\u001b[K\r",
      "remote: Compressing objects:  80% (439/548)\u001b[K\r",
      "remote: Compressing objects:  81% (444/548)\u001b[K\r",
      "remote: Compressing objects:  82% (450/548)\u001b[K\r",
      "remote: Compressing objects:  83% (455/548)\u001b[K\r",
      "remote: Compressing objects:  84% (461/548)\u001b[K\r",
      "remote: Compressing objects:  85% (466/548)\u001b[K\r",
      "remote: Compressing objects:  86% (472/548)\u001b[K\r",
      "remote: Compressing objects:  87% (477/548)\u001b[K\r",
      "remote: Compressing objects:  88% (483/548)\u001b[K\r",
      "remote: Compressing objects:  89% (488/548)\u001b[K\r",
      "remote: Compressing objects:  90% (494/548)\u001b[K\r",
      "remote: Compressing objects:  91% (499/548)\u001b[K\r",
      "remote: Compressing objects:  92% (505/548)\u001b[K\r",
      "remote: Compressing objects:  93% (510/548)\u001b[K\r",
      "remote: Compressing objects:  94% (516/548)\u001b[K\r",
      "remote: Compressing objects:  95% (521/548)\u001b[K\r",
      "remote: Compressing objects:  96% (527/548)\u001b[K\r",
      "remote: Compressing objects:  97% (532/548)\u001b[K\r",
      "remote: Compressing objects:  98% (538/548)\u001b[K\r",
      "remote: Compressing objects:  99% (543/548)\u001b[K\r",
      "remote: Compressing objects: 100% (548/548)\u001b[K\r",
      "remote: Compressing objects: 100% (548/548), done.\u001b[K\r\n"
     ]
    },
    {
     "name": "stdout",
     "output_type": "stream",
     "text": [
      "Receiving objects:   0% (1/3174)\r"
     ]
    },
    {
     "name": "stdout",
     "output_type": "stream",
     "text": [
      "Receiving objects:   1% (32/3174)\r"
     ]
    },
    {
     "name": "stdout",
     "output_type": "stream",
     "text": [
      "Receiving objects:   2% (64/3174), 30.71 MiB | 61.40 MiB/s\r"
     ]
    },
    {
     "name": "stdout",
     "output_type": "stream",
     "text": [
      "Receiving objects:   3% (96/3174), 30.71 MiB | 61.40 MiB/s\r",
      "Receiving objects:   4% (127/3174), 30.71 MiB | 61.40 MiB/s\r",
      "Receiving objects:   5% (159/3174), 30.71 MiB | 61.40 MiB/s\r"
     ]
    },
    {
     "name": "stdout",
     "output_type": "stream",
     "text": [
      "Receiving objects:   6% (191/3174), 30.71 MiB | 61.40 MiB/s\r",
      "Receiving objects:   7% (223/3174), 30.71 MiB | 61.40 MiB/s\r"
     ]
    },
    {
     "name": "stdout",
     "output_type": "stream",
     "text": [
      "Receiving objects:   8% (254/3174), 30.71 MiB | 61.40 MiB/s\r",
      "Receiving objects:   9% (286/3174), 30.71 MiB | 61.40 MiB/s\r",
      "Receiving objects:  10% (318/3174), 30.71 MiB | 61.40 MiB/s\r"
     ]
    },
    {
     "name": "stdout",
     "output_type": "stream",
     "text": [
      "Receiving objects:  11% (350/3174), 30.71 MiB | 61.40 MiB/s\r",
      "Receiving objects:  12% (381/3174), 30.71 MiB | 61.40 MiB/s\r",
      "Receiving objects:  13% (413/3174), 30.71 MiB | 61.40 MiB/s\r",
      "Receiving objects:  14% (445/3174), 30.71 MiB | 61.40 MiB/s\r",
      "Receiving objects:  15% (477/3174), 30.71 MiB | 61.40 MiB/s\r",
      "Receiving objects:  16% (508/3174), 30.71 MiB | 61.40 MiB/s\r",
      "Receiving objects:  17% (540/3174), 30.71 MiB | 61.40 MiB/s\r",
      "Receiving objects:  18% (572/3174), 30.71 MiB | 61.40 MiB/s\r",
      "Receiving objects:  19% (604/3174), 30.71 MiB | 61.40 MiB/s\r",
      "Receiving objects:  20% (635/3174), 30.71 MiB | 61.40 MiB/s\r",
      "Receiving objects:  21% (667/3174), 30.71 MiB | 61.40 MiB/s\r"
     ]
    },
    {
     "name": "stdout",
     "output_type": "stream",
     "text": [
      "Receiving objects:  22% (699/3174), 30.71 MiB | 61.40 MiB/s\r",
      "Receiving objects:  23% (731/3174), 30.71 MiB | 61.40 MiB/s\r",
      "Receiving objects:  24% (762/3174), 30.71 MiB | 61.40 MiB/s\r",
      "Receiving objects:  25% (794/3174), 30.71 MiB | 61.40 MiB/s\r",
      "Receiving objects:  26% (826/3174), 30.71 MiB | 61.40 MiB/s\r",
      "Receiving objects:  27% (857/3174), 30.71 MiB | 61.40 MiB/s\r",
      "Receiving objects:  28% (889/3174), 30.71 MiB | 61.40 MiB/s\r",
      "Receiving objects:  29% (921/3174), 30.71 MiB | 61.40 MiB/s\r",
      "Receiving objects:  30% (953/3174), 30.71 MiB | 61.40 MiB/s\r"
     ]
    },
    {
     "name": "stdout",
     "output_type": "stream",
     "text": [
      "Receiving objects:  31% (984/3174), 30.71 MiB | 61.40 MiB/s\r",
      "Receiving objects:  32% (1016/3174), 30.71 MiB | 61.40 MiB/s\r",
      "Receiving objects:  33% (1048/3174), 30.71 MiB | 61.40 MiB/s\r",
      "Receiving objects:  34% (1080/3174), 30.71 MiB | 61.40 MiB/s\r",
      "Receiving objects:  35% (1111/3174), 30.71 MiB | 61.40 MiB/s\r",
      "Receiving objects:  36% (1143/3174), 30.71 MiB | 61.40 MiB/s\r",
      "Receiving objects:  37% (1175/3174), 30.71 MiB | 61.40 MiB/s\r"
     ]
    },
    {
     "name": "stdout",
     "output_type": "stream",
     "text": [
      "Receiving objects:  38% (1207/3174), 30.71 MiB | 61.40 MiB/s\r",
      "Receiving objects:  39% (1238/3174), 30.71 MiB | 61.40 MiB/s\r",
      "Receiving objects:  40% (1270/3174), 30.71 MiB | 61.40 MiB/s\r",
      "Receiving objects:  41% (1302/3174), 30.71 MiB | 61.40 MiB/s\r",
      "Receiving objects:  42% (1334/3174), 30.71 MiB | 61.40 MiB/s\r",
      "Receiving objects:  43% (1365/3174), 30.71 MiB | 61.40 MiB/s\r",
      "Receiving objects:  44% (1397/3174), 30.71 MiB | 61.40 MiB/s\r",
      "Receiving objects:  45% (1429/3174), 30.71 MiB | 61.40 MiB/s\r",
      "Receiving objects:  46% (1461/3174), 30.71 MiB | 61.40 MiB/s\r",
      "Receiving objects:  47% (1492/3174), 30.71 MiB | 61.40 MiB/s\r",
      "Receiving objects:  48% (1524/3174), 30.71 MiB | 61.40 MiB/s\r",
      "Receiving objects:  49% (1556/3174), 30.71 MiB | 61.40 MiB/s\r",
      "Receiving objects:  50% (1587/3174), 30.71 MiB | 61.40 MiB/s\r",
      "Receiving objects:  51% (1619/3174), 30.71 MiB | 61.40 MiB/s\r",
      "Receiving objects:  52% (1651/3174), 30.71 MiB | 61.40 MiB/s\r",
      "Receiving objects:  53% (1683/3174), 30.71 MiB | 61.40 MiB/s\r",
      "Receiving objects:  54% (1714/3174), 30.71 MiB | 61.40 MiB/s\r",
      "Receiving objects:  55% (1746/3174), 30.71 MiB | 61.40 MiB/s\r",
      "Receiving objects:  56% (1778/3174), 30.71 MiB | 61.40 MiB/s\r",
      "Receiving objects:  57% (1810/3174), 30.71 MiB | 61.40 MiB/s\r"
     ]
    },
    {
     "name": "stdout",
     "output_type": "stream",
     "text": [
      "Receiving objects:  57% (1828/3174), 58.70 MiB | 58.69 MiB/s\r"
     ]
    },
    {
     "name": "stdout",
     "output_type": "stream",
     "text": [
      "Receiving objects:  58% (1841/3174), 58.70 MiB | 58.69 MiB/s\r",
      "Receiving objects:  59% (1873/3174), 58.70 MiB | 58.69 MiB/s\r",
      "Receiving objects:  60% (1905/3174), 58.70 MiB | 58.69 MiB/s\r",
      "Receiving objects:  61% (1937/3174), 58.70 MiB | 58.69 MiB/s\r",
      "Receiving objects:  62% (1968/3174), 58.70 MiB | 58.69 MiB/s\r",
      "Receiving objects:  63% (2000/3174), 58.70 MiB | 58.69 MiB/s\r",
      "Receiving objects:  64% (2032/3174), 58.70 MiB | 58.69 MiB/s\r",
      "Receiving objects:  65% (2064/3174), 58.70 MiB | 58.69 MiB/s\r",
      "Receiving objects:  66% (2095/3174), 58.70 MiB | 58.69 MiB/s\r",
      "Receiving objects:  67% (2127/3174), 58.70 MiB | 58.69 MiB/s\r",
      "Receiving objects:  68% (2159/3174), 58.70 MiB | 58.69 MiB/s\r",
      "Receiving objects:  69% (2191/3174), 58.70 MiB | 58.69 MiB/s\r",
      "Receiving objects:  70% (2222/3174), 58.70 MiB | 58.69 MiB/s\r",
      "Receiving objects:  71% (2254/3174), 58.70 MiB | 58.69 MiB/s\r",
      "Receiving objects:  72% (2286/3174), 58.70 MiB | 58.69 MiB/s\r",
      "Receiving objects:  73% (2318/3174), 58.70 MiB | 58.69 MiB/s\r",
      "Receiving objects:  74% (2349/3174), 58.70 MiB | 58.69 MiB/s\r",
      "Receiving objects:  75% (2381/3174), 58.70 MiB | 58.69 MiB/s\r",
      "Receiving objects:  76% (2413/3174), 58.70 MiB | 58.69 MiB/s\r",
      "Receiving objects:  77% (2444/3174), 58.70 MiB | 58.69 MiB/s\r",
      "Receiving objects:  78% (2476/3174), 58.70 MiB | 58.69 MiB/s\r",
      "Receiving objects:  79% (2508/3174), 58.70 MiB | 58.69 MiB/s\r",
      "Receiving objects:  80% (2540/3174), 58.70 MiB | 58.69 MiB/s\r",
      "Receiving objects:  81% (2571/3174), 58.70 MiB | 58.69 MiB/s\r",
      "Receiving objects:  82% (2603/3174), 58.70 MiB | 58.69 MiB/s\r",
      "Receiving objects:  83% (2635/3174), 58.70 MiB | 58.69 MiB/s\r",
      "Receiving objects:  84% (2667/3174), 58.70 MiB | 58.69 MiB/s\r",
      "Receiving objects:  85% (2698/3174), 58.70 MiB | 58.69 MiB/s\r",
      "Receiving objects:  86% (2730/3174), 58.70 MiB | 58.69 MiB/s\r",
      "Receiving objects:  87% (2762/3174), 58.70 MiB | 58.69 MiB/s\r",
      "Receiving objects:  88% (2794/3174), 58.70 MiB | 58.69 MiB/s\r"
     ]
    },
    {
     "name": "stdout",
     "output_type": "stream",
     "text": [
      "Receiving objects:  89% (2825/3174), 91.38 MiB | 60.91 MiB/s\r",
      "Receiving objects:  90% (2857/3174), 91.38 MiB | 60.91 MiB/s\r"
     ]
    },
    {
     "name": "stdout",
     "output_type": "stream",
     "text": [
      "Receiving objects:  90% (2885/3174), 116.01 MiB | 58.03 MiB/s\r",
      "Receiving objects:  91% (2889/3174), 116.01 MiB | 58.03 MiB/s\r"
     ]
    },
    {
     "name": "stdout",
     "output_type": "stream",
     "text": [
      "Receiving objects:  92% (2921/3174), 116.01 MiB | 58.03 MiB/s\r"
     ]
    },
    {
     "name": "stdout",
     "output_type": "stream",
     "text": [
      "Receiving objects:  93% (2952/3174), 141.65 MiB | 56.68 MiB/s\r",
      "Receiving objects:  93% (2952/3174), 164.56 MiB | 54.87 MiB/s\r",
      "Receiving objects:  94% (2984/3174), 164.56 MiB | 54.87 MiB/s\r"
     ]
    },
    {
     "name": "stdout",
     "output_type": "stream",
     "text": [
      "Receiving objects:  95% (3016/3174), 164.56 MiB | 54.87 MiB/s\r",
      "Receiving objects:  96% (3048/3174), 164.56 MiB | 54.87 MiB/s\r",
      "Receiving objects:  97% (3079/3174), 164.56 MiB | 54.87 MiB/s\r"
     ]
    },
    {
     "name": "stdout",
     "output_type": "stream",
     "text": [
      "Receiving objects:  98% (3111/3174), 164.56 MiB | 54.87 MiB/s\r"
     ]
    },
    {
     "name": "stdout",
     "output_type": "stream",
     "text": [
      "Receiving objects:  99% (3143/3174), 198.83 MiB | 56.82 MiB/s\r"
     ]
    },
    {
     "name": "stdout",
     "output_type": "stream",
     "text": [
      "remote: Total 3174 (delta 516), reused 990 (delta 470), pack-reused 2118\u001b[K\r\n",
      "Receiving objects: 100% (3174/3174), 198.83 MiB | 56.82 MiB/s\r",
      "Receiving objects: 100% (3174/3174), 228.53 MiB | 58.81 MiB/s, done.\r\n",
      "Resolving deltas:   0% (0/1703)\r",
      "Resolving deltas:   1% (18/1703)\r",
      "Resolving deltas:   2% (35/1703)\r",
      "Resolving deltas:   3% (52/1703)\r",
      "Resolving deltas:   4% (69/1703)\r",
      "Resolving deltas:   5% (86/1703)\r",
      "Resolving deltas:   6% (103/1703)\r",
      "Resolving deltas:   7% (120/1703)\r",
      "Resolving deltas:   8% (137/1703)\r",
      "Resolving deltas:   9% (154/1703)\r",
      "Resolving deltas:  10% (171/1703)\r",
      "Resolving deltas:  11% (188/1703)\r",
      "Resolving deltas:  12% (205/1703)\r",
      "Resolving deltas:  13% (222/1703)\r",
      "Resolving deltas:  14% (240/1703)\r",
      "Resolving deltas:  15% (256/1703)\r",
      "Resolving deltas:  16% (273/1703)\r",
      "Resolving deltas:  17% (290/1703)\r",
      "Resolving deltas:  18% (307/1703)\r",
      "Resolving deltas:  19% (324/1703)\r",
      "Resolving deltas:  20% (341/1703)\r",
      "Resolving deltas:  21% (358/1703)\r",
      "Resolving deltas:  22% (375/1703)\r",
      "Resolving deltas:  23% (392/1703)\r",
      "Resolving deltas:  24% (409/1703)\r",
      "Resolving deltas:  25% (426/1703)\r",
      "Resolving deltas:  26% (443/1703)\r",
      "Resolving deltas:  27% (460/1703)\r",
      "Resolving deltas:  28% (477/1703)\r",
      "Resolving deltas:  29% (494/1703)\r",
      "Resolving deltas:  30% (511/1703)\r",
      "Resolving deltas:  31% (528/1703)\r",
      "Resolving deltas:  32% (545/1703)\r",
      "Resolving deltas:  33% (562/1703)\r",
      "Resolving deltas:  34% (580/1703)\r",
      "Resolving deltas:  35% (597/1703)\r",
      "Resolving deltas:  36% (614/1703)\r",
      "Resolving deltas:  37% (631/1703)\r",
      "Resolving deltas:  38% (648/1703)\r",
      "Resolving deltas:  39% (665/1703)\r",
      "Resolving deltas:  40% (682/1703)\r",
      "Resolving deltas:  41% (699/1703)\r",
      "Resolving deltas:  42% (716/1703)\r",
      "Resolving deltas:  43% (733/1703)\r",
      "Resolving deltas:  44% (750/1703)\r",
      "Resolving deltas:  45% (767/1703)\r"
     ]
    },
    {
     "name": "stdout",
     "output_type": "stream",
     "text": [
      "Resolving deltas:  46% (784/1703)\r",
      "Resolving deltas:  47% (801/1703)\r",
      "Resolving deltas:  48% (818/1703)\r",
      "Resolving deltas:  49% (835/1703)\r",
      "Resolving deltas:  50% (852/1703)\r",
      "Resolving deltas:  51% (869/1703)\r",
      "Resolving deltas:  52% (886/1703)\r",
      "Resolving deltas:  53% (903/1703)\r",
      "Resolving deltas:  54% (920/1703)\r",
      "Resolving deltas:  55% (937/1703)\r",
      "Resolving deltas:  56% (954/1703)\r",
      "Resolving deltas:  57% (971/1703)\r",
      "Resolving deltas:  58% (988/1703)\r",
      "Resolving deltas:  59% (1005/1703)\r"
     ]
    },
    {
     "name": "stdout",
     "output_type": "stream",
     "text": [
      "Resolving deltas:  60% (1022/1703)\r",
      "Resolving deltas:  61% (1039/1703)\r",
      "Resolving deltas:  62% (1056/1703)\r",
      "Resolving deltas:  63% (1073/1703)\r",
      "Resolving deltas:  64% (1090/1703)\r",
      "Resolving deltas:  65% (1107/1703)\r",
      "Resolving deltas:  66% (1124/1703)\r",
      "Resolving deltas:  67% (1142/1703)\r",
      "Resolving deltas:  68% (1159/1703)\r",
      "Resolving deltas:  69% (1176/1703)\r",
      "Resolving deltas:  70% (1193/1703)\r",
      "Resolving deltas:  71% (1210/1703)\r",
      "Resolving deltas:  72% (1227/1703)\r",
      "Resolving deltas:  73% (1244/1703)\r",
      "Resolving deltas:  74% (1261/1703)\r",
      "Resolving deltas:  75% (1278/1703)\r",
      "Resolving deltas:  76% (1295/1703)\r",
      "Resolving deltas:  77% (1312/1703)\r",
      "Resolving deltas:  78% (1329/1703)\r",
      "Resolving deltas:  79% (1346/1703)\r",
      "Resolving deltas:  80% (1363/1703)\r",
      "Resolving deltas:  81% (1380/1703)\r",
      "Resolving deltas:  82% (1397/1703)\r",
      "Resolving deltas:  83% (1415/1703)\r",
      "Resolving deltas:  84% (1431/1703)\r",
      "Resolving deltas:  85% (1448/1703)\r",
      "Resolving deltas:  86% (1465/1703)\r",
      "Resolving deltas:  87% (1483/1703)\r",
      "Resolving deltas:  88% (1499/1703)\r",
      "Resolving deltas:  89% (1516/1703)\r",
      "Resolving deltas:  90% (1533/1703)\r",
      "Resolving deltas:  91% (1550/1703)\r",
      "Resolving deltas:  92% (1567/1703)\r",
      "Resolving deltas:  93% (1584/1703)\r",
      "Resolving deltas:  94% (1601/1703)\r",
      "Resolving deltas:  95% (1618/1703)\r",
      "Resolving deltas:  96% (1635/1703)\r"
     ]
    },
    {
     "name": "stdout",
     "output_type": "stream",
     "text": [
      "Resolving deltas:  97% (1652/1703)\r"
     ]
    },
    {
     "name": "stdout",
     "output_type": "stream",
     "text": [
      "Resolving deltas:  98% (1669/1703)\r"
     ]
    },
    {
     "name": "stdout",
     "output_type": "stream",
     "text": [
      "Resolving deltas:  99% (1686/1703)\r"
     ]
    },
    {
     "name": "stdout",
     "output_type": "stream",
     "text": [
      "Resolving deltas: 100% (1703/1703)\r",
      "Resolving deltas: 100% (1703/1703), done.\r\n"
     ]
    },
    {
     "name": "stdout",
     "output_type": "stream",
     "text": [
      "/home/runner/work/NeuroAI_Course/NeuroAI_Course/ComputationThruDynamicsBenchmark\n"
     ]
    },
    {
     "name": "stderr",
     "output_type": "stream",
     "text": [
      "/opt/hostedtoolcache/Python/3.9.19/x64/lib/python3.9/site-packages/IPython/core/magics/osm.py:417: UserWarning: using dhist requires you to install the `pickleshare` library.\n",
      "  self.shell.db['dhist'] = compress_dhist(dhist)[-100:]\n"
     ]
    },
    {
     "name": "stdout",
     "output_type": "stream",
     "text": [
      "Obtaining file:///home/runner/work/NeuroAI_Course/NeuroAI_Course/ComputationThruDynamicsBenchmark\r\n"
     ]
    },
    {
     "name": "stdout",
     "output_type": "stream",
     "text": [
      "  Preparing metadata (setup.py) ... \u001b[?25l-"
     ]
    },
    {
     "name": "stdout",
     "output_type": "stream",
     "text": [
      "\b \bdone\r\n",
      "\u001b[?25hRequirement already satisfied: torch>=1.13.1 in /opt/hostedtoolcache/Python/3.9.19/x64/lib/python3.9/site-packages (from ctd==1.0) (2.1.0)\r\n"
     ]
    },
    {
     "name": "stdout",
     "output_type": "stream",
     "text": [
      "Collecting torchmetrics==1.3.0.post0 (from ctd==1.0)\r\n"
     ]
    },
    {
     "name": "stdout",
     "output_type": "stream",
     "text": [
      "  Downloading torchmetrics-1.3.0.post0-py3-none-any.whl.metadata (20 kB)\r\n"
     ]
    },
    {
     "name": "stdout",
     "output_type": "stream",
     "text": [
      "Collecting pytorch-lightning==2.1.3 (from ctd==1.0)\r\n",
      "  Downloading pytorch_lightning-2.1.3-py3-none-any.whl.metadata (21 kB)\r\n"
     ]
    },
    {
     "name": "stdout",
     "output_type": "stream",
     "text": [
      "Collecting ray[tune] (from ctd==1.0)\r\n",
      "  Downloading ray-2.22.0-cp39-cp39-manylinux2014_x86_64.whl.metadata (13 kB)\r\n"
     ]
    },
    {
     "name": "stdout",
     "output_type": "stream",
     "text": [
      "Collecting omegaconf (from ctd==1.0)\r\n"
     ]
    },
    {
     "name": "stdout",
     "output_type": "stream",
     "text": [
      "  Downloading omegaconf-2.3.0-py3-none-any.whl.metadata (3.9 kB)\r\n"
     ]
    },
    {
     "name": "stdout",
     "output_type": "stream",
     "text": [
      "Collecting wandb (from ctd==1.0)\r\n"
     ]
    },
    {
     "name": "stdout",
     "output_type": "stream",
     "text": [
      "  Downloading wandb-0.17.0-py3-none-manylinux_2_5_x86_64.manylinux1_x86_64.manylinux_2_17_x86_64.manylinux2014_x86_64.whl.metadata (10 kB)\r\n",
      "Collecting hydra-core (from ctd==1.0)\r\n"
     ]
    },
    {
     "name": "stdout",
     "output_type": "stream",
     "text": [
      "  Downloading hydra_core-1.3.2-py3-none-any.whl.metadata (5.5 kB)\r\n",
      "Requirement already satisfied: gymnasium in /opt/hostedtoolcache/Python/3.9.19/x64/lib/python3.9/site-packages (from ctd==1.0) (0.29.1)\r\n",
      "Requirement already satisfied: h5py in /opt/hostedtoolcache/Python/3.9.19/x64/lib/python3.9/site-packages (from ctd==1.0) (3.11.0)\r\n",
      "Requirement already satisfied: scikit-learn in /opt/hostedtoolcache/Python/3.9.19/x64/lib/python3.9/site-packages (from ctd==1.0) (1.4.1.post1)\r\n",
      "Requirement already satisfied: matplotlib in /opt/hostedtoolcache/Python/3.9.19/x64/lib/python3.9/site-packages (from ctd==1.0) (3.8.3)\r\n",
      "Requirement already satisfied: python-dotenv in /opt/hostedtoolcache/Python/3.9.19/x64/lib/python3.9/site-packages (from ctd==1.0) (1.0.1)\r\n",
      "Requirement already satisfied: imageio[ffmpeg] in /opt/hostedtoolcache/Python/3.9.19/x64/lib/python3.9/site-packages (from ctd==1.0) (2.34.1)\r\n",
      "Requirement already satisfied: motornet in /opt/hostedtoolcache/Python/3.9.19/x64/lib/python3.9/site-packages (from ctd==1.0) (0.2.0)\r\n",
      "Requirement already satisfied: ipykernel in /opt/hostedtoolcache/Python/3.9.19/x64/lib/python3.9/site-packages (from ctd==1.0) (6.29.4)\r\n",
      "Requirement already satisfied: ipywidgets in /opt/hostedtoolcache/Python/3.9.19/x64/lib/python3.9/site-packages (from ctd==1.0) (8.1.2)\r\n",
      "Requirement already satisfied: opencv-python in /opt/hostedtoolcache/Python/3.9.19/x64/lib/python3.9/site-packages (from ctd==1.0) (4.9.0.80)\r\n"
     ]
    },
    {
     "name": "stdout",
     "output_type": "stream",
     "text": [
      "Requirement already satisfied: numpy>=1.17.2 in /opt/hostedtoolcache/Python/3.9.19/x64/lib/python3.9/site-packages (from pytorch-lightning==2.1.3->ctd==1.0) (1.26.4)\r\n",
      "Requirement already satisfied: tqdm>=4.57.0 in /opt/hostedtoolcache/Python/3.9.19/x64/lib/python3.9/site-packages (from pytorch-lightning==2.1.3->ctd==1.0) (4.66.2)\r\n",
      "Requirement already satisfied: PyYAML>=5.4 in /opt/hostedtoolcache/Python/3.9.19/x64/lib/python3.9/site-packages (from pytorch-lightning==2.1.3->ctd==1.0) (6.0.1)\r\n",
      "Requirement already satisfied: fsspec>=2022.5.0 in /opt/hostedtoolcache/Python/3.9.19/x64/lib/python3.9/site-packages (from fsspec[http]>=2022.5.0->pytorch-lightning==2.1.3->ctd==1.0) (2024.3.1)\r\n",
      "Requirement already satisfied: packaging>=20.0 in /opt/hostedtoolcache/Python/3.9.19/x64/lib/python3.9/site-packages (from pytorch-lightning==2.1.3->ctd==1.0) (24.0)\r\n",
      "Requirement already satisfied: typing-extensions>=4.0.0 in /opt/hostedtoolcache/Python/3.9.19/x64/lib/python3.9/site-packages (from pytorch-lightning==2.1.3->ctd==1.0) (4.11.0)\r\n",
      "Requirement already satisfied: lightning-utilities>=0.8.0 in /opt/hostedtoolcache/Python/3.9.19/x64/lib/python3.9/site-packages (from pytorch-lightning==2.1.3->ctd==1.0) (0.11.2)\r\n"
     ]
    },
    {
     "name": "stdout",
     "output_type": "stream",
     "text": [
      "Requirement already satisfied: filelock in /opt/hostedtoolcache/Python/3.9.19/x64/lib/python3.9/site-packages (from torch>=1.13.1->ctd==1.0) (3.14.0)\r\n",
      "Requirement already satisfied: sympy in /opt/hostedtoolcache/Python/3.9.19/x64/lib/python3.9/site-packages (from torch>=1.13.1->ctd==1.0) (1.12)\r\n",
      "Requirement already satisfied: networkx in /opt/hostedtoolcache/Python/3.9.19/x64/lib/python3.9/site-packages (from torch>=1.13.1->ctd==1.0) (3.2.1)\r\n",
      "Requirement already satisfied: jinja2 in /opt/hostedtoolcache/Python/3.9.19/x64/lib/python3.9/site-packages (from torch>=1.13.1->ctd==1.0) (3.1.2)\r\n",
      "Requirement already satisfied: nvidia-cuda-nvrtc-cu12==12.1.105 in /opt/hostedtoolcache/Python/3.9.19/x64/lib/python3.9/site-packages (from torch>=1.13.1->ctd==1.0) (12.1.105)\r\n",
      "Requirement already satisfied: nvidia-cuda-runtime-cu12==12.1.105 in /opt/hostedtoolcache/Python/3.9.19/x64/lib/python3.9/site-packages (from torch>=1.13.1->ctd==1.0) (12.1.105)\r\n",
      "Requirement already satisfied: nvidia-cuda-cupti-cu12==12.1.105 in /opt/hostedtoolcache/Python/3.9.19/x64/lib/python3.9/site-packages (from torch>=1.13.1->ctd==1.0) (12.1.105)\r\n",
      "Requirement already satisfied: nvidia-cudnn-cu12==8.9.2.26 in /opt/hostedtoolcache/Python/3.9.19/x64/lib/python3.9/site-packages (from torch>=1.13.1->ctd==1.0) (8.9.2.26)\r\n",
      "Requirement already satisfied: nvidia-cublas-cu12==12.1.3.1 in /opt/hostedtoolcache/Python/3.9.19/x64/lib/python3.9/site-packages (from torch>=1.13.1->ctd==1.0) (12.1.3.1)\r\n",
      "Requirement already satisfied: nvidia-cufft-cu12==11.0.2.54 in /opt/hostedtoolcache/Python/3.9.19/x64/lib/python3.9/site-packages (from torch>=1.13.1->ctd==1.0) (11.0.2.54)\r\n",
      "Requirement already satisfied: nvidia-curand-cu12==10.3.2.106 in /opt/hostedtoolcache/Python/3.9.19/x64/lib/python3.9/site-packages (from torch>=1.13.1->ctd==1.0) (10.3.2.106)\r\n",
      "Requirement already satisfied: nvidia-cusolver-cu12==11.4.5.107 in /opt/hostedtoolcache/Python/3.9.19/x64/lib/python3.9/site-packages (from torch>=1.13.1->ctd==1.0) (11.4.5.107)\r\n",
      "Requirement already satisfied: nvidia-cusparse-cu12==12.1.0.106 in /opt/hostedtoolcache/Python/3.9.19/x64/lib/python3.9/site-packages (from torch>=1.13.1->ctd==1.0) (12.1.0.106)\r\n",
      "Requirement already satisfied: nvidia-nccl-cu12==2.18.1 in /opt/hostedtoolcache/Python/3.9.19/x64/lib/python3.9/site-packages (from torch>=1.13.1->ctd==1.0) (2.18.1)\r\n",
      "Requirement already satisfied: nvidia-nvtx-cu12==12.1.105 in /opt/hostedtoolcache/Python/3.9.19/x64/lib/python3.9/site-packages (from torch>=1.13.1->ctd==1.0) (12.1.105)\r\n",
      "Requirement already satisfied: triton==2.1.0 in /opt/hostedtoolcache/Python/3.9.19/x64/lib/python3.9/site-packages (from torch>=1.13.1->ctd==1.0) (2.1.0)\r\n"
     ]
    },
    {
     "name": "stdout",
     "output_type": "stream",
     "text": [
      "Requirement already satisfied: nvidia-nvjitlink-cu12 in /opt/hostedtoolcache/Python/3.9.19/x64/lib/python3.9/site-packages (from nvidia-cusolver-cu12==11.4.5.107->torch>=1.13.1->ctd==1.0) (12.4.127)\r\n"
     ]
    },
    {
     "name": "stdout",
     "output_type": "stream",
     "text": [
      "Requirement already satisfied: cloudpickle>=1.2.0 in /opt/hostedtoolcache/Python/3.9.19/x64/lib/python3.9/site-packages (from gymnasium->ctd==1.0) (3.0.0)\r\n",
      "Requirement already satisfied: farama-notifications>=0.0.1 in /opt/hostedtoolcache/Python/3.9.19/x64/lib/python3.9/site-packages (from gymnasium->ctd==1.0) (0.0.4)\r\n",
      "Requirement already satisfied: importlib-metadata>=4.8.0 in /opt/hostedtoolcache/Python/3.9.19/x64/lib/python3.9/site-packages (from gymnasium->ctd==1.0) (7.1.0)\r\n",
      "Collecting antlr4-python3-runtime==4.9.* (from hydra-core->ctd==1.0)\r\n"
     ]
    },
    {
     "name": "stdout",
     "output_type": "stream",
     "text": [
      "  Downloading antlr4-python3-runtime-4.9.3.tar.gz (117 kB)\r\n",
      "\u001b[?25l     \u001b[90m━━━━━━━━━━━━━━━━━━━━━━━━━━━━━━━━━━━━━━━━\u001b[0m \u001b[32m0.0/117.0 kB\u001b[0m \u001b[31m?\u001b[0m eta \u001b[36m-:--:--\u001b[0m\r",
      "\u001b[2K     \u001b[90m━━━━━━━━━━━━━━━━━━━━━━━━━━━━━━━━━━━━━━━\u001b[0m \u001b[32m117.0/117.0 kB\u001b[0m \u001b[31m3.5 MB/s\u001b[0m eta \u001b[36m0:00:00\u001b[0m\r\n",
      "\u001b[?25h"
     ]
    },
    {
     "name": "stdout",
     "output_type": "stream",
     "text": [
      "  Preparing metadata (setup.py) ... \u001b[?25l-\b \bdone\r\n"
     ]
    },
    {
     "name": "stdout",
     "output_type": "stream",
     "text": [
      "\u001b[?25hRequirement already satisfied: pillow>=8.3.2 in /opt/hostedtoolcache/Python/3.9.19/x64/lib/python3.9/site-packages (from imageio[ffmpeg]->ctd==1.0) (10.2.0)\r\n"
     ]
    },
    {
     "name": "stdout",
     "output_type": "stream",
     "text": [
      "Collecting imageio-ffmpeg (from imageio[ffmpeg]->ctd==1.0)\r\n",
      "  Downloading imageio_ffmpeg-0.4.9-py3-none-manylinux2010_x86_64.whl.metadata (1.7 kB)\r\n",
      "Requirement already satisfied: psutil in /opt/hostedtoolcache/Python/3.9.19/x64/lib/python3.9/site-packages (from imageio[ffmpeg]->ctd==1.0) (5.9.8)\r\n"
     ]
    },
    {
     "name": "stdout",
     "output_type": "stream",
     "text": [
      "Requirement already satisfied: comm>=0.1.1 in /opt/hostedtoolcache/Python/3.9.19/x64/lib/python3.9/site-packages (from ipykernel->ctd==1.0) (0.2.2)\r\n",
      "Requirement already satisfied: debugpy>=1.6.5 in /opt/hostedtoolcache/Python/3.9.19/x64/lib/python3.9/site-packages (from ipykernel->ctd==1.0) (1.8.1)\r\n",
      "Requirement already satisfied: ipython>=7.23.1 in /opt/hostedtoolcache/Python/3.9.19/x64/lib/python3.9/site-packages (from ipykernel->ctd==1.0) (8.18.1)\r\n",
      "Requirement already satisfied: jupyter-client>=6.1.12 in /opt/hostedtoolcache/Python/3.9.19/x64/lib/python3.9/site-packages (from ipykernel->ctd==1.0) (7.3.5)\r\n",
      "Requirement already satisfied: jupyter-core!=5.0.*,>=4.12 in /opt/hostedtoolcache/Python/3.9.19/x64/lib/python3.9/site-packages (from ipykernel->ctd==1.0) (5.7.2)\r\n",
      "Requirement already satisfied: matplotlib-inline>=0.1 in /opt/hostedtoolcache/Python/3.9.19/x64/lib/python3.9/site-packages (from ipykernel->ctd==1.0) (0.1.7)\r\n",
      "Requirement already satisfied: nest-asyncio in /opt/hostedtoolcache/Python/3.9.19/x64/lib/python3.9/site-packages (from ipykernel->ctd==1.0) (1.6.0)\r\n",
      "Requirement already satisfied: pyzmq>=24 in /opt/hostedtoolcache/Python/3.9.19/x64/lib/python3.9/site-packages (from ipykernel->ctd==1.0) (26.0.3)\r\n",
      "Requirement already satisfied: tornado>=6.1 in /opt/hostedtoolcache/Python/3.9.19/x64/lib/python3.9/site-packages (from ipykernel->ctd==1.0) (6.4)\r\n",
      "Requirement already satisfied: traitlets>=5.4.0 in /opt/hostedtoolcache/Python/3.9.19/x64/lib/python3.9/site-packages (from ipykernel->ctd==1.0) (5.14.3)\r\n",
      "Requirement already satisfied: widgetsnbextension~=4.0.10 in /opt/hostedtoolcache/Python/3.9.19/x64/lib/python3.9/site-packages (from ipywidgets->ctd==1.0) (4.0.10)\r\n",
      "Requirement already satisfied: jupyterlab-widgets~=3.0.10 in /opt/hostedtoolcache/Python/3.9.19/x64/lib/python3.9/site-packages (from ipywidgets->ctd==1.0) (3.0.10)\r\n",
      "Requirement already satisfied: contourpy>=1.0.1 in /opt/hostedtoolcache/Python/3.9.19/x64/lib/python3.9/site-packages (from matplotlib->ctd==1.0) (1.2.1)\r\n",
      "Requirement already satisfied: cycler>=0.10 in /opt/hostedtoolcache/Python/3.9.19/x64/lib/python3.9/site-packages (from matplotlib->ctd==1.0) (0.12.1)\r\n",
      "Requirement already satisfied: fonttools>=4.22.0 in /opt/hostedtoolcache/Python/3.9.19/x64/lib/python3.9/site-packages (from matplotlib->ctd==1.0) (4.51.0)\r\n",
      "Requirement already satisfied: kiwisolver>=1.3.1 in /opt/hostedtoolcache/Python/3.9.19/x64/lib/python3.9/site-packages (from matplotlib->ctd==1.0) (1.4.5)\r\n",
      "Requirement already satisfied: pyparsing>=2.3.1 in /opt/hostedtoolcache/Python/3.9.19/x64/lib/python3.9/site-packages (from matplotlib->ctd==1.0) (3.1.2)\r\n",
      "Requirement already satisfied: python-dateutil>=2.7 in /opt/hostedtoolcache/Python/3.9.19/x64/lib/python3.9/site-packages (from matplotlib->ctd==1.0) (2.9.0.post0)\r\n",
      "Requirement already satisfied: importlib-resources>=3.2.0 in /opt/hostedtoolcache/Python/3.9.19/x64/lib/python3.9/site-packages (from matplotlib->ctd==1.0) (6.4.0)\r\n"
     ]
    },
    {
     "name": "stdout",
     "output_type": "stream",
     "text": [
      "Requirement already satisfied: click>=7.0 in /opt/hostedtoolcache/Python/3.9.19/x64/lib/python3.9/site-packages (from ray[tune]->ctd==1.0) (8.1.7)\r\n",
      "Requirement already satisfied: jsonschema in /opt/hostedtoolcache/Python/3.9.19/x64/lib/python3.9/site-packages (from ray[tune]->ctd==1.0) (4.22.0)\r\n"
     ]
    },
    {
     "name": "stdout",
     "output_type": "stream",
     "text": [
      "Collecting msgpack<2.0.0,>=1.0.0 (from ray[tune]->ctd==1.0)\r\n",
      "  Downloading msgpack-1.0.8-cp39-cp39-manylinux_2_17_x86_64.manylinux2014_x86_64.whl.metadata (9.1 kB)\r\n",
      "Requirement already satisfied: protobuf!=3.19.5,>=3.15.3 in /opt/hostedtoolcache/Python/3.9.19/x64/lib/python3.9/site-packages (from ray[tune]->ctd==1.0) (4.25.3)\r\n",
      "Requirement already satisfied: aiosignal in /opt/hostedtoolcache/Python/3.9.19/x64/lib/python3.9/site-packages (from ray[tune]->ctd==1.0) (1.3.1)\r\n",
      "Requirement already satisfied: frozenlist in /opt/hostedtoolcache/Python/3.9.19/x64/lib/python3.9/site-packages (from ray[tune]->ctd==1.0) (1.4.1)\r\n",
      "Requirement already satisfied: requests in /opt/hostedtoolcache/Python/3.9.19/x64/lib/python3.9/site-packages (from ray[tune]->ctd==1.0) (2.31.0)\r\n",
      "Requirement already satisfied: pandas in /opt/hostedtoolcache/Python/3.9.19/x64/lib/python3.9/site-packages (from ray[tune]->ctd==1.0) (2.2.2)\r\n"
     ]
    },
    {
     "name": "stdout",
     "output_type": "stream",
     "text": [
      "Collecting tensorboardX>=1.9 (from ray[tune]->ctd==1.0)\r\n",
      "  Downloading tensorboardX-2.6.2.2-py2.py3-none-any.whl.metadata (5.8 kB)\r\n"
     ]
    },
    {
     "name": "stdout",
     "output_type": "stream",
     "text": [
      "Collecting pyarrow>=6.0.1 (from ray[tune]->ctd==1.0)\r\n"
     ]
    },
    {
     "name": "stdout",
     "output_type": "stream",
     "text": [
      "  Downloading pyarrow-16.1.0-cp39-cp39-manylinux_2_28_x86_64.whl.metadata (3.0 kB)\r\n"
     ]
    },
    {
     "name": "stdout",
     "output_type": "stream",
     "text": [
      "Requirement already satisfied: scipy>=1.6.0 in /opt/hostedtoolcache/Python/3.9.19/x64/lib/python3.9/site-packages (from scikit-learn->ctd==1.0) (1.12.0)\r\n",
      "Requirement already satisfied: joblib>=1.2.0 in /opt/hostedtoolcache/Python/3.9.19/x64/lib/python3.9/site-packages (from scikit-learn->ctd==1.0) (1.4.2)\r\n",
      "Requirement already satisfied: threadpoolctl>=2.0.0 in /opt/hostedtoolcache/Python/3.9.19/x64/lib/python3.9/site-packages (from scikit-learn->ctd==1.0) (3.5.0)\r\n"
     ]
    },
    {
     "name": "stdout",
     "output_type": "stream",
     "text": [
      "Collecting docker-pycreds>=0.4.0 (from wandb->ctd==1.0)\r\n",
      "  Downloading docker_pycreds-0.4.0-py2.py3-none-any.whl.metadata (1.8 kB)\r\n"
     ]
    },
    {
     "name": "stdout",
     "output_type": "stream",
     "text": [
      "Collecting gitpython!=3.1.29,>=1.0.0 (from wandb->ctd==1.0)\r\n"
     ]
    },
    {
     "name": "stdout",
     "output_type": "stream",
     "text": [
      "  Downloading GitPython-3.1.43-py3-none-any.whl.metadata (13 kB)\r\n",
      "Requirement already satisfied: platformdirs in /opt/hostedtoolcache/Python/3.9.19/x64/lib/python3.9/site-packages (from wandb->ctd==1.0) (4.2.2)\r\n"
     ]
    },
    {
     "name": "stdout",
     "output_type": "stream",
     "text": [
      "Collecting sentry-sdk>=1.0.0 (from wandb->ctd==1.0)\r\n",
      "  Downloading sentry_sdk-2.1.1-py2.py3-none-any.whl.metadata (10 kB)\r\n"
     ]
    },
    {
     "name": "stdout",
     "output_type": "stream",
     "text": [
      "Collecting setproctitle (from wandb->ctd==1.0)\r\n"
     ]
    },
    {
     "name": "stdout",
     "output_type": "stream",
     "text": [
      "  Downloading setproctitle-1.3.3-cp39-cp39-manylinux_2_5_x86_64.manylinux1_x86_64.manylinux_2_17_x86_64.manylinux2014_x86_64.whl.metadata (9.9 kB)\r\n",
      "Requirement already satisfied: setuptools in /opt/hostedtoolcache/Python/3.9.19/x64/lib/python3.9/site-packages (from wandb->ctd==1.0) (58.1.0)\r\n"
     ]
    },
    {
     "name": "stdout",
     "output_type": "stream",
     "text": [
      "Requirement already satisfied: six>=1.4.0 in /opt/hostedtoolcache/Python/3.9.19/x64/lib/python3.9/site-packages (from docker-pycreds>=0.4.0->wandb->ctd==1.0) (1.16.0)\r\n"
     ]
    },
    {
     "name": "stdout",
     "output_type": "stream",
     "text": [
      "Requirement already satisfied: aiohttp!=4.0.0a0,!=4.0.0a1 in /opt/hostedtoolcache/Python/3.9.19/x64/lib/python3.9/site-packages (from fsspec[http]>=2022.5.0->pytorch-lightning==2.1.3->ctd==1.0) (3.9.5)\r\n"
     ]
    },
    {
     "name": "stdout",
     "output_type": "stream",
     "text": [
      "Collecting gitdb<5,>=4.0.1 (from gitpython!=3.1.29,>=1.0.0->wandb->ctd==1.0)\r\n"
     ]
    },
    {
     "name": "stdout",
     "output_type": "stream",
     "text": [
      "  Downloading gitdb-4.0.11-py3-none-any.whl.metadata (1.2 kB)\r\n",
      "Requirement already satisfied: zipp>=0.5 in /opt/hostedtoolcache/Python/3.9.19/x64/lib/python3.9/site-packages (from importlib-metadata>=4.8.0->gymnasium->ctd==1.0) (3.18.1)\r\n"
     ]
    },
    {
     "name": "stdout",
     "output_type": "stream",
     "text": [
      "Requirement already satisfied: decorator in /opt/hostedtoolcache/Python/3.9.19/x64/lib/python3.9/site-packages (from ipython>=7.23.1->ipykernel->ctd==1.0) (5.0.9)\r\n",
      "Requirement already satisfied: jedi>=0.16 in /opt/hostedtoolcache/Python/3.9.19/x64/lib/python3.9/site-packages (from ipython>=7.23.1->ipykernel->ctd==1.0) (0.19.1)\r\n",
      "Requirement already satisfied: prompt-toolkit<3.1.0,>=3.0.41 in /opt/hostedtoolcache/Python/3.9.19/x64/lib/python3.9/site-packages (from ipython>=7.23.1->ipykernel->ctd==1.0) (3.0.43)\r\n",
      "Requirement already satisfied: pygments>=2.4.0 in /opt/hostedtoolcache/Python/3.9.19/x64/lib/python3.9/site-packages (from ipython>=7.23.1->ipykernel->ctd==1.0) (2.18.0)\r\n",
      "Requirement already satisfied: stack-data in /opt/hostedtoolcache/Python/3.9.19/x64/lib/python3.9/site-packages (from ipython>=7.23.1->ipykernel->ctd==1.0) (0.6.3)\r\n",
      "Requirement already satisfied: exceptiongroup in /opt/hostedtoolcache/Python/3.9.19/x64/lib/python3.9/site-packages (from ipython>=7.23.1->ipykernel->ctd==1.0) (1.2.1)\r\n",
      "Requirement already satisfied: pexpect>4.3 in /opt/hostedtoolcache/Python/3.9.19/x64/lib/python3.9/site-packages (from ipython>=7.23.1->ipykernel->ctd==1.0) (4.9.0)\r\n"
     ]
    },
    {
     "name": "stdout",
     "output_type": "stream",
     "text": [
      "Requirement already satisfied: entrypoints in /opt/hostedtoolcache/Python/3.9.19/x64/lib/python3.9/site-packages (from jupyter-client>=6.1.12->ipykernel->ctd==1.0) (0.4)\r\n"
     ]
    },
    {
     "name": "stdout",
     "output_type": "stream",
     "text": [
      "Requirement already satisfied: charset-normalizer<4,>=2 in /opt/hostedtoolcache/Python/3.9.19/x64/lib/python3.9/site-packages (from requests->ray[tune]->ctd==1.0) (3.3.2)\r\n",
      "Requirement already satisfied: idna<4,>=2.5 in /opt/hostedtoolcache/Python/3.9.19/x64/lib/python3.9/site-packages (from requests->ray[tune]->ctd==1.0) (3.7)\r\n",
      "Requirement already satisfied: urllib3<3,>=1.21.1 in /opt/hostedtoolcache/Python/3.9.19/x64/lib/python3.9/site-packages (from requests->ray[tune]->ctd==1.0) (2.2.1)\r\n",
      "Requirement already satisfied: certifi>=2017.4.17 in /opt/hostedtoolcache/Python/3.9.19/x64/lib/python3.9/site-packages (from requests->ray[tune]->ctd==1.0) (2024.2.2)\r\n"
     ]
    },
    {
     "name": "stdout",
     "output_type": "stream",
     "text": [
      "Requirement already satisfied: MarkupSafe>=2.0 in /opt/hostedtoolcache/Python/3.9.19/x64/lib/python3.9/site-packages (from jinja2->torch>=1.13.1->ctd==1.0) (2.1.5)\r\n",
      "Requirement already satisfied: attrs>=22.2.0 in /opt/hostedtoolcache/Python/3.9.19/x64/lib/python3.9/site-packages (from jsonschema->ray[tune]->ctd==1.0) (23.2.0)\r\n",
      "Requirement already satisfied: jsonschema-specifications>=2023.03.6 in /opt/hostedtoolcache/Python/3.9.19/x64/lib/python3.9/site-packages (from jsonschema->ray[tune]->ctd==1.0) (2023.12.1)\r\n",
      "Requirement already satisfied: referencing>=0.28.4 in /opt/hostedtoolcache/Python/3.9.19/x64/lib/python3.9/site-packages (from jsonschema->ray[tune]->ctd==1.0) (0.35.1)\r\n",
      "Requirement already satisfied: rpds-py>=0.7.1 in /opt/hostedtoolcache/Python/3.9.19/x64/lib/python3.9/site-packages (from jsonschema->ray[tune]->ctd==1.0) (0.18.1)\r\n"
     ]
    },
    {
     "name": "stdout",
     "output_type": "stream",
     "text": [
      "Requirement already satisfied: pytz>=2020.1 in /opt/hostedtoolcache/Python/3.9.19/x64/lib/python3.9/site-packages (from pandas->ray[tune]->ctd==1.0) (2024.1)\r\n",
      "Requirement already satisfied: tzdata>=2022.7 in /opt/hostedtoolcache/Python/3.9.19/x64/lib/python3.9/site-packages (from pandas->ray[tune]->ctd==1.0) (2024.1)\r\n"
     ]
    },
    {
     "name": "stdout",
     "output_type": "stream",
     "text": [
      "Requirement already satisfied: mpmath>=0.19 in /opt/hostedtoolcache/Python/3.9.19/x64/lib/python3.9/site-packages (from sympy->torch>=1.13.1->ctd==1.0) (1.3.0)\r\n"
     ]
    },
    {
     "name": "stdout",
     "output_type": "stream",
     "text": [
      "Requirement already satisfied: multidict<7.0,>=4.5 in /opt/hostedtoolcache/Python/3.9.19/x64/lib/python3.9/site-packages (from aiohttp!=4.0.0a0,!=4.0.0a1->fsspec[http]>=2022.5.0->pytorch-lightning==2.1.3->ctd==1.0) (6.0.5)\r\n",
      "Requirement already satisfied: yarl<2.0,>=1.0 in /opt/hostedtoolcache/Python/3.9.19/x64/lib/python3.9/site-packages (from aiohttp!=4.0.0a0,!=4.0.0a1->fsspec[http]>=2022.5.0->pytorch-lightning==2.1.3->ctd==1.0) (1.9.4)\r\n",
      "Requirement already satisfied: async-timeout<5.0,>=4.0 in /opt/hostedtoolcache/Python/3.9.19/x64/lib/python3.9/site-packages (from aiohttp!=4.0.0a0,!=4.0.0a1->fsspec[http]>=2022.5.0->pytorch-lightning==2.1.3->ctd==1.0) (4.0.3)\r\n"
     ]
    },
    {
     "name": "stdout",
     "output_type": "stream",
     "text": [
      "Collecting smmap<6,>=3.0.1 (from gitdb<5,>=4.0.1->gitpython!=3.1.29,>=1.0.0->wandb->ctd==1.0)\r\n",
      "  Downloading smmap-5.0.1-py3-none-any.whl.metadata (4.3 kB)\r\n"
     ]
    },
    {
     "name": "stdout",
     "output_type": "stream",
     "text": [
      "Requirement already satisfied: parso<0.9.0,>=0.8.3 in /opt/hostedtoolcache/Python/3.9.19/x64/lib/python3.9/site-packages (from jedi>=0.16->ipython>=7.23.1->ipykernel->ctd==1.0) (0.8.4)\r\n"
     ]
    },
    {
     "name": "stdout",
     "output_type": "stream",
     "text": [
      "Requirement already satisfied: ptyprocess>=0.5 in /opt/hostedtoolcache/Python/3.9.19/x64/lib/python3.9/site-packages (from pexpect>4.3->ipython>=7.23.1->ipykernel->ctd==1.0) (0.7.0)\r\n",
      "Requirement already satisfied: wcwidth in /opt/hostedtoolcache/Python/3.9.19/x64/lib/python3.9/site-packages (from prompt-toolkit<3.1.0,>=3.0.41->ipython>=7.23.1->ipykernel->ctd==1.0) (0.2.13)\r\n"
     ]
    },
    {
     "name": "stdout",
     "output_type": "stream",
     "text": [
      "Requirement already satisfied: executing>=1.2.0 in /opt/hostedtoolcache/Python/3.9.19/x64/lib/python3.9/site-packages (from stack-data->ipython>=7.23.1->ipykernel->ctd==1.0) (2.0.1)\r\n",
      "Requirement already satisfied: asttokens>=2.1.0 in /opt/hostedtoolcache/Python/3.9.19/x64/lib/python3.9/site-packages (from stack-data->ipython>=7.23.1->ipykernel->ctd==1.0) (2.4.1)\r\n",
      "Requirement already satisfied: pure-eval in /opt/hostedtoolcache/Python/3.9.19/x64/lib/python3.9/site-packages (from stack-data->ipython>=7.23.1->ipykernel->ctd==1.0) (0.2.2)\r\n"
     ]
    },
    {
     "name": "stdout",
     "output_type": "stream",
     "text": [
      "Downloading pytorch_lightning-2.1.3-py3-none-any.whl (777 kB)\r\n",
      "\u001b[?25l   \u001b[90m━━━━━━━━━━━━━━━━━━━━━━━━━━━━━━━━━━━━━━━━\u001b[0m \u001b[32m0.0/777.7 kB\u001b[0m \u001b[31m?\u001b[0m eta \u001b[36m-:--:--\u001b[0m"
     ]
    },
    {
     "name": "stdout",
     "output_type": "stream",
     "text": [
      "\r",
      "\u001b[2K   \u001b[91m━━━━━━━━━━━━━━━━━━━━━━━━━━\u001b[0m\u001b[90m╺\u001b[0m\u001b[90m━━━━━━━━━━━━━\u001b[0m \u001b[32m512.0/777.7 kB\u001b[0m \u001b[31m15.2 MB/s\u001b[0m eta \u001b[36m0:00:01\u001b[0m\r",
      "\u001b[2K   \u001b[90m━━━━━━━━━━━━━━━━━━━━━━━━━━━━━━━━━━━━━━━━\u001b[0m \u001b[32m777.7/777.7 kB\u001b[0m \u001b[31m16.5 MB/s\u001b[0m eta \u001b[36m0:00:00\u001b[0m\r\n",
      "\u001b[?25hDownloading torchmetrics-1.3.0.post0-py3-none-any.whl (840 kB)\r\n",
      "\u001b[?25l   \u001b[90m━━━━━━━━━━━━━━━━━━━━━━━━━━━━━━━━━━━━━━━━\u001b[0m \u001b[32m0.0/840.2 kB\u001b[0m \u001b[31m?\u001b[0m eta \u001b[36m-:--:--\u001b[0m"
     ]
    },
    {
     "name": "stdout",
     "output_type": "stream",
     "text": [
      "\r",
      "\u001b[2K   \u001b[90m━━━━━━━━━━━━━━━━━━━━━━━━━━━━━━━━━━━━━━━━\u001b[0m \u001b[32m840.2/840.2 kB\u001b[0m \u001b[31m86.7 MB/s\u001b[0m eta \u001b[36m0:00:00\u001b[0m\r\n",
      "\u001b[?25hDownloading hydra_core-1.3.2-py3-none-any.whl (154 kB)\r\n",
      "\u001b[?25l   \u001b[90m━━━━━━━━━━━━━━━━━━━━━━━━━━━━━━━━━━━━━━━━\u001b[0m \u001b[32m0.0/154.5 kB\u001b[0m \u001b[31m?\u001b[0m eta \u001b[36m-:--:--\u001b[0m\r",
      "\u001b[2K   \u001b[90m━━━━━━━━━━━━━━━━━━━━━━━━━━━━━━━━━━━━━━━━\u001b[0m \u001b[32m154.5/154.5 kB\u001b[0m \u001b[31m41.7 MB/s\u001b[0m eta \u001b[36m0:00:00\u001b[0m\r\n",
      "\u001b[?25h"
     ]
    },
    {
     "name": "stdout",
     "output_type": "stream",
     "text": [
      "Downloading omegaconf-2.3.0-py3-none-any.whl (79 kB)\r\n",
      "\u001b[?25l   \u001b[90m━━━━━━━━━━━━━━━━━━━━━━━━━━━━━━━━━━━━━━━━\u001b[0m \u001b[32m0.0/79.5 kB\u001b[0m \u001b[31m?\u001b[0m eta \u001b[36m-:--:--\u001b[0m\r",
      "\u001b[2K   \u001b[90m━━━━━━━━━━━━━━━━━━━━━━━━━━━━━━━━━━━━━━━━\u001b[0m \u001b[32m79.5/79.5 kB\u001b[0m \u001b[31m25.2 MB/s\u001b[0m eta \u001b[36m0:00:00\u001b[0m\r\n",
      "\u001b[?25hDownloading wandb-0.17.0-py3-none-manylinux_2_5_x86_64.manylinux1_x86_64.manylinux_2_17_x86_64.manylinux2014_x86_64.whl (6.7 MB)\r\n",
      "\u001b[?25l   \u001b[90m━━━━━━━━━━━━━━━━━━━━━━━━━━━━━━━━━━━━━━━━\u001b[0m \u001b[32m0.0/6.7 MB\u001b[0m \u001b[31m?\u001b[0m eta \u001b[36m-:--:--\u001b[0m"
     ]
    },
    {
     "name": "stdout",
     "output_type": "stream",
     "text": [
      "\r",
      "\u001b[2K   \u001b[91m━━━━━━━━━━━━━━━━━━━━━━━━━━\u001b[0m\u001b[90m╺\u001b[0m\u001b[90m━━━━━━━━━━━━━\u001b[0m \u001b[32m4.4/6.7 MB\u001b[0m \u001b[31m131.7 MB/s\u001b[0m eta \u001b[36m0:00:01\u001b[0m\r",
      "\u001b[2K   \u001b[90m━━━━━━━━━━━━━━━━━━━━━━━━━━━━━━━━━━━━━━━━\u001b[0m \u001b[32m6.7/6.7 MB\u001b[0m \u001b[31m102.3 MB/s\u001b[0m eta \u001b[36m0:00:00\u001b[0m\r\n",
      "\u001b[?25h"
     ]
    },
    {
     "name": "stdout",
     "output_type": "stream",
     "text": [
      "Downloading docker_pycreds-0.4.0-py2.py3-none-any.whl (9.0 kB)\r\n",
      "Downloading GitPython-3.1.43-py3-none-any.whl (207 kB)\r\n",
      "\u001b[?25l   \u001b[90m━━━━━━━━━━━━━━━━━━━━━━━━━━━━━━━━━━━━━━━━\u001b[0m \u001b[32m0.0/207.3 kB\u001b[0m \u001b[31m?\u001b[0m eta \u001b[36m-:--:--\u001b[0m\r",
      "\u001b[2K   \u001b[90m━━━━━━━━━━━━━━━━━━━━━━━━━━━━━━━━━━━━━━━━\u001b[0m \u001b[32m207.3/207.3 kB\u001b[0m \u001b[31m47.2 MB/s\u001b[0m eta \u001b[36m0:00:00\u001b[0m\r\n",
      "\u001b[?25h"
     ]
    },
    {
     "name": "stdout",
     "output_type": "stream",
     "text": [
      "Downloading msgpack-1.0.8-cp39-cp39-manylinux_2_17_x86_64.manylinux2014_x86_64.whl (385 kB)\r\n",
      "\u001b[?25l   \u001b[90m━━━━━━━━━━━━━━━━━━━━━━━━━━━━━━━━━━━━━━━━\u001b[0m \u001b[32m0.0/385.1 kB\u001b[0m \u001b[31m?\u001b[0m eta \u001b[36m-:--:--\u001b[0m\r",
      "\u001b[2K   \u001b[90m━━━━━━━━━━━━━━━━━━━━━━━━━━━━━━━━━━━━━━━━\u001b[0m \u001b[32m385.1/385.1 kB\u001b[0m \u001b[31m68.1 MB/s\u001b[0m eta \u001b[36m0:00:00\u001b[0m\r\n",
      "\u001b[?25hDownloading pyarrow-16.1.0-cp39-cp39-manylinux_2_28_x86_64.whl (40.8 MB)\r\n",
      "\u001b[?25l   \u001b[90m━━━━━━━━━━━━━━━━━━━━━━━━━━━━━━━━━━━━━━━━\u001b[0m \u001b[32m0.0/40.8 MB\u001b[0m \u001b[31m?\u001b[0m eta \u001b[36m-:--:--\u001b[0m"
     ]
    },
    {
     "name": "stdout",
     "output_type": "stream",
     "text": [
      "\r",
      "\u001b[2K   \u001b[91m━━━━\u001b[0m\u001b[91m╸\u001b[0m\u001b[90m━━━━━━━━━━━━━━━━━━━━━━━━━━━━━━━━━━━\u001b[0m \u001b[32m4.8/40.8 MB\u001b[0m \u001b[31m168.4 MB/s\u001b[0m eta \u001b[36m0:00:01\u001b[0m"
     ]
    },
    {
     "name": "stdout",
     "output_type": "stream",
     "text": [
      "\r",
      "\u001b[2K   \u001b[91m━━━━━━━━━\u001b[0m\u001b[91m╸\u001b[0m\u001b[90m━━━━━━━━━━━━━━━━━━━━━━━━━━━━━━\u001b[0m \u001b[32m9.7/40.8 MB\u001b[0m \u001b[31m146.9 MB/s\u001b[0m eta \u001b[36m0:00:01\u001b[0m"
     ]
    },
    {
     "name": "stdout",
     "output_type": "stream",
     "text": [
      "\r",
      "\u001b[2K   \u001b[91m━━━━━━━━━━━━━━\u001b[0m\u001b[90m╺\u001b[0m\u001b[90m━━━━━━━━━━━━━━━━━━━━━━━━━\u001b[0m \u001b[32m14.7/40.8 MB\u001b[0m \u001b[31m135.2 MB/s\u001b[0m eta \u001b[36m0:00:01\u001b[0m\r",
      "\u001b[2K   \u001b[91m━━━━━━━━━━━━━━━━━━━\u001b[0m\u001b[90m╺\u001b[0m\u001b[90m━━━━━━━━━━━━━━━━━━━━\u001b[0m \u001b[32m19.4/40.8 MB\u001b[0m \u001b[31m135.4 MB/s\u001b[0m eta \u001b[36m0:00:01\u001b[0m"
     ]
    },
    {
     "name": "stdout",
     "output_type": "stream",
     "text": [
      "\r",
      "\u001b[2K   \u001b[91m━━━━━━━━━━━━━━━━━━━━━━━\u001b[0m\u001b[90m╺\u001b[0m\u001b[90m━━━━━━━━━━━━━━━━\u001b[0m \u001b[32m23.8/40.8 MB\u001b[0m \u001b[31m132.0 MB/s\u001b[0m eta \u001b[36m0:00:01\u001b[0m"
     ]
    },
    {
     "name": "stdout",
     "output_type": "stream",
     "text": [
      "\r",
      "\u001b[2K   \u001b[91m━━━━━━━━━━━━━━━━━━━━━━━━━━━\u001b[0m\u001b[91m╸\u001b[0m\u001b[90m━━━━━━━━━━━━\u001b[0m \u001b[32m28.5/40.8 MB\u001b[0m \u001b[31m134.2 MB/s\u001b[0m eta \u001b[36m0:00:01\u001b[0m\r",
      "\u001b[2K   \u001b[91m━━━━━━━━━━━━━━━━━━━━━━━━━━━━━━━━\u001b[0m\u001b[91m╸\u001b[0m\u001b[90m━━━━━━━\u001b[0m \u001b[32m33.4/40.8 MB\u001b[0m \u001b[31m139.1 MB/s\u001b[0m eta \u001b[36m0:00:01\u001b[0m"
     ]
    },
    {
     "name": "stdout",
     "output_type": "stream",
     "text": [
      "\r",
      "\u001b[2K   \u001b[91m━━━━━━━━━━━━━━━━━━━━━━━━━━━━━━━━━━━━━\u001b[0m\u001b[91m╸\u001b[0m\u001b[90m━━\u001b[0m \u001b[32m38.4/40.8 MB\u001b[0m \u001b[31m141.1 MB/s\u001b[0m eta \u001b[36m0:00:01\u001b[0m"
     ]
    },
    {
     "name": "stdout",
     "output_type": "stream",
     "text": [
      "\r",
      "\u001b[2K   \u001b[91m━━━━━━━━━━━━━━━━━━━━━━━━━━━━━━━━━━━━━━━\u001b[0m\u001b[91m╸\u001b[0m \u001b[32m40.8/40.8 MB\u001b[0m \u001b[31m139.8 MB/s\u001b[0m eta \u001b[36m0:00:01\u001b[0m\r",
      "\u001b[2K   \u001b[91m━━━━━━━━━━━━━━━━━━━━━━━━━━━━━━━━━━━━━━━\u001b[0m\u001b[91m╸\u001b[0m \u001b[32m40.8/40.8 MB\u001b[0m \u001b[31m139.8 MB/s\u001b[0m eta \u001b[36m0:00:01\u001b[0m"
     ]
    },
    {
     "name": "stdout",
     "output_type": "stream",
     "text": [
      "\r",
      "\u001b[2K   \u001b[91m━━━━━━━━━━━━━━━━━━━━━━━━━━━━━━━━━━━━━━━\u001b[0m\u001b[91m╸\u001b[0m \u001b[32m40.8/40.8 MB\u001b[0m \u001b[31m139.8 MB/s\u001b[0m eta \u001b[36m0:00:01\u001b[0m\r",
      "\u001b[2K   \u001b[90m━━━━━━━━━━━━━━━━━━━━━━━━━━━━━━━━━━━━━━━━\u001b[0m \u001b[32m40.8/40.8 MB\u001b[0m \u001b[31m61.0 MB/s\u001b[0m eta \u001b[36m0:00:00\u001b[0m\r\n",
      "\u001b[?25h"
     ]
    },
    {
     "name": "stdout",
     "output_type": "stream",
     "text": [
      "Downloading sentry_sdk-2.1.1-py2.py3-none-any.whl (277 kB)\r\n",
      "\u001b[?25l   \u001b[90m━━━━━━━━━━━━━━━━━━━━━━━━━━━━━━━━━━━━━━━━\u001b[0m \u001b[32m0.0/277.3 kB\u001b[0m \u001b[31m?\u001b[0m eta \u001b[36m-:--:--\u001b[0m\r",
      "\u001b[2K   \u001b[90m━━━━━━━━━━━━━━━━━━━━━━━━━━━━━━━━━━━━━━━━\u001b[0m \u001b[32m277.3/277.3 kB\u001b[0m \u001b[31m52.5 MB/s\u001b[0m eta \u001b[36m0:00:00\u001b[0m\r\n",
      "\u001b[?25hDownloading tensorboardX-2.6.2.2-py2.py3-none-any.whl (101 kB)\r\n",
      "\u001b[?25l   \u001b[90m━━━━━━━━━━━━━━━━━━━━━━━━━━━━━━━━━━━━━━━━\u001b[0m \u001b[32m0.0/101.7 kB\u001b[0m \u001b[31m?\u001b[0m eta \u001b[36m-:--:--\u001b[0m\r",
      "\u001b[2K   \u001b[90m━━━━━━━━━━━━━━━━━━━━━━━━━━━━━━━━━━━━━━━━\u001b[0m \u001b[32m101.7/101.7 kB\u001b[0m \u001b[31m25.5 MB/s\u001b[0m eta \u001b[36m0:00:00\u001b[0m\r\n",
      "\u001b[?25h"
     ]
    },
    {
     "name": "stdout",
     "output_type": "stream",
     "text": [
      "Downloading imageio_ffmpeg-0.4.9-py3-none-manylinux2010_x86_64.whl (26.9 MB)\r\n",
      "\u001b[?25l   \u001b[90m━━━━━━━━━━━━━━━━━━━━━━━━━━━━━━━━━━━━━━━━\u001b[0m \u001b[32m0.0/26.9 MB\u001b[0m \u001b[31m?\u001b[0m eta \u001b[36m-:--:--\u001b[0m\r",
      "\u001b[2K   \u001b[91m━━━━━━━\u001b[0m\u001b[90m╺\u001b[0m\u001b[90m━━━━━━━━━━━━━━━━━━━━━━━━━━━━━━━━\u001b[0m \u001b[32m5.0/26.9 MB\u001b[0m \u001b[31m150.7 MB/s\u001b[0m eta \u001b[36m0:00:01\u001b[0m"
     ]
    },
    {
     "name": "stdout",
     "output_type": "stream",
     "text": [
      "\r",
      "\u001b[2K   \u001b[91m━━━━━━━━━━━━━━\u001b[0m\u001b[91m╸\u001b[0m\u001b[90m━━━━━━━━━━━━━━━━━━━━━━━━━\u001b[0m \u001b[32m9.9/26.9 MB\u001b[0m \u001b[31m143.8 MB/s\u001b[0m eta \u001b[36m0:00:01\u001b[0m"
     ]
    },
    {
     "name": "stdout",
     "output_type": "stream",
     "text": [
      "\r",
      "\u001b[2K   \u001b[91m━━━━━━━━━━━━━━━━━━━━━━\u001b[0m\u001b[90m╺\u001b[0m\u001b[90m━━━━━━━━━━━━━━━━━\u001b[0m \u001b[32m15.0/26.9 MB\u001b[0m \u001b[31m139.5 MB/s\u001b[0m eta \u001b[36m0:00:01\u001b[0m\r",
      "\u001b[2K   \u001b[91m━━━━━━━━━━━━━━━━━━━━━━━━━━━━\u001b[0m\u001b[91m╸\u001b[0m\u001b[90m━━━━━━━━━━━\u001b[0m \u001b[32m19.2/26.9 MB\u001b[0m \u001b[31m126.4 MB/s\u001b[0m eta \u001b[36m0:00:01\u001b[0m"
     ]
    },
    {
     "name": "stdout",
     "output_type": "stream",
     "text": [
      "\r",
      "\u001b[2K   \u001b[91m━━━━━━━━━━━━━━━━━━━━━━━━━━━━━━━━━━━\u001b[0m\u001b[91m╸\u001b[0m\u001b[90m━━━━\u001b[0m \u001b[32m23.9/26.9 MB\u001b[0m \u001b[31m125.2 MB/s\u001b[0m eta \u001b[36m0:00:01\u001b[0m"
     ]
    },
    {
     "name": "stdout",
     "output_type": "stream",
     "text": [
      "\r",
      "\u001b[2K   \u001b[91m━━━━━━━━━━━━━━━━━━━━━━━━━━━━━━━━━━━━━━━\u001b[0m\u001b[91m╸\u001b[0m \u001b[32m26.9/26.9 MB\u001b[0m \u001b[31m136.3 MB/s\u001b[0m eta \u001b[36m0:00:01\u001b[0m"
     ]
    },
    {
     "name": "stdout",
     "output_type": "stream",
     "text": [
      "\r",
      "\u001b[2K   \u001b[91m━━━━━━━━━━━━━━━━━━━━━━━━━━━━━━━━━━━━━━━\u001b[0m\u001b[91m╸\u001b[0m \u001b[32m26.9/26.9 MB\u001b[0m \u001b[31m136.3 MB/s\u001b[0m eta \u001b[36m0:00:01\u001b[0m\r",
      "\u001b[2K   \u001b[90m━━━━━━━━━━━━━━━━━━━━━━━━━━━━━━━━━━━━━━━━\u001b[0m \u001b[32m26.9/26.9 MB\u001b[0m \u001b[31m75.9 MB/s\u001b[0m eta \u001b[36m0:00:00\u001b[0m\r\n",
      "\u001b[?25hDownloading ray-2.22.0-cp39-cp39-manylinux2014_x86_64.whl (65.6 MB)\r\n",
      "\u001b[?25l   \u001b[90m━━━━━━━━━━━━━━━━━━━━━━━━━━━━━━━━━━━━━━━━\u001b[0m \u001b[32m0.0/65.6 MB\u001b[0m \u001b[31m?\u001b[0m eta \u001b[36m-:--:--\u001b[0m"
     ]
    },
    {
     "name": "stdout",
     "output_type": "stream",
     "text": [
      "\r",
      "\u001b[2K   \u001b[91m━━━\u001b[0m\u001b[90m╺\u001b[0m\u001b[90m━━━━━━━━━━━━━━━━━━━━━━━━━━━━━━━━━━━━\u001b[0m \u001b[32m4.9/65.6 MB\u001b[0m \u001b[31m177.0 MB/s\u001b[0m eta \u001b[36m0:00:01\u001b[0m"
     ]
    },
    {
     "name": "stdout",
     "output_type": "stream",
     "text": [
      "\r",
      "\u001b[2K   \u001b[91m━━━━━━\u001b[0m\u001b[90m╺\u001b[0m\u001b[90m━━━━━━━━━━━━━━━━━━━━━━━━━━━━━━━━━\u001b[0m \u001b[32m9.8/65.6 MB\u001b[0m \u001b[31m150.0 MB/s\u001b[0m eta \u001b[36m0:00:01\u001b[0m\r",
      "\u001b[2K   \u001b[91m━━━━━━━━━\u001b[0m\u001b[90m╺\u001b[0m\u001b[90m━━━━━━━━━━━━━━━━━━━━━━━━━━━━━━\u001b[0m \u001b[32m14.9/65.6 MB\u001b[0m \u001b[31m133.5 MB/s\u001b[0m eta \u001b[36m0:00:01\u001b[0m"
     ]
    },
    {
     "name": "stdout",
     "output_type": "stream",
     "text": [
      "\r",
      "\u001b[2K   \u001b[91m━━━━━━━━━━━━\u001b[0m\u001b[90m╺\u001b[0m\u001b[90m━━━━━━━━━━━━━━━━━━━━━━━━━━━\u001b[0m \u001b[32m19.7/65.6 MB\u001b[0m \u001b[31m137.6 MB/s\u001b[0m eta \u001b[36m0:00:01\u001b[0m"
     ]
    },
    {
     "name": "stdout",
     "output_type": "stream",
     "text": [
      "\r",
      "\u001b[2K   \u001b[91m━━━━━━━━━━━━━━\u001b[0m\u001b[91m╸\u001b[0m\u001b[90m━━━━━━━━━━━━━━━━━━━━━━━━━\u001b[0m \u001b[32m24.6/65.6 MB\u001b[0m \u001b[31m140.3 MB/s\u001b[0m eta \u001b[36m0:00:01\u001b[0m\r",
      "\u001b[2K   \u001b[91m━━━━━━━━━━━━━━━━━\u001b[0m\u001b[91m╸\u001b[0m\u001b[90m━━━━━━━━━━━━━━━━━━━━━━\u001b[0m \u001b[32m29.0/65.6 MB\u001b[0m \u001b[31m136.1 MB/s\u001b[0m eta \u001b[36m0:00:01\u001b[0m"
     ]
    },
    {
     "name": "stdout",
     "output_type": "stream",
     "text": [
      "\r",
      "\u001b[2K   \u001b[91m━━━━━━━━━━━━━━━━━━━━\u001b[0m\u001b[90m╺\u001b[0m\u001b[90m━━━━━━━━━━━━━━━━━━━\u001b[0m \u001b[32m33.5/65.6 MB\u001b[0m \u001b[31m132.7 MB/s\u001b[0m eta \u001b[36m0:00:01\u001b[0m"
     ]
    },
    {
     "name": "stdout",
     "output_type": "stream",
     "text": [
      "\r",
      "\u001b[2K   \u001b[91m━━━━━━━━━━━━━━━━━━━━━━━\u001b[0m\u001b[90m╺\u001b[0m\u001b[90m━━━━━━━━━━━━━━━━\u001b[0m \u001b[32m38.1/65.6 MB\u001b[0m \u001b[31m134.7 MB/s\u001b[0m eta \u001b[36m0:00:01\u001b[0m\r",
      "\u001b[2K   \u001b[91m━━━━━━━━━━━━━━━━━━━━━━━━━━\u001b[0m\u001b[90m╺\u001b[0m\u001b[90m━━━━━━━━━━━━━\u001b[0m \u001b[32m43.0/65.6 MB\u001b[0m \u001b[31m137.3 MB/s\u001b[0m eta \u001b[36m0:00:01\u001b[0m"
     ]
    },
    {
     "name": "stdout",
     "output_type": "stream",
     "text": [
      "\r",
      "\u001b[2K   \u001b[91m━━━━━━━━━━━━━━━━━━━━━━━━━━━━━\u001b[0m\u001b[90m╺\u001b[0m\u001b[90m━━━━━━━━━━\u001b[0m \u001b[32m47.9/65.6 MB\u001b[0m \u001b[31m140.1 MB/s\u001b[0m eta \u001b[36m0:00:01\u001b[0m"
     ]
    },
    {
     "name": "stdout",
     "output_type": "stream",
     "text": [
      "\r",
      "\u001b[2K   \u001b[91m━━━━━━━━━━━━━━━━━━━━━━━━━━━━━━━━\u001b[0m\u001b[90m╺\u001b[0m\u001b[90m━━━━━━━\u001b[0m \u001b[32m52.9/65.6 MB\u001b[0m \u001b[31m142.3 MB/s\u001b[0m eta \u001b[36m0:00:01\u001b[0m\r",
      "\u001b[2K   \u001b[91m━━━━━━━━━━━━━━━━━━━━━━━━━━━━━━━━━━━\u001b[0m\u001b[90m╺\u001b[0m\u001b[90m━━━━\u001b[0m \u001b[32m58.1/65.6 MB\u001b[0m \u001b[31m145.7 MB/s\u001b[0m eta \u001b[36m0:00:01\u001b[0m"
     ]
    },
    {
     "name": "stdout",
     "output_type": "stream",
     "text": [
      "\r",
      "\u001b[2K   \u001b[91m━━━━━━━━━━━━━━━━━━━━━━━━━━━━━━━━━━━━━━\u001b[0m\u001b[91m╸\u001b[0m\u001b[90m━\u001b[0m \u001b[32m63.2/65.6 MB\u001b[0m \u001b[31m151.2 MB/s\u001b[0m eta \u001b[36m0:00:01\u001b[0m"
     ]
    },
    {
     "name": "stdout",
     "output_type": "stream",
     "text": [
      "\r",
      "\u001b[2K   \u001b[91m━━━━━━━━━━━━━━━━━━━━━━━━━━━━━━━━━━━━━━━\u001b[0m\u001b[91m╸\u001b[0m \u001b[32m65.6/65.6 MB\u001b[0m \u001b[31m147.3 MB/s\u001b[0m eta \u001b[36m0:00:01\u001b[0m"
     ]
    },
    {
     "name": "stdout",
     "output_type": "stream",
     "text": [
      "\r",
      "\u001b[2K   \u001b[91m━━━━━━━━━━━━━━━━━━━━━━━━━━━━━━━━━━━━━━━\u001b[0m\u001b[91m╸\u001b[0m \u001b[32m65.6/65.6 MB\u001b[0m \u001b[31m147.3 MB/s\u001b[0m eta \u001b[36m0:00:01\u001b[0m\r",
      "\u001b[2K   \u001b[91m━━━━━━━━━━━━━━━━━━━━━━━━━━━━━━━━━━━━━━━\u001b[0m\u001b[91m╸\u001b[0m \u001b[32m65.6/65.6 MB\u001b[0m \u001b[31m147.3 MB/s\u001b[0m eta \u001b[36m0:00:01\u001b[0m"
     ]
    },
    {
     "name": "stdout",
     "output_type": "stream",
     "text": [
      "\r",
      "\u001b[2K   \u001b[91m━━━━━━━━━━━━━━━━━━━━━━━━━━━━━━━━━━━━━━━\u001b[0m\u001b[91m╸\u001b[0m \u001b[32m65.6/65.6 MB\u001b[0m \u001b[31m147.3 MB/s\u001b[0m eta \u001b[36m0:00:01\u001b[0m\r",
      "\u001b[2K   \u001b[90m━━━━━━━━━━━━━━━━━━━━━━━━━━━━━━━━━━━━━━━━\u001b[0m \u001b[32m65.6/65.6 MB\u001b[0m \u001b[31m48.8 MB/s\u001b[0m eta \u001b[36m0:00:00\u001b[0m\r\n",
      "\u001b[?25h"
     ]
    },
    {
     "name": "stdout",
     "output_type": "stream",
     "text": [
      "Downloading setproctitle-1.3.3-cp39-cp39-manylinux_2_5_x86_64.manylinux1_x86_64.manylinux_2_17_x86_64.manylinux2014_x86_64.whl (30 kB)\r\n",
      "Downloading gitdb-4.0.11-py3-none-any.whl (62 kB)\r\n",
      "\u001b[?25l   \u001b[90m━━━━━━━━━━━━━━━━━━━━━━━━━━━━━━━━━━━━━━━━\u001b[0m \u001b[32m0.0/62.7 kB\u001b[0m \u001b[31m?\u001b[0m eta \u001b[36m-:--:--\u001b[0m\r",
      "\u001b[2K   \u001b[90m━━━━━━━━━━━━━━━━━━━━━━━━━━━━━━━━━━━━━━━━\u001b[0m \u001b[32m62.7/62.7 kB\u001b[0m \u001b[31m18.5 MB/s\u001b[0m eta \u001b[36m0:00:00\u001b[0m\r\n",
      "\u001b[?25h"
     ]
    },
    {
     "name": "stdout",
     "output_type": "stream",
     "text": [
      "Downloading smmap-5.0.1-py3-none-any.whl (24 kB)\r\n"
     ]
    },
    {
     "name": "stdout",
     "output_type": "stream",
     "text": [
      "Building wheels for collected packages: antlr4-python3-runtime\r\n"
     ]
    },
    {
     "name": "stdout",
     "output_type": "stream",
     "text": [
      "  Building wheel for antlr4-python3-runtime (setup.py) ... \u001b[?25l-"
     ]
    },
    {
     "name": "stdout",
     "output_type": "stream",
     "text": [
      "\b \bdone\r\n"
     ]
    },
    {
     "name": "stdout",
     "output_type": "stream",
     "text": [
      "\u001b[?25h  Created wheel for antlr4-python3-runtime: filename=antlr4_python3_runtime-4.9.3-py3-none-any.whl size=144576 sha256=26fb9c2949714924d03fdd75b45f3576b129d42ee8b56c5d48897b7c9c4d2d31\r\n",
      "  Stored in directory: /home/runner/.cache/pip/wheels/23/cf/80/f3efa822e6ab23277902ee9165fe772eeb1dfb8014f359020a\r\n",
      "Successfully built antlr4-python3-runtime\r\n"
     ]
    },
    {
     "name": "stdout",
     "output_type": "stream",
     "text": [
      "Installing collected packages: antlr4-python3-runtime, tensorboardX, smmap, setproctitle, sentry-sdk, pyarrow, omegaconf, msgpack, imageio-ffmpeg, docker-pycreds, hydra-core, gitdb, gitpython, wandb, torchmetrics, ray, pytorch-lightning, ctd\r\n"
     ]
    },
    {
     "name": "stdout",
     "output_type": "stream",
     "text": [
      "  Attempting uninstall: torchmetrics\r\n",
      "    Found existing installation: torchmetrics 1.4.0\r\n"
     ]
    },
    {
     "name": "stdout",
     "output_type": "stream",
     "text": [
      "    Uninstalling torchmetrics-1.4.0:\r\n",
      "      Successfully uninstalled torchmetrics-1.4.0\r\n"
     ]
    },
    {
     "name": "stdout",
     "output_type": "stream",
     "text": [
      "  Attempting uninstall: pytorch-lightning\r\n",
      "    Found existing installation: pytorch-lightning 2.2.4\r\n"
     ]
    },
    {
     "name": "stdout",
     "output_type": "stream",
     "text": [
      "    Uninstalling pytorch-lightning-2.2.4:\r\n",
      "      Successfully uninstalled pytorch-lightning-2.2.4\r\n"
     ]
    },
    {
     "name": "stdout",
     "output_type": "stream",
     "text": [
      "  Running setup.py develop for ctd\r\n"
     ]
    },
    {
     "name": "stdout",
     "output_type": "stream",
     "text": [
      "Successfully installed antlr4-python3-runtime-4.9.3 ctd-1.0 docker-pycreds-0.4.0 gitdb-4.0.11 gitpython-3.1.43 hydra-core-1.3.2 imageio-ffmpeg-0.4.9 msgpack-1.0.8 omegaconf-2.3.0 pyarrow-16.1.0 pytorch-lightning-2.1.3 ray-2.22.0 sentry-sdk-2.1.1 setproctitle-1.3.3 smmap-5.0.1 tensorboardX-2.6.2.2 torchmetrics-1.3.0.post0 wandb-0.17.0\r\n"
     ]
    }
   ],
   "source": [
    "# @markdown Local installation\n",
    "\n",
    "import contextlib\n",
    "import io\n",
    "import os\n",
    "\n",
    "dirname = \"ComputationThruDynamicsBenchmark\"\n",
    "\n",
    "with contextlib.redirect_stdout(io.StringIO()): #to suppress output\n",
    "    if not os.path.isdir(dirname):\n",
    "        ! git clone https://github.com/glibesyck/ComputationThruDynamicsBenchmark\n",
    "        %cd ComputationThruDynamicsBenchmark\n",
    "        ! pip install -e .\n",
    "\n",
    "envStr = \"\"\"HOME_DIR=ComputationThruDynamicsBenchmark/\n",
    "\n",
    "\n",
    "#Don't change these\n",
    "TRAIN_INPUT_FILE=train_input.h5\\nEVAL_INPUT_FILE=eval_input.h5\n",
    "EVAL_TARGET_FILE=eval_target.h5\n",
    "\"\"\"\n",
    "\n",
    "with open('.env','w') as f:\n",
    "  f.write(envStr)"
   ]
  },
  {
   "cell_type": "markdown",
   "metadata": {
    "execution": {}
   },
   "source": [
    "## Section 2: Overview of the available tasks\n",
    "\n",
    "First, let's take a high-level look at the tasks that we are going to use to understand computation in artificial networks!\n",
    "\n",
    "We'll start by loading in some packages."
   ]
  },
  {
   "cell_type": "code",
   "execution_count": null,
   "metadata": {},
   "outputs": [],
   "source": [
    "# set the random seed for reproducibility\n",
    "import random\n",
    "import dotenv\n",
    "import pathlib\n",
    "import os\n",
    "import logging\n",
    "\n",
    "# comment the next three lines if you want to see all training logs\n",
    "pl_loggers = [logging.getLogger(name) for name in logging.root.manager.loggerDict if 'pytorch_lightning' in name]\n",
    "for pl_log in pl_loggers:\n",
    "    logging.getLogger(pl_log.name).setLevel(logging.WARNING)\n",
    "\n",
    "random.seed(2024)\n",
    "\n",
    "dotenv.load_dotenv(override=True)\n",
    "HOME_DIR = os.getenv(\"HOME_DIR\")\n",
    "if HOME_DIR is None:\n",
    "    HOME_DIR = \"\"\n",
    "print(HOME_DIR)"
   ]
  },
  {
   "cell_type": "markdown",
   "metadata": {
    "execution": {}
   },
   "source": [
    "\n",
    "The Computation-Thru-Dynamics Benchmark has three distinct behavioral tasks.\n",
    "\n",
    "These tasks are called:\n",
    "1. Three-Bit Flip-Flop (3BFF) (see [Sussillo & Barak 2013](https://pubmed.ncbi.nlm.nih.gov/23272922/))\n",
    "2. MultiTask (See [Driscoll et al. 2023](https://www.biorxiv.org/content/10.1101/2022.08.15.503870v1.full.pdf))\n",
    "3. RandomTarget (See [Codol et al. 2023](https://elifesciences.org/reviewed-preprints/88591v2/reviews))\n",
    "\n",
    "We chose these tasks because they represent a variety of task complexities. We have a pretty good understanding of how the simpler tasks operate (3BFF), but really are only starting to scratch the surface of more complex tasks (RandomTarget).\n",
    "\n",
    "\n",
    " \n",
    "Specificially, in the Random Target task, the actions that the model takes can affect the future inputs, making it an important test case for being able to understand the dynamics of interacting systems!\n",
    "\n",
    "<img src=\"https://github.com/neuromatch/NeuroAI_Course/blob/main/projects/project-notebooks/static/TaskComplexity-01.png?raw=true\" width=\"600\"/>\n",
    "\n",
    "Each task (which we call a \"task environment\") follows a standardized format that allows alternative task environments to be incorporated without any changes to the training pipeline.\n",
    "\n",
    "Here we'll take a walk through the two tasks in the project template (TBFF and RandomTarget) and inspect the behavior of networks trained on these environments."
   ]
  },
  {
   "cell_type": "markdown",
   "metadata": {
    "execution": {}
   },
   "source": [
    "## Section 3: Understanding the Three-Bit Flip-Flop task (3BFF)\n",
    "\n",
    "We're going to start out with the task that launched a thousand Nature papers, the 3-Bit Flip-Flop. [Sussillo & Barak 2013](https://pubmed.ncbi.nlm.nih.gov/23272922/) used the three-bit flip-flop their seminal attempts to understand how dynamics can give rise to computation! \n",
    "\n",
    "The code snippet below intantiates an \"TaskEnv\" object, which contains the logic for the NBFF task.\n",
    "\n",
    "\n",
    "❓❓❓\n",
    "\n",
    "The default parameters are shown in ./interpretability/task_modeling/configs/env_task/NBFF.yaml, but try changing the parameters below to see how that affects trials generated from the environment. Note that this task is modular in the number of bits as well, so it provides an easy way to scale the dimensionality of a very simple dynamical system.\n",
    "\n",
    "❓❓❓"
   ]
  },
  {
   "cell_type": "code",
   "execution_count": null,
   "metadata": {},
   "outputs": [],
   "source": [
    "from ctd.task_modeling.task_env.task_env import NBitFlipFlop\n",
    "\n",
    "n = 3 # The number of bits in the flip-flop (default: 3)\n",
    "trial_length = 500 # The number of time steps in each trial (default: 500)\n",
    "switch_prob = 0.015 # The probability of an input pulse (default: 0.015 pulses/channel / time step)\n",
    "noise = 0.15 # The standard deviation of the Gaussian noise added to the input (default: 0.15)\n",
    "\n",
    "# This line creates the NBitFlipFlop environment. See ctd.task_modeling.task_env.task_env.NBitFlipFlop for more information.\n",
    "env_3bff = NBitFlipFlop(\n",
    "    n = n,\n",
    "    n_timesteps=trial_length,\n",
    "    switch_prob=switch_prob,\n",
    "    noise=noise\n",
    "    )\n",
    "\n",
    "# Renders a random trial from the environment\n",
    "env_3bff.render()"
   ]
  },
  {
   "cell_type": "markdown",
   "metadata": {
    "execution": {}
   },
   "source": [
    "Above, we are plotting the inputs and outputs of the 3BFF task. One trial is 500 time steps, each with a 1% probability of getting an \"up\" or \"down\" pulse on each of its 3 input channels. When the task receives an \"up\" pulse, the state corresponding to that input channel moves from zero to one (if possible), and if a state at one receives a \"down\" pulse, it goes to zero. In this way, this system acts as 3 bits of memory, encoding 8 potential system states (2^3 states). We add noise to the inputs of the system so that it better reflects realistic computations that a neural circuit might perform.\n",
    "\n",
    "\n",
    "**Try changing the parameters of your 3BFF environment to see how the behavior changes!**\n",
    "\n",
    "Another way to visualize this is to view the three states in 3D. Below you can see that the 8 potential states appear as the vertices of a cube. Each trial is plotted as column. "
   ]
  },
  {
   "cell_type": "code",
   "execution_count": null,
   "metadata": {},
   "outputs": [],
   "source": [
    "env_3bff.render_3d(n_trials=6)"
   ]
  },
  {
   "cell_type": "markdown",
   "metadata": {
    "execution": {}
   },
   "source": [
    "Now that we can see the basic logic of the task, let's do a basic overview of what task-training is!\n",
    "\n",
    "<img src=\"https://github.com/neuromatch/NeuroAI_Course/blob/main/projects/project-notebooks/static/TTModelExample-01.png?raw=true\" width=\"600\"/>\n",
    "\n",
    "For task-training, we are simply training a model (e.g., an RNN) to produce a set of outputs given a set of inputs. This input/output relationship defines the task that the model is performing. In the case of 3BFF, an input pulse should cause the model's output to change in a way that reflects the switching of a bit. \n",
    "\n",
    "**3BFF Training Objective:**\n",
    "\n",
    "3BFF models are trained to minimize the MSE between the desired output and the output of the model, with some other components that pressure the solution to be smooth. If you're interested in the specifics, the implementation of the loss function can be found as the NBFFLoss object in `ctd/task_modeling/task_env/loss_func.py`.\n"
   ]
  },
  {
   "cell_type": "markdown",
   "metadata": {
    "execution": {}
   },
   "source": [
    "\n",
    "## Section 4: Training a model to perform 3BFF\n",
    "\n",
    "For this tutorial, we are using PyTorch Lightning to abstract much of the engineering away, allowing you to focus your full attention on the scientific questions you want to tackle!\n",
    "\n",
    "This segment takes a few minutes to train, so I'd recommend planning your runs accordingly!\n",
    "\n",
    "⏳⏳⏳\n",
    "\n",
    "The cell below will create a recurrent neural network (RNN) model and use the 3BFF environment to generate samples that the model will be trained on!\n",
    "\n",
    "Unfortunately, it generates a lot of output, so if you don't care to see the model progress, set enable_progress_bar to False below."
   ]
  },
  {
   "cell_type": "code",
   "execution_count": null,
   "metadata": {},
   "outputs": [
    {
     "name": "stderr",
     "output_type": "stream",
     "text": [
      "/opt/hostedtoolcache/Python/3.9.19/x64/lib/python3.9/site-packages/pytorch_lightning/loops/fit_loop.py:293: The number of training batches (1) is smaller than the logging interval Trainer(log_every_n_steps=50). Set a lower value for log_every_n_steps if you want to see logs for the training epoch.\n"
     ]
    },
    {
     "name": "stderr",
     "output_type": "stream",
     "text": [
      "`Trainer.fit` stopped: `max_epochs=500` reached.\n"
     ]
    }
   ],
   "source": [
    "from ctd.task_modeling.model.rnn import GRU_RNN\n",
    "from ctd.task_modeling.datamodule.task_datamodule import TaskDataModule\n",
    "from ctd.task_modeling.task_wrapper.task_wrapper import TaskTrainedWrapper\n",
    "from pytorch_lightning import Trainer\n",
    "\n",
    "enable_progress_bar = False\n",
    "\n",
    "# Step 1: Instantiate the model\n",
    "rnn = GRU_RNN(latent_size = 128) # Look in ctd/task_modeling/models for alternative choices!\n",
    "\n",
    "# Step 2: Instantiate the task environment\n",
    "task_env = env_3bff\n",
    "\n",
    "# Step 3: Instantiate the task datamodule\n",
    "task_datamodule = TaskDataModule(task_env, n_samples = 1000, batch_size = 1000)\n",
    "\n",
    "# Step 4: Instantiate the task wrapper\n",
    "task_wrapper = TaskTrainedWrapper(learning_rate=1e-3, weight_decay = 1e-8)\n",
    "\n",
    "# Step 5: Initialize the model with the input and output sizes (3 inputs, 3 outputs, in this case)\n",
    "rnn.init_model(\n",
    "    input_size = task_env.observation_space.shape[0],\n",
    "    output_size = task_env.action_space.shape[0]\n",
    "    )\n",
    "\n",
    "# Step 6:  Set the environment and model in the task wrapper\n",
    "task_wrapper.set_environment(task_env)\n",
    "task_wrapper.set_model(rnn)\n",
    "\n",
    "# Step 7: Define the PyTorch Lightning Trainer object\n",
    "trainer = Trainer(max_epochs=500, enable_progress_bar=enable_progress_bar)\n",
    "\n",
    "# Step 8: Fit the model\n",
    "trainer.fit(task_wrapper, task_datamodule)"
   ]
  },
  {
   "cell_type": "markdown",
   "metadata": {
    "execution": {}
   },
   "source": [
    "Now, we use pickle to save the trained model and datamodule for use in future analyses!\n",
    "\n",
    "❓❓❓\n",
    "\n",
    "**Once you get this model trained, feel try to try changing the hyperparameters to see if you can get the model to train faster!**\n",
    "\n",
    "❓❓❓"
   ]
  },
  {
   "cell_type": "code",
   "execution_count": null,
   "metadata": {},
   "outputs": [],
   "source": [
    "import pickle\n",
    "# save model as .pkl\n",
    "save_dir = pathlib.Path(HOME_DIR) / \"models_GRU_128\"\n",
    "save_dir.mkdir(exist_ok=True)\n",
    "with open(save_dir / \"model.pkl\", \"wb\") as f:\n",
    "    pickle.dump(task_wrapper, f)\n",
    "\n",
    "# save datamodule as .pkl\n",
    "with open(save_dir / \"datamodule_sim.pkl\", \"wb\") as f:\n",
    "    pickle.dump(task_datamodule, f)"
   ]
  },
  {
   "cell_type": "markdown",
   "metadata": {
    "execution": {}
   },
   "source": [
    "So that we can start comparing our models, we're going to train a second GRU_RNN to perform the 3BFF task, except this time, we'll use an alternative model called a Neural ODE! \n",
    "\n",
    "Notice that we're using the same datamodule as for the first model, meaning that we can directly compare the two models trial-by-trial.\n",
    "\n",
    "Again, this will take a few minutes to train!\n",
    "\n",
    "⏳⏳⏳"
   ]
  },
  {
   "cell_type": "code",
   "execution_count": null,
   "metadata": {},
   "outputs": [],
   "source": [
    "from ctd.task_modeling.model.node import NODE\n",
    "\n",
    "enable_progress_bar = False\n",
    "rnn = NODE(latent_size = 3, num_layers = 3, layer_hidden_size=64) # Look in ctd/task_modeling/models for alternative choices!\n",
    "task_wrapper = TaskTrainedWrapper(learning_rate=1e-2, weight_decay = 1e-8)\n",
    "rnn.init_model(\n",
    "    input_size = task_env.observation_space.shape[0],\n",
    "    output_size = task_env.action_space.shape[0]\n",
    "    )\n",
    "task_wrapper.set_environment(task_env)\n",
    "task_wrapper.set_model(rnn)\n",
    "trainer = Trainer(max_epochs=500, enable_progress_bar=enable_progress_bar)\n",
    "\n",
    "trainer.fit(task_wrapper, task_datamodule)\n",
    "\n",
    "save_dir = pathlib.Path(HOME_DIR) / \"models_NODE_3\"\n",
    "save_dir.mkdir(exist_ok=True)\n",
    "with open(save_dir / \"model.pkl\", \"wb\") as f:\n",
    "    pickle.dump(task_wrapper, f)\n",
    "\n",
    "# save datamodule as .pkl\n",
    "with open(save_dir / \"datamodule_sim.pkl\", \"wb\") as f:\n",
    "    pickle.dump(task_datamodule, f)"
   ]
  },
  {
   "cell_type": "markdown",
   "metadata": {
    "execution": {}
   },
   "source": [
    "## Section 5: Inspecting the performance of trained models:\n",
    "\n",
    "Now that the models have been trained, let's see if we can determine how similar their computational strategies are to each other!\n",
    "\n",
    "To make your life easier, we've provided an \"analysis\" object that abstracts away much of the data handling, allowing you to work more easily with the data from the models.\n",
    "\n",
    "The analysis object also offers visualization tools that can help to see how well the trained model learned to perform the task!\n",
    "\n",
    "For example, plot_trial_io is a function that plots (for a specified number of trials):\n",
    "- Latent activity\n",
    "- Controlled output\n",
    "- Target output\n",
    "- Noisy inputs to model\n",
    "\n",
    "❓❓❓\n",
    "\n",
    "**Try changing trials that are plotted. Do the models capture all of the states equally well?**\n",
    "\n",
    "❓❓❓\n",
    "\n",
    "### Part 1: Visualizing latent activity\n"
   ]
  },
  {
   "cell_type": "code",
   "execution_count": null,
   "metadata": {},
   "outputs": [],
   "source": [
    "from ctd.comparison.analysis.tt.tt import Analysis_TT\n",
    "\n",
    "fpath_GRU_128 = HOME_DIR + \"models_GRU_128/\"\n",
    "# Create the analysis object:\n",
    "analysis_GRU_128 = Analysis_TT(\n",
    "    run_name = \"GRU_128_3bff\",\n",
    "    filepath = fpath_GRU_128)\n",
    "\n",
    "analysis_GRU_128.plot_trial_io(num_trials = 2)"
   ]
  },
  {
   "cell_type": "code",
   "execution_count": null,
   "metadata": {},
   "outputs": [],
   "source": [
    "fpath_NODE = HOME_DIR + \"models_NODE_3/\"\n",
    "# Create the analysis object:\n",
    "analysis_NODE = Analysis_TT(\n",
    "    run_name = \"NODE_3_3bff\",\n",
    "    filepath = fpath_NODE)\n",
    "\n",
    "analysis_NODE.plot_trial_io(num_trials = 2)"
   ]
  },
  {
   "cell_type": "markdown",
   "metadata": {
    "execution": {}
   },
   "source": [
    "There are also useful data visualization functions, such as visualizing a scree plot of the latent activity.\n",
    "\n",
    "A scree plot shows the % of variance in the highest principle component dimensions. From this plot we can see that the GRU has the majority of its variance in the first 3 PCs, but there remains significant variance in the lower PCs!"
   ]
  },
  {
   "cell_type": "code",
   "execution_count": null,
   "metadata": {},
   "outputs": [],
   "source": [
    "analysis_GRU_128.plot_scree()"
   ]
  },
  {
   "cell_type": "markdown",
   "metadata": {
    "execution": {}
   },
   "source": [
    "Importantly, the analysis object also provides functions that give access to the raw latent activity, predicted outputs, etc. of the trained models! All of these functions accept a \"phase\" variable that designates whether to return the training and/or validation datasets. \n",
    "These functions are:\n",
    "- `get_latents()`: Returns latent activity of the trained model\n",
    "- `get_inputs()`: Returns the inputs to the model (for 3BFF, the input pulses)\n",
    "- `get_model_output()`: Returns a dict that contains all model outputs:\n",
    "  - controlled - the variable that the model is controlling\n",
    "  - latents - the latent activity\n",
    "  - actions - the output from the model (for RandomTarget only)\n",
    "  - states - the state of the environment (for RandomTarget only)\n",
    "  - joints - Joint angles (for RandomTarget only)"
   ]
  },
  {
   "cell_type": "code",
   "execution_count": null,
   "metadata": {},
   "outputs": [
    {
     "name": "stdout",
     "output_type": "stream",
     "text": [
      "Train data shape: torch.Size([800, 500, 128])\n"
     ]
    },
    {
     "name": "stdout",
     "output_type": "stream",
     "text": [
      "Validation data shape: torch.Size([200, 500, 128])\n"
     ]
    }
   ],
   "source": [
    "print(f\"All data shape: {analysis_GRU_128.get_latents().shape}\")\n",
    "print(f\"Train data shape: {analysis_GRU_128.get_latents(phase = 'train').shape}\")\n",
    "print(f\"Validation data shape: {analysis_GRU_128.get_latents(phase = 'val').shape}\")"
   ]
  },
  {
   "cell_type": "markdown",
   "metadata": {
    "execution": {}
   },
   "source": [
    "### Part 2: Using affine transformations to compare latent activity\n",
    "\n",
    "Now that we have the latent activity for the 64D and the 128D GRU models trained on 3BFf, we can investigate how similar their latent activity is.\n",
    "\n",
    "One problem: The models may be arbitrarily rotated, scaled, and translated relative to each other! \n",
    "\n",
    "This means that we need to find the best \"fit\" between the two models that doesn't fail when they are equivalent under an \"affine\" transformation (meaning a linear transformation and/or translation).\n",
    "\n",
    "Luckily, we have a tool that can solve this problem for us! Linear regression.\n",
    "\n",
    "In this code, we are:\n",
    "\n",
    "1. Getting the latent activity from each model\n",
    "2. Performing PCA on the latent activity (to get the dimensions ordered by their variance)\n",
    "3. Fit a linear regression from one set of latent activity to the other."
   ]
  },
  {
   "cell_type": "code",
   "execution_count": null,
   "metadata": {},
   "outputs": [],
   "source": [
    "from sklearn.linear_model import LinearRegression\n",
    "from sklearn.metrics import r2_score\n",
    "from sklearn.decomposition import PCA\n",
    "\n",
    "source = analysis_GRU_128\n",
    "target = analysis_NODE\n",
    "\n",
    "# Get the latent activity from the validation phase for each model:\n",
    "latents_source = source.get_latents(phase='train').detach().numpy()\n",
    "latents_targ = target.get_latents(phase='train').detach().numpy()\n",
    "\n",
    "latents_source_val = source.get_latents(phase='val').detach().numpy()\n",
    "latents_targ_val = target.get_latents(phase='val').detach().numpy()\n",
    "\n",
    "n_trials, n_timesteps, n_latent_source = latents_source.shape\n",
    "n_trials, n_timesteps, n_latent_targ = latents_targ.shape\n",
    "\n",
    "n_trials_val, n_timesteps_val, n_latent_source_val = latents_source_val.shape\n",
    "n_trials_val, n_timesteps_val, n_latent_targ_val = latents_targ_val.shape\n",
    "\n",
    "print(f\"Latent shape for source model: {latents_source.shape}\"\n",
    "      f\"\\nLatent shape for target model: {latents_targ.shape}\")"
   ]
  },
  {
   "cell_type": "code",
   "execution_count": null,
   "metadata": {},
   "outputs": [],
   "source": [
    "\n",
    "# Perform PCA on both latent spaces to find axes of highest variance\n",
    "pca_source = PCA()\n",
    "pca_targ = PCA()\n",
    "lats_source_pca = pca_source.fit_transform(latents_source.reshape(-1, n_latent_source)).reshape((n_trials, n_timesteps, -1))\n",
    "lats_source_pca_val = pca_source.transform(latents_source_val.reshape(-1, n_latent_source)).reshape((n_trials, n_timesteps, -1))\n",
    "\n",
    "lats_targ_pca = pca_targ.fit_transform(latents_targ.reshape(-1, n_latent_targ)).reshape((n_trials, n_timesteps, -1))\n",
    "lats_targ_pca_val = pca_targ.transform(latents_targ_val.reshape(-1, n_latent_targ_val)).reshape((n_trials_val, n_timesteps_val, -1))\n",
    "\n",
    "# Fit a linear regression model to predict the target latents from the source latents\n",
    "reg = LinearRegression().fit(lats_source_pca.reshape(-1, n_latent_source), lats_targ_pca.reshape(-1, n_latent_targ))\n",
    "# Get the R2 of the fit\n",
    "preds = reg.predict(lats_source_pca_val.reshape(-1, n_latent_source_val))\n",
    "r2s = r2_score(lats_targ_pca_val.reshape((-1, n_latent_targ_val)), preds,  multioutput = \"raw_values\")\n",
    "r2_var = r2_score(lats_targ_pca_val.reshape((-1, n_latent_targ_val)), preds, multioutput = \"variance_weighted\")\n",
    "print(f\"R2 of linear regression fit: {r2s}\")\n",
    "print(f\"Variance-weighted R2 of linear regression fit: {r2_var}\")"
   ]
  },
  {
   "cell_type": "markdown",
   "metadata": {
    "execution": {}
   },
   "source": [
    "So the variance weighted R2 from the source to the target is ~0.93.\n",
    "\n",
    "Importantly, we had to pick a \"direction\" to compute this R2 value. What happens if we switch the source and targets?\n",
    "\n",
    "❓❓❓\n",
    "\n",
    "**Try reversing the direction (the source and targets) and see how well the model fits!**\n",
    "\n",
    "❓❓❓"
   ]
  },
  {
   "cell_type": "markdown",
   "metadata": {
    "execution": {}
   },
   "source": [
    "One final tool that is provided to you is the comparison object, which does many of these direct comparisons within the object itself. Here is one example visualization that shows how similar the latent activity of two example trials are for these two models! \n",
    "\n",
    "This function has the affine transformation \"built-in\" so you don't this shows what your R2 value above looks like in the first 3 PCs!"
   ]
  },
  {
   "cell_type": "code",
   "execution_count": null,
   "metadata": {},
   "outputs": [],
   "source": [
    "from ctd.comparison.comparison import Comparison\n",
    "comp = Comparison()\n",
    "comp.load_analysis(analysis_GRU_128, reference_analysis=True)\n",
    "comp.load_analysis(analysis_NODE)\n",
    "comp.plot_trials_3d_reference(num_trials=2)"
   ]
  },
  {
   "cell_type": "markdown",
   "metadata": {
    "execution": {}
   },
   "source": [
    "### Part 3: Fixed-point finding\n",
    "\n",
    "\n",
    "\n",
    "Finally, we can use fixed-point finding to inspect the linearized dynamics of the trained model.\n",
    "\n",
    "**What are fixed-points?**\n",
    "\n",
    "Fixed points are points in the dynamics for which the flow field is zero, meaning that points at that location do not move.\n",
    "\n",
    "The fixed point structure for the 3BFF task was first shown in the original [Sussillo and Barack paper](https://ccn.johndmurray.org/ccn_2013/materials/pdf/mante/sussillo_2013.pdf).\n",
    "\n",
    "<img src=\"https://github.com/neuromatch/NeuroAI_Course/blob/main/projects/project-notebooks/static/SussilloBarack.png?raw=true\" width=\"400\"/>\n",
    "\n",
    "\n",
    "We can see that the fixed-points are at the vertices of the cube above, drawing the activity towards them and keeping it there until an input pushes it out!\n",
    "\n",
    "We use a modified version of a fixed point finder released by [Golub et al. 2018](https://github.com/mattgolub/fixed-point-finder) to search the flow field for these zero points.\n",
    "\n",
    "❓❓❓\n",
    "\n",
    "**Try changing some of these parameters:** \n",
    "- How quickly are the fixed-points found in the model?\n",
    "- How many initializations are needed to find the fixed points?\n",
    "- Do the stability properties tell us anything about the underlying computation?\n",
    "\n",
    "❓❓❓\n",
    "\n",
    "Importantly from [Driscol et al. 2022](https://www.biorxiv.org/content/10.1101/2022.08.15.503870v1.full.pdf), we know that changes in the inputs can have large effects on the fixed point architecture, so we're going to set the inputs to zero in this optimization."
   ]
  },
  {
   "cell_type": "code",
   "execution_count": null,
   "metadata": {},
   "outputs": [
    {
     "name": "stdout",
     "output_type": "stream",
     "text": [
      "\n",
      "Iteration 3500/20000\n",
      "q = 7.04E-05 +/- 1.78E-04\n",
      "dq = 4.18E-08 +/- 1.14E-07\n"
     ]
    },
    {
     "name": "stdout",
     "output_type": "stream",
     "text": [
      "\n",
      "Iteration 4000/20000\n",
      "q = 5.29E-05 +/- 1.32E-04\n",
      "dq = 2.96E-08 +/- 7.85E-08\n"
     ]
    },
    {
     "name": "stdout",
     "output_type": "stream",
     "text": [
      "\n",
      "Iteration 4500/20000\n",
      "q = 4.03E-05 +/- 9.99E-05\n",
      "dq = 2.14E-08 +/- 5.60E-08\n"
     ]
    },
    {
     "name": "stdout",
     "output_type": "stream",
     "text": [
      "\n",
      "Iteration 5000/20000\n",
      "q = 3.10E-05 +/- 7.65E-05\n",
      "dq = 1.59E-08 +/- 4.08E-08\n"
     ]
    },
    {
     "name": "stdout",
     "output_type": "stream",
     "text": [
      "\n",
      "Iteration 5500/20000\n",
      "q = 2.41E-05 +/- 5.93E-05\n",
      "dq = 1.21E-08 +/- 3.02E-08\n"
     ]
    },
    {
     "name": "stdout",
     "output_type": "stream",
     "text": [
      "\n",
      "Iteration 6000/20000\n",
      "q = 1.89E-05 +/- 4.63E-05\n",
      "dq = 9.28E-09 +/- 2.32E-08\n"
     ]
    },
    {
     "name": "stdout",
     "output_type": "stream",
     "text": [
      "\n",
      "Iteration 6500/20000\n",
      "q = 1.48E-05 +/- 3.62E-05\n",
      "dq = 7.41E-09 +/- 1.84E-08\n"
     ]
    },
    {
     "name": "stdout",
     "output_type": "stream",
     "text": [
      "\n",
      "Iteration 7000/20000\n",
      "q = 1.16E-05 +/- 2.81E-05\n",
      "dq = 6.07E-09 +/- 1.49E-08\n"
     ]
    },
    {
     "name": "stdout",
     "output_type": "stream",
     "text": [
      "\n",
      "Iteration 7500/20000\n",
      "q = 9.11E-06 +/- 2.16E-05\n",
      "dq = 5.33E-09 +/- 1.23E-08\n"
     ]
    },
    {
     "name": "stdout",
     "output_type": "stream",
     "text": [
      "\n",
      "Iteration 8000/20000\n",
      "q = 7.11E-06 +/- 1.64E-05\n",
      "dq = 4.57E-09 +/- 9.87E-09\n"
     ]
    },
    {
     "name": "stdout",
     "output_type": "stream",
     "text": [
      "\n",
      "Iteration 8500/20000\n",
      "q = 5.55E-06 +/- 1.25E-05\n",
      "dq = 4.40E-09 +/- 9.76E-09\n"
     ]
    },
    {
     "name": "stdout",
     "output_type": "stream",
     "text": [
      "\n",
      "Iteration 9000/20000\n",
      "q = 4.33E-06 +/- 9.44E-06\n",
      "dq = 4.47E-09 +/- 9.72E-09\n"
     ]
    },
    {
     "name": "stdout",
     "output_type": "stream",
     "text": [
      "\n",
      "Iteration 9500/20000\n",
      "q = 3.39E-06 +/- 7.12E-06\n",
      "dq = 4.77E-09 +/- 9.32E-09\n"
     ]
    },
    {
     "name": "stdout",
     "output_type": "stream",
     "text": [
      "\n",
      "Iteration 10000/20000\n",
      "q = 2.67E-06 +/- 5.38E-06\n",
      "dq = 5.47E-09 +/- 1.19E-08\n"
     ]
    },
    {
     "name": "stdout",
     "output_type": "stream",
     "text": [
      "\n",
      "Iteration 10500/20000\n",
      "q = 2.12E-06 +/- 4.10E-06\n",
      "dq = 5.48E-09 +/- 1.11E-08\n"
     ]
    },
    {
     "name": "stdout",
     "output_type": "stream",
     "text": [
      "\n",
      "Iteration 11000/20000\n",
      "q = 1.69E-06 +/- 3.14E-06\n",
      "dq = 5.76E-09 +/- 1.38E-08\n"
     ]
    },
    {
     "name": "stdout",
     "output_type": "stream",
     "text": [
      "\n",
      "Iteration 11500/20000\n",
      "q = 1.37E-06 +/- 2.44E-06\n",
      "dq = 6.82E-09 +/- 1.53E-08\n"
     ]
    },
    {
     "name": "stdout",
     "output_type": "stream",
     "text": [
      "\n",
      "Iteration 12000/20000\n",
      "q = 1.13E-06 +/- 1.92E-06\n",
      "dq = 7.61E-09 +/- 1.63E-08\n"
     ]
    },
    {
     "name": "stdout",
     "output_type": "stream",
     "text": [
      "\n",
      "Iteration 12500/20000\n",
      "q = 9.42E-07 +/- 1.52E-06\n",
      "dq = 7.67E-09 +/- 1.74E-08\n"
     ]
    },
    {
     "name": "stdout",
     "output_type": "stream",
     "text": [
      "\n",
      "Iteration 13000/20000\n",
      "q = 8.00E-07 +/- 1.21E-06\n",
      "dq = 8.35E-09 +/- 2.10E-08\n"
     ]
    },
    {
     "name": "stdout",
     "output_type": "stream",
     "text": [
      "\n",
      "Iteration 13500/20000\n",
      "q = 6.84E-07 +/- 9.76E-07\n",
      "dq = 8.23E-09 +/- 1.90E-08\n"
     ]
    },
    {
     "name": "stdout",
     "output_type": "stream",
     "text": [
      "\n",
      "Iteration 14000/20000\n",
      "q = 5.95E-07 +/- 7.96E-07\n",
      "dq = 9.15E-09 +/- 1.95E-08\n"
     ]
    },
    {
     "name": "stdout",
     "output_type": "stream",
     "text": [
      "\n",
      "Iteration 14500/20000\n",
      "q = 5.24E-07 +/- 6.57E-07\n",
      "dq = 9.35E-09 +/- 2.06E-08\n"
     ]
    },
    {
     "name": "stdout",
     "output_type": "stream",
     "text": [
      "\n",
      "Iteration 15000/20000\n",
      "q = 4.66E-07 +/- 5.56E-07\n",
      "dq = 9.20E-09 +/- 2.07E-08\n"
     ]
    },
    {
     "name": "stdout",
     "output_type": "stream",
     "text": [
      "\n",
      "Iteration 15500/20000\n",
      "q = 4.19E-07 +/- 4.72E-07\n",
      "dq = 8.42E-09 +/- 1.89E-08\n"
     ]
    },
    {
     "name": "stdout",
     "output_type": "stream",
     "text": [
      "\n",
      "Iteration 16000/20000\n",
      "q = 3.84E-07 +/- 4.14E-07\n",
      "dq = 9.05E-09 +/- 2.09E-08\n"
     ]
    },
    {
     "name": "stdout",
     "output_type": "stream",
     "text": [
      "\n",
      "Iteration 16500/20000\n",
      "q = 3.52E-07 +/- 3.61E-07\n",
      "dq = 8.30E-09 +/- 1.64E-08\n"
     ]
    },
    {
     "name": "stdout",
     "output_type": "stream",
     "text": [
      "\n",
      "Iteration 17000/20000\n",
      "q = 3.32E-07 +/- 3.33E-07\n",
      "dq = 9.41E-09 +/- 1.90E-08\n"
     ]
    },
    {
     "name": "stdout",
     "output_type": "stream",
     "text": [
      "\n",
      "Iteration 17500/20000\n",
      "q = 3.10E-07 +/- 3.05E-07\n",
      "dq = 9.79E-09 +/- 1.98E-08\n"
     ]
    },
    {
     "name": "stdout",
     "output_type": "stream",
     "text": [
      "\n",
      "Iteration 18000/20000\n",
      "q = 2.94E-07 +/- 2.77E-07\n",
      "dq = 1.02E-08 +/- 1.96E-08\n"
     ]
    },
    {
     "name": "stdout",
     "output_type": "stream",
     "text": [
      "\n",
      "Iteration 18500/20000\n",
      "q = 2.75E-07 +/- 2.57E-07\n",
      "dq = 9.25E-09 +/- 2.00E-08\n"
     ]
    },
    {
     "name": "stdout",
     "output_type": "stream",
     "text": [
      "\n",
      "Iteration 19000/20000\n",
      "q = 2.58E-07 +/- 2.36E-07\n",
      "dq = 8.85E-09 +/- 1.78E-08\n"
     ]
    },
    {
     "name": "stdout",
     "output_type": "stream",
     "text": [
      "\n",
      "Iteration 19500/20000\n",
      "q = 2.49E-07 +/- 2.31E-07\n",
      "dq = 9.77E-09 +/- 2.00E-08\n"
     ]
    },
    {
     "name": "stdout",
     "output_type": "stream",
     "text": [
      "\n",
      "Iteration 20000/20000\n",
      "q = 2.33E-07 +/- 2.14E-07\n",
      "dq = 8.61E-09 +/- 1.89E-08\n",
      "Maximum iteration count reached. Terminating.\n",
      "Found 1024 unique fixed points.\n"
     ]
    },
    {
     "name": "stdout",
     "output_type": "stream",
     "text": [
      "Decomposing Jacobians in a single batch.\n"
     ]
    },
    {
     "name": "stdout",
     "output_type": "stream",
     "text": [
      "Sorting by Eigenvalue magnitude.\n"
     ]
    },
    {
     "data": {
      "image/png": "[encoded data removed]",
      "text/plain": [
       "<Figure size 640x480 with 1 Axes>"
      ]
     },
     "metadata": {},
     "output_type": "display_data"
    },
    {
     "data": {
      "image/png": "[encoded data removed]",
      "text/plain": [
       "<Figure size 1000x1000 with 1 Axes>"
      ]
     },
     "metadata": {},
     "output_type": "display_data"
    }
   ],
   "source": [
    "import torch\n",
    "\n",
    "with contextlib.redirect_stdout(io.StringIO()): #to suppress output\n",
    "    fps = analysis_GRU_128.plot_fps(\n",
    "        inputs= torch.zeros(3),\n",
    "        n_inits=1024,\n",
    "        learning_rate=1e-3,\n",
    "        noise_scale=0.0,\n",
    "        max_iters=20000,\n",
    "        seed=0,\n",
    "        compute_jacobians=True,\n",
    "        q_thresh=1e-5,\n",
    "    )"
   ]
  },
  {
   "cell_type": "code",
   "execution_count": null,
   "metadata": {},
   "outputs": [],
   "source": [
    "import matplotlib.pyplot as plt\n",
    "q_thesh = 1e-6\n",
    "q_vals = fps.qstar\n",
    "x_star = fps.xstar[q_vals < q_thesh]\n",
    "fig = plt.figure(figsize=(10, 10))\n",
    "ax = fig.add_subplot(111, projection='3d')\n",
    "ax.scatter(x_star[:, 0], x_star[:, 1], x_star[:, 2], c='r', marker='o')\n",
    "fig.show()"
   ]
  },
  {
   "cell_type": "markdown",
   "metadata": {
    "execution": {}
   },
   "source": [
    "❓❓❓\n",
    "\n",
    "What can you find out about the FPs of the trained models? Can you modify the FP finding hps to get more interpretable results?\n",
    "\n",
    "What can we learn about the computational solution built in this 3BFF network from these fixed-point architectures?\n",
    "\n",
    "❓❓❓"
   ]
  },
  {
   "cell_type": "markdown",
   "metadata": {
    "execution": {}
   },
   "source": [
    "## Section 6: Introducing the Random Target task:\n",
    "\n",
    "Now that we've developed intuition on a simple, well understood task, let's move up the ladder of complexity!\n",
    "\n",
    "The second task is a random-target reaching task performed by an RNN controlling a 2-joint musculoskeletal model of an arm actuated by 6 Mujoco muscles. This environment was built using MotorNet, a package developed by [Oli Codol et al.](https://github.com/OlivierCodol/MotorNet) that provides environments for training RNNs to control biomechanical models!\n",
    "\n",
    "Here is a short clip of what this task looks like when performed by a well-trained model:\n",
    "\n",
    "<img src=\"https://github.com/neuromatch/NeuroAI_Course/blob/main/projects/project-notebooks/static/FinalGif.gif?raw=true\" width=\"300\"/>\n",
    "\n",
    "\n",
    "Behaviorally, the task has the following structure:\n",
    "1. A random initial hand position is sampled from a range of reachable locations; the model is instructed to maintain that hand position.\n",
    "2. A random target position is chosen from the range of reachable locations and fed to the model.\n",
    "3. After a random delay period, a go-cue is fed to the model, which prompts the model to generate muscle activations that drive the hand to the target location.\n",
    "4. On 20% of trials, the go-cue is never supplied (\"catch\" trials)\n",
    "5. On 50% of trials, a randomly directed bump perturbation (5-10 N, 150-300 ms duration) is applied to the hand.\n",
    "    - 50% of these bumps occur in a small window after the go-cue\n",
    "    - 50% of these bumps occur at a random time in the trial\n",
    "\n",
    "The model is trained to:\n",
    "1. Minimize the MSE between the hand position and the desired hand position\n",
    "2. Minimize the squared muscle activation\n",
    "\n",
    "with each loss term being weighted by a scalar.\n"
   ]
  },
  {
   "cell_type": "code",
   "execution_count": null,
   "metadata": {},
   "outputs": [],
   "source": [
    "from ctd.task_modeling.task_env.task_env import RandomTarget\n",
    "from motornet.effector import RigidTendonArm26\n",
    "from motornet.muscle import MujocoHillMuscle\n",
    "# Create the analysis object:\n",
    "rt_task_env = RandomTarget(effector = RigidTendonArm26(muscle = MujocoHillMuscle()))"
   ]
  },
  {
   "cell_type": "markdown",
   "metadata": {
    "execution": {}
   },
   "source": [
    "⏳⏳⏳\n",
    "\n",
    "Now to train the model! We use the same procedure as the 3BFF above; this model will take a bit longer to train however, and you will want to turn off the GPUs (if you have them). Because of the serial nature of this task, the parallelization allowed by GPUs doesn't help speed up our training!\n",
    "\n",
    "⏳⏳⏳"
   ]
  },
  {
   "cell_type": "code",
   "execution_count": null,
   "metadata": {},
   "outputs": [],
   "source": [
    "from ctd.task_modeling.model.rnn import GRU_RNN\n",
    "from ctd.task_modeling.datamodule.task_datamodule import TaskDataModule\n",
    "from ctd.task_modeling.task_wrapper.task_wrapper import TaskTrainedWrapper\n",
    "from pytorch_lightning import Trainer\n",
    "\n",
    "# Step 1: Instantiate the model\n",
    "rnn = GRU_RNN(latent_size = 128) # Look in ctd/task_modeling/models for alternative choices!\n",
    "\n",
    "# Step 2: Instantiate the task environment\n",
    "task_env = rt_task_env\n",
    "\n",
    "# Step 3: Instantiate the task datamodule\n",
    "task_datamodule = TaskDataModule(task_env, n_samples = 1000, batch_size = 256)\n",
    "\n",
    "# Step 4: Instantiate the task wrapper\n",
    "task_wrapper = TaskTrainedWrapper(learning_rate=1e-3, weight_decay = 1e-8)\n",
    "\n",
    "# Step 5: Initialize the model with the input and output sizes\n",
    "rnn.init_model(\n",
    "    input_size = task_env.observation_space.shape[0] + task_env.context_inputs.shape[0],\n",
    "    output_size = task_env.action_space.shape[0]\n",
    "    )\n",
    "\n",
    "# Step 6:  Set the environment and model in the task wrapper\n",
    "task_wrapper.set_environment(task_env)\n",
    "task_wrapper.set_model(rnn)\n",
    "\n",
    "# Step 7: Define the PyTorch Lightning Trainer object (put `enable_progress_bar=True` to observe training progress)\n",
    "trainer = Trainer(accelerator= \"cpu\",max_epochs=500,enable_progress_bar=False)\n",
    "\n",
    "# Step 8: Fit the model\n",
    "trainer.fit(task_wrapper, task_datamodule)"
   ]
  },
  {
   "cell_type": "markdown",
   "metadata": {
    "execution": {}
   },
   "source": [
    "Importantly, this task is distinct from the previous two tasks because the outputs of the model affect the subsequent inputs!\n",
    "\n",
    "<img src=\"https://github.com/neuromatch/NeuroAI_Course/blob/main/projects/project-notebooks/static/MotorNetIllustration-01.png?raw=true\" width=\"400\"/>\n",
    "\n",
    "\n",
    "Visualizing the latent dynamics of models trained on MotorNet tasks, we can see that there are complex features in the state space, but we'll leave that to you to figure out what they mean!\n",
    "\n",
    "<img src=\"https://github.com/neuromatch/NeuroAI_Course/blob/main/projects/project-notebooks/static/MotorNetGif.gif?raw=true\" width=\"300\"/>\n",
    "\n"
   ]
  },
  {
   "cell_type": "markdown",
   "metadata": {
    "execution": {}
   },
   "source": [
    "In the later questions, we will ask you to modify the environments in MotorNet to test how well your models can generalize to new tasks!\n",
    "\n",
    "\n",
    "## Conclusion:\n",
    "\n",
    "That's it!\n",
    "\n",
    "To recap, in this tutorial we learned:\n",
    "1. The basics of two tasks, the Three-Bit Flip-Flop and the Random Target task.\n",
    "2. How to train recurrent neural network models on these tasks\n",
    "3. Methods of visualizng and quantifying differences between these task-trained models.\n",
    "\n",
    "As you begin to extend beyond this tutorial, you will likely need to make your own environments, or modify existing environments to test the ability of models to generalize. We've tried to document the code-base to make this as easy as possible, but feel free to reach out if you have any questions!"
   ]
  }
 ],
 "metadata": {
  "colab": {
   "collapsed_sections": [],
   "include_colab_link": true,
   "name": "ComparingNetworks",
   "toc_visible": true
  },
  "kernel": {
   "display_name": "Python 3",
   "language": "python",
   "name": "python3"
  },
  "kernelspec": {
   "display_name": "Python 3 (ipykernel)",
   "language": "python",
   "name": "python3"
  },
  "language_info": {
   "codemirror_mode": {
    "name": "ipython",
    "version": 3
   },
   "file_extension": ".py",
   "mimetype": "text/x-python",
   "name": "python",
   "nbconvert_exporter": "python",
   "pygments_lexer": "ipython3",
   "version": "3.11.5"
  }
 },
 "nbformat": 4,
 "nbformat_minor": 4
}
