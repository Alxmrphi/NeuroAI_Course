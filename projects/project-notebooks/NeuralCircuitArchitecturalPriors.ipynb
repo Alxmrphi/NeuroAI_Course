{
 "cells": [
  {
   "cell_type": "markdown",
   "metadata": {},
   "source": [
    "<a href=\"https://colab.research.google.com/github/neuromatch/NeuroAI_Course/blob/main/projects/project-notebooks/NeuralCircuitArchitecturalPriors.ipynb\" target=\"_parent\"><img src=\"https://colab.research.google.com/assets/colab-badge.svg\" alt=\"Open In Colab\"/></a> &nbsp; <a href=\"https://kaggle.com/kernels/welcome?src=https://raw.githubusercontent.com/neuromatch/NeuroAI_Course/blob/main/projects/project-notebooks/Microlearning.ipynb\" target=\"_parent\"><img src=\"https://kaggle.com/static/images/open-in-kaggle.svg\" alt=\"Open in Kaggle\"/></a>"
   ]
  },
  {
   "cell_type": "markdown",
   "metadata": {
    "id": "kYfC_3JKnyUY"
   },
   "source": [
    "# Leveraging neural architectural priors and modularity in embodied agents\n",
    "\n",
    "**By Neuromatch Academy**\n",
    "\n",
    "**Content creators:** Divyansha Lachi, Kseniia Shilova  \n",
    "\n",
    "**Content reviewers:** Eva Dyer, Hannah Choi  \n",
    "\n",
    "__Production editors:__ Konstantine Tsafatinos, Ella Batty, Spiros Chavlis, Samuele Bolotta, Hlib Solodzhuk\n",
    "\n",
    "---\n",
    "\n",
    "**Background:** This project explores how we can build a biologically inspired artificial neural network (ANN) architecture, derived from the C. Elegans motor circuit, for the control of a simulated Swimmer agent. Traditional motor control ANNs often rely on generic, fully connected multilayer perceptrons (MLPs), which demand extensive training data, offer limited transferability, and possess complex internal dynamics that challenge interpretability. The project aims to understand how the biologically motivated ANN, which is shaped by evolution to be highly structured and sparse, could help to solve these problems and provide advantages in the domain of motor control. We will train MLPs using algorithms such as PPO, DDPG, and ES, and compare their performance in terms of rewards and sample efficiency with our bio-inspired ANN. The project also includes visualizing the C. Elegans connectome and building the network using this circuitry. We will conduct various ablation analyses by removing sign and weight-sharing constraints, and altering environmental parameters like the swimmer’s length or viscosity. These investigations aim to understand how architecture and modularity impact performance and learning across different environments. Finally, the project aims at building an agent that is robust to environmental variations, navigating towards specific targets, and enhancing our understanding of bio-inspired motor control.  \n",
    "\n",
    "\n",
    "**Relevant references:**  \n",
    "\n",
    "- [Neural circuit architectural priors for embodied control](https://arxiv.org/abs/2201.05242)  \n",
    "- [Hierarchical motor control in mammals and machines](https://www.nature.com/articles/s41467-019-13239-6)  \n",
    "- [Continuous control with deep reinforcement learning](https://arxiv.org/pdf/1509.02971.pdf)  \n",
    "\n",
    "*This notebook uses code from the following GitHub repository:* [ncap](https://github.com/nikhilxb/ncap) by Nikhil X. Bhattasali and Anthony M. Zador and Tatiana A. Engel.\n",
    "\n",
    "**Infrastructure note:** To visualize the results, GPU is required. This particular version of the notebook has all the cells depending on the availability of GPU commented - you should use Google Colab or your own hardware if you want to observe them."
   ]
  },
  {
   "cell_type": "code",
   "execution_count": null,
   "metadata": {
    "colab": {
     "base_uri": "https://localhost:8080/",
     "height": 581,
     "referenced_widgets": [
      "b722c81f140340388cec7fb970f33190",
      "a3b57b3aa7204a74b61203c61a3e4b61",
      "c3e8483271ee4f4a92a131ed98230bb7",
      "26377ccd8c2a4e63ae1066090886778b"
     ]
    },
    "id": "7mPy1EFU-svJ",
    "outputId": "890cd222-a609-4cb9-b2cd-ef8e0ba19d12"
   },
   "outputs": [],
   "source": [
    "# @title Project Background\n",
    "\n",
    "from ipywidgets import widgets\n",
    "from IPython.display import YouTubeVideo\n",
    "from IPython.display import IFrame\n",
    "from IPython.display import display\n",
    "\n",
    "\n",
    "class PlayVideo(IFrame):\n",
    "  def __init__(self, id, source, page=1, width=400, height=300, **kwargs):\n",
    "    self.id = id\n",
    "    if source == 'Bilibili':\n",
    "      src = f'https://player.bilibili.com/player.html?bvid={id}&page={page}'\n",
    "    elif source == 'Osf':\n",
    "      src = f'https://mfr.ca-1.osf.io/render?url=https://osf.io/download/{id}/?direct%26mode=render'\n",
    "    super(PlayVideo, self).__init__(src, width, height, **kwargs)\n",
    "\n",
    "\n",
    "def display_videos(video_ids, W=400, H=300, fs=1):\n",
    "  tab_contents = []\n",
    "  for i, video_id in enumerate(video_ids):\n",
    "    out = widgets.Output()\n",
    "    with out:\n",
    "      if video_ids[i][0] == 'Youtube':\n",
    "        video = YouTubeVideo(id=video_ids[i][1], width=W,\n",
    "                             height=H, fs=fs, rel=0)\n",
    "        print(f'Video available at https://youtube.com/watch?v={video.id}')\n",
    "      else:\n",
    "        video = PlayVideo(id=video_ids[i][1], source=video_ids[i][0], width=W,\n",
    "                          height=H, fs=fs, autoplay=False)\n",
    "        if video_ids[i][0] == 'Bilibili':\n",
    "          print(f'Video available at https://www.bilibili.com/video/{video.id}')\n",
    "        elif video_ids[i][0] == 'Osf':\n",
    "          print(f'Video available at https://osf.io/{video.id}')\n",
    "      display(video)\n",
    "    tab_contents.append(out)\n",
    "  return tab_contents\n",
    "\n",
    "\n",
    "# video_ids = [('Youtube', '<video_id_1>')]\n",
    "# tab_contents = display_videos(video_ids, W=854, H=480)\n",
    "# tabs = widgets.Tab()\n",
    "# tabs.children = tab_contents\n",
    "# for i in range(len(tab_contents)):\n",
    "#   tabs.set_title(i, video_ids[i][0])\n",
    "# display(tabs)"
   ]
  },
  {
   "cell_type": "code",
   "execution_count": null,
   "metadata": {},
   "outputs": [],
   "source": [
    "# @title Project slides\n",
    "\n",
    "# from IPython.display import IFrame\n",
    "# link_id = \"fjaqp\"\n",
    "# print(f\"If you want to download the slides: https://osf.io/download/{link_id}/\")\n",
    "# IFrame(src=f\"https://mfr.ca-1.osf.io/render?url=https://osf.io/download/{link_id}/?direct%26mode=render\", width=854, height=480)"
   ]
  },
  {
   "cell_type": "code",
   "execution_count": null,
   "metadata": {},
   "outputs": [],
   "source": [
    "#@title Project Template\n",
    "from IPython.display import Image, display\n",
    "import os\n",
    "from pathlib import Path\n",
    "\n",
    "url = \"https://github.com/neuromatch/NeuroAI_Course/blob/main/projects/project-notebooks/static/NCAPProjectTemplate.png?raw=true\"\n",
    "\n",
    "display(Image(url=url))"
   ]
  },
  {
   "cell_type": "markdown",
   "metadata": {
    "id": "sZKyBwEvYMKU"
   },
   "source": [
    "# Initial Setup"
   ]
  },
  {
   "cell_type": "code",
   "execution_count": null,
   "metadata": {},
   "outputs": [],
   "source": [
    "#@title Installing Dependencies (CPU case, comment if you want to use GPU one)\n",
    "\n",
    "#@title Installing Dependencies\n",
    "import distutils.util\n",
    "\n",
    "print('Installing dm_control...')\n",
    "!pip install -q dm_control>=1.0.16\n",
    "print('Checking that the dm_control installation succeeded...')\n",
    "\n",
    "try:\n",
    "  from dm_control import suite\n",
    "  env = suite.load('cartpole', 'swingup')\n",
    "  pixels = env.physics.render()\n",
    "except Exception as e:\n",
    "  raise e from RuntimeError(\n",
    "      'Something went wrong during installation. Check the shell output above '\n",
    "      'for more information.\\n'\n",
    "      'If using a hosted Colab runtime, make sure you enable GPU acceleration '\n",
    "      'by going to the Runtime menu and selecting \"Choose runtime type\".')\n",
    "else:\n",
    "  del pixels, suite\n",
    "\n",
    "!echo Installed dm_control $(pip show dm_control | grep -Po \"(?<=Version: ).+\")\n",
    "!pip install -q dm-acme[envs]\n",
    "!mkdir output_videos"
   ]
  },
  {
   "cell_type": "code",
   "execution_count": null,
   "metadata": {
    "colab": {
     "base_uri": "https://localhost:8080/"
    },
    "id": "SDdzJYhv-HQg",
    "outputId": "0f28363d-0fef-4337-f525-05d21f954399"
   },
   "outputs": [],
   "source": [
    "#@title Installing Dependencies (GPU case, uncomment if you want to use this one)\n",
    "\n",
    "# import distutils.util\n",
    "# import os\n",
    "# import subprocess\n",
    "# if subprocess.run('nvidia-smi').returncode:\n",
    "#   raise RuntimeError(\n",
    "#       'Cannot communicate with GPU. '\n",
    "#       'Make sure you are using a GPU Colab runtime. '\n",
    "#       'Go to the Runtime menu and select Choose runtime type.')\n",
    "\n",
    "# # Add an ICD config so that glvnd can pick up the Nvidia EGL driver.\n",
    "# # This is usually installed as part of an Nvidia driver package, but the Colab\n",
    "# # kernel doesn't install its driver via APT, and as a result the ICD is missing.\n",
    "# # (https://github.com/NVIDIA/libglvnd/blob/master/src/EGL/icd_enumeration.md)\n",
    "# NVIDIA_ICD_CONFIG_PATH = '/usr/share/glvnd/egl_vendor.d/10_nvidia.json'\n",
    "# if not os.path.exists(NVIDIA_ICD_CONFIG_PATH):\n",
    "#   with open(NVIDIA_ICD_CONFIG_PATH, 'w') as f:\n",
    "#     f.write(\"\"\"{\n",
    "#     \"file_format_version\" : \"1.0.0\",\n",
    "#     \"ICD\" : {\n",
    "#         \"library_path\" : \"libEGL_nvidia.so.0\"\n",
    "#     }\n",
    "# }\n",
    "# \"\"\")\n",
    "\n",
    "# print('Installing dm_control...')\n",
    "# !pip install -q dm_control>=1.0.16\n",
    "\n",
    "# # Configure dm_control to use the EGL rendering backend (requires GPU)\n",
    "# %env MUJOCO_GL=egl\n",
    "\n",
    "# print('Checking that the dm_control installation succeeded...')\n",
    "# try:\n",
    "#   from dm_control import suite\n",
    "#   env = suite.load('cartpole', 'swingup')\n",
    "#   pixels = env.physics.render()\n",
    "# except Exception as e:\n",
    "#   raise e from RuntimeError(\n",
    "#       'Something went wrong during installation. Check the shell output above '\n",
    "#       'for more information.\\n'\n",
    "#       'If using a hosted Colab runtime, make sure you enable GPU acceleration '\n",
    "#       'by going to the Runtime menu and selecting \"Choose runtime type\".')\n",
    "# else:\n",
    "#   del pixels, suite\n",
    "\n",
    "# !echo Installed dm_control $(pip show dm_control | grep -Po \"(?<=Version: ).+\")\n",
    "# !pip install -q dm-acme[envs]\n",
    "# !mkdir output_videos"
   ]
  },
  {
   "cell_type": "code",
   "execution_count": null,
   "metadata": {
    "id": "jEEg1DbjgTSx"
   },
   "outputs": [],
   "source": [
    "#@title Importing Libraries\n",
    "import numpy as np\n",
    "import collections\n",
    "import argparse\n",
    "import os\n",
    "import yaml\n",
    "import os\n",
    "import typing as T\n",
    "import imageio\n",
    "import matplotlib\n",
    "import matplotlib.pyplot as plt\n",
    "import matplotlib.animation as animation\n",
    "import pandas as pd\n",
    "import seaborn as sns\n",
    "from IPython.display import HTML\n",
    "\n",
    "import dm_control as dm\n",
    "import dm_control.suite.swimmer as swimmer\n",
    "from dm_control.rl import control\n",
    "from dm_control.utils import rewards\n",
    "from dm_control import suite\n",
    "from dm_control.suite.wrappers import pixels\n",
    "\n",
    "from acme import wrappers\n",
    "\n",
    "from torch import nn"
   ]
  },
  {
   "cell_type": "code",
   "execution_count": null,
   "metadata": {
    "cellView": "form",
    "id": "rGdJHXRF8pWr"
   },
   "outputs": [],
   "source": [
    "#@title Utility code for displaying videos\n",
    "def write_video(\n",
    "  filepath: os.PathLike,\n",
    "  frames: T.Iterable[np.ndarray],\n",
    "  fps: int = 60,\n",
    "  macro_block_size: T.Optional[int] = None,\n",
    "  quality: int = 10,\n",
    "  verbose: bool = False,\n",
    "  **kwargs,\n",
    "):\n",
    "  \"\"\"\n",
    "  Saves a sequence of frames as a video file.\n",
    "\n",
    "  Parameters:\n",
    "  - filepath (os.PathLike): Path to save the video file.\n",
    "  - frames (Iterable[np.ndarray]): An iterable of frames, where each frame is a numpy array.\n",
    "  - fps (int, optional): Frames per second, defaults to 60.\n",
    "  - macro_block_size (Optional[int], optional): Macro block size for video encoding, can affect compression efficiency.\n",
    "  - quality (int, optional): Quality of the output video, higher values indicate better quality.\n",
    "  - verbose (bool, optional): If True, prints the file path where the video is saved.\n",
    "  - **kwargs: Additional keyword arguments passed to the imageio.get_writer function.\n",
    "\n",
    "  Returns:\n",
    "  None. The video is written to the specified filepath.\n",
    "  \"\"\"\n",
    "\n",
    "  with imageio.get_writer(filepath,\n",
    "                        fps=fps,\n",
    "                        macro_block_size=macro_block_size,\n",
    "                        quality=quality,\n",
    "                        **kwargs) as video:\n",
    "    if verbose: print('Saving video to:', filepath)\n",
    "    for frame in frames:\n",
    "      video.append_data(frame)\n",
    "\n",
    "\n",
    "def display_video(\n",
    "  frames: T.Iterable[np.ndarray],\n",
    "  filename='output_videos/temp.mp4',\n",
    "  fps=60,\n",
    "  **kwargs,\n",
    "):\n",
    "  \"\"\"\n",
    "  Displays a video within a Jupyter Notebook from an iterable of frames.\n",
    "\n",
    "  Parameters:\n",
    "  - frames (Iterable[np.ndarray]): An iterable of frames, where each frame is a numpy array.\n",
    "  - filename (str, optional): Temporary filename to save the video before display, defaults to 'output_videos/temp.mp4'.\n",
    "  - fps (int, optional): Frames per second for the video display, defaults to 60.\n",
    "  - **kwargs: Additional keyword arguments passed to the write_video function.\n",
    "\n",
    "  Returns:\n",
    "  HTML object: An HTML video element that can be displayed in a Jupyter Notebook.\n",
    "  \"\"\"\n",
    "\n",
    "  # Write video to a temporary file.\n",
    "  filepath = os.path.abspath(filename)\n",
    "  write_video(filepath, frames, fps=fps, verbose=False, **kwargs)\n",
    "\n",
    "  height, width, _ = frames[0].shape\n",
    "  dpi = 70\n",
    "  orig_backend = matplotlib.get_backend()\n",
    "  matplotlib.use('Agg')  # Switch to headless 'Agg' to inhibit figure rendering.\n",
    "  fig, ax = plt.subplots(1, 1, figsize=(width / dpi, height / dpi), dpi=dpi)\n",
    "  matplotlib.use(orig_backend)  # Switch back to the original backend.\n",
    "  ax.set_axis_off()\n",
    "  ax.set_aspect('equal')\n",
    "  ax.set_position([0, 0, 1, 1])\n",
    "  im = ax.imshow(frames[0])\n",
    "  def update(frame):\n",
    "    im.set_data(frame)\n",
    "    return [im]\n",
    "  interval = 1000/fps\n",
    "  anim = animation.FuncAnimation(fig=fig, func=update, frames=frames,\n",
    "                                  interval=interval, blit=True, repeat=False)\n",
    "  return HTML(anim.to_html5_video())"
   ]
  },
  {
   "cell_type": "markdown",
   "metadata": {
    "id": "UwToT6uSZrrQ"
   },
   "source": [
    "\n",
    "In this notebook we will explore the major components essential for this project.\n",
    "\n",
    "\n",
    "*   **Understanding the DeepMind Control Suite Swimmer Agent:** We will begin by exploring the swimmer agent provided by the DeepMind Control Suite. This section includes a detailed exploration of the agent's API, task customization capabilities, and how to adapt the environment to fit our experimental needs.\n",
    "*   **Training Models Using Various Reinforcement Learning Algorithms:** Next, we move on to learn how can we train models for the agents we created. We will be using Tonic_RL library to train our model. We will first train a standard MLP model using the Proximal Policy Optimization (PPO) algorithm.\n",
    "\n",
    "* **Training the NCAP model:** Finally we will define the NCAP model from [Neural Circuit Architectural Priors for Embodied Control](https://arxiv.org/abs/2201.05242) paper. We will train it using PPO and compare it against the MLP model we trained before.\n",
    "\n"
   ]
  },
  {
   "cell_type": "markdown",
   "metadata": {
    "id": "6ti9I0AwYhdX"
   },
   "source": [
    "# Section 1: Exploring the DeepMind Swimmer"
   ]
  },
  {
   "cell_type": "markdown",
   "metadata": {
    "id": "bspzkERTsh8-"
   },
   "source": [
    "## 1.1 Create a basic swim task for the swimmer environment\n",
    "\n"
   ]
  },
  {
   "cell_type": "markdown",
   "metadata": {
    "id": "o8TmpYYuszmF"
   },
   "source": [
    "First, we'll initialize a basic swimmer agent consisting of 6 links. Each agent requires a defined task and its corresponding reward function. In this instance, we've designed a swim forward task that involves the agent swimming forward in any direction.\n",
    "\n",
    "The environment is flexible, allowing for modifications to introduce additional tasks such as \"swim only in the x-direction\" or \"move towards a ball.\""
   ]
  },
  {
   "cell_type": "code",
   "execution_count": null,
   "metadata": {
    "id": "IU2y8Ke2yedy"
   },
   "outputs": [],
   "source": [
    "_SWIM_SPEED = 0.1\n",
    "\n",
    "@swimmer.SUITE.add()\n",
    "def swim(\n",
    "  n_links=6,\n",
    "  desired_speed=_SWIM_SPEED,\n",
    "  time_limit=swimmer._DEFAULT_TIME_LIMIT,\n",
    "  random=None,\n",
    "  environment_kwargs={},\n",
    "):\n",
    "  \"\"\"Returns the Swim task for a n-link swimmer.\"\"\"\n",
    "  model_string, assets = swimmer.get_model_and_assets(n_links)\n",
    "  physics = swimmer.Physics.from_xml_string(model_string, assets=assets)\n",
    "  task = Swim(desired_speed=desired_speed, random=random)\n",
    "  return control.Environment(\n",
    "    physics,\n",
    "    task,\n",
    "    time_limit=time_limit,\n",
    "    control_timestep=swimmer._CONTROL_TIMESTEP,\n",
    "    **environment_kwargs,\n",
    "  )\n",
    "\n",
    "\n",
    "class Swim(swimmer.Swimmer):\n",
    "  \"\"\"Task to swim forwards at the desired speed.\"\"\"\n",
    "  def __init__(self, desired_speed=_SWIM_SPEED, **kwargs):\n",
    "    super().__init__(**kwargs)\n",
    "    self._desired_speed = desired_speed\n",
    "\n",
    "  def initialize_episode(self, physics):\n",
    "    super().initialize_episode(physics)\n",
    "    # Hide target by setting alpha to 0.\n",
    "    physics.named.model.mat_rgba['target', 'a'] = 0\n",
    "    physics.named.model.mat_rgba['target_default', 'a'] = 0\n",
    "    physics.named.model.mat_rgba['target_highlight', 'a'] = 0\n",
    "\n",
    "  def get_observation(self, physics):\n",
    "    \"\"\"Returns an observation of joint angles and body velocities.\"\"\"\n",
    "    obs = collections.OrderedDict()\n",
    "    obs['joints'] = physics.joints()\n",
    "    obs['body_velocities'] = physics.body_velocities()\n",
    "    return obs\n",
    "\n",
    "  def get_reward(self, physics):\n",
    "    \"\"\"Returns a smooth reward that is 0 when stopped or moving backwards, and rises linearly to 1\n",
    "    when moving forwards at the desired speed.\"\"\"\n",
    "    forward_velocity = -physics.named.data.sensordata['head_vel'][1]\n",
    "    return rewards.tolerance(\n",
    "      forward_velocity,\n",
    "      bounds=(self._desired_speed, float('inf')),\n",
    "      margin=self._desired_speed,\n",
    "      value_at_margin=0.,\n",
    "      sigmoid='linear',\n",
    "    )\n"
   ]
  },
  {
   "cell_type": "markdown",
   "metadata": {
    "id": "h7Mkg4INtMon"
   },
   "source": [
    "## 1.2 Vizualizing an agent that takes random actions in the environment"
   ]
  },
  {
   "cell_type": "markdown",
   "metadata": {
    "id": "h7fojfY3dOeU"
   },
   "source": [
    "Let's visualize the environment by executing a sequence of random actions on a swimmer agent. This involves applying random actions over a series of steps and compiling the rendered frames into a video to visualize the agent's behavior."
   ]
  },
  {
   "cell_type": "code",
   "execution_count": null,
   "metadata": {
    "colab": {
     "base_uri": "https://localhost:8080/",
     "height": 501
    },
    "id": "oSBvNXrlyBKm",
    "outputId": "95f3a41b-fbae-4027-c053-33f514f57c95"
   },
   "outputs": [],
   "source": [
    "\"\"\" Renders the current environment state to an image \"\"\"\n",
    "def render(env):\n",
    "    return env.physics.render(camera_id=0, width=640, height=480)\n",
    "\n",
    "\"\"\" Tests a DeepMind control suite environment by executing a series of random actions \"\"\"\n",
    "def test_dm_control(env):\n",
    "    env = wrappers.CanonicalSpecWrapper(env, clip=True)\n",
    "    env = wrappers.SinglePrecisionWrapper(env)\n",
    "\n",
    "    spec = env.action_spec()\n",
    "    timestep = env.reset()\n",
    "    frames = [render(env)]\n",
    "\n",
    "    for _ in range(60):\n",
    "        action = np.random.uniform(low=spec.minimum, high=spec.maximum, size=spec.shape)\n",
    "        timestep = env.step(action)\n",
    "        frames.append(render(env))\n",
    "    return display_video(frames)\n"
   ]
  },
  {
   "cell_type": "code",
   "execution_count": null,
   "metadata": {},
   "outputs": [],
   "source": [
    "#@title Uncomment and use GPU to observe video\n",
    "# env = suite.load('swimmer', 'swim', task_kwargs={'random': 1})\n",
    "# test_dm_control(env)"
   ]
  },
  {
   "cell_type": "markdown",
   "metadata": {
    "id": "k0U6rVe8x-ZY"
   },
   "source": [
    "## 1.3 Swimmer Agent API"
   ]
  },
  {
   "cell_type": "markdown",
   "metadata": {
    "id": "3xdRw53Jd5rL"
   },
   "source": [
    "The observation space consists of 25 total dimensions, combining joint positions and body velocities, while the action space involves 5 dimensions representing normalized joint forces."
   ]
  },
  {
   "cell_type": "markdown",
   "metadata": {
    "id": "J3R4yr5byhS3"
   },
   "source": [
    "\n",
    "**Observation Space**: 4k - 1 total (k = 6 $\\rightarrow$ 23)\n",
    "\n",
    "- k - 1: joint positions $q_i \\in [-\\pi, \\pi]$ (`joints`)\n",
    "- 3k: link linear velocities $vx_i, vy_i \\in \\mathbb{R}$ and rotational velocity $wz_i \\in \\mathbb{R}$ (`body_velocities`)"
   ]
  },
  {
   "cell_type": "code",
   "execution_count": null,
   "metadata": {
    "colab": {
     "base_uri": "https://localhost:8080/"
    },
    "id": "g9Ixx-6ax9QP",
    "outputId": "583f6b51-67ac-4289-dfa0-94206ff654c0"
   },
   "outputs": [],
   "source": [
    "env.observation_spec()"
   ]
  },
  {
   "cell_type": "markdown",
   "metadata": {
    "id": "FuuxpcZiykWR"
   },
   "source": [
    "**Action Space**: k - 1 total (k = 6 $\\rightarrow$ 5)\n",
    "\n",
    "- k - 1: joint normalized force $\\ddot{q}_i \\in [-1, 1]$"
   ]
  },
  {
   "cell_type": "code",
   "execution_count": null,
   "metadata": {
    "colab": {
     "base_uri": "https://localhost:8080/"
    },
    "id": "hssJvY2jyEzs",
    "outputId": "4bc7c6e2-b3eb-4664-f9b5-61095a92f673"
   },
   "outputs": [],
   "source": [
    "env.action_spec()"
   ]
  },
  {
   "cell_type": "markdown",
   "metadata": {
    "id": "jIWY7WBpuM_8"
   },
   "source": [
    "## 1.4 Example of simple modification to the agent"
   ]
  },
  {
   "cell_type": "markdown",
   "metadata": {
    "id": "pzGLqC4UuWnb"
   },
   "source": [
    "\n",
    "Let's make a new swimmer agent with 12 links instead of 6, introducing complexity. Additionally, we have the flexibility to adjust various other parameters."
   ]
  },
  {
   "cell_type": "code",
   "execution_count": null,
   "metadata": {
    "id": "K9W2bbmv6kW0"
   },
   "outputs": [],
   "source": [
    "@swimmer.SUITE.add()\n",
    "def swim_12_links(\n",
    "  n_links=12,\n",
    "  desired_speed=_SWIM_SPEED,\n",
    "  time_limit=swimmer._DEFAULT_TIME_LIMIT,\n",
    "  random=None,\n",
    "  environment_kwargs={},\n",
    "):\n",
    "  \"\"\"Returns the Swim task for a n-link swimmer.\"\"\"\n",
    "  model_string, assets = swimmer.get_model_and_assets(n_links)\n",
    "  physics = swimmer.Physics.from_xml_string(model_string, assets=assets)\n",
    "  task = Swim(desired_speed=desired_speed, random=random)\n",
    "  return control.Environment(\n",
    "    physics,\n",
    "    task,\n",
    "    time_limit=time_limit,\n",
    "    control_timestep=swimmer._CONTROL_TIMESTEP,\n",
    "    **environment_kwargs,\n",
    "  )\n"
   ]
  },
  {
   "cell_type": "markdown",
   "metadata": {
    "id": "Xpp4lirNu-D-"
   },
   "source": [
    "We can visualize this longer agent using our previously defined test_dm_control function."
   ]
  },
  {
   "cell_type": "code",
   "execution_count": null,
   "metadata": {
    "colab": {
     "base_uri": "https://localhost:8080/",
     "height": 501
    },
    "id": "p5FaVNuN6RfK",
    "outputId": "ba4d64c6-875a-4eea-d7c5-25ceeba7cd87"
   },
   "outputs": [],
   "source": [
    "#@title Uncomment and use GPU to observe video\n",
    "# env = suite.load('swimmer', 'swim_12_links', task_kwargs={'random': 1})\n",
    "# test_dm_control(env)"
   ]
  },
  {
   "cell_type": "markdown",
   "metadata": {
    "id": "H91cAdZixp6o"
   },
   "source": [
    "❓"
   ]
  },
  {
   "cell_type": "markdown",
   "metadata": {
    "id": "oodR7cD0CkyO"
   },
   "source": [
    "Using the API provided by Deepmind we can create any kind of changes to the agent and the environment.\n",
    "\n",
    "Try to make the following changes to make yourself more familiar with the swimmer.\n",
    "\n",
    "*   ***Adding a target (like a ball) to this environment at some x distance away from the agent.***\n",
    "*   ***Increasing the viscosity of the environment.***\n",
    "\n",
    "\n",
    "\n",
    "Have a look at the following links to see what kind of assets you will need to modify to make these changes.\n",
    "\n",
    "\n",
    "*   [swimmer.py](https://github.com/google-deepmind/dm_control/blob/main/dm_control/suite/swimmer.py)\n",
    "*   [swimmer.xml](https://github.com/google-deepmind/dm_control/blob/main/dm_control/suite/swimmer.xml)\n",
    "\n",
    "\n"
   ]
  },
  {
   "cell_type": "code",
   "execution_count": null,
   "metadata": {
    "id": "P5RWcZc0Z7O-"
   },
   "outputs": [],
   "source": [
    "# add your code"
   ]
  },
  {
   "cell_type": "markdown",
   "metadata": {
    "id": "xdi17FfpE7Hb"
   },
   "source": [
    "# Section 2: Training models on the swim task"
   ]
  },
  {
   "cell_type": "markdown",
   "metadata": {
    "id": "WBR-RRrIHK6M"
   },
   "source": [
    "\n",
    "To train the agents we defined in the previous section, we will utilize standard reinforcement learning (RL) algorithms. For the purposes of this tutorial, we will employ the [tonic_rl](https://github.com/fabiopardo/tonic) library, which provides a robust framework for training RL agents. Throughout most of this project, you will primarily be modifying the environment or the model architecture. Therefore, I suggest treating these algorithms as a \"black box\" for now. Simply put, you input an untrained model, and the algorithm processes and returns a well-trained model. This approach allows us to focus on the impact of different architectures and environmental settings without delving deeply into the algorithmic complexities at this stage."
   ]
  },
  {
   "cell_type": "code",
   "execution_count": null,
   "metadata": {
    "colab": {
     "base_uri": "https://localhost:8080/"
    },
    "id": "NsI2r6etXCnn",
    "outputId": "07d7f18a-b789-4bf3-969d-7d333a10233c"
   },
   "outputs": [],
   "source": [
    "#@title Download and install tonic library for training agents\n",
    "!git clone https://github.com/divyansha1115/tonic.git\n",
    "%cd tonic"
   ]
  },
  {
   "cell_type": "markdown",
   "metadata": {
    "id": "x3lkDJHb8bem"
   },
   "source": [
    "## Section 2.1 Defining the train function\n",
    "\n",
    "First we defined a general training function to train any agent on any given environment with a variety of available algorithms. Given below are some of the parameter definitions of the function. You'll likely want to adjust these parameters to customize the training process for an agent in a specific environment using your chosen algorithm from the tonic library:\n",
    "\n",
    "* **Header**: Python code required to run before training begins, primarily for importing essential libraries or modules.\n",
    "\n",
    "* **Agent**: The agent that will undergo training; refer to section 3.2 and 4.2 for definitions of MLP and NCAP respectively.\n",
    "\n",
    "* **Environment**: The training environment for the agent. Ensure it is registered with the DeepMind Control Suite as detailed in section 2.\n",
    "\n",
    "* **Name**: The experiment's name, which will be utilized for log and model saving purposes.\n",
    "\n",
    "* **Trainer**: The trainer instance selected for use. It allows the configuration of the training steps, model saving frequency, and other training-related parameters.\n"
   ]
  },
  {
   "cell_type": "code",
   "execution_count": null,
   "metadata": {
    "id": "loOesG__z6uO"
   },
   "outputs": [],
   "source": [
    "import tonic\n",
    "import tonic.torch\n",
    "\n",
    "def train(\n",
    "  header,\n",
    "  agent,\n",
    "  environment,\n",
    "  name = 'test',\n",
    "  trainer = 'tonic.Trainer()',\n",
    "  before_training = None,\n",
    "  after_training = None,\n",
    "  parallel = 1,\n",
    "  sequential = 1,\n",
    "  seed = 0\n",
    "):\n",
    "  \"\"\"\n",
    "  Some additional parameters:\n",
    "\n",
    "  - before_training: Python code to execute immediately before the training loop commences, suitable for setup actions needed after initialization but prior to training.\n",
    "  - after_training: Python code to run once the training loop concludes, ideal for teardown or analytical purposes.\n",
    "  - parallel: The count of environments to execute in parallel. Limited to 1 in a Colab notebook, but if additional resources are available, this number can be increased to expedite training.\n",
    "  - sequential: The number of sequential steps the environment runs before sending observations back to the agent. This setting is useful for temporal batching. It can be disregarded for this tutorial's purposes.\n",
    "  - seed: The experiment's random seed, guaranteeing the reproducibility of the training process.\n",
    "\n",
    "  \"\"\"\n",
    "  # Capture the arguments to save them, e.g. to play with the trained agent.\n",
    "  args = dict(locals())\n",
    "\n",
    "  # Run the header first, e.g. to load an ML framework.\n",
    "  if header:\n",
    "    exec(header)\n",
    "\n",
    "  # Build the train and test environments.\n",
    "  _environment = environment\n",
    "  environment = tonic.environments.distribute(lambda: eval(_environment), parallel, sequential)\n",
    "  test_environment = tonic.environments.distribute(lambda: eval(_environment))\n",
    "\n",
    "\n",
    "  # Build the agent.\n",
    "  agent = eval(agent)\n",
    "  agent.initialize(\n",
    "    observation_space=test_environment.observation_space,\n",
    "    action_space=test_environment.action_space, seed=seed)\n",
    "\n",
    "  # Choose a name for the experiment.\n",
    "  if hasattr(test_environment, 'name'):\n",
    "    environment_name = test_environment.name\n",
    "  else:\n",
    "    environment_name = test_environment.__class__.__name__\n",
    "  if not name:\n",
    "    if hasattr(agent, 'name'):\n",
    "      name = agent.name\n",
    "    else:\n",
    "      name = agent.__class__.__name__\n",
    "    if parallel != 1 or sequential != 1:\n",
    "      name += f'-{parallel}x{sequential}'\n",
    "\n",
    "  # Initialize the logger to save data to the path environment/name/seed.\n",
    "  path = os.path.join('data', 'local', 'experiments', 'tonic', environment_name, name)\n",
    "  tonic.logger.initialize(path, script_path=None, config=args)\n",
    "\n",
    "  # Build the trainer.\n",
    "  trainer = eval(trainer)\n",
    "  trainer.initialize(\n",
    "    agent=agent,\n",
    "    environment=environment,\n",
    "    test_environment=test_environment,\n",
    "  )\n",
    "  # Run some code before training.\n",
    "  if before_training:\n",
    "    exec(before_training)\n",
    "\n",
    "  # Train.\n",
    "  trainer.run()\n",
    "\n",
    "  # Run some code after training.\n",
    "  if after_training:\n",
    "    exec(after_training)\n"
   ]
  },
  {
   "cell_type": "markdown",
   "metadata": {
    "id": "25sn9QKP3C38"
   },
   "source": [
    "## Section 2.2 Training MLP model on swim task"
   ]
  },
  {
   "cell_type": "markdown",
   "metadata": {
    "id": "OsHLX1rIhWrs"
   },
   "source": [
    "Now we are going to define a function for creating an actor-critic model suitable for Proximal Policy Optimization (PPO) using a Multi-Layer Perceptron (MLP) architecture."
   ]
  },
  {
   "cell_type": "code",
   "execution_count": null,
   "metadata": {
    "id": "8DjGPUIzZ9pw"
   },
   "outputs": [],
   "source": [
    "from tonic.torch import models, normalizers\n",
    "import torch\n",
    "\n",
    "def ppo_mlp_model(\n",
    "  actor_sizes=(64, 64),\n",
    "  actor_activation=torch.nn.Tanh,\n",
    "  critic_sizes=(64, 64),\n",
    "  critic_activation=torch.nn.Tanh,\n",
    "):\n",
    "\n",
    "  \"\"\"\n",
    "  Constructs an ActorCritic model with specified architectures for the actor and critic networks.\n",
    "\n",
    "  Parameters:\n",
    "  - actor_sizes (tuple): Sizes of the layers in the actor MLP.\n",
    "  - actor_activation (torch activation): Activation function used in the actor MLP.\n",
    "  - critic_sizes (tuple): Sizes of the layers in the critic MLP.\n",
    "  - critic_activation (torch activation): Activation function used in the critic MLP.\n",
    "\n",
    "  Returns:\n",
    "  - models.ActorCritic: An ActorCritic model comprising an actor and a critic with MLP torsos,\n",
    "    equipped with a Gaussian policy head for the actor and a value head for the critic,\n",
    "    along with observation normalization.\n",
    "  \"\"\"\n",
    "\n",
    "  return models.ActorCritic(\n",
    "    actor=models.Actor(\n",
    "      encoder=models.ObservationEncoder(),\n",
    "      torso=models.MLP(actor_sizes, actor_activation),\n",
    "      head=models.DetachedScaleGaussianPolicyHead(),\n",
    "    ),\n",
    "    critic=models.Critic(\n",
    "      encoder=models.ObservationEncoder(),\n",
    "      torso=models.MLP(critic_sizes, critic_activation),\n",
    "      head=models.ValueHead(),\n",
    "    ),\n",
    "    observation_normalizer=normalizers.MeanStd(),\n",
    "  )\n"
   ]
  },
  {
   "cell_type": "markdown",
   "metadata": {
    "id": "KU707LUPiciz"
   },
   "source": [
    "Next we call the train function which initiates the training process for the provided agent using the Tonic library. It specifies the components necessary for training, including the model, environment, and training parameters:\n",
    "\n",
    "**Agent**: A Proximal Policy Optimization (PPO) agent with a custom Multi-Layer Perceptron (MLP) model architecture, configured with 256 units in each of two layers for both the actor and the critic.\n",
    "\n",
    "**Environment**: The training environment is set to \"swimmer-swim\" from the Control Suite, a benchmark suite for continuous control tasks.\n",
    "\n",
    "**Name**: The experiment is named 'mlp_256', which is useful for identifying logs and saved models associated with this training run.\n",
    "\n",
    "**Trainer**: Specifies the training configuration, including the total number of steps (5e5) and the frequency of saving the model (1e5 steps)."
   ]
  },
  {
   "cell_type": "markdown",
   "metadata": {
    "id": "Xf5-MvmLb2QZ"
   },
   "source": [
    "\n",
    "*Note:* The model will checkpoint every 'save_steps' amount of training steps*  \n",
    "\n",
    "\n"
   ]
  },
  {
   "cell_type": "markdown",
   "metadata": {
    "id": "_JPxuFK40WXC"
   },
   "source": [
    "⏳ The model can take some time to train so feel free to skip the training for now. We have provided the pretrained model for you to play with. Move on to the next section to vizualize a agent with the pretrained model"
   ]
  },
  {
   "cell_type": "code",
   "execution_count": null,
   "metadata": {
    "id": "IR8nokTG23jY"
   },
   "outputs": [],
   "source": [
    "train('import tonic.torch',\n",
    "      'tonic.torch.agents.PPO(model=ppo_mlp_model(actor_sizes=(256, 256), critic_sizes=(256,256)))',\n",
    "      'tonic.environments.ControlSuite(\"swimmer-swim\")',\n",
    "      name = 'mlp_256',\n",
    "      trainer = 'tonic.Trainer(steps=int(5e5),save_steps=int(1e5))')"
   ]
  },
  {
   "cell_type": "markdown",
   "metadata": {
    "id": "bssHuq_BxudF"
   },
   "source": [
    "❓"
   ]
  },
  {
   "cell_type": "markdown",
   "metadata": {
    "id": "ixpf25oqGppy"
   },
   "source": [
    "**Try playing with the parameters of the trainer and the MLP model and see how it affects the performance.**\n",
    "\n",
    "\n",
    "*   ***How do the actor and the critic model size affect the performance.***\n",
    "*   ***Consider increasing the number of steps in trainer to train the model for longer.***\n",
    "*   ***Explore [Tonic library](https://github.com/fabiopardo/tonic) to see what algorithms we can use to train our agents. (D4PG is usually faster than PPO)***"
   ]
  },
  {
   "cell_type": "code",
   "execution_count": null,
   "metadata": {
    "id": "nOIjS-tNdCzF"
   },
   "outputs": [],
   "source": [
    "# add your code\n"
   ]
  },
  {
   "cell_type": "markdown",
   "metadata": {
    "id": "7drx5KSf3M43"
   },
   "source": [
    "## Section 2.3 Function to run any model on the environment and generate video"
   ]
  },
  {
   "cell_type": "markdown",
   "metadata": {
    "id": "4qTaK0jTHxmW"
   },
   "source": [
    "One of the most fun things about these environments is their visualization. We don't want to just look at the reward to know how good our model is we want to see how well the agent swims. This is particularly important to avoid \"reward hacking,\" where an agent learns to exploit the reward system in ways that are unintended and potentially detrimental to the desired outcomes. Moreover visualizing the agent also help us understand where the model is going wrong."
   ]
  },
  {
   "cell_type": "markdown",
   "metadata": {
    "id": "GPFFakItJTmP"
   },
   "source": [
    "Here we have defined a function that will generate the videos of the agent using the input model. The function requires path to the checkpoint folder and the environment you wanna run the trained model on."
   ]
  },
  {
   "cell_type": "code",
   "execution_count": null,
   "metadata": {
    "id": "fp7uGTOog4h3"
   },
   "outputs": [],
   "source": [
    "def play_model(path, checkpoint='last',environment='default',seed=None, header=None):\n",
    "\n",
    "  \"\"\"\n",
    "    Plays a model within an environment and renders the gameplay to a video.\n",
    "\n",
    "    Parameters:\n",
    "    - path (str): Path to the directory containing the model and checkpoints.\n",
    "    - checkpoint (str): Specifies which checkpoint to use ('last', 'first', or a specific ID). 'none' indicates no checkpoint.\n",
    "    - environment (str): The environment to use. 'default' uses the environment specified in the configuration file.\n",
    "    - seed (int): Optional seed for reproducibility.\n",
    "    - header (str): Optional Python code to execute before initializing the model, such as importing libraries.\n",
    "    \"\"\"\n",
    "\n",
    "  if checkpoint == 'none':\n",
    "    # Use no checkpoint, the agent is freshly created.\n",
    "    checkpoint_path = None\n",
    "    tonic.logger.log('Not loading any weights')\n",
    "  else:\n",
    "    checkpoint_path = os.path.join(path, 'checkpoints')\n",
    "    if not os.path.isdir(checkpoint_path):\n",
    "      tonic.logger.error(f'{checkpoint_path} is not a directory')\n",
    "      checkpoint_path = None\n",
    "\n",
    "    # List all the checkpoints.\n",
    "    checkpoint_ids = []\n",
    "    for file in os.listdir(checkpoint_path):\n",
    "      if file[:5] == 'step_':\n",
    "        checkpoint_id = file.split('.')[0]\n",
    "        checkpoint_ids.append(int(checkpoint_id[5:]))\n",
    "\n",
    "    if checkpoint_ids:\n",
    "      if checkpoint == 'last':\n",
    "        # Use the last checkpoint.\n",
    "        checkpoint_id = max(checkpoint_ids)\n",
    "        checkpoint_path = os.path.join(checkpoint_path, f'step_{checkpoint_id}')\n",
    "      elif checkpoint == 'first':\n",
    "        # Use the first checkpoint.\n",
    "        checkpoint_id = min(checkpoint_ids)\n",
    "        checkpoint_path = os.path.join(checkpoint_path, f'step_{checkpoint_id}')\n",
    "      else:\n",
    "        # Use the specified checkpoint.\n",
    "        checkpoint_id = int(checkpoint)\n",
    "        if checkpoint_id in checkpoint_ids:\n",
    "          checkpoint_path = os.path.join(checkpoint_path, f'step_{checkpoint_id}')\n",
    "        else:\n",
    "          tonic.logger.error(f'Checkpoint {checkpoint_id} not found in {checkpoint_path}')\n",
    "          checkpoint_path = None\n",
    "    else:\n",
    "      tonic.logger.error(f'No checkpoint found in {checkpoint_path}')\n",
    "      checkpoint_path = None\n",
    "\n",
    "  # Load the experiment configuration.\n",
    "  arguments_path = os.path.join(path, 'config.yaml')\n",
    "  with open(arguments_path, 'r') as config_file:\n",
    "    config = yaml.load(config_file, Loader=yaml.FullLoader)\n",
    "  config = argparse.Namespace(**config)\n",
    "\n",
    "  # Run the header first, e.g. to load an ML framework.\n",
    "  try:\n",
    "    if config.header:\n",
    "      exec(config.header)\n",
    "    if header:\n",
    "      exec(header)\n",
    "  except:\n",
    "    pass\n",
    "\n",
    "  # Build the agent.\n",
    "  agent = eval(config.agent)\n",
    "\n",
    "  # Build the environment.\n",
    "  if environment == 'default':\n",
    "    environment  = tonic.environments.distribute(lambda: eval(config.environment))\n",
    "  else:\n",
    "    environment  = tonic.environments.distribute(lambda: eval(environment))\n",
    "  if seed is not None:\n",
    "    environment.seed(seed)\n",
    "\n",
    "  # Initialize the agent.\n",
    "  agent.initialize(\n",
    "    observation_space=environment.observation_space,\n",
    "    action_space=environment.action_space,\n",
    "    seed=seed,\n",
    "  )\n",
    "\n",
    "  # Load the weights of the agent form a checkpoint.\n",
    "  if checkpoint_path:\n",
    "    agent.load(checkpoint_path)\n",
    "\n",
    "  steps = 0\n",
    "  test_observations = environment.start()\n",
    "  frames = [environment.render('rgb_array',camera_id=0, width=640, height=480)[0]]\n",
    "  score, length = 0, 0\n",
    "\n",
    "  while True:\n",
    "      # Select an action.\n",
    "      actions = agent.test_step(test_observations, steps)\n",
    "      assert not np.isnan(actions.sum())\n",
    "\n",
    "      # Take a step in the environment.\n",
    "      test_observations, infos = environment.step(actions)\n",
    "      frames.append(environment.render('rgb_array',camera_id=0, width=640, height=480)[0])\n",
    "      agent.test_update(**infos, steps=steps)\n",
    "\n",
    "      score += infos['rewards'][0]\n",
    "      length += 1\n",
    "\n",
    "      if infos['resets'][0]:\n",
    "          break\n",
    "  video_path = os.path.join(path, 'video.mp4')\n",
    "  print('Reward for the run: ', score)\n",
    "  return display_video(frames,video_path)\n"
   ]
  },
  {
   "cell_type": "markdown",
   "metadata": {
    "id": "DieGHubtOmbB"
   },
   "source": [
    "Let's visualize the agent with a pretrained MLP model. Once you have your pretrained model, you can replace the experiment path to visualize the agent with your model."
   ]
  },
  {
   "cell_type": "markdown",
   "metadata": {
    "id": "ab4WT6smxD4w"
   },
   "source": [
    "⏳"
   ]
  },
  {
   "cell_type": "code",
   "execution_count": null,
   "metadata": {
    "colab": {
     "base_uri": "https://localhost:8080/",
     "height": 730
    },
    "id": "CIpbJ1uJg4jz",
    "outputId": "cc02ce6f-c05f-4adb-87b0-5c05051b658e"
   },
   "outputs": [],
   "source": [
    "#@title Uncomment and use GPU to observe video\n",
    "# play_model('data/local/experiments/tonic/swimmer-swim/mlp_256')\n",
    "# play_model('data/local/experiments/tonic/swimmer-swim/pretrained_mlp_ppo')"
   ]
  },
  {
   "cell_type": "markdown",
   "metadata": {
    "id": "7GejgqrDxxaC"
   },
   "source": [
    "❓"
   ]
  },
  {
   "cell_type": "markdown",
   "metadata": {
    "id": "F3jnPhUOJzow"
   },
   "source": [
    "Try testing the model on a modification of the enviroment it was trained on.\n",
    "\n",
    "\n",
    "*   ***Train on basic swim task and test on a environment with higher viscosity.***\n",
    "*   ***Can we train on the basic 6 link swimmer and test on a larger 12 link swimmer?***\n",
    "* ***Train the model for a bit on the modified environment and see how quickly the model can adapt to the new environment.***\n",
    "\n",
    "\n"
   ]
  },
  {
   "cell_type": "code",
   "execution_count": null,
   "metadata": {
    "colab": {
     "base_uri": "https://localhost:8080/"
    },
    "id": "uyjlJ6GUdemY",
    "outputId": "bcd3d696-7518-4374-bc56-fc9f288daca3"
   },
   "outputs": [],
   "source": [
    "# add your code\n"
   ]
  },
  {
   "cell_type": "markdown",
   "metadata": {
    "id": "--ktpLJQ7WPk"
   },
   "source": [
    "# Section 3: NCAP"
   ]
  },
  {
   "cell_type": "markdown",
   "metadata": {
    "id": "K1ItdQ6CK_k_"
   },
   "source": [
    "Now that we are familiar with how to train standard models on the swimmer agent let's take a look at NCAP a model that was inspired from the C. elegans motor circuit.\n",
    "Our hope with using such models is that they would already have really good priors which should lead to much better transfer, faster learning curves and possibly really good innate performance (zero shot performance).\n",
    "\n",
    "Check out [NCAP paper](https://arxiv.org/abs/2201.05242) to learn more about the model."
   ]
  },
  {
   "cell_type": "code",
   "execution_count": null,
   "metadata": {},
   "outputs": [],
   "source": [
    "#@title Paper Illustration\n",
    "\n",
    "from IPython.display import Image, display\n",
    "import os\n",
    "from pathlib import Path\n",
    "\n",
    "url = \"https://github.com/neuromatch/NeuroAI_Course/blob/main/projects/project-notebooks/static/NCAPPaper.png?raw=true\"\n",
    "\n",
    "display(Image(url=url))"
   ]
  },
  {
   "cell_type": "markdown",
   "metadata": {
    "id": "yykt3qj_CnUv"
   },
   "source": [
    "## 3.1 NCAP classes"
   ]
  },
  {
   "cell_type": "markdown",
   "metadata": {
    "id": "CISQWiVGjYD0"
   },
   "source": [
    "Now we are going to define ***SwimmerModule*** (NCAP model) and ***SwimmerActor*** (wrapper around NCAP model to make it compatible with tonic) classes.\n",
    "\n",
    "\n",
    "\n",
    "  "
   ]
  },
  {
   "cell_type": "markdown",
   "metadata": {
    "id": "tsQTUcUXOd23"
   },
   "source": [
    "#### Section 3.1.1 Defining the constraints"
   ]
  },
  {
   "cell_type": "code",
   "execution_count": null,
   "metadata": {
    "id": "AXE6CtXv8xB-"
   },
   "outputs": [],
   "source": [
    "\n",
    "# ==================================================================================================\n",
    "# Weight constraints.\n",
    "\n",
    "\n",
    "def excitatory(w, upper=None):\n",
    "    return w.clamp(min=0, max=upper)\n",
    "\n",
    "\n",
    "def inhibitory(w, lower=None):\n",
    "    return w.clamp(min=lower, max=0)\n",
    "\n",
    "\n",
    "def unsigned(w, lower=None, upper=None):\n",
    "    return w if lower is None and upper is None else w.clamp(min=lower, max=upper)\n",
    "\n",
    "\n",
    "# ==================================================================================================\n",
    "# Activation constraints.\n",
    "\n",
    "\n",
    "def graded(x):\n",
    "    return x.clamp(min=0, max=1)\n",
    "\n",
    "\n",
    "# ==================================================================================================\n",
    "# Weight initialization.\n",
    "\n",
    "\n",
    "def excitatory_uniform(shape=(1,), lower=0., upper=1.):\n",
    "    assert lower >= 0\n",
    "    return nn.init.uniform_(nn.Parameter(torch.empty(shape)), a=lower, b=upper)\n",
    "\n",
    "\n",
    "def inhibitory_uniform(shape=(1,), lower=-1., upper=0.):\n",
    "    assert upper <= 0\n",
    "    return nn.init.uniform_(nn.Parameter(torch.empty(shape)), a=lower, b=upper)\n",
    "\n",
    "\n",
    "def unsigned_uniform(shape=(1,), lower=-1., upper=1.):\n",
    "    return nn.init.uniform_(nn.Parameter(torch.empty(shape)), a=lower, b=upper)\n",
    "\n",
    "\n",
    "def excitatory_constant(shape=(1,), value=1.):\n",
    "    return nn.Parameter(torch.full(shape, value))\n",
    "\n",
    "\n",
    "def inhibitory_constant(shape=(1,), value=-1.):\n",
    "    return nn.Parameter(torch.full(shape, value))\n",
    "\n",
    "\n",
    "def unsigned_constant(shape=(1,), lower=-1., upper=1., p=0.5):\n",
    "    with torch.no_grad():\n",
    "        weight = torch.empty(shape).uniform_(0, 1)\n",
    "        mask = weight < p\n",
    "        weight[mask] = upper\n",
    "        weight[~mask] = lower\n",
    "        return nn.Parameter(weight)"
   ]
  },
  {
   "cell_type": "markdown",
   "metadata": {
    "id": "vgaVlnXmOLh9"
   },
   "source": [
    "***Can you think of more kinds of weight initializations and constraints that might be useful for the swimmer agent?***"
   ]
  },
  {
   "cell_type": "markdown",
   "metadata": {
    "id": "5edZXKeqOl1S"
   },
   "source": [
    "#### Section 3.1.2: Defining the ***SwimmerModule***"
   ]
  },
  {
   "cell_type": "markdown",
   "metadata": {
    "id": "WHArIxrzd94-"
   },
   "source": [
    "The ***SwimmerModule*** class represents the neural network module inspired by the C. elegans neural circuitry, designed for controlling a robotic swimmer with specific architectural priors, such as proprioception and oscillatory movement patterns."
   ]
  },
  {
   "cell_type": "code",
   "execution_count": null,
   "metadata": {
    "id": "tpZefIGu8jW2"
   },
   "outputs": [],
   "source": [
    "class SwimmerModule(nn.Module):\n",
    "    \"\"\"C.-elegans-inspired neural circuit architectural prior.\"\"\"\n",
    "\n",
    "    def __init__(\n",
    "            self,\n",
    "            n_joints: int,\n",
    "            n_turn_joints: int = 1,\n",
    "            oscillator_period: int = 60,\n",
    "            use_weight_sharing: bool = True,\n",
    "            use_weight_constraints: bool = True,\n",
    "            use_weight_constant_init: bool = True,\n",
    "            include_proprioception: bool = True,\n",
    "            include_head_oscillators: bool = True,\n",
    "            include_speed_control: bool = False,\n",
    "            include_turn_control: bool = False,\n",
    "    ):\n",
    "        super().__init__()\n",
    "        self.n_joints = n_joints\n",
    "        self.n_turn_joints = n_turn_joints\n",
    "        self.oscillator_period = oscillator_period\n",
    "        self.include_proprioception = include_proprioception\n",
    "        self.include_head_oscillators = include_head_oscillators\n",
    "        self.include_speed_control = include_speed_control\n",
    "        self.include_turn_control = include_turn_control\n",
    "\n",
    "        # Log activity\n",
    "        self.connections_log = []\n",
    "\n",
    "        # Timestep counter (for oscillations).\n",
    "        self.timestep = 0\n",
    "\n",
    "        # Weight sharing switch function.\n",
    "        self.ws = lambda nonshared, shared: shared if use_weight_sharing else nonshared\n",
    "\n",
    "        # Weight constraint and init functions.\n",
    "        if use_weight_constraints:\n",
    "            self.exc = excitatory\n",
    "            self.inh = inhibitory\n",
    "            if use_weight_constant_init:\n",
    "                exc_param = excitatory_constant\n",
    "                inh_param = inhibitory_constant\n",
    "            else:\n",
    "                exc_param = excitatory_uniform\n",
    "                inh_param = inhibitory_uniform\n",
    "        else:\n",
    "            self.exc = unsigned\n",
    "            self.inh = unsigned\n",
    "            if use_weight_constant_init:\n",
    "                exc_param = inh_param = unsigned_constant\n",
    "            else:\n",
    "                exc_param = inh_param = unsigned_uniform\n",
    "\n",
    "        # Learnable parameters.\n",
    "        self.params = nn.ParameterDict()\n",
    "        if use_weight_sharing:\n",
    "            if self.include_proprioception:\n",
    "                self.params['bneuron_prop'] = exc_param()\n",
    "            if self.include_speed_control:\n",
    "                self.params['bneuron_speed'] = inh_param()\n",
    "            if self.include_turn_control:\n",
    "                self.params['bneuron_turn'] = exc_param()\n",
    "            if self.include_head_oscillators:\n",
    "                self.params['bneuron_osc'] = exc_param()\n",
    "            self.params['muscle_ipsi'] = exc_param()\n",
    "            self.params['muscle_contra'] = inh_param()\n",
    "        else:\n",
    "            for i in range(self.n_joints):\n",
    "                if self.include_proprioception and i > 0:\n",
    "                    self.params[f'bneuron_d_prop_{i}'] = exc_param()\n",
    "                    self.params[f'bneuron_v_prop_{i}'] = exc_param()\n",
    "\n",
    "                if self.include_speed_control:\n",
    "                    self.params[f'bneuron_d_speed_{i}'] = inh_param()\n",
    "                    self.params[f'bneuron_v_speed_{i}'] = inh_param()\n",
    "\n",
    "                if self.include_turn_control and i < self.n_turn_joints:\n",
    "                    self.params[f'bneuron_d_turn_{i}'] = exc_param()\n",
    "                    self.params[f'bneuron_v_turn_{i}'] = exc_param()\n",
    "\n",
    "                if self.include_head_oscillators and i == 0:\n",
    "                    self.params[f'bneuron_d_osc_{i}'] = exc_param()\n",
    "                    self.params[f'bneuron_v_osc_{i}'] = exc_param()\n",
    "\n",
    "                self.params[f'muscle_d_d_{i}'] = exc_param()\n",
    "                self.params[f'muscle_d_v_{i}'] = inh_param()\n",
    "                self.params[f'muscle_v_v_{i}'] = exc_param()\n",
    "                self.params[f'muscle_v_d_{i}'] = inh_param()\n",
    "\n",
    "    def reset(self):\n",
    "        self.timestep = 0\n",
    "\n",
    "    def log_activity(self, activity_type, neuron):\n",
    "        \"\"\"Logs an active connection between neurons.\"\"\"\n",
    "        self.connections_log.append((self.timestep, activity_type, neuron))\n",
    "\n",
    "    def forward(\n",
    "            self,\n",
    "            joint_pos,\n",
    "            right_control=None,\n",
    "            left_control=None,\n",
    "            speed_control=None,\n",
    "            timesteps=None,\n",
    "            log_activity=True,\n",
    "            log_file='log.txt'\n",
    "    ):\n",
    "        \"\"\"Forward pass.\n",
    "\n",
    "    Args:\n",
    "      joint_pos (torch.Tensor): Joint positions in [-1, 1], shape (..., n_joints).\n",
    "      right_control (torch.Tensor): Right turn control in [0, 1], shape (..., 1).\n",
    "      left_control (torch.Tensor): Left turn control in [0, 1], shape (..., 1).\n",
    "      speed_control (torch.Tensor): Speed control in [0, 1], 0 stopped, 1 fastest, shape (..., 1).\n",
    "      timesteps (torch.Tensor): Timesteps in [0, max_env_steps], shape (..., 1).\n",
    "\n",
    "    Returns:\n",
    "      (torch.Tensor): Joint torques in [-1, 1], shape (..., n_joints).\n",
    "    \"\"\"\n",
    "\n",
    "        exc = self.exc\n",
    "        inh = self.inh\n",
    "        ws = self.ws\n",
    "\n",
    "        # Separate into dorsal and ventral sensor values in [0, 1], shape (..., n_joints).\n",
    "        joint_pos_d = joint_pos.clamp(min=0, max=1)\n",
    "        joint_pos_v = joint_pos.clamp(min=-1, max=0).neg()\n",
    "\n",
    "        # Convert speed signal from acceleration into brake.\n",
    "        if self.include_speed_control:\n",
    "            assert speed_control is not None\n",
    "            speed_control = 1 - speed_control.clamp(min=0, max=1)\n",
    "\n",
    "        joint_torques = []  # [shape (..., 1)]\n",
    "        for i in range(self.n_joints):\n",
    "            bneuron_d = bneuron_v = torch.zeros_like(joint_pos[..., 0, None])  # shape (..., 1)\n",
    "\n",
    "            # B-neurons recieve proprioceptive input from previous joint to propagate waves down the body.\n",
    "            if self.include_proprioception and i > 0:\n",
    "                bneuron_d = bneuron_d + joint_pos_d[\n",
    "                    ..., i - 1, None] * exc(self.params[ws(f'bneuron_d_prop_{i}', 'bneuron_prop')])\n",
    "                bneuron_v = bneuron_v + joint_pos_v[\n",
    "                    ..., i - 1, None] * exc(self.params[ws(f'bneuron_v_prop_{i}', 'bneuron_prop')])\n",
    "                self.log_activity('exc', f'bneuron_d_prop_{i}')\n",
    "                self.log_activity('exc', f'bneuron_v_prop_{i}')\n",
    "\n",
    "            # Speed control unit modulates all B-neurons.\n",
    "            if self.include_speed_control:\n",
    "                bneuron_d = bneuron_d + speed_control * inh(\n",
    "                    self.params[ws(f'bneuron_d_speed_{i}', 'bneuron_speed')]\n",
    "                )\n",
    "                bneuron_v = bneuron_v + speed_control * inh(\n",
    "                    self.params[ws(f'bneuron_v_speed_{i}', 'bneuron_speed')]\n",
    "                )\n",
    "                self.log_activity('inh', f'bneuron_d_speed_{i}')\n",
    "                self.log_activity('inh', f'bneuron_v_speed_{i}')\n",
    "\n",
    "            # Turn control units modulate head B-neurons.\n",
    "            if self.include_turn_control and i < self.n_turn_joints:\n",
    "                assert right_control is not None\n",
    "                assert left_control is not None\n",
    "                turn_control_d = right_control.clamp(min=0, max=1)  # shape (..., 1)\n",
    "                turn_control_v = left_control.clamp(min=0, max=1)\n",
    "                bneuron_d = bneuron_d + turn_control_d * exc(\n",
    "                    self.params[ws(f'bneuron_d_turn_{i}', 'bneuron_turn')]\n",
    "                )\n",
    "                bneuron_v = bneuron_v + turn_control_v * exc(\n",
    "                    self.params[ws(f'bneuron_v_turn_{i}', 'bneuron_turn')]\n",
    "                )\n",
    "                self.log_activity('exc', f'bneuron_d_turn_{i}')\n",
    "                self.log_activity('exc', f'bneuron_v_turn_{i}')\n",
    "\n",
    "            # Oscillator units modulate first B-neurons.\n",
    "            if self.include_head_oscillators and i == 0:\n",
    "                if timesteps is not None:\n",
    "                    phase = timesteps.round().remainder(self.oscillator_period)\n",
    "                    mask = phase < self.oscillator_period // 2\n",
    "                    oscillator_d = torch.zeros_like(timesteps)  # shape (..., 1)\n",
    "                    oscillator_v = torch.zeros_like(timesteps)  # shape (..., 1)\n",
    "                    oscillator_d[mask] = 1.\n",
    "                    oscillator_v[~mask] = 1.\n",
    "                else:\n",
    "                    phase = self.timestep % self.oscillator_period  # in [0, oscillator_period)\n",
    "                    if phase < self.oscillator_period // 2:\n",
    "                        oscillator_d, oscillator_v = 1.0, 0.0\n",
    "                    else:\n",
    "                        oscillator_d, oscillator_v = 0.0, 1.0\n",
    "                bneuron_d = bneuron_d + oscillator_d * exc(\n",
    "                    self.params[ws(f'bneuron_d_osc_{i}', 'bneuron_osc')]\n",
    "                )\n",
    "                bneuron_v = bneuron_v + oscillator_v * exc(\n",
    "                    self.params[ws(f'bneuron_v_osc_{i}', 'bneuron_osc')]\n",
    "                )\n",
    "\n",
    "                self.log_activity('exc', f'bneuron_d_osc_{i}')\n",
    "                self.log_activity('exc', f'bneuron_v_osc_{i}')\n",
    "\n",
    "            # B-neuron activation.\n",
    "            bneuron_d = graded(bneuron_d)\n",
    "            bneuron_v = graded(bneuron_v)\n",
    "\n",
    "            # Muscles receive excitatory ipsilateral and inhibitory contralateral input.\n",
    "            muscle_d = graded(\n",
    "                bneuron_d * exc(self.params[ws(f'muscle_d_d_{i}', 'muscle_ipsi')]) +\n",
    "                bneuron_v * inh(self.params[ws(f'muscle_d_v_{i}', 'muscle_contra')])\n",
    "            )\n",
    "            muscle_v = graded(\n",
    "                bneuron_v * exc(self.params[ws(f'muscle_v_v_{i}', 'muscle_ipsi')]) +\n",
    "                bneuron_d * inh(self.params[ws(f'muscle_v_d_{i}', 'muscle_contra')])\n",
    "            )\n",
    "\n",
    "            # Joint torque from antagonistic contraction of dorsal and ventral muscles.\n",
    "            joint_torque = muscle_d - muscle_v\n",
    "            joint_torques.append(joint_torque)\n",
    "\n",
    "        self.timestep += 1\n",
    "\n",
    "        out = torch.cat(joint_torques, -1)  # shape (..., n_joints)\n",
    "        return out\n"
   ]
  },
  {
   "cell_type": "markdown",
   "metadata": {
    "id": "e8H8lKeZOtar"
   },
   "source": [
    "#### Section 3.1.3: Defining the ***SwimmerActor*** wrapper"
   ]
  },
  {
   "cell_type": "markdown",
   "metadata": {
    "id": "vAy8hx6KeHRU"
   },
   "source": [
    "\n",
    "The ***SwimmerActor*** class acts as a wrapper around the ***SwimmerModule***, managing high-level control signals and observations coming from the environment and passing them to the ***SwimmerModule*** in a suitable format. This class is basically responsible for making the SwimmerModule compatible with the tonic library. If you wish to use any other library to try a algorithm not present in tonic you have to write a new wrapper to make ***SwimmerModule*** compatible with that library."
   ]
  },
  {
   "cell_type": "code",
   "execution_count": null,
   "metadata": {
    "id": "qJ2ywvBL8C5X"
   },
   "outputs": [],
   "source": [
    "class SwimmerActor(nn.Module):\n",
    "    def __init__(\n",
    "            self,\n",
    "            swimmer,\n",
    "            controller=None,\n",
    "            distribution=None,\n",
    "            timestep_transform=(-1, 1, 0, 1000),\n",
    "    ):\n",
    "        super().__init__()\n",
    "        self.swimmer = swimmer\n",
    "        self.controller = controller\n",
    "        self.distribution = distribution\n",
    "        self.timestep_transform = timestep_transform\n",
    "\n",
    "    def initialize(\n",
    "            self,\n",
    "            observation_space,\n",
    "            action_space,\n",
    "            observation_normalizer=None,\n",
    "    ):\n",
    "        self.action_size = action_space.shape[0]\n",
    "\n",
    "    def forward(self, observations):\n",
    "        joint_pos = observations[..., :self.action_size]\n",
    "        timesteps = observations[..., -1, None]\n",
    "\n",
    "        # Normalize joint positions by max joint angle (in radians).\n",
    "        joint_limit = 2 * np.pi / (self.action_size + 1)  # In dm_control, calculated with n_bodies.\n",
    "        joint_pos = torch.clamp(joint_pos / joint_limit, min=-1, max=1)\n",
    "\n",
    "        # Convert normalized time signal into timestep.\n",
    "        if self.timestep_transform:\n",
    "            low_in, high_in, low_out, high_out = self.timestep_transform\n",
    "            timesteps = (timesteps - low_in) / (high_in - low_in) * (high_out - low_out) + low_out\n",
    "\n",
    "        # Generate high-level control signals.\n",
    "        if self.controller:\n",
    "            right, left, speed = self.controller(observations)\n",
    "        else:\n",
    "            right, left, speed = None, None, None\n",
    "\n",
    "        # Generate low-level action signals.\n",
    "        actions = self.swimmer(\n",
    "            joint_pos,\n",
    "            timesteps=timesteps,\n",
    "            right_control=right,\n",
    "            left_control=left,\n",
    "            speed_control=speed,\n",
    "        )\n",
    "\n",
    "        # Pass through distribution for stochastic policy.\n",
    "        if self.distribution:\n",
    "            actions = self.distribution(actions)\n",
    "\n",
    "        return actions"
   ]
  },
  {
   "cell_type": "markdown",
   "metadata": {
    "id": "2VRmZ6C7Chdm"
   },
   "source": [
    "## 3.2: Train NCAP"
   ]
  },
  {
   "cell_type": "markdown",
   "metadata": {
    "id": "c8_05jeYkseD"
   },
   "source": [
    "We will now define functions akin to those for MLP we defined in Section 3.2, but tailored for the SwimmerActor model.\n",
    "  \n"
   ]
  },
  {
   "cell_type": "code",
   "execution_count": null,
   "metadata": {
    "id": "7vAo9Vi282cZ"
   },
   "outputs": [],
   "source": [
    "from tonic.torch import models, normalizers\n",
    "import torch\n",
    "\n",
    "\n",
    "def ppo_swimmer_model(\n",
    "        n_joints=5,\n",
    "        action_noise=0.1,\n",
    "        critic_sizes=(64, 64),\n",
    "        critic_activation=nn.Tanh,\n",
    "        **swimmer_kwargs,\n",
    "):\n",
    "    return models.ActorCritic(\n",
    "        actor=SwimmerActor(\n",
    "            swimmer=SwimmerModule(n_joints=n_joints, **swimmer_kwargs),\n",
    "            distribution=lambda x: torch.distributions.normal.Normal(x, action_noise),\n",
    "        ),\n",
    "        critic=models.Critic(\n",
    "            encoder=models.ObservationEncoder(),\n",
    "            torso=models.MLP(critic_sizes, critic_activation),\n",
    "            head=models.ValueHead(),\n",
    "        ),\n",
    "        observation_normalizer=normalizers.MeanStd(),\n",
    "    )\n",
    "\n",
    "\n",
    "def d4pg_swimmer_model(\n",
    "  n_joints=5,\n",
    "  critic_sizes=(256, 256),\n",
    "  critic_activation=nn.ReLU,\n",
    "  **swimmer_kwargs,\n",
    "):\n",
    "  return models.ActorCriticWithTargets(\n",
    "    actor=SwimmerActor(swimmer=SwimmerModule(n_joints=n_joints, **swimmer_kwargs),),\n",
    "    critic=models.Critic(\n",
    "      encoder=models.ObservationActionEncoder(),\n",
    "      torso=models.MLP(critic_sizes, critic_activation),\n",
    "      # These values are for the control suite with 0.99 discount.\n",
    "      head=models.DistributionalValueHead(-150., 150., 51),\n",
    "    ),\n",
    "    observation_normalizer=normalizers.MeanStd(),\n",
    "  )\n",
    "\n"
   ]
  },
  {
   "cell_type": "markdown",
   "metadata": {
    "id": "Vlp9Io7kxapu"
   },
   "source": [
    "⏳"
   ]
  },
  {
   "cell_type": "code",
   "execution_count": null,
   "metadata": {
    "id": "1iWE2Vel824y"
   },
   "outputs": [],
   "source": [
    "train('import tonic.torch',\n",
    "      # 'tonic.torch.agents.D4PG(model=d4pg_swimmer_model(n_joints=5,critic_sizes=(128,128)))',\n",
    "      'tonic.torch.agents.PPO(model=ppo_swimmer_model(n_joints=5,critic_sizes=(256,256)))',\n",
    "      'tonic.environments.ControlSuite(\"swimmer-swim\",time_feature=True)',\n",
    "      name = 'ncap_ppo',\n",
    "      trainer = 'tonic.Trainer(steps=int(1e5),save_steps=int(5e4))')\n"
   ]
  },
  {
   "cell_type": "markdown",
   "metadata": {
    "id": "U9BZyhWIRs6M"
   },
   "source": [
    "Let's visualize the trained NCAP agent in the environment."
   ]
  },
  {
   "cell_type": "markdown",
   "metadata": {
    "id": "0ks8HMjIxb25"
   },
   "source": [
    "⏳"
   ]
  },
  {
   "cell_type": "code",
   "execution_count": null,
   "metadata": {
    "colab": {
     "base_uri": "https://localhost:8080/"
    },
    "id": "-AkFuR8MHnGJ",
    "outputId": "c58b88aa-2b9c-4616-cb3f-56dfa7061564"
   },
   "outputs": [],
   "source": [
    "#@title Uncomment and use GPU to observe video\n",
    "# play_model('data/local/experiments/tonic/swimmer-swim/ncap_ppo')\n",
    "# play_model('data/local/experiments/tonic/swimmer-swim/pretrained_ncap_ppo')"
   ]
  },
  {
   "cell_type": "markdown",
   "metadata": {
    "id": "ai4BrCEWx9Ml"
   },
   "source": [
    "❓"
   ]
  },
  {
   "cell_type": "markdown",
   "metadata": {
    "id": "RebKZbCpR4NU"
   },
   "source": [
    "***This architecture was designed using the C. elegans motor circuit that can swim right at birth i.e it should already have really good priors. Can you try visualizing an agent with an untrained NCAP model. Can it swim?***"
   ]
  },
  {
   "cell_type": "markdown",
   "metadata": {
    "id": "nL9h287L6tq9"
   },
   "source": [
    "## 3.3 Plot perfomance"
   ]
  },
  {
   "cell_type": "markdown",
   "metadata": {
    "id": "Y6863m6dAuBT"
   },
   "source": [
    "Now we are going to visualize performance of our model"
   ]
  },
  {
   "cell_type": "code",
   "execution_count": null,
   "metadata": {
    "id": "LUkKGWlApgkf"
   },
   "outputs": [],
   "source": [
    "def plot_performance(paths, ax=None,title='Model Performance'):\n",
    "    \"\"\"\n",
    "    Plots the performance of multiple models on the same axes using Seaborn for styling.\n",
    "\n",
    "    Reads CSV log files from specified paths and plots the mean episode scores\n",
    "    achieved during testing against the cumulative time steps for each model.\n",
    "    The plot uses a logarithmic scale for the x-axis to better display the progression\n",
    "    over a wide range of steps. Each line's legend is set to the name of the last folder\n",
    "    in the path, representing the model's name. Seaborn styles are applied for enhanced visualization.\n",
    "\n",
    "    Parameters:\n",
    "    - paths (list of str): Paths to the experiment directories.\n",
    "    - ax (matplotlib.axes.Axes, optional): A matplotlib axis object to plot on. If None,\n",
    "      a new figure and axis are created.\n",
    "    \"\"\"\n",
    "    # Set the Seaborn style\n",
    "    sns.set(style=\"whitegrid\")\n",
    "    colors = sns.color_palette(\"colorblind\")  # Colorblind-friendly palette\n",
    "\n",
    "    if ax is None:\n",
    "        fig, ax = plt.subplots()\n",
    "\n",
    "    for index, path in enumerate(paths):\n",
    "        # Extract the model name from the path\n",
    "        model_name = os.path.basename(path.rstrip('/'))\n",
    "\n",
    "        # Load data\n",
    "        df = pd.read_csv(os.path.join(path, 'log.csv'))\n",
    "        scores = df['test/episode_score/mean']\n",
    "        lengths = df['test/episode_length/mean']\n",
    "        steps = np.cumsum(lengths)\n",
    "        sns.lineplot(x=steps, y=scores, ax=ax, label=model_name, color=colors[index % len(colors)])\n",
    "\n",
    "    ax.set_xscale('log')\n",
    "    ax.set_xlabel('Cumulative Time Steps')\n",
    "    ax.set_ylabel('Max Episode Score')\n",
    "    ax.legend()\n",
    "    ax.set_title(title)\n"
   ]
  },
  {
   "cell_type": "code",
   "execution_count": null,
   "metadata": {
    "colab": {
     "base_uri": "https://localhost:8080/",
     "height": 211
    },
    "id": "duJSm6-gq6jN",
    "outputId": "fb0de54f-fe73-44fa-e3d2-c477e25b735f"
   },
   "outputs": [],
   "source": [
    "fig, ax = plt.subplots()\n",
    "\n",
    "#Replace the paths with the path to models you trained to plot their performance.\n",
    "paths = [\n",
    "    'data/local/experiments/tonic/swimmer-swim/pretrained_ncap_ppo',\n",
    "    'data/local/experiments/tonic/swimmer-swim/pretrained_mlp_ppo'\n",
    "]\n",
    "plot_performance(paths, ax=ax, title='MLP v/s NCAP')\n",
    "plt.tight_layout()\n",
    "plt.show()\n"
   ]
  },
  {
   "cell_type": "markdown",
   "metadata": {
    "id": "1EVJBzZeyD4_"
   },
   "source": [
    "❓"
   ]
  },
  {
   "cell_type": "markdown",
   "metadata": {
    "id": "oziwkN0JQVE9"
   },
   "source": [
    "\n",
    "\n",
    "* ***Compare the performance and learning curve of NCAP to MLP for the basic swimmer agent.***\n",
    "* ***Try testing the model on a modification of the environment (e.g., the 12-link swimmer) it was trained on.***\n",
    "* ***What happens if we remove certain weight constraints (e.g., sign constraint) from the NCAP model?***\n"
   ]
  },
  {
   "cell_type": "code",
   "execution_count": null,
   "metadata": {
    "id": "W0wXnLPsetCV"
   },
   "outputs": [],
   "source": [
    "# add your code\n"
   ]
  },
  {
   "cell_type": "markdown",
   "metadata": {
    "id": "OTGYEA8yoC-H"
   },
   "source": [
    "# Section 4: Visualizing the sparse network"
   ]
  },
  {
   "cell_type": "markdown",
   "metadata": {
    "id": "4Qh7Jm2_BuFt"
   },
   "source": [
    "\n",
    "Given the importance of architectural choices in our project we have provided a function which can visualize the network architecture. This includes the ability to render the NCAP network, representing the C. Elegans connectome."
   ]
  },
  {
   "cell_type": "code",
   "execution_count": null,
   "metadata": {
    "id": "PrcQRUyQSpwg"
   },
   "outputs": [],
   "source": [
    "import networkx as nx\n",
    "import matplotlib.pyplot as plt\n",
    "import numpy as np\n",
    "\n",
    "\n",
    "def draw_network(mode='NCAP', N=2, include_speed_control=False, include_turn_control=False):\n",
    "\n",
    "    \"\"\"\n",
    "    Draws a network graph for a swimmer model based on either NCAP or MLP architecture.\n",
    "\n",
    "    Parameters:\n",
    "    - mode (str): Determines the architecture type ('NCAP' or 'MLP'). Defaults to 'NCAP'.\n",
    "    - N (int): Number of joints in the swimmer model. Defaults to 2.\n",
    "    - include_speed_control (bool): If True, includes nodes for speed control in the graph.\n",
    "    - include_turn_control (bool): If True, includes nodes for turn control in the graph.\n",
    "    \"\"\"\n",
    "\n",
    "\n",
    "    G = nx.DiGraph()\n",
    "\n",
    "    n=2+N*4\n",
    "\n",
    "    nodes =dict()\n",
    "\n",
    "    if include_speed_control:\n",
    "      nodes['1-s'] = n+7\n",
    "    if include_turn_control:\n",
    "      nodes['r'] = n+5\n",
    "      nodes['l'] = n+3\n",
    "\n",
    "    nodes['o'] = n-1\n",
    "    nodes['$o^d$'] = n-0\n",
    "    nodes['$o^v$']= n-2\n",
    "\n",
    "    custom_node_positions = {}\n",
    "    custom_node_positions['o'] = (1, nodes['o'])\n",
    "    custom_node_positions['$o^d$'] = (1.5, nodes['$o^d$'])\n",
    "    custom_node_positions['$o^v$'] = (1.5, nodes['$o^v$'])\n",
    "\n",
    "\n",
    "    if include_speed_control:\n",
    "      custom_node_positions['1-s'] = (1.5, nodes['1-s'])\n",
    "    if include_turn_control:\n",
    "      custom_node_positions['r'] = (1.5, nodes['r'])\n",
    "      custom_node_positions['l'] = (1.5, nodes['l'])\n",
    "\n",
    "    for i in range(1,N+1):\n",
    "      nodes[f'$q_{i}$'] = 4*(N-i) + 1\n",
    "      nodes[f'$q^d_{i}$'] = 4*(N-i) + 2\n",
    "      nodes[f'$q^v_{i}$'] = 4*(N-i)\n",
    "      nodes[f'$b^d_{i}$'] = 4*(N-i) + 2\n",
    "      nodes[f'$b^v_{i}$'] = 4*(N-i)\n",
    "      nodes[f'$m^d_{i}$'] = 4*(N-i) + 2\n",
    "      nodes[f'$m^v_{i}$'] = 4*(N-i)\n",
    "      nodes['$\\overset{..}{q}$' + f'$_{i}$'] = 4*(N-i) + 1\n",
    "\n",
    "      custom_node_positions[f'$q_{i}$'] = (1, nodes[f'$q_{i}$'])\n",
    "      custom_node_positions[f'$q^d_{i}$'] = (1.5, nodes[f'$q^d_{i}$'])\n",
    "      custom_node_positions[f'$q^v_{i}$'] = (1.5, nodes[f'$q^v_{i}$'])\n",
    "      custom_node_positions[f'$b^d_{i}$'] = (2, nodes[f'$b^d_{i}$'])\n",
    "      custom_node_positions[f'$b^v_{i}$'] = (2, nodes[f'$b^v_{i}$'])\n",
    "      custom_node_positions[f'$m^d_{i}$'] = (2.5, nodes[f'$m^d_{i}$'])\n",
    "      custom_node_positions[f'$m^v_{i}$'] = (2.5, nodes[f'$m^v_{i}$'])\n",
    "      custom_node_positions['$\\overset{..}{q}$' + f'$_{i}$'] = (3, nodes['$\\overset{..}{q}$' + f'$_{i}$'])\n",
    "\n",
    "    for node, layer in nodes.items():\n",
    "        G.add_node(node, layer=layer)\n",
    "\n",
    "    if mode=='NCAP':\n",
    "        # Add edges between nodes\n",
    "        edges_colors = ['green', 'orange', 'green', 'green']\n",
    "        edge_labels = {\n",
    "            ('o', '$o^d$'):'+1',\n",
    "            ('o', '$o^v$'):'-1',\n",
    "            ('$o^d$', '$b^d_1$'):'o',\n",
    "            ('$o^v$', '$b^v_1$'):'o'\n",
    "            }\n",
    "\n",
    "        if include_speed_control:\n",
    "          edges_colors += ['orange']\n",
    "          edge_labels[('1-s', '$b^d_1$')] = 's, to all b'\n",
    "        if include_turn_control:\n",
    "          edges_colors += ['green', 'green']\n",
    "          edge_labels[('r', '$b^d_1$')] = 't'\n",
    "          edge_labels[('l', '$b^v_1$')] = 't'\n",
    "\n",
    "\n",
    "        for i in range(1,N+1):\n",
    "          if i < N:\n",
    "            edges_colors += ['green', 'orange', 'green', 'green']\n",
    "\n",
    "            edge_labels[((f'$q_{i}$', f'$q^d_{i}$'))] = '+1'\n",
    "            edge_labels[((f'$q_{i}$', f'$q^v_{i}$'))] = '-1'\n",
    "            edge_labels[((f'$q^d_{i}$', f'$b^d_{i+1}$'))] = 'p'\n",
    "            edge_labels[((f'$q^v_{i}$', f'$b^v_{i+1}$'))] = 'p'\n",
    "\n",
    "          edges_colors += ['green', 'orange', 'green', 'orange',\n",
    "                          'orange', 'green']\n",
    "\n",
    "          edge_labels[((f'$b^d_{i}$', f'$m^d_{i}$'))] = 'i'\n",
    "          edge_labels[((f'$b^d_{i}$', f'$m^v_{i}$'))] = 'c'\n",
    "          edge_labels[((f'$b^v_{i}$', f'$m^v_{i}$'))] = 'i'\n",
    "          edge_labels[((f'$b^v_{i}$', f'$m^d_{i}$'))] = 'c'\n",
    "          edge_labels[((f'$m^v_{i}$', '$\\overset{..}{q}$' + f'$_{i}$'))] = '-1'\n",
    "          edge_labels[((f'$m^d_{i}$', '$\\overset{..}{q}$' + f'$_{i}$'))] = '+1'\n",
    "\n",
    "        edges = edge_labels.keys()\n",
    "\n",
    "    elif mode=='MLP':\n",
    "      edges = []\n",
    "      layers = [1, 1.5, 2, 2.5, 3]\n",
    "      layers_nodes = [[], [], [], [], []]\n",
    "      for key, value in custom_node_positions.items():\n",
    "        ind = layers.index(value[0])\n",
    "        layers_nodes[ind].append(key)\n",
    "      for layer_ind in range(len(layers_nodes) - 1):\n",
    "        for node1 in layers_nodes[layer_ind]:\n",
    "          for node2 in layers_nodes[layer_ind+1]:\n",
    "            edges.append((node1, node2))\n",
    "      edges_colors = np.repeat('gray', len(edges))\n",
    "\n",
    "\n",
    "    G.add_edges_from(edges)\n",
    "\n",
    "    # Draw the graph using the custom node positions\n",
    "    options = {\"edge_color\": edges_colors, \"edgecolors\": \"tab:gray\", \"node_size\": 500, 'node_color':'white'}\n",
    "    nx.draw(G, pos=custom_node_positions, with_labels=True, arrowstyle=\"-\", arrowsize=20, **options)\n",
    "    if mode=='NCAP':\n",
    "      nx.draw_networkx_edge_labels(G, pos=custom_node_positions, edge_labels=edge_labels)"
   ]
  },
  {
   "cell_type": "code",
   "execution_count": null,
   "metadata": {
    "colab": {
     "base_uri": "https://localhost:8080/",
     "height": 516
    },
    "id": "AUFojGbF2FCv",
    "outputId": "d775652f-60d0-4af2-b577-4ed0399c4fa0"
   },
   "outputs": [],
   "source": [
    "draw_network('MLP', N=6)"
   ]
  },
  {
   "cell_type": "code",
   "execution_count": null,
   "metadata": {
    "colab": {
     "base_uri": "https://localhost:8080/",
     "height": 516
    },
    "id": "GAOgwDYqHJ32",
    "outputId": "6c1851df-b38d-4414-f23c-f2160067b281"
   },
   "outputs": [],
   "source": [
    "draw_network('NCAP', N=6, include_speed_control=True, include_turn_control=True)"
   ]
  },
  {
   "cell_type": "markdown",
   "metadata": {
    "id": "gHKiiUkYaCs0"
   },
   "source": [
    "Notice that the NCAP architecture is highly sparse and interpretable as compared to the MLP. Moreover notice that the ncap architecture can be completely embedded within a fully connected MLP of 3 hidden layers and ReLU nonlinearities. This enables us to do a thorough investigation into how specific architectural elements influence both performance and the learning process. By leveraging this capability, we can systematically analyze the impact of the architectural preferences inherent to the model and make better design choices.\n",
    "\n"
   ]
  },
  {
   "cell_type": "markdown",
   "metadata": {
    "id": "dUO2vi08Vb_z"
   },
   "source": [
    "*It might be useful to also visualize the network's activity for NCAP. Given it only has 4 learnable parameters it becomes much easier to interpret the network.*\n",
    "\n"
   ]
  },
  {
   "cell_type": "markdown",
   "metadata": {
    "id": "JerMhn6WWOTg"
   },
   "source": [
    "# Conclusion"
   ]
  },
  {
   "cell_type": "markdown",
   "metadata": {
    "id": "KlqUk9srWQRk"
   },
   "source": [
    "\n",
    "\n",
    "Based on the concepts we've discussed in this tutorial, you should now be equipped to advance with the project. Within this project, there are multiple pathways you can explore. For each pathway, you will delve deeply into one of the main sections outlined in this notebook, allowing for a thorough investigation of different factors that can influence performance:\n",
    "\n",
    "*   ***Exploring the effects of environment:*** Investigate how different environmental settings impact agent performance. This could involve altering parameters of the environment or the types of tasks and reward functions. Understanding these effects can help in making better architectural choices and learning algorithms that result in agents that are robust and adaptable\n",
    "\n",
    "\n",
    "*   ***Exploring the effects of learning algorithms:*** Standard RL algorithms often struggle with sparse and constrained networks, which can lead to suboptimal performance. Explore where these algorithms fail and analyze potential reasons for their limitations. Experiment with modifications or alternative algorithms that might overcome these challenges.\n",
    "\n",
    "\n",
    "* ***Exploring the effects of model architecture:*** Investigate how various architectural decisions within the NCAP model influence its performance. Visualize the model and its activity and explore potential improvements by tweaking architectural elements, assessing how these changes affect learning outcomes and operational efficiency."
   ]
  }
 ],
 "metadata": {
  "accelerator": "GPU",
  "colab": {
   "gpuType": "T4",
   "provenance": []
  },
  "kernelspec": {
   "display_name": "Python 3 (ipykernel)",
   "language": "python",
   "name": "python3"
  },
  "language_info": {
   "codemirror_mode": {
    "name": "ipython",
    "version": 3
   },
   "file_extension": ".py",
   "mimetype": "text/x-python",
   "name": "python",
   "nbconvert_exporter": "python",
   "pygments_lexer": "ipython3",
   "version": "3.11.5"
  },
  "widgets": {
   "application/vnd.jupyter.widget-state+json": {
    "26377ccd8c2a4e63ae1066090886778b": {
     "model_module": "@jupyter-widgets/base",
     "model_module_version": "1.2.0",
     "model_name": "LayoutModel",
     "state": {
      "_model_module": "@jupyter-widgets/base",
      "_model_module_version": "1.2.0",
      "_model_name": "LayoutModel",
      "_view_count": null,
      "_view_module": "@jupyter-widgets/base",
      "_view_module_version": "1.2.0",
      "_view_name": "LayoutView",
      "align_content": null,
      "align_items": null,
      "align_self": null,
      "border": null,
      "bottom": null,
      "display": null,
      "flex": null,
      "flex_flow": null,
      "grid_area": null,
      "grid_auto_columns": null,
      "grid_auto_flow": null,
      "grid_auto_rows": null,
      "grid_column": null,
      "grid_gap": null,
      "grid_row": null,
      "grid_template_areas": null,
      "grid_template_columns": null,
      "grid_template_rows": null,
      "height": null,
      "justify_content": null,
      "justify_items": null,
      "left": null,
      "margin": null,
      "max_height": null,
      "max_width": null,
      "min_height": null,
      "min_width": null,
      "object_fit": null,
      "object_position": null,
      "order": null,
      "overflow": null,
      "overflow_x": null,
      "overflow_y": null,
      "padding": null,
      "right": null,
      "top": null,
      "visibility": null,
      "width": null
     }
    },
    "a3b57b3aa7204a74b61203c61a3e4b61": {
     "model_module": "@jupyter-widgets/output",
     "model_module_version": "1.0.0",
     "model_name": "OutputModel",
     "state": {
      "_dom_classes": [],
      "_model_module": "@jupyter-widgets/output",
      "_model_module_version": "1.0.0",
      "_model_name": "OutputModel",
      "_view_count": null,
      "_view_module": "@jupyter-widgets/output",
      "_view_module_version": "1.0.0",
      "_view_name": "OutputView",
      "layout": "IPY_MODEL_26377ccd8c2a4e63ae1066090886778b",
      "msg_id": "",
      "outputs": [
       {
        "name": "stdout",
        "output_type": "stream",
        "text": [
         "Video available at https://youtube.com/watch?v=<video_id_1>\n"
        ]
       },
       {
        "data": {
         "text/html": "\n        <iframe\n            width=\"854\"\n            height=\"480\"\n            src=\"https://www.youtube.com/embed/<video_id_1>?fs=1&rel=0\"\n            frameborder=\"0\"\n            allowfullscreen\n            \n        ></iframe>\n        ",
         "text/plain": "<IPython.lib.display.YouTubeVideo at 0x7d1fa7c92380>"
        },
        "metadata": {},
        "output_type": "display_data"
       }
      ]
     }
    },
    "b722c81f140340388cec7fb970f33190": {
     "model_module": "@jupyter-widgets/controls",
     "model_module_version": "1.5.0",
     "model_name": "TabModel",
     "state": {
      "_dom_classes": [],
      "_model_module": "@jupyter-widgets/controls",
      "_model_module_version": "1.5.0",
      "_model_name": "TabModel",
      "_titles": {
       "0": "Youtube"
      },
      "_view_count": null,
      "_view_module": "@jupyter-widgets/controls",
      "_view_module_version": "1.5.0",
      "_view_name": "TabView",
      "box_style": "",
      "children": [
       "IPY_MODEL_a3b57b3aa7204a74b61203c61a3e4b61"
      ],
      "layout": "IPY_MODEL_c3e8483271ee4f4a92a131ed98230bb7",
      "selected_index": 0
     }
    },
    "c3e8483271ee4f4a92a131ed98230bb7": {
     "model_module": "@jupyter-widgets/base",
     "model_module_version": "1.2.0",
     "model_name": "LayoutModel",
     "state": {
      "_model_module": "@jupyter-widgets/base",
      "_model_module_version": "1.2.0",
      "_model_name": "LayoutModel",
      "_view_count": null,
      "_view_module": "@jupyter-widgets/base",
      "_view_module_version": "1.2.0",
      "_view_name": "LayoutView",
      "align_content": null,
      "align_items": null,
      "align_self": null,
      "border": null,
      "bottom": null,
      "display": null,
      "flex": null,
      "flex_flow": null,
      "grid_area": null,
      "grid_auto_columns": null,
      "grid_auto_flow": null,
      "grid_auto_rows": null,
      "grid_column": null,
      "grid_gap": null,
      "grid_row": null,
      "grid_template_areas": null,
      "grid_template_columns": null,
      "grid_template_rows": null,
      "height": null,
      "justify_content": null,
      "justify_items": null,
      "left": null,
      "margin": null,
      "max_height": null,
      "max_width": null,
      "min_height": null,
      "min_width": null,
      "object_fit": null,
      "object_position": null,
      "order": null,
      "overflow": null,
      "overflow_x": null,
      "overflow_y": null,
      "padding": null,
      "right": null,
      "top": null,
      "visibility": null,
      "width": null
     }
    }
   }
  }
 },
 "nbformat": 4,
 "nbformat_minor": 4
}
