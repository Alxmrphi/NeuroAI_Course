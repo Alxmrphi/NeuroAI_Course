{
 "cells": [
  {
   "cell_type": "markdown",
   "id": "ada5523b",
   "metadata": {},
   "source": [
    "<a href=\"https://colab.research.google.com/github/neuromatch/course-content-template/blob/main/projects/example_dataset/Example_based_on_CMA_structure.ipynb\" target=\"_parent\"><img src=\"https://colab.research.google.com/assets/colab-badge.svg\" alt=\"Open In Colab\"/></a> &nbsp; <a href=\"https://kaggle.com/kernels/welcome?src=https://raw.githubusercontent.com/neuromatch/course-content-template/main/projects/example_dataset/Example_based_on_CMA_structure\" target=\"_parent\"><img src=\"https://kaggle.com/static/images/open-in-kaggle.svg\" alt=\"Open in Kaggle\"/></a>"
   ]
  },
  {
   "cell_type": "markdown",
   "id": "045624d0",
   "metadata": {
    "execution": {}
   },
   "source": [
    "<h1>\n",
    "Project title\n",
    "</h1>\n",
    "\n",
    "\n",
    "\n",
    "__Content creators:__ Names & Surnames\n",
    "\n",
    "__Content reviewers:__ Names & Surnames\n",
    "\n",
    "__Content editors:__ Names & Surnames\n",
    "\n",
    "__Production editors:__ Names & Surnames\n",
    "\n",
    "__Our 2024 Sponsors:__ Sponsors\n",
    "\n",
    "Acknowledgments: [climatematch]"
   ]
  },
  {
   "cell_type": "markdown",
   "id": "c67ed1df",
   "metadata": {},
   "source": [
    "---\n",
    "\n",
    "Use a line (---) separator between the main sections. "
   ]
  },
  {
   "cell_type": "markdown",
   "id": "60881a20",
   "metadata": {},
   "source": [
    "---\n",
    "\n",
    "Welcome to the Academy project creation guide. Here, we will outline the process and best practices for creating high-quality projects for our students.\n",
    "\n",
    "\n",
    "***Project Structure***\n",
    "\n",
    "Every project should follow a consistent structure to ensure clarity and ease of navigation for students. Here is the suggested structure for your project:\n",
    "\n",
    "1. Project Background = Begin with an introductory video and a written outline to provide context for the project. \n",
    "2. Imports and Functions common to multiple data sources = List all Python libraries and functions that will be used throughout the project. This includes:\n",
    "- A cell with all import statements\n",
    "- Any custom functions that will be reused for data manipulation or analysis\n",
    "\n",
    "3. Data Sources and Datasets = Each data source and dataset should be clearly documented. For each one, include:\n",
    "\n",
    "3.1 **Data Source 1**\n",
    "- Data Source Background: A brief description of the data source\n",
    "- Common Imports and Functions: Specific to this data source if not already covered in the common section\n",
    "\n",
    "3.2 **Dataset 1**\n",
    "\n",
    "For each dataset, provide:\n",
    "- Dataset Background: Contextual information, if needed\n",
    "- Specific Imports and Functions: Unique to this dataset\n",
    "- Data Loading Code: Instructions and code to load the dataset\n",
    "- Pre-processing Steps: Detailed steps and code to prepare the data for analysis (if not covered in the tutorials and likely to be challenging for students)\n",
    "- Data Visualization: Code and instructions to help visualize the structure and content of the data\n",
    "\n",
    "...\n",
    "\n",
    "- Dataset N:\n",
    "    same as for Dataset 1 <br><br>\n",
    "...\n",
    "\n",
    "\n",
    "4. Further reading = Provide resources for additional information, such as papers or documentation relevant to the project.\n"
   ]
  },
  {
   "cell_type": "markdown",
   "id": "120b3a10",
   "metadata": {},
   "source": [
    "---\n",
    "### Instructional Content\n",
    "\n",
    "- Explanatory Comments: Use comments within the code cells to explain complex code blocks.\n",
    "- Text Cells: Include markdown/text cells to discuss the rationale behind steps or to provide additional insights.\n",
    "- Dataset Familiarity: If a dataset is previously covered in tutorials, link to the specific day or section of the curriculum and omit the data loading section.\n",
    "- Adhere to the figure formatting guidelines provided in the tutorial notebook template (W1D2_Template/W1D2_Tutorial1.ipynb). Include the \"Figure Settings\" cell for consistency.\n",
    "- Instructions on how to embed videos have been covered in W1D1_Instructions/W1D1_Tutorial3.ipynb"
   ]
  },
  {
   "cell_type": "markdown",
   "id": "c08b96da",
   "metadata": {
    "execution": {}
   },
   "source": [
    "---\n",
    "*Step 1* = embed video"
   ]
  },
  {
   "cell_type": "code",
   "execution_count": null,
   "id": "64da422f",
   "metadata": {
    "cellView": "form",
    "execution": {}
   },
   "outputs": [],
   "source": [
    "# @title Project Background\n",
    "\n",
    "from ipywidgets import widgets\n",
    "from IPython.display import YouTubeVideo\n",
    "from IPython.display import IFrame\n",
    "from IPython.display import display\n",
    "\n",
    "\n",
    "class PlayVideo(IFrame):\n",
    "  def __init__(self, id, source, page=1, width=400, height=300, **kwargs):\n",
    "    self.id = id\n",
    "    if source == 'Bilibili':\n",
    "      src = f'https://player.bilibili.com/player.html?bvid={id}&page={page}'\n",
    "    elif source == 'Osf':\n",
    "      src = f'https://mfr.ca-1.osf.io/render?url=https://osf.io/download/{id}/?direct%26mode=render'\n",
    "    super(PlayVideo, self).__init__(src, width, height, **kwargs)\n",
    "\n",
    "\n",
    "def display_videos(video_ids, W=400, H=300, fs=1):\n",
    "  tab_contents = []\n",
    "  for i, video_id in enumerate(video_ids):\n",
    "    out = widgets.Output()\n",
    "    with out:\n",
    "      if video_ids[i][0] == 'Youtube':\n",
    "        video = YouTubeVideo(id=video_ids[i][1], width=W,\n",
    "                             height=H, fs=fs, rel=0)\n",
    "        print(f'Video available at https://youtube.com/watch?v={video.id}')\n",
    "      else:\n",
    "        video = PlayVideo(id=video_ids[i][1], source=video_ids[i][0], width=W,\n",
    "                          height=H, fs=fs, autoplay=False)\n",
    "        if video_ids[i][0] == 'Bilibili':\n",
    "          print(f'Video available at https://www.bilibili.com/video/{video.id}')\n",
    "        elif video_ids[i][0] == 'Osf':\n",
    "          print(f'Video available at https://osf.io/{video.id}')\n",
    "      display(video)\n",
    "    tab_contents.append(out)\n",
    "  return tab_contents\n",
    "\n",
    "\n",
    "video_ids = [('Youtube', '<video_id_1>'), ('Bilibili', '<video_id_2>'), ('Osf', '<video_id_3>')]\n",
    "tab_contents = display_videos(video_ids, W=854, H=480)\n",
    "tabs = widgets.Tab()\n",
    "tabs.children = tab_contents\n",
    "for i in range(len(tab_contents)):\n",
    "  tabs.set_title(i, video_ids[i][0])\n",
    "display(tabs)"
   ]
  },
  {
   "cell_type": "markdown",
   "id": "63b697d5",
   "metadata": {
    "execution": {}
   },
   "source": [
    "*Step 1.1* = written outline to provide context for the project. For instance, define what the students will explore in the project and what are the variables of interest."
   ]
  },
  {
   "cell_type": "markdown",
   "id": "ff7ae1c9",
   "metadata": {
    "execution": {}
   },
   "source": [
    "# Project Template\n",
    "\n",
    "Add a Project Questions Template that students can answer with the datasets provided. To download the image and for further infomation, please see [here](https://neuromatch.slite.com/app/docs/Dg9q_cuWtzzYgF).\n",
    "Questions are rated Easy/Green, Moderate/Yellow, Hard/Red. Depending on students ability, they can dive into questions that are an appropriate challenge to them. \n",
    "\n",
    "Below you can find a Project Questions Template example from the Climatematch course\n",
    "![Project Template](https://github.com/neuromatch/course-content-template/tutorials/static/sea_level_rise_template_map.svg)\n"
   ]
  },
  {
   "cell_type": "markdown",
   "id": "f51243f3",
   "metadata": {
    "execution": {}
   },
   "source": [
    "*Step 2*:\n",
    "## Project Setup"
   ]
  },
  {
   "cell_type": "code",
   "execution_count": null,
   "id": "1e541a40",
   "metadata": {
    "execution": {}
   },
   "outputs": [],
   "source": [
    "# Imports\n",
    "\n",
    "# Import only the libraries/objects that you use in this tutorial.\n",
    "\n",
    "# If any external library has to be installed, !pip install library --quiet\n",
    "# follow this order: numpy>matplotlib.\n",
    "\n",
    "import numpy as np\n",
    "import matplotlib.pyplot as plt"
   ]
  },
  {
   "cell_type": "code",
   "execution_count": null,
   "id": "3692a9ca",
   "metadata": {
    "execution": {}
   },
   "outputs": [],
   "source": [
    "# @title Helper functions\n",
    "\n",
    "# If any helper functions you want to hide for clarity (that has been seen before\n",
    "# or is simple/uniformative), add here\n",
    "# If helper code depends on libraries that aren't used elsewhere,\n",
    "# import those libaries here, rather than in the main import cell"
   ]
  },
  {
   "cell_type": "code",
   "execution_count": null,
   "id": "07545499",
   "metadata": {},
   "outputs": [],
   "source": [
    "# @title Figure settings\n",
    "\n",
    "import ipywidgets as widgets       # interactive display\n",
    "%config InlineBackend.figure_format = 'retina'\n",
    "plt.style.use(\"https://raw.githubusercontent.com/ClimateMatchAcademy/course-content/main/cma.mplstyle\")"
   ]
  },
  {
   "cell_type": "markdown",
   "id": "02a3777f",
   "metadata": {},
   "source": [
    "*Step 3*\n",
    "# [datasource-1]\n",
    "\n",
    "Provide a description of the data source. For instance, provide some background that motivated the generation of the associated datasets using hyperlinks to reference relevant papers. Please outline how the data has been collected or generated! Remember to provide credit to dataset authors in line with their copyright policy!\n"
   ]
  },
  {
   "cell_type": "code",
   "execution_count": null,
   "id": "e9697620",
   "metadata": {},
   "outputs": [],
   "source": [
    "# Data source-specific imports"
   ]
  },
  {
   "cell_type": "code",
   "execution_count": null,
   "id": "a4660fdc",
   "metadata": {},
   "outputs": [],
   "source": [
    "# Data source-specific functions"
   ]
  },
  {
   "cell_type": "markdown",
   "id": "1d4ab262",
   "metadata": {
    "execution": {}
   },
   "source": [
    "*Step 4* \n",
    "## [datasource-1]: Dataset 1: "
   ]
  },
  {
   "cell_type": "markdown",
   "id": "6fa21050",
   "metadata": {
    "execution": {}
   },
   "source": [
    "Further background on the particular dataset if applicable. "
   ]
  },
  {
   "cell_type": "code",
   "execution_count": null,
   "id": "a2359308",
   "metadata": {},
   "outputs": [],
   "source": [
    "# Dataset-specific imports"
   ]
  },
  {
   "cell_type": "code",
   "execution_count": null,
   "id": "396c635a",
   "metadata": {},
   "outputs": [],
   "source": [
    "# Dataset-specific functions"
   ]
  },
  {
   "cell_type": "code",
   "execution_count": null,
   "id": "92175f59",
   "metadata": {},
   "outputs": [],
   "source": [
    "# Code to retrieve and load the data"
   ]
  },
  {
   "cell_type": "markdown",
   "id": "392c0e71",
   "metadata": {},
   "source": [
    "Give advice on the required preprocessing. If applicable, refer to specific tutorials and let the students preprocess the data themselves. Otherwise, explain/illustrate the reasons for preprocessing and provide either the code itself (if students are likely to struggle on their own) or written guidance on the functions, data filtering thresholds, etc they should use."
   ]
  },
  {
   "cell_type": "code",
   "execution_count": null,
   "id": "3bae0683",
   "metadata": {},
   "outputs": [],
   "source": [
    "# Code to preprocess data\n"
   ]
  },
  {
   "cell_type": "markdown",
   "id": "73f4f21b",
   "metadata": {},
   "source": [
    "Data visualization:"
   ]
  },
  {
   "cell_type": "code",
   "execution_count": null,
   "id": "75867210",
   "metadata": {},
   "outputs": [],
   "source": [
    "# Code to print the shape, array names, etc of the dataset"
   ]
  },
  {
   "cell_type": "markdown",
   "id": "3543b122",
   "metadata": {},
   "source": [
    "Consider adding some encouraging words along the lines of \"Now you are all set to address the questions you are interested in!\""
   ]
  },
  {
   "cell_type": "markdown",
   "id": "9578b229",
   "metadata": {
    "execution": {}
   },
   "source": [
    "## [datasource 1]: Dataset 2:\n",
    "\n",
    "Further background on the particular datafile/variables if applicable."
   ]
  },
  {
   "cell_type": "markdown",
   "id": "ee7c9ef5",
   "metadata": {
    "execution": {}
   },
   "source": [
    "## [datasource 2]:\n",
    "\n",
    "Data source description. You may provide some background that motivated the generation of the associated datasets using hyperlinks to reference relevant papers. Please outline how the data has been collected or generated! Remember to provide credit to dataset authors in line with their copyright policy!"
   ]
  },
  {
   "cell_type": "markdown",
   "id": "c62a0f3e",
   "metadata": {
    "execution": {}
   },
   "source": [
    "# Further Reading"
   ]
  },
  {
   "cell_type": "markdown",
   "id": "378b7ff3",
   "metadata": {
    "execution": {}
   },
   "source": [
    "Use bullet points to list further readings\n"
   ]
  }
 ],
 "metadata": {
  "colab": {
   "collapsed_sections": [],
   "include_colab_link": true,
   "name": "Example_based_on_CMA_structure",
   "toc_visible": true
  },
  "kernel": {
   "display_name": "Python 3",
   "language": "python",
   "name": "python3"
  },
  "kernelspec": {
   "display_name": "Python 3 (ipykernel)",
   "language": "python",
   "name": "python3"
  },
  "language_info": {
   "codemirror_mode": {
    "name": "ipython",
    "version": 3
   },
   "file_extension": ".py",
   "mimetype": "text/x-python",
   "name": "python",
   "nbconvert_exporter": "python",
   "pygments_lexer": "ipython3",
   "version": "3.10.9"
  }
 },
 "nbformat": 4,
 "nbformat_minor": 5
}
