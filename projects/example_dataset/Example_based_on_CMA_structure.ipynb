{
 "cells": [
  {
   "cell_type": "markdown",
   "id": "ada5523b",
   "metadata": {},
   "source": [
    "<a href=\"https://colab.research.google.com/github/neuromatch/course-content-template/blob/main/projects/example_dataset/Example_based_on_CMA_structure.ipynb\" target=\"_parent\"><img src=\"https://colab.research.google.com/assets/colab-badge.svg\" alt=\"Open In Colab\"/></a> &nbsp; <a href=\"https://kaggle.com/kernels/welcome?src=https://raw.githubusercontent.com/neuromatch/course-content-template/main/projects/example_dataset/Example_based_on_CMA_structure\" target=\"_parent\"><img src=\"https://kaggle.com/static/images/open-in-kaggle.svg\" alt=\"Open in Kaggle\"/></a>"
   ]
  },
  {
   "cell_type": "markdown",
   "id": "045624d0",
   "metadata": {
    "execution": {}
   },
   "source": [
    "<h1>\n",
    "Project title\n",
    "</h1>\n",
    "\n",
    "### Content creators: [names and surnames]\n",
    "\n",
    "### Content reviewers: [names and surnames]\n",
    "\n",
    "### Content editors:  [names and surnames]\n",
    "\n",
    "### Production editors:  [names and surnames]\n",
    "\n",
    "### Our 2024 Sponsors: [sponsors]\n"
   ]
  },
  {
   "cell_type": "markdown",
   "id": "c08b96da",
   "metadata": {
    "execution": {}
   },
   "source": [
    "To include videos follow the below format:"
   ]
  },
  {
   "cell_type": "code",
   "execution_count": 1,
   "id": "64da422f",
   "metadata": {
    "cellView": "form",
    "execution": {}
   },
   "outputs": [
    {
     "data": {
      "application/vnd.jupyter.widget-view+json": {
       "model_id": "bc75a50d6fd94a54812d7f38975591ab",
       "version_major": 2,
       "version_minor": 0
      },
      "text/plain": [
       "Tab(children=(Output(), Output()), _titles={'0': 'Youtube', '1': 'Bilibili'})"
      ]
     },
     "metadata": {},
     "output_type": "display_data"
    }
   ],
   "source": [
    "# @title Project Background\n",
    "\n",
    "from ipywidgets import widgets\n",
    "from IPython.display import YouTubeVideo\n",
    "from IPython.display import IFrame\n",
    "from IPython.display import display\n",
    "\n",
    "\n",
    "class PlayVideo(IFrame):\n",
    "    def __init__(self, id, source, page=1, width=400, height=300, **kwargs):\n",
    "        self.id = id\n",
    "        if source == \"Bilibili\":\n",
    "            src = f\"https://player.bilibili.com/player.html?bvid={id}&page={page}\"\n",
    "        elif source == \"Osf\":\n",
    "            src = f\"https://mfr.ca-1.osf.io/render?url=https://osf.io/download/{id}/?direct%26mode=render\"\n",
    "        super(PlayVideo, self).__init__(src, width, height, **kwargs)\n",
    "\n",
    "\n",
    "def display_videos(video_ids, W=400, H=300, fs=1):\n",
    "    tab_contents = []\n",
    "    for i, video_id in enumerate(video_ids):\n",
    "        out = widgets.Output()\n",
    "        with out:\n",
    "            if video_ids[i][0] == \"Youtube\":\n",
    "                video = YouTubeVideo(\n",
    "                    id=video_ids[i][1], width=W, height=H, fs=fs, rel=0\n",
    "                )\n",
    "                print(f\"Video available at https://youtube.com/watch?v={video.id}\")\n",
    "            else:\n",
    "                video = PlayVideo(\n",
    "                    id=video_ids[i][1],\n",
    "                    source=video_ids[i][0],\n",
    "                    width=W,\n",
    "                    height=H,\n",
    "                    fs=fs,\n",
    "                    autoplay=False,\n",
    "                )\n",
    "                if video_ids[i][0] == \"Bilibili\":\n",
    "                    print(\n",
    "                        f\"Video available at https://www.bilibili.com/video/{video.id}\"\n",
    "                    )\n",
    "                elif video_ids[i][0] == \"Osf\":\n",
    "                    print(f\"Video available at https://osf.io/{video.id}\")\n",
    "            display(video)\n",
    "        tab_contents.append(out)\n",
    "    return tab_contents\n",
    "\n",
    "\n",
    "video_ids = [('Youtube', 'NAgrB8HxMMk'), ('Bilibili', 'BV1fM4y1x7g8')]\n",
    "tab_contents = display_videos(video_ids, W=730, H=410)\n",
    "tabs = widgets.Tab()\n",
    "tabs.children = tab_contents\n",
    "for i in range(len(tab_contents)):\n",
    "    tabs.set_title(i, video_ids[i][0])\n",
    "display(tabs)"
   ]
  },
  {
   "cell_type": "markdown",
   "id": "a9fb54e0",
   "metadata": {
    "execution": {}
   },
   "source": [
    "Link to the slides:"
   ]
  },
  {
   "cell_type": "code",
   "execution_count": null,
   "id": "b52fef8b",
   "metadata": {
    "cellView": "form",
    "execution": {}
   },
   "outputs": [],
   "source": [
    "# @title Tutorial slides\n",
    "# @markdown These are the slides for the videos in all tutorials today\n",
    "\n",
    "#from IPython.display import IFrame\n",
    "#link_id = \"n7wdy\""
   ]
  },
  {
   "cell_type": "markdown",
   "id": "63b697d5",
   "metadata": {
    "execution": {}
   },
   "source": [
    "**In this project** [provide a description of what students will do in the project]"
   ]
  },
  {
   "cell_type": "markdown",
   "id": "ff7ae1c9",
   "metadata": {
    "execution": {}
   },
   "source": [
    "# Project Template\n",
    "\n",
    "[You can add an image with the main questions/project goals: https://raw.githubusercontent.com/ClimateMatchAcademy/course-content/main/projects/template-images/heatwaves_template_map.svg]"
   ]
  },
  {
   "cell_type": "markdown",
   "id": "f51243f3",
   "metadata": {
    "execution": {}
   },
   "source": [
    "## Data Exploration Notebook\n",
    "\n",
    "## Project Setup"
   ]
  },
  {
   "cell_type": "code",
   "execution_count": null,
   "id": "b68292ec",
   "metadata": {
    "execution": {}
   },
   "outputs": [],
   "source": [
    "# google colab installs\n",
    "\n",
    "# !mamaba install netCDF4"
   ]
  },
  {
   "cell_type": "code",
   "execution_count": null,
   "id": "1e541a40",
   "metadata": {
    "execution": {}
   },
   "outputs": [],
   "source": [
    "# imports"
   ]
  },
  {
   "cell_type": "code",
   "execution_count": null,
   "id": "3692a9ca",
   "metadata": {
    "execution": {}
   },
   "outputs": [],
   "source": [
    "# helper functions"
   ]
  },
  {
   "cell_type": "markdown",
   "id": "1d4ab262",
   "metadata": {
    "execution": {}
   },
   "source": [
    "## Dataset 1: "
   ]
  },
  {
   "cell_type": "markdown",
   "id": "6fa21050",
   "metadata": {
    "execution": {}
   },
   "source": [
    "[Provide a description of the dataset followed by code for all datasets]"
   ]
  },
  {
   "cell_type": "markdown",
   "id": "9578b229",
   "metadata": {
    "execution": {}
   },
   "source": [
    "## Dataset 2:"
   ]
  },
  {
   "cell_type": "markdown",
   "id": "ee7c9ef5",
   "metadata": {
    "execution": {}
   },
   "source": [
    "## Dataset 3:"
   ]
  },
  {
   "cell_type": "markdown",
   "id": "c62a0f3e",
   "metadata": {
    "execution": {}
   },
   "source": [
    "# Further Reading"
   ]
  },
  {
   "cell_type": "markdown",
   "id": "378b7ff3",
   "metadata": {
    "execution": {}
   },
   "source": [
    "Use bullet points to list further readings\n"
   ]
  },
  {
   "cell_type": "markdown",
   "id": "28a9d33f",
   "metadata": {
    "execution": {}
   },
   "source": [
    "# Resources"
   ]
  },
  {
   "cell_type": "markdown",
   "id": "87f88bcc",
   "metadata": {
    "execution": {}
   },
   "source": [
    "This tutorial uses data from [.....]"
   ]
  }
 ],
 "metadata": {
  "colab": {
   "collapsed_sections": [],
   "include_colab_link": true,
   "name": "Example_based_on_CMA_structure",
   "toc_visible": true
  },
  "kernel": {
   "display_name": "Python 3",
   "language": "python",
   "name": "python3"
  },
  "kernelspec": {
   "display_name": "Python 3 (ipykernel)",
   "language": "python",
   "name": "python3"
  },
  "language_info": {
   "codemirror_mode": {
    "name": "ipython",
    "version": 3
   },
   "file_extension": ".py",
   "mimetype": "text/x-python",
   "name": "python",
   "nbconvert_exporter": "python",
   "pygments_lexer": "ipython3",
   "version": "3.10.9"
  }
 },
 "nbformat": 4,
 "nbformat_minor": 5
}
